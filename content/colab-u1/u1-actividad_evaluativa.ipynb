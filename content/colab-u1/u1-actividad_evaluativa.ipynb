{
  "cells": [
    {
      "cell_type": "markdown",
      "metadata": {
        "id": "G2iwJkfSvMck"
      },
      "source": [
        "<img src=\"https://udearroba.udea.edu.co/imagescourses/2022C343_alprog_V1/banner-colab.png\">"
      ]
    },
    {
      "cell_type": "markdown",
      "metadata": {
        "id": "kjiy4OVWK5N7"
      },
      "source": [
        "**<h1><font color='157699'> Actividad evaluativa </h1>**\n",
        "\n",
        "<p>A continuación, te presentamos una serie de ejercicios que deberás resolver con lo aprendido en esta Unidad. </p>"
      ]
    },
    {
      "cell_type": "markdown",
      "metadata": {
        "id": "t_UQOnjqf941"
      },
      "source": [
        "Resumen: pensamiento algorítmico\n",
        "\n",
        "Un algoritmo es un conjunto de pasos que deben ser computables, finitos y precisos para resolver un problema. A pesar de que no existe una receta para encontrar el algoritmo que soluciona un problema, resulta de gran ayuda seguir una metodología que permita estructurar la información del problema y así identificar las estrategias de solución. Para el desarrollo de esta práctica te aconsejamos seguir los pasos vistos en clase para el desarrollo de un algoritmo, esto es:  \n",
        "\n",
        "1. Análisis del problema\n",
        "\n",
        "2. Diseño del algoritmo\n",
        "\n",
        "3. Ejecución y validación\n",
        "\n",
        "4. Verificación\n",
        "\n",
        "A partir de esto, podrás plantear algunas de las siguientes preguntas:  \n",
        "\n",
        "¿Cuáles son los datos de entrada?\n",
        "\n",
        "¿Cuáles son los datos de salida?\n",
        "\n",
        "¿Qué variables auxiliares ayudan a construir el algoritmo?\n",
        "\n",
        "¿Qué proceso algorítmico debe seguirse para solucionar el problema planteado o los subproblemas?\n",
        "\n",
        "Seguir una metodología de diseño de algoritmos no garantiza por sí sola que se obtendrá el algoritmo buscado. Lo que se pretende es estructurar la información y las ideas para llegar más fácil al algoritmo, el cual dependerá, en gran medida, de la creatividad, la habilidad y la experiencia de quien afronta la tarea."
      ]
    },
    {
      "cell_type": "markdown",
      "metadata": {
        "id": "eKinGRZlgg9q"
      },
      "source": [
        "<font color='5adcff'> **Ejercicios**\n",
        "\n",
        "En esta práctica desarrollarás una serie de algoritmos para calcular las estadísticas de desempeño académico en el semestre de los estudiantes que quieren participar en las convocatorias del Sistema de Estímulos Académicos (SEA).  "
      ]
    },
    {
      "cell_type": "markdown",
      "metadata": {
        "id": "Bv4vQOILgzVe"
      },
      "source": [
        "Ejercicio 1  \n",
        "\n",
        "Realiza un algoritmo que le solicite al estudiante su nombre, número de documento y el número de créditos aprobados del programa. Esta información debe quedar guardada en las variables nombre, documento y creditos. Posterior, se debe imprimir en pantalla el siguiente mensaje de bienvenida:\n",
        "\n",
        "................................................................................\n",
        "\n",
        "        Sistema de Estímulos Académicos (SEA)     \n",
        "................................................................................\n",
        "        \n",
        "                Bienvenido [nombre]                    \n",
        "................................................................................\n"
      ]
    },
    {
      "cell_type": "markdown",
      "metadata": {
        "id": "h00PJBH_hYaX"
      },
      "source": [
        "<font color='5adcff'> **Ejercicio 2**\n",
        "\n",
        "Diseña un algoritmo que verifique si el estudiante puede optar o no a un estímulo, es decir, si cuenta con el número de créditos que debe tener aprobado de acuerdo con la categoría. Toma como base la información de la tabla que se presenta. Para esto, solicita la letra que identifique la categoría del estímulo al cual desea aplicar el estudiante, el total de créditos del programa y el número de créditos aprobados.  \n",
        "<font color='000000'>\n",
        "\n",
        "| Identificación categoría  | Categoría | Créditos aprobados requeridos  |\n",
        "|----------|----------|----------|\n",
        "| A | Auxiliar administrativo | 20 |\n",
        "| M | Monitor de curso |40 % créditos programa|\n",
        "| P | Auxiliar de programación | 40 % créditos programa |\n",
        "| D | Docente auxiliar cátedra semilleros | 50 % créditos programa |\n",
        "\n",
        "Debes verificar que el número de créditos aprobados en el programa por el estudiante cumpla con los requisitos de acuerdo con la categoría. De ser así, debe agregarse al mensaje el texto “Usted es elegible para estímulos académicos”. En caso contrario debe indicar “Usted no es elegible para estímulos académicos”.  \n",
        "\n",
        "Un ejemplo del mensaje impreso en pantalla es:\n",
        "\n",
        "................................................................................\n",
        "\n",
        "        Sistema de Estímulos Académicos (SEA)     \n",
        "................................................................................\n",
        "        \n",
        "                Bienvenido [nombre]                    \n",
        "................................................................................\n",
        "\n",
        "       Usted es elegible para el estímulo académico."
      ]
    },
    {
      "cell_type": "markdown",
      "metadata": {
        "id": "RtdgEFCWixIi"
      },
      "source": [
        "<font color='5adcff'> **Ejercicio 3**\n",
        "\n",
        "Diseña un algoritmo que le pregunte al estudiante por el número de semestres que ha cursado, se debe guardar en la variable n_semestres. El algoritmo debe preguntarle al usuario por el número de asignaturas cursadas y el número de créditos del semestre de cada semestre. Estos datos deben acumularse en las variables total_asignaturas y total_creditos. Debe imprimirse en pantalla el total de asignaturas cursadas y el total de créditos vistos.  \n",
        "\n",
        "<font color='5adcff'> **Ejercicio 4**\n",
        "\n",
        "Diseña un algoritmo que permita al estudiante calcular el promedio de sus notas en la asignatura, usa las estructuras iterativas. Para ello, pregunta al estudiante el número de evaluaciones que tuvo durante un semestre y guarda dicho dato en la variable n_eval. Para cada una de las evaluaciones pregunta la nota obtenida y el porcentaje asignado a la nota. El producto de estas dos variables deberá acumularse en la variable prom_pond. Una vez finalice el cálculo, debe imprimirse en pantalla el promedio ponderado resultante.  \n",
        "\n",
        "<font color='5adcff'> **Ejercicio 5**\n",
        "\n",
        "Diseña un algoritmo que permita al estudiante calcular el promedio de las notas de sus cursos en el semestre, usa las estructuras iterativas. Para ello, pregunta al estudiante el número de cursos terminados en el semestre y guarda el dato en la variable n_cursos. Para cada uno de los cursos pregunta la nota obtenida y el número de créditos correspondiente. El cálculo del promedio ponderado debe guardarse en la variable prom_sem e imprimirse en pantalla una vez se finalice el cálculo.\n",
        "\n",
        "<font color='5adcff'> **Ejercicio 6**  \n",
        "\n",
        "Teniendo en cuenta la información del ejercicio anterior y solicitando al estudiante el promedio del tercio superior, idea un algoritmo que le indique al estudiante si cumple con el siguiente requisito para presentarse a la convocatoria: \"Haber obtenido un promedio crédito que lo ubique en el tercio superior de su nivel académico inmediatamente anterior o tener mínimo un promedio de 3.8 en su semestre anterior, en la escala de cero (0.0) a cinco (5.0)\".  \n",
        "\n",
        "<font color='5adcff'> **Ejercicio 7**\n",
        "\n",
        "Diseña un algoritmo que permita al sistema calcular el mejor y el peor promedio de semestre de un estudiante, usa estructuras iterativas y condicionales. Para ello, pregunta al estudiante el número de semestres cursados, y para cada uno de los semestres pregunta el promedio acumulado, determina el menor y el mayor de ellos. Al final debe reportárse en pantalla las variables max_prom y min_prom.   \n",
        "\n",
        "<font color='5adcff'> **Ejercicio 8 (Opcional)**\n",
        "\n",
        "Integra los algoritmos de cada uno de los anteriores ejercicios en un solo algoritmo que simule un programa de ayuda al usuario del sistema SEA.  "
      ]
    },
    {
      "cell_type": "markdown",
      "metadata": {
        "id": "nZ9nqPw2vDhF"
      },
      "source": [
        "· Universidad de Antioquia · Ude@ Educación Virtual ·"
      ]
    }
  ],
  "metadata": {
    "colab": {
      "provenance": []
    },
    "kernelspec": {
      "display_name": "Python 3",
      "name": "python3"
    },
    "language_info": {
      "name": "python"
    }
  },
  "nbformat": 4,
  "nbformat_minor": 0
}
