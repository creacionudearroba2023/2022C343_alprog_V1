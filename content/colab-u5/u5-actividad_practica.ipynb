{
  "cells": [
    {
      "cell_type": "markdown",
      "metadata": {
        "id": "W04I4jsdwpdb"
      },
      "source": [
        "<img src=\"https://udearroba.udea.edu.co/imagescourses/2022C343_alprog_V1/banner-colab.png\">"
      ]
    },
    {
      "cell_type": "markdown",
      "metadata": {
        "id": "KXhgNSTY8SKf"
      },
      "source": [
        "## <h1> **<font color='157699'> Actividad práctica </h1>**\n",
        "\n",
        "<p>Te presentamos una serie de problemas para que apliques los conocimientos adquiridos. Estos son una continuación de los que se presentaron en Unidades anteriores, además, han sido adaptados con los temas de esta Unidad.</p>\n",
        "\n",
        "<p>Recuerda que solo debes escoger el problema que más te guste y desarrollarlo.</p>\n"
      ]
    },
    {
      "cell_type": "markdown",
      "metadata": {
        "id": "FWIKlUC78DMU"
      },
      "source": [
        "**<h2>Simulación de un ecosistema simple</h2>**\n",
        "<p>En las unidades anteriores se te pidió elaborar un programa que simulara la interacción entre tres especies en un ecosistema.</p>\n",
        "<p>Ahora que tienes datos de tu simulación y puedes observarlos en gráficos, es hora de analizarlos.\n",
        "\n",
        "*   ¿Hay correlaciones entre las poblaciones de diferentes organismos en tu ecosistema?\n",
        "*   ¿Qué sucede si introducimos perturbaciones, como un cambio en el clima o en el ecosistema?\n",
        "*  ¿Cómo reaccionan las poblaciones a dichas perturbaciones?\n",
        "\n",
        "Queremos que te adentres en el análisis estadístico de los datos y explores los conceptos de correlación y causalidad. </p>"
      ]
    },
    {
      "cell_type": "markdown",
      "metadata": {
        "id": "Ks1vWjj58SKj"
      },
      "source": [
        "<p><strong>Reto opcional:</strong> introduce una serie de perturbaciones consecutivas a tu ecosistema. A partir de los datos resultantes, desarrolla un modelo que pueda predecir cómo se comportarán las poblaciones después de una perturbación basándose en datos históricos. Puedes empezar con un modelo simple basado en regresión lineal.</p>"
      ]
    },
    {
      "cell_type": "markdown",
      "metadata": {
        "id": "58qUBx9o9tlk"
      },
      "source": [
        "\n",
        "**<h2>Estudio de patrones migratorios y su impacto en la cultura local</h2>**\n",
        "<p>\n",
        "En las unidades anteriores se te planteó construir un programa que recoge y categoriza datos de migrantes.\n",
        "\n",
        "Ahora que tienes datos en tu programa y puedes observarlos en gráficos, es hora de analizarlos.\n",
        "\n",
        "En esta Unidad deberás examinar si hay correlaciones entre ciertos aspectos culturales y los países de destino. Por ejemplo, ¿hay un destino preferido para las personas que hablan cierto idioma o practican cierta religión?\n",
        "\n",
        "</p>\n",
        "\n",
        "<strong>Reto opcional:</strong>  evalúa si la llegada de migrantes con ciertas características culturales ha influido en aspectos medibles del país de destino, como la aparición de festivales culturales, restaurantes o incluso cambios en el lenguaje local.\n",
        "</p>\n",
        "\n"
      ]
    },
    {
      "cell_type": "markdown",
      "metadata": {
        "id": "V9K34_mEBVQz"
      },
      "source": [
        "\n",
        "**<h2>Monitoreo y análisis de enfermedades cardíacas</h2>**\n",
        "<p>\n",
        "En las Unidades anteriores se te planteó crear un programa que recogiera datos vitales de pacientes.\n",
        "\n",
        "Ahora que tienes datos de tu programa y puedes observarlos en gráficos, es hora de analizarlos.\n",
        "\n",
        "En esta Unidad deberás examinar si hay correlaciones entre las categorias de los pacientes y los biomarcadores que están entre los datos.\n",
        "</p>\n",
        "\n"
      ]
    },
    {
      "cell_type": "markdown",
      "metadata": {
        "id": "HWcWLONICK3T"
      },
      "source": [
        "**<h2>Optimización de estrategias de aprendizaje personalizado en la educación virtual</h2>**\n",
        "\n",
        "<p>En las Unidades anteriores se te planteó crear un programa que recogiera datos asociados a las plataformas de enseñanza y realizar categorizaciones de los estudiantes.\n",
        "\n",
        "Ahora que tienes datos de los estudiantes y de la plataforma de enseñanza, es hora de analizarlos.</p>\n",
        "\n",
        "<p>En esta Unidad deberás analizar la correlación entre diferentes métricas (por ejemplo, tiempo en videos vs. rendimiento en cuestionarios) para identificar qué recursos son más efectivos para el aprendizaje.</p>\n"
      ]
    },
    {
      "cell_type": "markdown",
      "metadata": {
        "id": "NwGWt81pwgnr"
      },
      "source": [
        "· Universidad de Antioquia · Ude@ Educación Virtual ·"
      ]
    },
    {
      "cell_type": "code",
      "execution_count": null,
      "metadata": {
        "id": "9H_11icKwlDp"
      },
      "outputs": [],
      "source": []
    }
  ],
  "metadata": {
    "colab": {
      "provenance": []
    },
    "kernelspec": {
      "display_name": "Python 3",
      "language": "python",
      "name": "python3"
    },
    "language_info": {
      "codemirror_mode": {
        "name": "ipython",
        "version": 3
      },
      "file_extension": ".py",
      "mimetype": "text/x-python",
      "name": "python",
      "nbconvert_exporter": "python",
      "pygments_lexer": "ipython3",
      "version": "3.9.13"
    },
    "orig_nbformat": 4
  },
  "nbformat": 4,
  "nbformat_minor": 0
}
