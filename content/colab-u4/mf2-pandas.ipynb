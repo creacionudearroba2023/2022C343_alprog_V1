{
  "cells": [
    {
      "cell_type": "markdown",
      "metadata": {
        "id": "LAgSLsgsHo5a"
      },
      "source": [
        "<font color='157699'> <h1>**Pandas**</h1>\n",
        "\n",
        "Es una librería destinada al análisis de datos que proporciona estructuras de datos flexibles, los cuales permiten trabajar con ellos de forma eficiente. Es de especial utilidad para contextos de analisis estadistico de datos. Pandas está basada en la librería NumPy, se podría decir que es un complemento o evolución hecha con fines de anális estadísticos. Los principales tipos de datos que pueden representarse con Pandas son:\n",
        "\n",
        "* Series temporales.\n",
        "* DataFrames o datos tabulares con columnas y etiquetas.\n",
        "![Img1.png](data:image/png;base64,iVBORw0KGgoAAAANSUhEUgAAAlsAAAHcCAYAAADhmG+MAAAACXBIWXMAAAPgAAAD4AGR8VoOAAAbzklEQVR4nO3dvXITyd4H4OYU+fGbkB5vvlUWsQPshBS4AqBKAY52HVCExuEWARDhQFWYK1hvuolNsDFylfPVpkTeK/Bbw+nZM4xnZNnS36OP56lSYWxpPrpHmp+6e3oSAAAAAAAAAAAAAAAAAAAAAAAAAAAAAAAAAAAAAAAAAAAAAAAAAAAAAAAAAAAAAAAAAAAAAAAAAAAAAMvnjjplWr2dg4sJFnGS/z1PKZ2mlI6GH14MF7nwezsH6ymlZ7VfHw4/vBh1tElT6+0cHKeUtma4yO3hhxcnEzwPYGndVbXckuoJ/HFKaa+3c1CEkk8ppXfDDy/OF7AiirC1V/tdESwWNmwBMHv/UqZ0qAwrf/Z2Dh4vYEWsz8E2ADDnhC3mwVpK6dfezsHHBasNYQuAK+lGJMqooTtt/YqA8qy3c5CGH148Vytzpejiven4ukXsHgaYKWGLKJ+GH168ri+7Mqj8p9yiVVcErs/DDy8OF6BmHszBNtyG4fDDi+3l302AGLoRuVXFlXo5hN0f01rytrdz0BTEAGDhaNmiE0Xo6u0cFK0lXxq6Foug9XNK6VLL2FVyy9lWXua/i1/lUPd37tY8meHUDL0uyq63c9DL+1iU03/yvn7Ofx7mfVzK7rscwrdy2Vf3/Tzv9426O3s7B1uVK2Y38r+n+d+TWU5fkevvcV5PcSz+1rT8fNFILz9v6ulSasfNRi6zv6YtO+Bq5tliai3zbO03dSPW5ZPcccOfzocfXvzfJNuWTyJP8wlskkHrJ3n7rjyB5mW/zSeoWYerieegyifeR3kfJ2n1O8z7eK1g2TLP1klkN2LD8VNMBbJbe0555Wp9XrO6S69tWedaLsuyTK9SBJL3k0xT0nRMDz+8uJP/9rFlHw7LsYp5245bjreJ9q+2n2W3/VXvjVE+ZhahCx8Wim5EOpXDRlPgWMsnrVbF33M4+JJbwia9OvDbybC3c/B2gudWW1JuXW/noBjD9mdxtWY+aU7avVo890vx+i62e0rflXVv5+DnXMeT7Mvf4/5YhI/ezkHxJaAo048TBq2Uy30vl+m1j4V8rL4dsw/PKnXVFrQKP+fymGidudzeTvjeKJ7zsXhP6caH2RK2mAefWrahMWzlE+ZxPilNM9v5zxMGrltXnNBzyPo4xRQTa/nkuYhzmH2TW4LeXiNktrYU5jDzZw5NNw0T6zmoX7dOHuUvBOP8lIPgVWGuPpHuJXlfj2947JRfRgQumBFhi3lw1LINjVf7TTgeaZRPvFeNQ/n5qha0jowmCATDCWes/7hgJ85vAeGKlqBGV3TLTlKmZUvruGNsLYfg65ikNaqXu/uusjYuQOegNW77iv17lx9t5dXLranADBggT+eK8NTbOThvOBGOOzE+z60UpfMc2orBxpfCWz4B7bV8098bc9IpAk3TeKVyLFfd7jXmpGp9Xi6T3dpJc5T38VN9MHMOUz+3TKlx4wsOOrKew0RTQCn2+7dafZWDyMcGqSKI9XYODmsBbphbVo/q49uuGCdWdAtu3WDg/FE+RlIOM/VWrLV8LD8vjuPc0tXUktVr+pKSuzjbgtZ+05izfOw0BdtiH58ZwwXTE7aYF8OGLsHW7pR8NeNhHnNz5cDl4oTR2zk4arn6sTiprDcNJs/LbLpSrHVVs7pyLW9zeaIdO3A5b+fryj7WPZ0ibF05fq5he6Ytg3pgOMkBpKkV7zrr2s+h4sqLJPK6nvd2Dk5bgvXTa657lPfh23Ha2znYb2k9el5+YSguMuntHDxtOGb/3bKOtqD1pOlLSPrfsfM8f+GpB9y9fLEFMAXdiCyyooXgh+KENEnXYn5O25Vc89iVmPIViz9M2rqQW7zeNfxp/QbjjEq9PP7nOo9pVVupiiC9PYspO/IyfsjLmygoDT+8eNfSCnndY2a/dpw2rf+kIRQ17felLyK59bbpC8puW9Cqylc5Xrrrw00uCAC+J2yxsIoT13Xnkxpz0pnL+xzeMGD81vL7RbyX4+F1pjqYxAzL9FrlWQ/MLcfu54bfTepRw/NGOSxOqulilXn9IgILQzciSy2PRym/mZcnjVHDiXJhb72TW6zWJ5gLbOua3V5dO+nqPpm5NWetcj/P/7Q87ybjtqI0DZq/skWr5qRhjNjGla8CxhK2WBq12cUf5H+X6vL1ygz5G3n/lrnV4VaCVmVm9bJMF67bbExXXzmv2KSaQuUitojCXBG2mBdNoWiiLsI8ePuna0xQuXDyeJyfOgoCozFzoUV5N8PbKl1SuXqzafD5Imr7UrGIk9rC0hG2mBdNIWLsFAq5lefjMrfu5CA5zcSmszCa5NZLMzZ2Jvhp5BnYp5nYFOBahC06N2ZagdawlbtNjsecMMsJP//KP4/KlpKW+//NnQknp/ycW55GedqJclqBpvtVrrwx9yZM5Q2Z802fh/n+nCdp/D08Aa4kbDEPmq6iSvmkd0nlRr1NQetGN2CeN5UWrbqJb4jM9/LYpaagtcw3YL7OJLttFvq9BPNA2KJTOTi1tTS0XUnVdK+88zwn1bQnlklFn4CagtYw76OQdU2V2eDrDru64nHGxt2NYJGuQIWlZJ4tutY2duZoTKho6gJ8f4tBa9xcTVN3T1amcqjbFbRurKlexk1yu1DycdF0TD5dhv2DRSds0Zk8JqntBr3vx2xXUxCZl2/vjfMxXVPjYHgtFFNpKtPhkoXXpitGe+NuWg3cDmGLW1d0HfZ2Dt6OGfx9dINgceWVZXm9s7x6sWkbH+eu0ZmbZLlFq1hv56Dp3ohcNlE95fFzTfcwnDdtY84+XveWO1HHMKwqYYtbkYPOVg5Zf45p0Tq/4WSWe+NOELkV7cuM5x1quoXLt8H7V52sbnifwqabIZfLKyev/LKIk3J2pJePi0Y5uH684qrXuZG7tvcbtqc8Jq889vNx9O29ct2bjwPtDJAnShF+mgYkj3M+4QDwo4YJTHv5BHFUC0GP8nMj5qk6aglAxbb8mbflr0oLWHHy+nc5y31v5+B+0zizolWvt3Nw3nCCf5ZbKD5VBkSvVfZRa0S7o5YB8kWrz6N8zJRjntYrZbpQivnQ8v7UA/da3te9XBafa5MGr+e7LlSPoyJo/rBoZQDzSNhiXhQnuicTDnJ/33IiXM8tZm2tZqXhLFp/ipaE3s7Bu5b1Va+ybAudW2OuInvf8rpJbyczk31cFsVx1ds5OGnpQn48QbA6z49FmG1+O7fGNdX/pO+Rb88tWrmWdEoMuFW6EZkHRWBpbOVpksdzvbvBdhcnyyf5MSv7U8xj1Da/WMoztt9kucVr7l9xgcGqej7pLaBqjnILz0JcoJBbhrdvcBPquqbWVeAGhC26Uo4v+WH44cW1pzQoXpMv25/kdeeVdR3NcsLTyontJuHvqpan6yy32Kfnww8vytBqIsqaXO/3rxGaTnK39pNcz3/d2sZOqdjeYrvzF4vrHgvV98tNjmugRjcis9A0KLfJef3WOdMoTgR5XNRP5TioyuLKdf2WJ66sh7LntS6hG29PXvZub+fgfeVm0U3dVaO8Taf5isuxLVeV5f6W50vaatjmb/tY7+rJ477q9TJJyPiUx/PUtztS0/ET0oqUj7vtPAj8US7TauvNMD8+NVwR29Sd1lQ2bQPVm0xSRzeuk+LLRXGs5bF+T8ccm+XtrT7n1wAAAAAAAAAAAAAAAAAAAAAAAAAAAAAAAAAAAAAAAAAAAAAAAAAAAAAAAAAAAAAAAAAAAAAAAAAAAAAAAAAAAAAAAAAAAAAAAAAAAAAAAAAAAAAAAAAAAAAAAAAAAABwS+4oaGCVXJxtPksprav0uXV458c/RqteCCyXu+oTWDFPU0pbKn1unaSUhC2WirAFrKqRk/pcEYBZWsIWsKo+3fnxj9dqfz5cnG1erHoZsLz+pW4BAOIIWwAAgYQtAIBAwhYAQCBhCwAgkLAFABBI2AIACCRsAQAEMqnpkrr/y+/HZmTuzP6XVw8bJ8u8/8vvJm7szvaXVw9P6mu//8vvxfvkeIXKYd6olzn05dVD906eIS1bAACBhC0AgEDCFgBAIGELACCQsAUAEEjYAgAIJGwBAAQStgAAAglbAACBhC0AgEDCFgBAIGELACCQsAUAEEjYAgAIJGwBAAQStgAAAglbAACBhC0AgEDCFgBAIGELACCQsAUAEEjYAgAIJGwBAAQStgAAAglbAACBhC0AgEDCFgBAIGELACCQsAUAEEjYAgAIJGwBAAQStgAAAglbAACBhC0AgEDCFgBAIGELACCQsAUAEEjYAgAIJGwBAAQStgAAAglbAACBhC0AgEDCFgBAIGELACDQXYW7tD6llD6veiF05GTMaveXes/n26hl60bqpVPqBQCWycXZ5vHF2ebFxdnmaxU7P3KdFI+tVS8Llo9uRACAQMIWAEAgYQsAIJCwBQAQSNgCAAgkbAEABBK2AAACTT2p6f1ffu+llN6qpM7sfnn1cFhf+ZvTr0Wd9FanGObKp5cb9w6bNujN6dfj1S2Wzu2+3LjX9F7xGdYt9TKHXm7c2171MpilWcwgv5ZSMgldd9Za1txTL50ZN3O/OulO23vFZ1i31AtLTzciAEAgYQsAIJCwBQAQSNgCAAgkbAEABBK2AAACCVsAAIGELQCAQMIWAEAgYQsAIJCwBQAQSNgCAAgkbAEABBK2AAACCVsAAIGELQCAQMIWAEAgYQsAIJCwBQAQSNgCAAgkbAEABBK2AAACCVsAAIGELQCAQMIWAEAgYQsAIJCwBQAQSNgCAAgkbAEABBK2AAACCVsAAIGELQCAQMIWAEAgYQsAIJCwBQAQSNgCAAgkbAEABBK2AAACCVsAAIGELQCAQMIWAEAgYQsAIJCwBQAQ6O4MFn2eUjpRSZ05b1nxcAX2fV6NxmyX90p32t4rPsO6pV4AYJlcnG0eX5xtXlycbb5WsfMj10nx2Fr1smD56EYEAAgkbAEABBK2AAACCVsAAIGmvhrx/i+/F4MZj1VSZ7a/vHp46YqdN6dfizox0LQb+y837jUOvn5z+vViBfZ/Xm2/3LjX9F7xGdYt9TKHXm7cu7PqZTBLWrYAAAIJWwAAgYQtAIBAwhYAQCBhCwAgkLAFABBI2AIACCRsAQAEErYAAAIJWwAAgYQtAIBAwhYAQCBhCwAgkLAFABBI2AIACCRsAQAEErYAAAIJWwAAgYQtAIBAwhYAQCBhCwAgkLAFABBI2AIACCRsAQAEErYAAAIJWwAAgYQtAIBAwhYAQCBhCwAgkLAFABBI2AIACCRsAQAEErYAAAIJWwAAgYQtAIBAwhYAQCBhCwAgkLAFABBI2AIACCRsAQAEErYAAAIJWwAAgYQtAIBAwhYAQKC7M1j0KKW0r5I6M2pZ8aeU0ucV2P95dDJmm7xXutP2XvEZ1i31AgDL5OJs8/jibPPi4mzztYqdH7lOisfWqpcFy+fOVXt0cbb5LKX0VN0DS6KXUlrLLSdtrSrcvjJkDVNK58p/IQzv/PjH7qoXwiQm6UZcr7wJAJbFen4wX3rqg2VznTFbozwOCGCRPc0h68S4xrmylzfmMKX016oXxpx7oBHmeq4Vtu78+MelMQ73f/m9+NB61tH2k9Lhl1cPL3WFvDn9+sy39s6cvNy41zhI/s3pV+OEunP4cuPe6OJs80F+b3wuPtPenH71Gdatsl7KsPXpzo9/nKiXbr3cuNf6WZXHOwpb1zCLqxHXK99IuH0nLeNOnnozdKrtikTvle60vVd8hnVLvcwnXwxnyDxbAACBhC0AgEDCFgBAIGELACCQsAUAEEjYAgAIJGwBAAQStgAAAglbAACBhC0AgEDCFgBAIGELACCQsAUAEEjYAgDmRr/fX7vuttzkNbfprsMLALgt/X7/bUqpl1L6bTAYvEv//d1WSumnlNLj/P/in/OU0pPBYHBS37R+v7+eUtrLz1+rvOYopfS+/prKOtNgMNieZFf7/X7x/Lf5v/tN2zEpLVsAwG0qQkwRrh6l/4aa1yml4zJoVazlwPWdfr//LKX0Z0rpWRm0KoplHOdlVv2d17mVg9o/+v3+r/1+v+k15XZuNW3HdQhbAEAncsDZy+suWqV2U0rb+d/DwWAwrG5Xv98vwtTH/N8iAO3n5xeP55VQtJdDWam6nF5lees5oBWB6mmtDP4JZfXtuC7diABAF3qVVqN6d2Fbl93bys/bDWFsmFvJihavt/1+/2gwGJw3hK2jys+l9SJ8DQaDUf7/gyu2ZWJatgCALpTdhNuTjIfKLVVla9OlVq/0vxao9/m/a7mrMeUAVbZ6Pai8pPy5KXyVP0/VqpWELQCgQ/vX6KLbqPz8aczzjio/P6r8XK6nOmZrK//7Of/7LXzl7sVyPNjptMUjbAEAnSivRpxQb5KnjQlvZaBar0wVUSxzVAli5TqqgWzqli1jtgCAVfDduK08VUSqha2t2r9TD45PWrYAgAUxUejJ82OVqlM2VF+/Ve1CzIPoR+l/c36VXZZTD45PwhYAsCCqY6fq0zRUVefrKrsO64Pk/9MQqMp/tyrjtaZu1UrCFgCwCAaDwWHZ+lRcZVhrwfom/+6n/N8iWB3WnlIdJF+/2rAMZhuVv009OD4ZswUALJBistNf8+YWs76/r7RI9fIEqWWr1G7uHqz6nFuu1vNjWHlOdZC8li0AYPUMBoOjykzxazlcHefH20pIep5bwurq0z/8E6byQPjzWc4cXxK2AIDbNMytUTcafJ5D1P3cRVhtuSq7De+3BK1UW3fx+K3298PK364zLcVYuhEBgFszGAx2p11XHuz+PD+u+7rtMX+fetuaaNkCAAgkbAEABBK2AAACCVsAAIGELQCAQMIWAEAgYQsAIJCwBQAQSNgCAAgkbAEABBK2AAACCVsAAIGELQCAQMIWAEAgYQsAINDdGSx6mFLaVkmdGbaseDeltLYC+z+PRmO2yXulO23vFZ9h3VIvLL2pw9aXVw/PU0onDpX58nLjXtsHGB16uXHPe2XOvNy45zNsDqkXlsmdq/bl4mzzdUppT60DABUnd378Q+vjBIzZAgAINEk34qGmXGCJvE0p9fJn2ycVOzeO84bsjhnHxXw5Vx+TuTJs3fnxj9G4Ab/3f/m9lz+86Mbul1cPL30wvTn9Wp5QuH2fXm7cO2xa65vTr8fqozO7xVjGi7PN8gTx150f/zh5c/rVZ1i3ynopN2KoXrr3cuOe7sEZmsXViMUVb1tzs0erp+2Kw5566cznMStWJ91pe6/4DOuWemHpGbMFABBI2AIACCRsAQAEErYAAAIJWwAAgYQtAIBAwhYAQCBhCwAgkLAFABBI2AIACCRsAQAEErYAAAIJWwAAgYQtAIBAwhYAQCBhCwAgkLAFABBI2AIACCRsAQAEErYAAAIJWwAAgYQtAIBAwhYAQCBhCwAgkLAFABBI2AIACCRsAQAEErYAAAIJWwAAgYQtAIBAwhYAQCBhCwAgkLAFABBI2AIACCRsAQAEErYAAAIJWwAAgYQtAIBAwhYAQCBhCwAgkLAFABBI2AIACCRsAQAEErYAAACYjYuzzeOLs82Li7PN14p0fuQ6KR5bq14WLB8tWwAAgYQtAIBAwhYAQCBhCwAg0N1pF33/l9+LwYzHKqkz219ePTypr/zN6deiTgw07cb+y417jYOv35x+vViB/Z9X2y837jW9V3yGdUu9zKGXG/furHoZzJKWLQCAQMIWAEAgYQsAIJCwBQAQSNgCAAgkbAEABBK2AAACCVsAAIGELQCAQMIWAEAgYQsAIJCwBQAQSNgCAAgkbAEABBK2AAACCVsAAIGELQCAQMIWAEAgYQsAIJCwBQAQSNgCAAgkbAEABBK2AAACCVsAAIGELQCAQMIWAEAgYQsAIJCwBQAQSNgCAAgkbAEABBK2AAACCVsAAIGELQCAQMIWAEAgYQsAIJCwBQAQSNgCAAgkbAEABBK2AAACCVsAAIGELQCAQMIWAEAgYQsAIJCwBQAQ6O4MFj1KKe2rpM6MWlb8KaX0eQX2fx6djNkm75XutL1XfIZ1S70AwDK5ONs8vjjbvLg423ytYudHrpPisbXqZcHy0Y0IABBI2AIACCRsAQAEErYAAAIJWwAAgYQtAIBAwhYAQKBZTGoKsIgemGsLuA3CFrCqtvIDIJSwBayaoRqfa+erXgAAAAAAAAAAAAAAAAAAAAAAAAAAAAAAAAAAAAAAAAAAAAAAAAAAAAAAS+eOKgXoVr/f76WU3rZtxGAw2FZFsLjuqjuAzq2llLZUAywnYQuge6OU0n5tK56mlNbVDSw+3YgAc6jf7x+XrV2DwcBnNSywf6k8AIA4whYAQCBjtgBq+v3+VmXMVDF4/Tw/fhsMBofjyqvf7xfPf5ZSenTd106j3+8/K8d4DQaD1y3btp63rXAyGAxOKn8rX/MupVRcHbmXt3+YUtodDAbn+TkP8u9/q6+nsg3/LDv/7mmlLL6NTxsMBiPHHatC2ALIKlMwtF0Z+Ljf7/+UUno+GAyG9T/mYPE2B4u21z4JChpPK9vdGLZyENqr/P+k8nP5+/NK0Eo5eBX79lfttb1+v18Pdv9sQ7/fL/bx1/L1NUVZbDeVISwj3YgA/wtax5XAMsqtPPv5cZR/32sKEDlofayElMPKa08qrz3OrV/zai8Hrv3cqlV4nH9/lMuk9LRlH4rWry95f0/yst7lMk25jFrnFYNlo2UL4L9+rQalwWDwvF4uOZA9rncH5vBUhociqFxqten3+x9zF956fu6l5c+RYvtH/X5/WCmXo8Fg8KRSDltjpqbYqpRDtatyP4ew4nVbRbem7kRWgZYtYOVVxzvlUNEYhIoA1TIe6udKUHvf1D2Wl1kGi2d5/NQ8GlYC0Hll+95Xfp6k+++7oJXL4LzSQpjMI8aqELYA/juYvVSfXHQSDyrPeTfm+Z8qPz9e4HL/+6onjBmPdeVrYdkIWwCVFpYbDtr+Z0B9br1pU23pmedxW8AMCVsAurOAQMIWQGUM0g2vFJx0kLdQBytI2AL4PizdZCxVNay1zdGVamO7TsY8bypjAqOuS+iAsAXw/cD1t3lqg0b9fr8pjFWv1NtreV2vMnv7qH6lXoNR7bVXqY41uxT48jI+qmu4fcIWsPJy8CnnzlrLE48+q7YQFWElz5X1a+XWNt/k15fhqZg/6tfq1A45oB1XXrI7QZl/rvz8sb68htar09rzH+fnruWpLY4T0AmTmgLkebCK28/k1qe13Ar0Mf+u7j8Nv3uSA00vd0U+bnltcaufo6Y/1BzlVrL1vMw/a8t7XgmIxfYf9vv9vcr9HH+tPf/bJKN5UlHgFmnZAsjyxKPPx0zaeZIn67w06Wkx5cNgMLif5+lqmv5hmF870c2o8xQST1rGdp23jL960rLtRXD7wb0IoRt3lDvAZbnbrnr14PCKObS+UxsoP5rmtjR5vFUZrs6vCk2150+1bgAAAAAAAAAAAAAAAAAAAAAAAAAAAAAAAAAAAAAAAAAAAAAAYH6klP4fhRB3ZeQTuNkAAAAASUVORK5CYII=)"
      ]
    },
    {
      "cell_type": "markdown",
      "metadata": {
        "id": "7mJpoClmGDbd"
      },
      "source": [
        "\n",
        "# <font color='157699'> **Uso** </font>\n",
        "\n",
        "Para usar esta librería basta con importarla al inicio del código de la siguiente manera:"
      ]
    },
    {
      "cell_type": "code",
      "execution_count": null,
      "metadata": {
        "id": "Z7T0rficIBnD"
      },
      "outputs": [],
      "source": [
        "import pandas as pd"
      ]
    },
    {
      "cell_type": "markdown",
      "metadata": {
        "id": "YoYEDozrZZ6H"
      },
      "source": [
        "# <font color='157699'> **Creación de series** </font>\n",
        "---\n",
        "El método básico para crear una serie en Pandas es:\n",
        "\n",
        "\n",
        "\n",
        "```python\n",
        "s = pd.Series(data, index=index)\n",
        "```\n",
        "En donde *data* puede ser:\n",
        "* Un diccionario\n",
        "* Un  arreglo de NumPy (`ndarray`)\n",
        "* Un valor escalar (ejemplo 5)\n",
        "\n",
        "\n",
        "El índice (*index*) es una etiqueta única asignada a cada elemento de la serie. Por defecto, el índice se establece de forma automática como una secuencia de números enteros consecutivos que comienzan en cero. Sin embargo, el índice puede ser, por ejemplo: cadenas, fechas, números enteros y otros tipos de datos.\n"
      ]
    },
    {
      "cell_type": "code",
      "execution_count": 1,
      "metadata": {
        "colab": {
          "base_uri": "https://localhost:8080/",
          "height": 193
        },
        "id": "8WrISc2fclBN",
        "outputId": "d215a0e6-c3dc-4ccd-d9a7-f159abba34a9"
      },
      "outputs": [
        {
          "output_type": "error",
          "ename": "NameError",
          "evalue": "ignored",
          "traceback": [
            "\u001b[0;31m---------------------------------------------------------------------------\u001b[0m",
            "\u001b[0;31mNameError\u001b[0m                                 Traceback (most recent call last)",
            "\u001b[0;32m<ipython-input-1-6470bb3c6a27>\u001b[0m in \u001b[0;36m<cell line: 1>\u001b[0;34m()\u001b[0m\n\u001b[0;32m----> 1\u001b[0;31m \u001b[0ms\u001b[0m \u001b[0;34m=\u001b[0m \u001b[0mpd\u001b[0m\u001b[0;34m.\u001b[0m\u001b[0mSeries\u001b[0m\u001b[0;34m(\u001b[0m\u001b[0;34m[\u001b[0m\u001b[0;36m10\u001b[0m\u001b[0;34m,\u001b[0m \u001b[0;36m20\u001b[0m\u001b[0;34m,\u001b[0m \u001b[0;36m30\u001b[0m\u001b[0;34m]\u001b[0m\u001b[0;34m)\u001b[0m\u001b[0;34m\u001b[0m\u001b[0;34m\u001b[0m\u001b[0m\n\u001b[0m\u001b[1;32m      2\u001b[0m \u001b[0ms\u001b[0m\u001b[0;34m\u001b[0m\u001b[0;34m\u001b[0m\u001b[0m\n",
            "\u001b[0;31mNameError\u001b[0m: name 'pd' is not defined"
          ]
        }
      ],
      "source": [
        "s = pd.Series([10, 20, 30])\n",
        "s"
      ]
    },
    {
      "cell_type": "code",
      "execution_count": null,
      "metadata": {
        "id": "DFPnQSNScXOh"
      },
      "outputs": [],
      "source": [
        "s = pd.Series([10, 20, 30], index=['a', 'b', 'c'])\n",
        "s"
      ]
    },
    {
      "cell_type": "markdown",
      "metadata": {
        "id": "Qz_Rxx2F_cdO"
      },
      "source": [
        "Las series tambien pueden crearse desde diccionarios. En este caso, **las claves del diccionario se convierten en los índices de la serie y los respectivos valores de cada clave se convierten los valores de la serie**:"
      ]
    },
    {
      "cell_type": "code",
      "execution_count": null,
      "metadata": {
        "id": "Usvo9r1U_kzq"
      },
      "outputs": [],
      "source": [
        "datos = {'Antioquia':5974788, 'Magdalena':1263788, 'Atlántico':2342265, 'Quindío':509640}\n",
        "serie = pd.Series(datos)\n",
        "serie"
      ]
    },
    {
      "cell_type": "markdown",
      "metadata": {
        "id": "LMGeX_EF_ohK"
      },
      "source": [
        "Cuando se especifican los índices, y alguno no corresponde a una clave del diccionario, se crea una valor no definido: NaN."
      ]
    },
    {
      "cell_type": "code",
      "execution_count": null,
      "metadata": {
        "id": "2nEbCUhR_qFE"
      },
      "outputs": [],
      "source": [
        "datos = {'Antioquia':5974788, 'Magdalena':1263788, 'Atlántico':2342265, 'Quindío':509640}\n",
        "dptos = ['Antioquia', 'Magdalena', 'Atlántico', 'Amazonas']\n",
        "serie = pd.Series(datos, index=dptos)\n",
        "serie"
      ]
    },
    {
      "cell_type": "markdown",
      "metadata": {
        "id": "QEsJ7ndUICeq"
      },
      "source": [
        "# <font color='157699'> **Creación de *DataFrames*** </font>\n",
        "\n",
        "---\n",
        "\n",
        "Pandas permite la creación de *DataFrames* al ingresar de modo directo los datos desde estructuras básicas de Python, como listas o diccionarios, o mediante la lectura de distintos tipos de archivos.\n",
        "\n"
      ]
    },
    {
      "cell_type": "markdown",
      "metadata": {
        "id": "vx-nFCCKJ17q"
      },
      "source": [
        "## <font color='8EC044'> **Crear desde listas y diccionarios** </font>"
      ]
    },
    {
      "cell_type": "markdown",
      "metadata": {
        "id": "y07JurGjJ6Np"
      },
      "source": [
        "Considera el caso en el que tenemos tres listas con los nombres, edades y estatura de algunas personas.\n",
        "\n"
      ]
    },
    {
      "cell_type": "code",
      "execution_count": 2,
      "metadata": {
        "id": "NyogokHoKAyJ"
      },
      "outputs": [],
      "source": [
        "nombres = ['Pablo', 'Carolina', 'Juan', 'Diana']\n",
        "edades = [43, 37, 45, 19]\n",
        "estaturas = [174, 170, 185, 163]"
      ]
    },
    {
      "cell_type": "markdown",
      "metadata": {
        "id": "2SWazYyWK1FL"
      },
      "source": [
        "Creamos un DataFrame con ellas por medio de la función 'DataFrame' y se pasa como argumento un diccionario con el nombre que queremos dar a cada columna y la lista correspondiente:"
      ]
    },
    {
      "cell_type": "code",
      "execution_count": 3,
      "metadata": {
        "id": "lqeGANISJ4qS",
        "colab": {
          "base_uri": "https://localhost:8080/",
          "height": 245
        },
        "outputId": "354ea47f-2121-48f2-f28c-ed8a1a24aca5"
      },
      "outputs": [
        {
          "output_type": "error",
          "ename": "NameError",
          "evalue": "ignored",
          "traceback": [
            "\u001b[0;31m---------------------------------------------------------------------------\u001b[0m",
            "\u001b[0;31mNameError\u001b[0m                                 Traceback (most recent call last)",
            "\u001b[0;32m<ipython-input-3-32ed99c488aa>\u001b[0m in \u001b[0;36m<cell line: 1>\u001b[0;34m()\u001b[0m\n\u001b[0;32m----> 1\u001b[0;31m df = pd.DataFrame(\n\u001b[0m\u001b[1;32m      2\u001b[0m     {\n\u001b[1;32m      3\u001b[0m         \u001b[0;34m\"nombre\"\u001b[0m\u001b[0;34m:\u001b[0m \u001b[0mnombres\u001b[0m\u001b[0;34m,\u001b[0m\u001b[0;34m\u001b[0m\u001b[0;34m\u001b[0m\u001b[0m\n\u001b[1;32m      4\u001b[0m         \u001b[0;34m\"edad\"\u001b[0m\u001b[0;34m:\u001b[0m \u001b[0medades\u001b[0m\u001b[0;34m,\u001b[0m\u001b[0;34m\u001b[0m\u001b[0;34m\u001b[0m\u001b[0m\n\u001b[1;32m      5\u001b[0m         \u001b[0;34m\"estatura\"\u001b[0m\u001b[0;34m:\u001b[0m \u001b[0mestaturas\u001b[0m\u001b[0;34m\u001b[0m\u001b[0;34m\u001b[0m\u001b[0m\n",
            "\u001b[0;31mNameError\u001b[0m: name 'pd' is not defined"
          ]
        }
      ],
      "source": [
        "df = pd.DataFrame(\n",
        "    {\n",
        "        \"nombre\": nombres,\n",
        "        \"edad\": edades,\n",
        "        \"estatura\": estaturas\n",
        "    }\n",
        ")\n",
        "df"
      ]
    },
    {
      "cell_type": "markdown",
      "metadata": {
        "id": "eA2J__LcLFC6"
      },
      "source": [
        "Similar si tenemos la información en un diccionario. Creamos el 'DataFrame' de la siguiente manera:"
      ]
    },
    {
      "cell_type": "code",
      "execution_count": null,
      "metadata": {
        "id": "FRHAceReLNHy"
      },
      "outputs": [],
      "source": [
        "datos = {'nombre' : ['Pablo', 'Carolina', 'Juan', 'Diana'],\n",
        "         'edad' : [43, 37, 45, 19],\n",
        "         'estatura' : [174, 170, 185, 163]}\n",
        "\n",
        "df = pd.DataFrame(datos)\n",
        "df"
      ]
    },
    {
      "cell_type": "markdown",
      "metadata": {
        "id": "i9AQbB-RMAQ7"
      },
      "source": [
        "# <font color='157699'> **Leer desde archivos** </font>\n",
        "\n",
        "Pandas ofrece la posibilidad de leer archivos de muy diversos formatos (e.g., .csv, .xlsx, .json) y fuentes (SQL, BigQuery).\n",
        "\n",
        "\n",
        "\n"
      ]
    },
    {
      "cell_type": "markdown",
      "metadata": {
        "id": "DhX-Z7mpWvzn"
      },
      "source": [
        "| Función | Descripción |\n",
        "|---------|-------------|\n",
        "| `pd.read_csv()` | Leer datos desde archivos CSV y cargarlos en un DataFrame de Pandas |\n",
        "| `pd.read_excel()` | Leer datos desde archivos de Excel y cargarlos en un DataFrame de Pandas |\n",
        "| `pd.read_json()` | Leer datos desde archivos JSON y cargarlos en un DataFrame de Pandas |\n",
        "| `pd.read_html()` | Leer datos de tablas HTML y cargarlos en un DataFrame de Pandas |\n",
        "| `pd.read_sql()` | Leer datos desde bases de datos SQL y cargarlos en un DataFrame de Pandas |\n",
        "| `pd.read_clipboard()` | Leer datos desde el portapapeles del sistema y cargarlos en un DataFrame de Pandas |\n"
      ]
    },
    {
      "cell_type": "markdown",
      "metadata": {
        "id": "nfXNmz2HXGBG"
      },
      "source": [
        "### <font color='5adcff'> **Valores separados por comas** </font>\n",
        "\n",
        "Los archivos con extensión .csv (en inglés *Comma Separated Values*) son un tipo de documento de texto plano para almacenar datos en forma de tabla. En este las columnas se separan por comas, puntos o puntos y coma (según el país); y las filas por saltos de línea (Wikipedia, s.f.).\n",
        "\n",
        "El formato .csv no está estandarizado. La idea básica de separar los campos con una coma es muy clara, pero se vuelve complicada cuando el valor del campo también contiene comillas dobles, caracteres, saltos de línea o secuencias de escape (Wikipedia, s.f.).\n",
        "\n",
        "En ocasiones, en los archivos .csv se usan delimitadores diferentes como los tabuladores. Estos archivos separados por delimitadores alternativos a veces reciben la extensión, aunque este uso sea incorrecto. Esto puede causar problemas en el intercambio de datos, por ello, en muchas aplicaciones existe la opción de cambiar el carácter delimitador por defecto (Wikipedia, s.f.).\n",
        "\n"
      ]
    },
    {
      "cell_type": "markdown",
      "metadata": {
        "id": "kjbvlFSrXMX9"
      },
      "source": [
        "<font color='157699'> **Ejemplo, tomado de Wikipedia (s.f.)** </font>\n",
        "\n",
        "| Año  | Marca  | Modelo         | Descripción                          | Precio          |\n",
        "| ---- | ------ | -------------- | ------------------------------------ | --------------- |\n",
        "| 1997 | Ford   | E350           | ac, ABS, moon                        | 3000.00         |\n",
        "| 1999 | Chevy  | Venture        | Extended Edition                     | 4900.00         |\n",
        "| 1999 | Chevyr | Venture        | Extended Edition, Very Large         | 5000.00         |\n",
        "| 1996 | Jeep   | Grand Cherokee | MUST SELL!<br>air, moon roof, loaded | 4799.00<br><br> |\n",
        "\n",
        "La tabla de arriba puede ser representada de la siguiente forma con un archivo .csv:\n",
        "\n",
        "```\n",
        "Año,Marca,Modelo,Descripción,Precio\n",
        "1997,Ford,E350,\"ac, ABS, moon\",3000.00\n",
        "1999,Chevy,Venture,Extended Edition,4900.00\n",
        "1999,Chevyr,Venture,\"Extended Edition, Very Large\",5000.00\n",
        "1996,Jeep,Grand Cherokee,\"MUST SELL! air, moon roof, loaded\",4799.00\n",
        "```"
      ]
    },
    {
      "cell_type": "markdown",
      "metadata": {
        "id": "mhgRb74TXUE1"
      },
      "source": [
        "### <font color='5adcff'> **JavaScript Object Notation (JSON)** </font>\n",
        "\n",
        "La notación de objetos de JavaScript (JSON) es una forma popular de formatear datos como una sola cadena legible de texto para el intercambio de datos. JSON es la forma nativa en que los programas JavaScript escriben sus estructuras de datos. Se trata de un subconjunto de la notación literal de objetos de JavaScript, aunque, debido a su amplia adopción, se considera un formato independiente del lenguaje."
      ]
    },
    {
      "cell_type": "markdown",
      "metadata": {
        "id": "H4Vtly_lXXpd"
      },
      "source": [
        "<font color='157699'> **Ejemplo** </font>\n",
        "\n",
        "\n",
        "No es necesario saber programar en JavaScript para trabajar con datos con formato JSON. A continuación, hay hay un ejemplo de datos formateados como JSON:\n",
        "\n",
        "\n",
        "```python\n",
        "{\n",
        "    \"nombre\": \"Juan\",\n",
        "    \"edad\": 25,\n",
        "    \"profesion\": \"Ingeniero\",\n",
        "    \"intereses\": [\"programación\", \"deportes\", \"viajes\"],\n",
        "    \"direccion\": {\n",
        "        \"calle\": \"Calle Falsa\",\n",
        "        \"numero\": 123,\n",
        "        \"ciudad\": \"Ciudad Ficticia\"\n",
        "    }\n",
        "}\n",
        "```"
      ]
    },
    {
      "cell_type": "code",
      "execution_count": null,
      "metadata": {
        "id": "fyo9wUJgYCYm"
      },
      "outputs": [],
      "source": [
        "# Acceder a un registro\n",
        "\n",
        "import json\n",
        "\n",
        "datos = {\n",
        "    \"nombre\": \"Juan\",\n",
        "    \"edad\": 25,\n",
        "    \"profesion\": \"Ingeniero\",\n",
        "    \"intereses\": [\"programación\", \"deportes\", \"viajes\"],\n",
        "    \"direccion\": {\n",
        "        \"calle\": \"Calle Falsa\",\n",
        "        \"numero\": 123,\n",
        "        \"ciudad\": \"Ciudad Ficticia\"\n",
        "    }\n",
        "}\n",
        "\n",
        "# Exportar el diccionario como archivo JSON\n",
        "with open('datos.json', 'w') as archivo:\n",
        "    json.dump(datos, archivo)\n",
        "\n",
        "\n"
      ]
    },
    {
      "cell_type": "code",
      "execution_count": null,
      "metadata": {
        "colab": {
          "base_uri": "https://localhost:8080/",
          "height": 35
        },
        "id": "8vuxlzdMYjIl",
        "outputId": "29dc2036-326c-4f71-a335-f0c0bf42d850"
      },
      "outputs": [
        {
          "output_type": "execute_result",
          "data": {
            "text/plain": [
              "'Ciudad Ficticia'"
            ],
            "application/vnd.google.colaboratory.intrinsic+json": {
              "type": "string"
            }
          },
          "metadata": {},
          "execution_count": 12
        }
      ],
      "source": [
        "# Acceder a datos en un json\n",
        "datos['direccion']['ciudad']"
      ]
    },
    {
      "cell_type": "markdown",
      "metadata": {
        "id": "1fJuFcVCXhuN"
      },
      "source": [
        "Entender JSON resulta bastante útil, ya que muchos sitios web proporcionan contenido en este formato para permitir que los programas interactúen con el sitio. A esto se le conoce como una interfaz de programación de aplicaciones (API).\n",
        "\n",
        "Acceder a una API es similar a acceder a cualquier otra página web a través de una URL, con la única diferencia de que los datos que devuelve una API están formateados en específico para que las máquinas puedan leerlos y utilizan, por ejemplo, el formato JSON."
      ]
    },
    {
      "cell_type": "markdown",
      "metadata": {
        "id": "yt6SjV7cY2ee"
      },
      "source": [
        "### <font color='157699'> **Ejemplo** </font>"
      ]
    },
    {
      "cell_type": "markdown",
      "metadata": {
        "id": "nbnSRBoHyHJW"
      },
      "source": [
        "En nuestro caso cargaremos al *notebook* un archivo en dos formatos diferentes, separado por comas (`.csv`) y excel (`.xlsx`). Con los datos leidos crearemos el DataFrame.\n",
        "\n",
        "El archivo corresponde a la penetración de puntos fijos de Internet por departamento en Colombia para el año 2019.\n",
        "\n",
        "\n",
        "El siguiente *script* hace uso de la función 'gdwon' para acceder de manera directa los archivos desde Google Drive (asumiendo que estos son de acceso público)."
      ]
    },
    {
      "cell_type": "code",
      "execution_count": null,
      "metadata": {
        "colab": {
          "base_uri": "https://localhost:8080/"
        },
        "id": "tkefCFlRGSY4",
        "outputId": "9d69fbc1-0769-48d8-ff74-9cb303253f9a"
      },
      "outputs": [
        {
          "output_type": "stream",
          "name": "stdout",
          "text": [
            "/usr/local/lib/python3.10/dist-packages/gdown/cli.py:121: FutureWarning: Option `--id` was deprecated in version 4.3.1 and will be removed in 5.0. You don't need to pass it anymore to use a file ID.\n",
            "  warnings.warn(\n",
            "Downloading...\n",
            "From: https://drive.google.com/uc?id=1di4HbwBK5uaZ6LzceFoTI719Zm_vFqYu\n",
            "To: /content/InternetDptos.csv\n",
            "100% 522k/522k [00:00<00:00, 97.9MB/s]\n",
            "/usr/local/lib/python3.10/dist-packages/gdown/cli.py:121: FutureWarning: Option `--id` was deprecated in version 4.3.1 and will be removed in 5.0. You don't need to pass it anymore to use a file ID.\n",
            "  warnings.warn(\n",
            "Downloading...\n",
            "From: https://drive.google.com/uc?id=17IeVwDnYELGmf3ZrLYzznpYwas8uMQfN\n",
            "To: /content/InternetDptos.xlsx\n",
            "100% 631k/631k [00:00<00:00, 104MB/s]\n"
          ]
        }
      ],
      "source": [
        "# Leer el archivo desde drive\n",
        "!gdown --id 1di4HbwBK5uaZ6LzceFoTI719Zm_vFqYu # lee el archivo csv\n",
        "!gdown --id 17IeVwDnYELGmf3ZrLYzznpYwas8uMQfN # lee el archivo xlsx\n"
      ]
    },
    {
      "cell_type": "markdown",
      "metadata": {
        "id": "ZxDK7YZozL6w"
      },
      "source": [
        "Ahora, creamos un DataFrame llamado Internet con los datos en el archivo 'InternetDptos.csv', que está en formato .csv y usamos la funcion 'read_csv()'."
      ]
    },
    {
      "cell_type": "code",
      "execution_count": null,
      "metadata": {
        "colab": {
          "base_uri": "https://localhost:8080/",
          "height": 424
        },
        "id": "UKOKvcs0SUYy",
        "outputId": "7752f524-3adc-4cd9-f342-28f2b53377a3"
      },
      "outputs": [
        {
          "output_type": "execute_result",
          "data": {
            "text/plain": [
              "        ANO  TRIMESTRE DEPARTAMENTO          MUNICIPIO  \\\n",
              "0      2019          4        CHOCO             BOJAYA   \n",
              "1      2020          1       VAUPES             CARURU   \n",
              "2      2019          4    SANTANDER  VALLE DE SAN JOSE   \n",
              "3      2018          4    SANTANDER           SIMACOTA   \n",
              "4      2018          4        SUCRE            CAIMITO   \n",
              "...     ...        ...          ...                ...   \n",
              "13459  2020          2    ANTIOQUIA           VALDIVIA   \n",
              "13460  2017          3        CAUCA         VILLA RICA   \n",
              "13461  2020          2    SANTANDER             AGUADA   \n",
              "13462  2018          2    SANTANDER              SUCRE   \n",
              "13463  2017          3     AMAZONAS            LETICIA   \n",
              "\n",
              "       No. ACCESOS FIJOS A INTERNET  POBLACION DANE  No. INSTITUCIONES  \n",
              "0                                40           12212                 13  \n",
              "1                                11            3201                  4  \n",
              "2                                28            6222                  7  \n",
              "3                                87           10042                 11  \n",
              "4                                13           15231                 15  \n",
              "...                             ...             ...                ...  \n",
              "13459                           750           14102                 15  \n",
              "13460                             0           16596                 17  \n",
              "13461                            14            1867                  2  \n",
              "13462                             0            7202                  8  \n",
              "13463                             0           41957                 42  \n",
              "\n",
              "[13464 rows x 7 columns]"
            ],
            "text/html": [
              "\n",
              "\n",
              "  <div id=\"df-b3d53105-65ab-4cdf-9312-6619041abb9f\">\n",
              "    <div class=\"colab-df-container\">\n",
              "      <div>\n",
              "<style scoped>\n",
              "    .dataframe tbody tr th:only-of-type {\n",
              "        vertical-align: middle;\n",
              "    }\n",
              "\n",
              "    .dataframe tbody tr th {\n",
              "        vertical-align: top;\n",
              "    }\n",
              "\n",
              "    .dataframe thead th {\n",
              "        text-align: right;\n",
              "    }\n",
              "</style>\n",
              "<table border=\"1\" class=\"dataframe\">\n",
              "  <thead>\n",
              "    <tr style=\"text-align: right;\">\n",
              "      <th></th>\n",
              "      <th>ANO</th>\n",
              "      <th>TRIMESTRE</th>\n",
              "      <th>DEPARTAMENTO</th>\n",
              "      <th>MUNICIPIO</th>\n",
              "      <th>No. ACCESOS FIJOS A INTERNET</th>\n",
              "      <th>POBLACION DANE</th>\n",
              "      <th>No. INSTITUCIONES</th>\n",
              "    </tr>\n",
              "  </thead>\n",
              "  <tbody>\n",
              "    <tr>\n",
              "      <th>0</th>\n",
              "      <td>2019</td>\n",
              "      <td>4</td>\n",
              "      <td>CHOCO</td>\n",
              "      <td>BOJAYA</td>\n",
              "      <td>40</td>\n",
              "      <td>12212</td>\n",
              "      <td>13</td>\n",
              "    </tr>\n",
              "    <tr>\n",
              "      <th>1</th>\n",
              "      <td>2020</td>\n",
              "      <td>1</td>\n",
              "      <td>VAUPES</td>\n",
              "      <td>CARURU</td>\n",
              "      <td>11</td>\n",
              "      <td>3201</td>\n",
              "      <td>4</td>\n",
              "    </tr>\n",
              "    <tr>\n",
              "      <th>2</th>\n",
              "      <td>2019</td>\n",
              "      <td>4</td>\n",
              "      <td>SANTANDER</td>\n",
              "      <td>VALLE DE SAN JOSE</td>\n",
              "      <td>28</td>\n",
              "      <td>6222</td>\n",
              "      <td>7</td>\n",
              "    </tr>\n",
              "    <tr>\n",
              "      <th>3</th>\n",
              "      <td>2018</td>\n",
              "      <td>4</td>\n",
              "      <td>SANTANDER</td>\n",
              "      <td>SIMACOTA</td>\n",
              "      <td>87</td>\n",
              "      <td>10042</td>\n",
              "      <td>11</td>\n",
              "    </tr>\n",
              "    <tr>\n",
              "      <th>4</th>\n",
              "      <td>2018</td>\n",
              "      <td>4</td>\n",
              "      <td>SUCRE</td>\n",
              "      <td>CAIMITO</td>\n",
              "      <td>13</td>\n",
              "      <td>15231</td>\n",
              "      <td>15</td>\n",
              "    </tr>\n",
              "    <tr>\n",
              "      <th>...</th>\n",
              "      <td>...</td>\n",
              "      <td>...</td>\n",
              "      <td>...</td>\n",
              "      <td>...</td>\n",
              "      <td>...</td>\n",
              "      <td>...</td>\n",
              "      <td>...</td>\n",
              "    </tr>\n",
              "    <tr>\n",
              "      <th>13459</th>\n",
              "      <td>2020</td>\n",
              "      <td>2</td>\n",
              "      <td>ANTIOQUIA</td>\n",
              "      <td>VALDIVIA</td>\n",
              "      <td>750</td>\n",
              "      <td>14102</td>\n",
              "      <td>15</td>\n",
              "    </tr>\n",
              "    <tr>\n",
              "      <th>13460</th>\n",
              "      <td>2017</td>\n",
              "      <td>3</td>\n",
              "      <td>CAUCA</td>\n",
              "      <td>VILLA RICA</td>\n",
              "      <td>0</td>\n",
              "      <td>16596</td>\n",
              "      <td>17</td>\n",
              "    </tr>\n",
              "    <tr>\n",
              "      <th>13461</th>\n",
              "      <td>2020</td>\n",
              "      <td>2</td>\n",
              "      <td>SANTANDER</td>\n",
              "      <td>AGUADA</td>\n",
              "      <td>14</td>\n",
              "      <td>1867</td>\n",
              "      <td>2</td>\n",
              "    </tr>\n",
              "    <tr>\n",
              "      <th>13462</th>\n",
              "      <td>2018</td>\n",
              "      <td>2</td>\n",
              "      <td>SANTANDER</td>\n",
              "      <td>SUCRE</td>\n",
              "      <td>0</td>\n",
              "      <td>7202</td>\n",
              "      <td>8</td>\n",
              "    </tr>\n",
              "    <tr>\n",
              "      <th>13463</th>\n",
              "      <td>2017</td>\n",
              "      <td>3</td>\n",
              "      <td>AMAZONAS</td>\n",
              "      <td>LETICIA</td>\n",
              "      <td>0</td>\n",
              "      <td>41957</td>\n",
              "      <td>42</td>\n",
              "    </tr>\n",
              "  </tbody>\n",
              "</table>\n",
              "<p>13464 rows × 7 columns</p>\n",
              "</div>\n",
              "      <button class=\"colab-df-convert\" onclick=\"convertToInteractive('df-b3d53105-65ab-4cdf-9312-6619041abb9f')\"\n",
              "              title=\"Convert this dataframe to an interactive table.\"\n",
              "              style=\"display:none;\">\n",
              "\n",
              "  <svg xmlns=\"http://www.w3.org/2000/svg\" height=\"24px\"viewBox=\"0 0 24 24\"\n",
              "       width=\"24px\">\n",
              "    <path d=\"M0 0h24v24H0V0z\" fill=\"none\"/>\n",
              "    <path d=\"M18.56 5.44l.94 2.06.94-2.06 2.06-.94-2.06-.94-.94-2.06-.94 2.06-2.06.94zm-11 1L8.5 8.5l.94-2.06 2.06-.94-2.06-.94L8.5 2.5l-.94 2.06-2.06.94zm10 10l.94 2.06.94-2.06 2.06-.94-2.06-.94-.94-2.06-.94 2.06-2.06.94z\"/><path d=\"M17.41 7.96l-1.37-1.37c-.4-.4-.92-.59-1.43-.59-.52 0-1.04.2-1.43.59L10.3 9.45l-7.72 7.72c-.78.78-.78 2.05 0 2.83L4 21.41c.39.39.9.59 1.41.59.51 0 1.02-.2 1.41-.59l7.78-7.78 2.81-2.81c.8-.78.8-2.07 0-2.86zM5.41 20L4 18.59l7.72-7.72 1.47 1.35L5.41 20z\"/>\n",
              "  </svg>\n",
              "      </button>\n",
              "\n",
              "\n",
              "\n",
              "    <div id=\"df-6b2600bf-0263-4ff7-aad3-e135cabc78e2\">\n",
              "      <button class=\"colab-df-quickchart\" onclick=\"quickchart('df-6b2600bf-0263-4ff7-aad3-e135cabc78e2')\"\n",
              "              title=\"Suggest charts.\"\n",
              "              style=\"display:none;\">\n",
              "\n",
              "<svg xmlns=\"http://www.w3.org/2000/svg\" height=\"24px\"viewBox=\"0 0 24 24\"\n",
              "     width=\"24px\">\n",
              "    <g>\n",
              "        <path d=\"M19 3H5c-1.1 0-2 .9-2 2v14c0 1.1.9 2 2 2h14c1.1 0 2-.9 2-2V5c0-1.1-.9-2-2-2zM9 17H7v-7h2v7zm4 0h-2V7h2v10zm4 0h-2v-4h2v4z\"/>\n",
              "    </g>\n",
              "</svg>\n",
              "      </button>\n",
              "    </div>\n",
              "\n",
              "<style>\n",
              "  .colab-df-quickchart {\n",
              "    background-color: #E8F0FE;\n",
              "    border: none;\n",
              "    border-radius: 50%;\n",
              "    cursor: pointer;\n",
              "    display: none;\n",
              "    fill: #1967D2;\n",
              "    height: 32px;\n",
              "    padding: 0 0 0 0;\n",
              "    width: 32px;\n",
              "  }\n",
              "\n",
              "  .colab-df-quickchart:hover {\n",
              "    background-color: #E2EBFA;\n",
              "    box-shadow: 0px 1px 2px rgba(60, 64, 67, 0.3), 0px 1px 3px 1px rgba(60, 64, 67, 0.15);\n",
              "    fill: #174EA6;\n",
              "  }\n",
              "\n",
              "  [theme=dark] .colab-df-quickchart {\n",
              "    background-color: #3B4455;\n",
              "    fill: #D2E3FC;\n",
              "  }\n",
              "\n",
              "  [theme=dark] .colab-df-quickchart:hover {\n",
              "    background-color: #434B5C;\n",
              "    box-shadow: 0px 1px 3px 1px rgba(0, 0, 0, 0.15);\n",
              "    filter: drop-shadow(0px 1px 2px rgba(0, 0, 0, 0.3));\n",
              "    fill: #FFFFFF;\n",
              "  }\n",
              "</style>\n",
              "\n",
              "    <script>\n",
              "      async function quickchart(key) {\n",
              "        const containerElement = document.querySelector('#' + key);\n",
              "        const charts = await google.colab.kernel.invokeFunction(\n",
              "            'suggestCharts', [key], {});\n",
              "      }\n",
              "    </script>\n",
              "\n",
              "      <script>\n",
              "\n",
              "function displayQuickchartButton(domScope) {\n",
              "  let quickchartButtonEl =\n",
              "    domScope.querySelector('#df-6b2600bf-0263-4ff7-aad3-e135cabc78e2 button.colab-df-quickchart');\n",
              "  quickchartButtonEl.style.display =\n",
              "    google.colab.kernel.accessAllowed ? 'block' : 'none';\n",
              "}\n",
              "\n",
              "        displayQuickchartButton(document);\n",
              "      </script>\n",
              "      <style>\n",
              "    .colab-df-container {\n",
              "      display:flex;\n",
              "      flex-wrap:wrap;\n",
              "      gap: 12px;\n",
              "    }\n",
              "\n",
              "    .colab-df-convert {\n",
              "      background-color: #E8F0FE;\n",
              "      border: none;\n",
              "      border-radius: 50%;\n",
              "      cursor: pointer;\n",
              "      display: none;\n",
              "      fill: #1967D2;\n",
              "      height: 32px;\n",
              "      padding: 0 0 0 0;\n",
              "      width: 32px;\n",
              "    }\n",
              "\n",
              "    .colab-df-convert:hover {\n",
              "      background-color: #E2EBFA;\n",
              "      box-shadow: 0px 1px 2px rgba(60, 64, 67, 0.3), 0px 1px 3px 1px rgba(60, 64, 67, 0.15);\n",
              "      fill: #174EA6;\n",
              "    }\n",
              "\n",
              "    [theme=dark] .colab-df-convert {\n",
              "      background-color: #3B4455;\n",
              "      fill: #D2E3FC;\n",
              "    }\n",
              "\n",
              "    [theme=dark] .colab-df-convert:hover {\n",
              "      background-color: #434B5C;\n",
              "      box-shadow: 0px 1px 3px 1px rgba(0, 0, 0, 0.15);\n",
              "      filter: drop-shadow(0px 1px 2px rgba(0, 0, 0, 0.3));\n",
              "      fill: #FFFFFF;\n",
              "    }\n",
              "  </style>\n",
              "\n",
              "      <script>\n",
              "        const buttonEl =\n",
              "          document.querySelector('#df-b3d53105-65ab-4cdf-9312-6619041abb9f button.colab-df-convert');\n",
              "        buttonEl.style.display =\n",
              "          google.colab.kernel.accessAllowed ? 'block' : 'none';\n",
              "\n",
              "        async function convertToInteractive(key) {\n",
              "          const element = document.querySelector('#df-b3d53105-65ab-4cdf-9312-6619041abb9f');\n",
              "          const dataTable =\n",
              "            await google.colab.kernel.invokeFunction('convertToInteractive',\n",
              "                                                     [key], {});\n",
              "          if (!dataTable) return;\n",
              "\n",
              "          const docLinkHtml = 'Like what you see? Visit the ' +\n",
              "            '<a target=\"_blank\" href=https://colab.research.google.com/notebooks/data_table.ipynb>data table notebook</a>'\n",
              "            + ' to learn more about interactive tables.';\n",
              "          element.innerHTML = '';\n",
              "          dataTable['output_type'] = 'display_data';\n",
              "          await google.colab.output.renderOutput(dataTable, element);\n",
              "          const docLink = document.createElement('div');\n",
              "          docLink.innerHTML = docLinkHtml;\n",
              "          element.appendChild(docLink);\n",
              "        }\n",
              "      </script>\n",
              "    </div>\n",
              "  </div>\n"
            ]
          },
          "metadata": {},
          "execution_count": 14
        }
      ],
      "source": [
        "internet = pd.read_csv(\"InternetDptos.csv\")\n",
        "internet"
      ]
    },
    {
      "cell_type": "markdown",
      "metadata": {
        "id": "3Tk_00MxSYwc"
      },
      "source": [
        "El mismo DataFrame puede crearse desde el archivo de excel 'InternetDptos.xlsx' por medio de la funcion 'read_excel()'."
      ]
    },
    {
      "cell_type": "code",
      "execution_count": null,
      "metadata": {
        "id": "YHDgPXZ1SbSh",
        "colab": {
          "base_uri": "https://localhost:8080/",
          "height": 424
        },
        "outputId": "615b7816-cc7c-4fed-ae1b-7df318eaa420"
      },
      "outputs": [
        {
          "output_type": "execute_result",
          "data": {
            "text/plain": [
              "        ANO  TRIMESTRE DEPARTAMENTO          MUNICIPIO  \\\n",
              "0      2019          4        CHOCO             BOJAYA   \n",
              "1      2020          1       VAUPES             CARURU   \n",
              "2      2019          4    SANTANDER  VALLE DE SAN JOSE   \n",
              "3      2018          4    SANTANDER           SIMACOTA   \n",
              "4      2018          4        SUCRE            CAIMITO   \n",
              "...     ...        ...          ...                ...   \n",
              "13459  2020          2    ANTIOQUIA           VALDIVIA   \n",
              "13460  2017          3        CAUCA         VILLA RICA   \n",
              "13461  2020          2    SANTANDER             AGUADA   \n",
              "13462  2018          2    SANTANDER              SUCRE   \n",
              "13463  2017          3     AMAZONAS            LETICIA   \n",
              "\n",
              "       No. ACCESOS FIJOS A INTERNET  POBLACION DANE  No. INSTITUCIONES  \n",
              "0                                40           12212                 13  \n",
              "1                                11            3201                  4  \n",
              "2                                28            6222                  7  \n",
              "3                                87           10042                 11  \n",
              "4                                13           15231                 15  \n",
              "...                             ...             ...                ...  \n",
              "13459                           750           14102                 15  \n",
              "13460                             0           16596                 17  \n",
              "13461                            14            1867                  2  \n",
              "13462                             0            7202                  8  \n",
              "13463                             0           41957                 42  \n",
              "\n",
              "[13464 rows x 7 columns]"
            ],
            "text/html": [
              "\n",
              "\n",
              "  <div id=\"df-31f26a79-4620-42f5-b9ef-2dbe449fddd2\">\n",
              "    <div class=\"colab-df-container\">\n",
              "      <div>\n",
              "<style scoped>\n",
              "    .dataframe tbody tr th:only-of-type {\n",
              "        vertical-align: middle;\n",
              "    }\n",
              "\n",
              "    .dataframe tbody tr th {\n",
              "        vertical-align: top;\n",
              "    }\n",
              "\n",
              "    .dataframe thead th {\n",
              "        text-align: right;\n",
              "    }\n",
              "</style>\n",
              "<table border=\"1\" class=\"dataframe\">\n",
              "  <thead>\n",
              "    <tr style=\"text-align: right;\">\n",
              "      <th></th>\n",
              "      <th>ANO</th>\n",
              "      <th>TRIMESTRE</th>\n",
              "      <th>DEPARTAMENTO</th>\n",
              "      <th>MUNICIPIO</th>\n",
              "      <th>No. ACCESOS FIJOS A INTERNET</th>\n",
              "      <th>POBLACION DANE</th>\n",
              "      <th>No. INSTITUCIONES</th>\n",
              "    </tr>\n",
              "  </thead>\n",
              "  <tbody>\n",
              "    <tr>\n",
              "      <th>0</th>\n",
              "      <td>2019</td>\n",
              "      <td>4</td>\n",
              "      <td>CHOCO</td>\n",
              "      <td>BOJAYA</td>\n",
              "      <td>40</td>\n",
              "      <td>12212</td>\n",
              "      <td>13</td>\n",
              "    </tr>\n",
              "    <tr>\n",
              "      <th>1</th>\n",
              "      <td>2020</td>\n",
              "      <td>1</td>\n",
              "      <td>VAUPES</td>\n",
              "      <td>CARURU</td>\n",
              "      <td>11</td>\n",
              "      <td>3201</td>\n",
              "      <td>4</td>\n",
              "    </tr>\n",
              "    <tr>\n",
              "      <th>2</th>\n",
              "      <td>2019</td>\n",
              "      <td>4</td>\n",
              "      <td>SANTANDER</td>\n",
              "      <td>VALLE DE SAN JOSE</td>\n",
              "      <td>28</td>\n",
              "      <td>6222</td>\n",
              "      <td>7</td>\n",
              "    </tr>\n",
              "    <tr>\n",
              "      <th>3</th>\n",
              "      <td>2018</td>\n",
              "      <td>4</td>\n",
              "      <td>SANTANDER</td>\n",
              "      <td>SIMACOTA</td>\n",
              "      <td>87</td>\n",
              "      <td>10042</td>\n",
              "      <td>11</td>\n",
              "    </tr>\n",
              "    <tr>\n",
              "      <th>4</th>\n",
              "      <td>2018</td>\n",
              "      <td>4</td>\n",
              "      <td>SUCRE</td>\n",
              "      <td>CAIMITO</td>\n",
              "      <td>13</td>\n",
              "      <td>15231</td>\n",
              "      <td>15</td>\n",
              "    </tr>\n",
              "    <tr>\n",
              "      <th>...</th>\n",
              "      <td>...</td>\n",
              "      <td>...</td>\n",
              "      <td>...</td>\n",
              "      <td>...</td>\n",
              "      <td>...</td>\n",
              "      <td>...</td>\n",
              "      <td>...</td>\n",
              "    </tr>\n",
              "    <tr>\n",
              "      <th>13459</th>\n",
              "      <td>2020</td>\n",
              "      <td>2</td>\n",
              "      <td>ANTIOQUIA</td>\n",
              "      <td>VALDIVIA</td>\n",
              "      <td>750</td>\n",
              "      <td>14102</td>\n",
              "      <td>15</td>\n",
              "    </tr>\n",
              "    <tr>\n",
              "      <th>13460</th>\n",
              "      <td>2017</td>\n",
              "      <td>3</td>\n",
              "      <td>CAUCA</td>\n",
              "      <td>VILLA RICA</td>\n",
              "      <td>0</td>\n",
              "      <td>16596</td>\n",
              "      <td>17</td>\n",
              "    </tr>\n",
              "    <tr>\n",
              "      <th>13461</th>\n",
              "      <td>2020</td>\n",
              "      <td>2</td>\n",
              "      <td>SANTANDER</td>\n",
              "      <td>AGUADA</td>\n",
              "      <td>14</td>\n",
              "      <td>1867</td>\n",
              "      <td>2</td>\n",
              "    </tr>\n",
              "    <tr>\n",
              "      <th>13462</th>\n",
              "      <td>2018</td>\n",
              "      <td>2</td>\n",
              "      <td>SANTANDER</td>\n",
              "      <td>SUCRE</td>\n",
              "      <td>0</td>\n",
              "      <td>7202</td>\n",
              "      <td>8</td>\n",
              "    </tr>\n",
              "    <tr>\n",
              "      <th>13463</th>\n",
              "      <td>2017</td>\n",
              "      <td>3</td>\n",
              "      <td>AMAZONAS</td>\n",
              "      <td>LETICIA</td>\n",
              "      <td>0</td>\n",
              "      <td>41957</td>\n",
              "      <td>42</td>\n",
              "    </tr>\n",
              "  </tbody>\n",
              "</table>\n",
              "<p>13464 rows × 7 columns</p>\n",
              "</div>\n",
              "      <button class=\"colab-df-convert\" onclick=\"convertToInteractive('df-31f26a79-4620-42f5-b9ef-2dbe449fddd2')\"\n",
              "              title=\"Convert this dataframe to an interactive table.\"\n",
              "              style=\"display:none;\">\n",
              "\n",
              "  <svg xmlns=\"http://www.w3.org/2000/svg\" height=\"24px\"viewBox=\"0 0 24 24\"\n",
              "       width=\"24px\">\n",
              "    <path d=\"M0 0h24v24H0V0z\" fill=\"none\"/>\n",
              "    <path d=\"M18.56 5.44l.94 2.06.94-2.06 2.06-.94-2.06-.94-.94-2.06-.94 2.06-2.06.94zm-11 1L8.5 8.5l.94-2.06 2.06-.94-2.06-.94L8.5 2.5l-.94 2.06-2.06.94zm10 10l.94 2.06.94-2.06 2.06-.94-2.06-.94-.94-2.06-.94 2.06-2.06.94z\"/><path d=\"M17.41 7.96l-1.37-1.37c-.4-.4-.92-.59-1.43-.59-.52 0-1.04.2-1.43.59L10.3 9.45l-7.72 7.72c-.78.78-.78 2.05 0 2.83L4 21.41c.39.39.9.59 1.41.59.51 0 1.02-.2 1.41-.59l7.78-7.78 2.81-2.81c.8-.78.8-2.07 0-2.86zM5.41 20L4 18.59l7.72-7.72 1.47 1.35L5.41 20z\"/>\n",
              "  </svg>\n",
              "      </button>\n",
              "\n",
              "\n",
              "\n",
              "    <div id=\"df-37db0be9-ea6e-454e-9613-205c582a7973\">\n",
              "      <button class=\"colab-df-quickchart\" onclick=\"quickchart('df-37db0be9-ea6e-454e-9613-205c582a7973')\"\n",
              "              title=\"Suggest charts.\"\n",
              "              style=\"display:none;\">\n",
              "\n",
              "<svg xmlns=\"http://www.w3.org/2000/svg\" height=\"24px\"viewBox=\"0 0 24 24\"\n",
              "     width=\"24px\">\n",
              "    <g>\n",
              "        <path d=\"M19 3H5c-1.1 0-2 .9-2 2v14c0 1.1.9 2 2 2h14c1.1 0 2-.9 2-2V5c0-1.1-.9-2-2-2zM9 17H7v-7h2v7zm4 0h-2V7h2v10zm4 0h-2v-4h2v4z\"/>\n",
              "    </g>\n",
              "</svg>\n",
              "      </button>\n",
              "    </div>\n",
              "\n",
              "<style>\n",
              "  .colab-df-quickchart {\n",
              "    background-color: #E8F0FE;\n",
              "    border: none;\n",
              "    border-radius: 50%;\n",
              "    cursor: pointer;\n",
              "    display: none;\n",
              "    fill: #1967D2;\n",
              "    height: 32px;\n",
              "    padding: 0 0 0 0;\n",
              "    width: 32px;\n",
              "  }\n",
              "\n",
              "  .colab-df-quickchart:hover {\n",
              "    background-color: #E2EBFA;\n",
              "    box-shadow: 0px 1px 2px rgba(60, 64, 67, 0.3), 0px 1px 3px 1px rgba(60, 64, 67, 0.15);\n",
              "    fill: #174EA6;\n",
              "  }\n",
              "\n",
              "  [theme=dark] .colab-df-quickchart {\n",
              "    background-color: #3B4455;\n",
              "    fill: #D2E3FC;\n",
              "  }\n",
              "\n",
              "  [theme=dark] .colab-df-quickchart:hover {\n",
              "    background-color: #434B5C;\n",
              "    box-shadow: 0px 1px 3px 1px rgba(0, 0, 0, 0.15);\n",
              "    filter: drop-shadow(0px 1px 2px rgba(0, 0, 0, 0.3));\n",
              "    fill: #FFFFFF;\n",
              "  }\n",
              "</style>\n",
              "\n",
              "    <script>\n",
              "      async function quickchart(key) {\n",
              "        const containerElement = document.querySelector('#' + key);\n",
              "        const charts = await google.colab.kernel.invokeFunction(\n",
              "            'suggestCharts', [key], {});\n",
              "      }\n",
              "    </script>\n",
              "\n",
              "      <script>\n",
              "\n",
              "function displayQuickchartButton(domScope) {\n",
              "  let quickchartButtonEl =\n",
              "    domScope.querySelector('#df-37db0be9-ea6e-454e-9613-205c582a7973 button.colab-df-quickchart');\n",
              "  quickchartButtonEl.style.display =\n",
              "    google.colab.kernel.accessAllowed ? 'block' : 'none';\n",
              "}\n",
              "\n",
              "        displayQuickchartButton(document);\n",
              "      </script>\n",
              "      <style>\n",
              "    .colab-df-container {\n",
              "      display:flex;\n",
              "      flex-wrap:wrap;\n",
              "      gap: 12px;\n",
              "    }\n",
              "\n",
              "    .colab-df-convert {\n",
              "      background-color: #E8F0FE;\n",
              "      border: none;\n",
              "      border-radius: 50%;\n",
              "      cursor: pointer;\n",
              "      display: none;\n",
              "      fill: #1967D2;\n",
              "      height: 32px;\n",
              "      padding: 0 0 0 0;\n",
              "      width: 32px;\n",
              "    }\n",
              "\n",
              "    .colab-df-convert:hover {\n",
              "      background-color: #E2EBFA;\n",
              "      box-shadow: 0px 1px 2px rgba(60, 64, 67, 0.3), 0px 1px 3px 1px rgba(60, 64, 67, 0.15);\n",
              "      fill: #174EA6;\n",
              "    }\n",
              "\n",
              "    [theme=dark] .colab-df-convert {\n",
              "      background-color: #3B4455;\n",
              "      fill: #D2E3FC;\n",
              "    }\n",
              "\n",
              "    [theme=dark] .colab-df-convert:hover {\n",
              "      background-color: #434B5C;\n",
              "      box-shadow: 0px 1px 3px 1px rgba(0, 0, 0, 0.15);\n",
              "      filter: drop-shadow(0px 1px 2px rgba(0, 0, 0, 0.3));\n",
              "      fill: #FFFFFF;\n",
              "    }\n",
              "  </style>\n",
              "\n",
              "      <script>\n",
              "        const buttonEl =\n",
              "          document.querySelector('#df-31f26a79-4620-42f5-b9ef-2dbe449fddd2 button.colab-df-convert');\n",
              "        buttonEl.style.display =\n",
              "          google.colab.kernel.accessAllowed ? 'block' : 'none';\n",
              "\n",
              "        async function convertToInteractive(key) {\n",
              "          const element = document.querySelector('#df-31f26a79-4620-42f5-b9ef-2dbe449fddd2');\n",
              "          const dataTable =\n",
              "            await google.colab.kernel.invokeFunction('convertToInteractive',\n",
              "                                                     [key], {});\n",
              "          if (!dataTable) return;\n",
              "\n",
              "          const docLinkHtml = 'Like what you see? Visit the ' +\n",
              "            '<a target=\"_blank\" href=https://colab.research.google.com/notebooks/data_table.ipynb>data table notebook</a>'\n",
              "            + ' to learn more about interactive tables.';\n",
              "          element.innerHTML = '';\n",
              "          dataTable['output_type'] = 'display_data';\n",
              "          await google.colab.output.renderOutput(dataTable, element);\n",
              "          const docLink = document.createElement('div');\n",
              "          docLink.innerHTML = docLinkHtml;\n",
              "          element.appendChild(docLink);\n",
              "        }\n",
              "      </script>\n",
              "    </div>\n",
              "  </div>\n"
            ]
          },
          "metadata": {},
          "execution_count": 15
        }
      ],
      "source": [
        "internet = pd.read_excel(\"InternetDptos.xlsx\")\n",
        "internet"
      ]
    },
    {
      "cell_type": "markdown",
      "metadata": {
        "id": "vjsJNsL_78B9"
      },
      "source": [
        "A continuación, resumimos algunas de las formas más empleadas para crear DataFrames en Pandas:\n",
        "\n",
        "| Método | Ejemplo |\n",
        "| --- | --- |\n",
        "| Desde una lista de listas | `import pandas as pd`<br>`datos = [[1, 'a'], [2, 'b'], [3, 'c']]`<br>`df = pd.DataFrame(datos, columns=['num', 'letra'])` |\n",
        "| Desde un diccionario de listas | `import pandas as pd`<br>`datos = {'num': [1, 2, 3], 'letra': ['a', 'b', 'c']}`<br>`df = pd.DataFrame(datos)` |\n",
        "| Desde una lista de diccionarios | `import pandas as pd`<br>`datos = [{'num': 1, 'letra': 'a'}, {'num': 2, 'letra': 'b'}, {'num': 3, 'letra': 'c'}]`<br>`df = pd.DataFrame(datos)` |\n",
        "| Desde un archivo CSV | `import pandas as pd`<br>`df = pd.read_csv('datos.csv')` |\n",
        "| Desde un archivo Excel | `import pandas as pd`<br>`df = pd.read_excel('datos.xlsx', sheet_name='Sheet1')` |\n",
        "| Desde una URL de un archivo CSV | `import pandas as pd`<br>`url = 'https://ejemplo.com/datos.csv'`<br>`df = pd.read_csv(url)` |\n",
        "| Desde una tabla HTML | `import pandas as pd`<br>`url = 'https://ejemplo.com/datos.html'`<br>`df = pd.read_html(url)[0]` |\n"
      ]
    },
    {
      "cell_type": "markdown",
      "metadata": {
        "id": "MhUN9vDY5C3b"
      },
      "source": [
        "# <font color='157699'> **Operando con series** </font>\n"
      ]
    },
    {
      "cell_type": "markdown",
      "metadata": {
        "id": "8xzM9HwO5SC7"
      },
      "source": [
        "## <font color='5adcff'>**Atributos**\n",
        "\n",
        "Características principales de las series: algunas son métodos específicos de este tipo de datos. Otros coinciden con funciones generales de Python."
      ]
    },
    {
      "cell_type": "markdown",
      "metadata": {
        "id": "V4qmXUUF5UDj"
      },
      "source": [
        "### <font color='5adcff'>**Valores de una serie**</font>\n",
        "\n",
        "Se usa el método 'values' y el resultado es un **arreglo unidimensional simple**."
      ]
    },
    {
      "cell_type": "code",
      "execution_count": null,
      "metadata": {
        "id": "C1Afdu3S5WXk",
        "colab": {
          "base_uri": "https://localhost:8080/"
        },
        "outputId": "059bc0ee-a23c-4b93-d6ca-e5d8afbb19e1"
      },
      "outputs": [
        {
          "output_type": "execute_result",
          "data": {
            "text/plain": [
              "array([5974788., 1263788., 2342265.,      nan])"
            ]
          },
          "metadata": {},
          "execution_count": 16
        }
      ],
      "source": [
        "serie.values"
      ]
    },
    {
      "cell_type": "code",
      "execution_count": null,
      "metadata": {
        "id": "DKJ2-oIU5fGo",
        "colab": {
          "base_uri": "https://localhost:8080/"
        },
        "outputId": "1135aed4-9bdc-4068-bef3-2fc93b4a173b"
      },
      "outputs": [
        {
          "output_type": "execute_result",
          "data": {
            "text/plain": [
              "2342265.0"
            ]
          },
          "metadata": {},
          "execution_count": 17
        }
      ],
      "source": [
        "serie.values[2]"
      ]
    },
    {
      "cell_type": "markdown",
      "metadata": {
        "id": "5dDM1lbu5hwQ"
      },
      "source": [
        "### <font color='5adcff'>**Índices**</font>\n",
        "\n",
        "Estos se obtienen mediante el método 'index'. Cuando los índices se generan de forma automática, o mediante la función 'range', el método 'index' da como resultado un rango. Esto no es en esencia un arreglo de datos unidimensional:"
      ]
    },
    {
      "cell_type": "code",
      "execution_count": null,
      "metadata": {
        "id": "aYLYuVV85jto",
        "colab": {
          "base_uri": "https://localhost:8080/"
        },
        "outputId": "388f3838-9373-449f-deb1-ed5e76c40896"
      },
      "outputs": [
        {
          "output_type": "execute_result",
          "data": {
            "text/plain": [
              "Index(['Antioquia', 'Magdalena', 'Atlántico', 'Amazonas'], dtype='object')"
            ]
          },
          "metadata": {},
          "execution_count": 18
        }
      ],
      "source": [
        "serie.index"
      ]
    },
    {
      "cell_type": "markdown",
      "metadata": {
        "id": "TyVdt3fM5l9Q"
      },
      "source": [
        "Los índices se pueden llevar a una lista o vector:"
      ]
    },
    {
      "cell_type": "code",
      "execution_count": null,
      "metadata": {
        "id": "6HgWmFJS5ohz",
        "colab": {
          "base_uri": "https://localhost:8080/"
        },
        "outputId": "b3640fc7-136b-4b10-c6ea-178e19ec8875"
      },
      "outputs": [
        {
          "output_type": "execute_result",
          "data": {
            "text/plain": [
              "['Antioquia', 'Magdalena', 'Atlántico', 'Amazonas']"
            ]
          },
          "metadata": {},
          "execution_count": 19
        }
      ],
      "source": [
        "lista = list(serie.index)\n",
        "lista"
      ]
    },
    {
      "cell_type": "code",
      "execution_count": null,
      "metadata": {
        "id": "eyOUlo4Z5qPj",
        "colab": {
          "base_uri": "https://localhost:8080/"
        },
        "outputId": "6947c76c-5967-4c13-a0b9-aa8beb580537"
      },
      "outputs": [
        {
          "output_type": "execute_result",
          "data": {
            "text/plain": [
              "array(['Antioquia', 'Magdalena', 'Atlántico', 'Amazonas'], dtype=object)"
            ]
          },
          "metadata": {},
          "execution_count": 20
        }
      ],
      "source": [
        "arreglo = np.array(serie.index)\n",
        "arreglo"
      ]
    },
    {
      "cell_type": "markdown",
      "metadata": {
        "id": "5rGVzkMK5sxS"
      },
      "source": [
        "### <font color='5adcff'>**Cantidad de elementos**</font>\n",
        "\n",
        "La cantidad de elementos en una serie también se determina mediante la función 'len'."
      ]
    },
    {
      "cell_type": "code",
      "execution_count": null,
      "metadata": {
        "id": "RcpcQtnp5vMj",
        "colab": {
          "base_uri": "https://localhost:8080/"
        },
        "outputId": "d9269880-26d5-4e89-a65a-8e3a58f154fb"
      },
      "outputs": [
        {
          "output_type": "execute_result",
          "data": {
            "text/plain": [
              "4"
            ]
          },
          "metadata": {},
          "execution_count": 21
        }
      ],
      "source": [
        "len(serie)"
      ]
    },
    {
      "cell_type": "markdown",
      "metadata": {
        "id": "PKpomFeA5yea"
      },
      "source": [
        "Cuando se crea una serie a partir de una variable que es un arreglo unidimensional mutable, cualquier cambio posterior en dicho arreglo se verá reflejado en la serie:"
      ]
    },
    {
      "cell_type": "code",
      "execution_count": null,
      "metadata": {
        "id": "M785LKmH50jj",
        "colab": {
          "base_uri": "https://localhost:8080/"
        },
        "outputId": "0f035f78-00c2-4570-c043-a020a53b43d8"
      },
      "outputs": [
        {
          "output_type": "execute_result",
          "data": {
            "text/plain": [
              "0    1\n",
              "1    2\n",
              "2    3\n",
              "3    4\n",
              "dtype: int64"
            ]
          },
          "metadata": {},
          "execution_count": 22
        }
      ],
      "source": [
        "arreglo = np.array([1,2,3,4])\n",
        "serie = pd.Series(arreglo)\n",
        "serie"
      ]
    },
    {
      "cell_type": "markdown",
      "metadata": {
        "id": "yvzAnx_U52eC"
      },
      "source": [
        "Cambiamos un elemento del arreglo:"
      ]
    },
    {
      "cell_type": "code",
      "execution_count": null,
      "metadata": {
        "id": "wKipgunK54eL",
        "colab": {
          "base_uri": "https://localhost:8080/"
        },
        "outputId": "2101fc00-7169-49ee-9a11-196e5223496d"
      },
      "outputs": [
        {
          "output_type": "execute_result",
          "data": {
            "text/plain": [
              "array([1, 2, 0, 4])"
            ]
          },
          "metadata": {},
          "execution_count": 23
        }
      ],
      "source": [
        "arreglo[2] = 0\n",
        "arreglo"
      ]
    },
    {
      "cell_type": "code",
      "execution_count": null,
      "metadata": {
        "id": "Fm5Q9z4s56kL",
        "colab": {
          "base_uri": "https://localhost:8080/"
        },
        "outputId": "f03abbf7-ffe8-4ada-d650-d3430223f7e6"
      },
      "outputs": [
        {
          "output_type": "execute_result",
          "data": {
            "text/plain": [
              "0    1\n",
              "1    2\n",
              "2    0\n",
              "3    4\n",
              "dtype: int64"
            ]
          },
          "metadata": {},
          "execution_count": 24
        }
      ],
      "source": [
        "serie"
      ]
    },
    {
      "cell_type": "markdown",
      "metadata": {
        "id": "nbLSkw6u58p7"
      },
      "source": [
        "## <font color='5adcff'> **Indexación**\n",
        "\n",
        "Cuando se crea un serie **es posible especificar los índices** que se desean, los cuales **pueden ser de diferentes tipos de datos**."
      ]
    },
    {
      "cell_type": "code",
      "execution_count": null,
      "metadata": {
        "id": "xOb8A0pT5-5q",
        "colab": {
          "base_uri": "https://localhost:8080/"
        },
        "outputId": "2c0df1bd-7b69-4eb7-f901-9a24842f520d"
      },
      "outputs": [
        {
          "output_type": "execute_result",
          "data": {
            "text/plain": [
              "b     4\n",
              "d     7\n",
              "a    -5\n",
              "14    3\n",
              "dtype: int64"
            ]
          },
          "metadata": {},
          "execution_count": 25
        }
      ],
      "source": [
        "serie = pd.Series([4,7,-5,3],index=['b', 'd', 'a', 14])\n",
        "serie"
      ]
    },
    {
      "cell_type": "code",
      "execution_count": null,
      "metadata": {
        "id": "kSy69tla6CXT",
        "colab": {
          "base_uri": "https://localhost:8080/"
        },
        "outputId": "9c1d818b-743a-4b16-9796-a54012baa018"
      },
      "outputs": [
        {
          "output_type": "execute_result",
          "data": {
            "text/plain": [
              "array([ 4,  7, -5,  3])"
            ]
          },
          "metadata": {},
          "execution_count": 26
        }
      ],
      "source": [
        "serie.values"
      ]
    },
    {
      "cell_type": "markdown",
      "metadata": {
        "id": "y3V3o4uj6AkD"
      },
      "source": [
        "Cuando los índices se especifican y son de carácter genérico, el resultado del método 'index' es una estructura de datos similar a una lista:"
      ]
    },
    {
      "cell_type": "code",
      "execution_count": null,
      "metadata": {
        "id": "VOvdA9AK6G_C",
        "colab": {
          "base_uri": "https://localhost:8080/"
        },
        "outputId": "b395d0ba-d6e9-4109-ff66-360562420930"
      },
      "outputs": [
        {
          "output_type": "execute_result",
          "data": {
            "text/plain": [
              "Index(['b', 'd', 'a', 14], dtype='object')"
            ]
          },
          "metadata": {},
          "execution_count": 27
        }
      ],
      "source": [
        "serie.index"
      ]
    },
    {
      "cell_type": "code",
      "execution_count": null,
      "metadata": {
        "id": "gh8v9UcK6Pcr",
        "colab": {
          "base_uri": "https://localhost:8080/"
        },
        "outputId": "1168eb49-ad46-4ab5-af14-9820c52b17fd"
      },
      "outputs": [
        {
          "output_type": "execute_result",
          "data": {
            "text/plain": [
              "pandas.core.indexes.base.Index"
            ]
          },
          "metadata": {},
          "execution_count": 28
        }
      ],
      "source": [
        "type(serie.index)"
      ]
    },
    {
      "cell_type": "code",
      "execution_count": null,
      "metadata": {
        "id": "pXSwMSvn6RCM",
        "colab": {
          "base_uri": "https://localhost:8080/",
          "height": 35
        },
        "outputId": "46470be3-9eac-4238-bbb3-a0fa1c8ea3d3"
      },
      "outputs": [
        {
          "output_type": "execute_result",
          "data": {
            "text/plain": [
              "'a'"
            ],
            "application/vnd.google.colaboratory.intrinsic+json": {
              "type": "string"
            }
          },
          "metadata": {},
          "execution_count": 29
        }
      ],
      "source": [
        "serie.index[2]"
      ]
    },
    {
      "cell_type": "markdown",
      "metadata": {
        "id": "YTzawTdL6S_T"
      },
      "source": [
        "Al tener índices flexibles, la indexación se hace con base en dichos indices:"
      ]
    },
    {
      "cell_type": "code",
      "execution_count": null,
      "metadata": {
        "id": "4TDfth656VFE",
        "colab": {
          "base_uri": "https://localhost:8080/"
        },
        "outputId": "6e9085bf-a63c-4f3f-ba4d-a70620482c3b"
      },
      "outputs": [
        {
          "output_type": "execute_result",
          "data": {
            "text/plain": [
              "-5"
            ]
          },
          "metadata": {},
          "execution_count": 30
        }
      ],
      "source": [
        "serie['a']"
      ]
    },
    {
      "cell_type": "code",
      "execution_count": null,
      "metadata": {
        "id": "amwTGoBR6WtD",
        "colab": {
          "base_uri": "https://localhost:8080/"
        },
        "outputId": "e9a42943-6edf-44f4-d9da-f17483b67794"
      },
      "outputs": [
        {
          "output_type": "execute_result",
          "data": {
            "text/plain": [
              "3"
            ]
          },
          "metadata": {},
          "execution_count": 31
        }
      ],
      "source": [
        "serie[14]"
      ]
    },
    {
      "cell_type": "markdown",
      "metadata": {
        "id": "BdFSe8ba6Yml"
      },
      "source": [
        "Las series son estructuras de datos heterogéneas y mutables, es decir, que se puede modificar el valor de sus elementos siempre que se use el índice respectivo:"
      ]
    },
    {
      "cell_type": "code",
      "execution_count": null,
      "metadata": {
        "id": "tOM7UXv76aF8",
        "colab": {
          "base_uri": "https://localhost:8080/"
        },
        "outputId": "3745a104-0260-4e7b-da9b-ea1b5d26271a"
      },
      "outputs": [
        {
          "output_type": "execute_result",
          "data": {
            "text/plain": [
              "b     4\n",
              "d     7\n",
              "a    -5\n",
              "14    3\n",
              "dtype: int64"
            ]
          },
          "metadata": {},
          "execution_count": 32
        }
      ],
      "source": [
        "serie"
      ]
    },
    {
      "cell_type": "code",
      "execution_count": null,
      "metadata": {
        "id": "4y29zxnu6bjD",
        "colab": {
          "base_uri": "https://localhost:8080/"
        },
        "outputId": "5e5fd2ad-44df-42ba-a353-c4cadf6879a5"
      },
      "outputs": [
        {
          "output_type": "execute_result",
          "data": {
            "text/plain": [
              "b               4\n",
              "d               7\n",
              "a              -5\n",
              "14    Nuevo valor\n",
              "dtype: object"
            ]
          },
          "metadata": {},
          "execution_count": 33
        }
      ],
      "source": [
        "serie[14] = 'Nuevo valor'\n",
        "serie"
      ]
    },
    {
      "cell_type": "markdown",
      "metadata": {
        "id": "I_kNEuI56dtL"
      },
      "source": [
        "Cuando se tienen **índices con diferentes tipos de datos**, es necesario usar el método '.loc' para indicar los índices:"
      ]
    },
    {
      "cell_type": "code",
      "execution_count": null,
      "metadata": {
        "id": "Vm_Dox-Z6fvD",
        "colab": {
          "base_uri": "https://localhost:8080/"
        },
        "outputId": "e20e3b57-5d95-481e-b98f-f4256cd9ce83"
      },
      "outputs": [
        {
          "output_type": "execute_result",
          "data": {
            "text/plain": [
              "b               4\n",
              "d               7\n",
              "a              -5\n",
              "14    Nuevo valor\n",
              "dtype: object"
            ]
          },
          "metadata": {},
          "execution_count": 34
        }
      ],
      "source": [
        "serie.loc[14] = 'Nuevo valor'\n",
        "serie"
      ]
    },
    {
      "cell_type": "markdown",
      "metadata": {
        "id": "cskulPWH6i2L"
      },
      "source": [
        "La indexación se puede hacer de forma similar a como se hace con listas y arreglos, cuando los índices son rangos numéricos."
      ]
    },
    {
      "cell_type": "code",
      "execution_count": null,
      "metadata": {
        "id": "09LX7fRz6k_r",
        "colab": {
          "base_uri": "https://localhost:8080/"
        },
        "outputId": "92c9006c-2f07-444b-bba0-65637be4bf2d"
      },
      "outputs": [
        {
          "output_type": "execute_result",
          "data": {
            "text/plain": [
              "0    12\n",
              "1    -4\n",
              "2     7\n",
              "3     9\n",
              "dtype: int64"
            ]
          },
          "metadata": {},
          "execution_count": 35
        }
      ],
      "source": [
        "serie = pd.Series([12, -4, 7, 9])\n",
        "serie"
      ]
    },
    {
      "cell_type": "code",
      "execution_count": null,
      "metadata": {
        "id": "kO1gPduc6mpj",
        "colab": {
          "base_uri": "https://localhost:8080/"
        },
        "outputId": "e617d475-2cb0-4415-df5d-f65f7b308d9a"
      },
      "outputs": [
        {
          "output_type": "execute_result",
          "data": {
            "text/plain": [
              "1   -4\n",
              "2    7\n",
              "dtype: int64"
            ]
          },
          "metadata": {},
          "execution_count": 36
        }
      ],
      "source": [
        "serie[1:3]"
      ]
    },
    {
      "cell_type": "markdown",
      "metadata": {
        "id": "ioiivGJf6olb"
      },
      "source": [
        "Cuando se tienen índices de tipo general, se debe dar como argumento una lista con los índices que se desea extraer:"
      ]
    },
    {
      "cell_type": "code",
      "execution_count": null,
      "metadata": {
        "id": "rTVTu8Dz6qnT",
        "colab": {
          "base_uri": "https://localhost:8080/"
        },
        "outputId": "85901410-f42c-41fa-db42-2b4d2512c030"
      },
      "outputs": [
        {
          "output_type": "execute_result",
          "data": {
            "text/plain": [
              "b     4\n",
              "d     7\n",
              "a    -5\n",
              "14    3\n",
              "dtype: int64"
            ]
          },
          "metadata": {},
          "execution_count": 37
        }
      ],
      "source": [
        "serie = pd.Series([4,7,-5,3],index=['b', 'd', 'a', 14])\n",
        "serie"
      ]
    },
    {
      "cell_type": "code",
      "execution_count": null,
      "metadata": {
        "id": "4eOG2JNw6sDT",
        "colab": {
          "base_uri": "https://localhost:8080/"
        },
        "outputId": "e5b09603-e513-46e5-c10d-393583f69984"
      },
      "outputs": [
        {
          "output_type": "execute_result",
          "data": {
            "text/plain": [
              "14    3\n",
              "b     4\n",
              "dtype: int64"
            ]
          },
          "metadata": {},
          "execution_count": 38
        }
      ],
      "source": [
        "serie[[14, 'b']]"
      ]
    },
    {
      "cell_type": "markdown",
      "metadata": {
        "id": "AhDhxZhy6uDT"
      },
      "source": [
        "Puedes darte cuenta que se extrae tanto el valor como su índice."
      ]
    },
    {
      "cell_type": "markdown",
      "metadata": {
        "id": "5vI0ua346v5z"
      },
      "source": [
        "**Nota:** a pesar de tener indexación flexible, **las series siempre ofrecen la posibilidad de indexación numérica**, aún cuando se han definido índices de otro tipo. Esto se hace mediante el método 'iloc'."
      ]
    },
    {
      "cell_type": "code",
      "execution_count": null,
      "metadata": {
        "id": "U5Jjb8NI6yW8",
        "colab": {
          "base_uri": "https://localhost:8080/"
        },
        "outputId": "858015a1-158c-4a55-9fb2-5ca7296b2e9f"
      },
      "outputs": [
        {
          "output_type": "execute_result",
          "data": {
            "text/plain": [
              "b     4\n",
              "d     7\n",
              "a    -5\n",
              "14    3\n",
              "dtype: int64"
            ]
          },
          "metadata": {},
          "execution_count": 39
        }
      ],
      "source": [
        "serie = pd.Series([4,7,-5,3],index=['b', 'd', 'a', 14])\n",
        "serie"
      ]
    },
    {
      "cell_type": "code",
      "execution_count": null,
      "metadata": {
        "id": "fHM39Bif60Er",
        "colab": {
          "base_uri": "https://localhost:8080/"
        },
        "outputId": "a2dc7581-3726-495d-c8ae-4e05dbd9b858"
      },
      "outputs": [
        {
          "output_type": "execute_result",
          "data": {
            "text/plain": [
              "7"
            ]
          },
          "metadata": {},
          "execution_count": 40
        }
      ],
      "source": [
        "serie.iloc[1]"
      ]
    },
    {
      "cell_type": "code",
      "execution_count": null,
      "metadata": {
        "id": "AJb6E2Dt60mS",
        "colab": {
          "base_uri": "https://localhost:8080/"
        },
        "outputId": "582c4f87-c45a-4d3f-91d0-1f326acc3556"
      },
      "outputs": [
        {
          "output_type": "execute_result",
          "data": {
            "text/plain": [
              "-5"
            ]
          },
          "metadata": {},
          "execution_count": 41
        }
      ],
      "source": [
        "serie.iloc[-2]"
      ]
    },
    {
      "cell_type": "markdown",
      "metadata": {
        "id": "vaO75Mv766X7"
      },
      "source": [
        "Es posible **cambiar los índices** de una serie existente."
      ]
    },
    {
      "cell_type": "code",
      "execution_count": null,
      "metadata": {
        "id": "ozSkU3W068IT",
        "colab": {
          "base_uri": "https://localhost:8080/"
        },
        "outputId": "7962ef7e-2f1b-4bb2-fba9-bd535e0d9832"
      },
      "outputs": [
        {
          "output_type": "execute_result",
          "data": {
            "text/plain": [
              "Index(['b', 'd', 'a', 14], dtype='object')"
            ]
          },
          "metadata": {},
          "execution_count": 42
        }
      ],
      "source": [
        "serie.index"
      ]
    },
    {
      "cell_type": "code",
      "execution_count": null,
      "metadata": {
        "id": "yJy6pj1G69tj",
        "colab": {
          "base_uri": "https://localhost:8080/"
        },
        "outputId": "694c392e-7b2b-4536-bda8-7687c22599c1"
      },
      "outputs": [
        {
          "output_type": "execute_result",
          "data": {
            "text/plain": [
              "b    4\n",
              "d    7\n",
              "A   -5\n",
              "c    3\n",
              "dtype: int64"
            ]
          },
          "metadata": {},
          "execution_count": 43
        }
      ],
      "source": [
        "serie.index = ['b', 'd', 'A', 'c']\n",
        "serie"
      ]
    },
    {
      "cell_type": "markdown",
      "metadata": {
        "id": "WMg4BiM79zOC"
      },
      "source": [
        "## <font color='5adcff'> **Adición de elementos**\n",
        "    \n",
        "También es posible añadir elementos a una serie, de forma similar a como se hace con los diccionarios:"
      ]
    },
    {
      "cell_type": "code",
      "execution_count": null,
      "metadata": {
        "id": "5ylLlJ_y91QS",
        "colab": {
          "base_uri": "https://localhost:8080/"
        },
        "outputId": "1b51b835-99c3-4fc3-c03d-83d375619c20"
      },
      "outputs": [
        {
          "output_type": "execute_result",
          "data": {
            "text/plain": [
              "b      4\n",
              "d      7\n",
              "a     -5\n",
              "14     3\n",
              "2do    6\n",
              "dtype: int64"
            ]
          },
          "metadata": {},
          "execution_count": 44
        }
      ],
      "source": [
        "serie = pd.Series([4,7,-5,3],index=['b', 'd', 'a', 14])\n",
        "serie['2do'] = 6\n",
        "serie"
      ]
    },
    {
      "cell_type": "markdown",
      "metadata": {
        "id": "-i6F-iSi92xq"
      },
      "source": [
        "## <font color='5adcff'> **Eliminación de elementos**\n",
        "    \n",
        "La eliminación de un elemento de una serie se hace similar al caso de diccionarios."
      ]
    },
    {
      "cell_type": "code",
      "execution_count": null,
      "metadata": {
        "id": "jzZYRLlp94oK",
        "colab": {
          "base_uri": "https://localhost:8080/"
        },
        "outputId": "3e8dcdf4-54f9-4462-d064-f2158bb49052"
      },
      "outputs": [
        {
          "output_type": "execute_result",
          "data": {
            "text/plain": [
              "b      4\n",
              "d      7\n",
              "a     -5\n",
              "14     3\n",
              "2do    6\n",
              "dtype: int64"
            ]
          },
          "metadata": {},
          "execution_count": 45
        }
      ],
      "source": [
        "serie"
      ]
    },
    {
      "cell_type": "code",
      "execution_count": null,
      "metadata": {
        "id": "iWsVOeer96Yy",
        "colab": {
          "base_uri": "https://localhost:8080/"
        },
        "outputId": "cd3b59dd-ab1d-4bca-fad3-08c5f99e12d8"
      },
      "outputs": [
        {
          "output_type": "execute_result",
          "data": {
            "text/plain": [
              "b      4\n",
              "a     -5\n",
              "14     3\n",
              "2do    6\n",
              "dtype: int64"
            ]
          },
          "metadata": {},
          "execution_count": 46
        }
      ],
      "source": [
        "del serie['d']\n",
        "serie"
      ]
    },
    {
      "cell_type": "markdown",
      "metadata": {
        "id": "VbHiLKRV98eK"
      },
      "source": [
        "## <font color='5adcff'> **Exploración: filtrado de valores mediante condiciones lógicas**</font>\n",
        "\n",
        "Se trata de una forma de explorar todos los datos de una serie para extraer datos específicos. En este caso, se usan condiciones lógicas."
      ]
    },
    {
      "cell_type": "code",
      "execution_count": null,
      "metadata": {
        "id": "VQK7nWeA9-d6",
        "colab": {
          "base_uri": "https://localhost:8080/"
        },
        "outputId": "474e8539-4070-41ec-b945-73ef8d16e771"
      },
      "outputs": [
        {
          "output_type": "execute_result",
          "data": {
            "text/plain": [
              "0    4\n",
              "1    7\n",
              "2   -5\n",
              "3    3\n",
              "4   -1\n",
              "5   -3\n",
              "dtype: int64"
            ]
          },
          "metadata": {},
          "execution_count": 47
        }
      ],
      "source": [
        "serie = pd.Series([4,7,-5,3, -1, -3])\n",
        "serie"
      ]
    },
    {
      "cell_type": "code",
      "execution_count": null,
      "metadata": {
        "id": "7wTLTd-p-Ak6",
        "colab": {
          "base_uri": "https://localhost:8080/"
        },
        "outputId": "96447b90-3b9f-4bef-d117-c44401aed39b"
      },
      "outputs": [
        {
          "output_type": "execute_result",
          "data": {
            "text/plain": [
              "2   -5\n",
              "4   -1\n",
              "5   -3\n",
              "dtype: int64"
            ]
          },
          "metadata": {},
          "execution_count": 48
        }
      ],
      "source": [
        "serie[serie < 0]   # Esta condición extrae únicamente los valores negativos"
      ]
    },
    {
      "cell_type": "markdown",
      "metadata": {
        "id": "a0QCpxH7-Ck5"
      },
      "source": [
        "Cuando se deben cumplir varias condiciones, estas se deben encadenar poniéndolas entre paréntesis y separándolas con los respectivos operadores lógicos, los cuales son diferentes a los usados en Python para comparaciones:\n",
        "\n",
        "- `&` en vez de `and`\n",
        "- `|` en vez de `or`\n",
        "- `~` en vez de `not`"
      ]
    },
    {
      "cell_type": "code",
      "execution_count": null,
      "metadata": {
        "id": "GG9LwVLv-GLC",
        "colab": {
          "base_uri": "https://localhost:8080/"
        },
        "outputId": "319bf083-d33c-466c-e7d0-5d543c166405"
      },
      "outputs": [
        {
          "output_type": "execute_result",
          "data": {
            "text/plain": [
              "0    4\n",
              "1    7\n",
              "2   -5\n",
              "3    3\n",
              "4   -1\n",
              "5   -3\n",
              "dtype: int64"
            ]
          },
          "metadata": {},
          "execution_count": 49
        }
      ],
      "source": [
        "serie"
      ]
    },
    {
      "cell_type": "code",
      "execution_count": null,
      "metadata": {
        "id": "7w3J-TnY-IAq",
        "colab": {
          "base_uri": "https://localhost:8080/"
        },
        "outputId": "2443027a-d8aa-40ff-814a-6ad17b33aeee"
      },
      "outputs": [
        {
          "output_type": "execute_result",
          "data": {
            "text/plain": [
              "0    4\n",
              "3    3\n",
              "dtype: int64"
            ]
          },
          "metadata": {},
          "execution_count": 50
        }
      ],
      "source": [
        "serie[(serie > 2) & (serie < 5)]"
      ]
    },
    {
      "cell_type": "code",
      "execution_count": null,
      "metadata": {
        "id": "Rr5QgNaO-JsS",
        "colab": {
          "base_uri": "https://localhost:8080/"
        },
        "outputId": "d040094f-7c2c-4969-86cc-01879d513b12"
      },
      "outputs": [
        {
          "output_type": "execute_result",
          "data": {
            "text/plain": [
              "1    7\n",
              "2   -5\n",
              "4   -1\n",
              "5   -3\n",
              "dtype: int64"
            ]
          },
          "metadata": {},
          "execution_count": 51
        }
      ],
      "source": [
        "serie[(serie > 4) | (serie < 0)]"
      ]
    },
    {
      "cell_type": "code",
      "execution_count": null,
      "metadata": {
        "id": "GstyprmH-LWa",
        "colab": {
          "base_uri": "https://localhost:8080/"
        },
        "outputId": "95990285-d5f1-47ee-d99e-3b22af2bb2e6"
      },
      "outputs": [
        {
          "output_type": "execute_result",
          "data": {
            "text/plain": [
              "0    4\n",
              "3    3\n",
              "dtype: int64"
            ]
          },
          "metadata": {},
          "execution_count": 52
        }
      ],
      "source": [
        "serie[(serie <= 6) & ~ (serie < 0)]"
      ]
    },
    {
      "cell_type": "markdown",
      "metadata": {
        "id": "xkuFx7kx-NUy"
      },
      "source": [
        "### <font color='157699'>**Ejemplo**</font>\n",
        "\n",
        "Exploración de una serie con gran cantidad de datos para buscar grupos de interés particular.\n",
        "\n",
        "Se crea un vector de 50 000 números aleatorios entre 16 y 90 para simular las edades de los estudiantes de una universidad."
      ]
    },
    {
      "cell_type": "code",
      "execution_count": null,
      "metadata": {
        "id": "LQVMk1WX-Pcb"
      },
      "outputs": [],
      "source": [
        "edades1 = np.random.randint(16,41,size=45000)\n",
        "edades2 = np.random.randint(41,91,size=5000)\n",
        "edades = np.concatenate((edades1, edades2))"
      ]
    },
    {
      "cell_type": "code",
      "execution_count": null,
      "metadata": {
        "id": "udapJcfM-Rhi",
        "colab": {
          "base_uri": "https://localhost:8080/"
        },
        "outputId": "3248eeb7-54bf-4465-892d-9208f23e9a82"
      },
      "outputs": [
        {
          "output_type": "execute_result",
          "data": {
            "text/plain": [
              "50000"
            ]
          },
          "metadata": {},
          "execution_count": 54
        }
      ],
      "source": [
        "len(edades)"
      ]
    },
    {
      "cell_type": "markdown",
      "metadata": {
        "id": "nE1q3z36-TeD"
      },
      "source": [
        "Luego se crea una serie a partir del vector de edades. Se crea un índice con números aleatorios que buscan representar el número de documento de los estudiantes.\n",
        "\n",
        "Cuando se tienen muchos datos solo se muestra el inicio y el fin, con 5 datos en cada caso. Nota que en la línea final se especifica la cantidad de elementos: 'Length: xxx'."
      ]
    },
    {
      "cell_type": "code",
      "execution_count": null,
      "metadata": {
        "id": "saQSOEg4-WCD",
        "colab": {
          "base_uri": "https://localhost:8080/"
        },
        "outputId": "875e5003-6770-4652-9c88-a9bfd6b2d119"
      },
      "outputs": [
        {
          "output_type": "execute_result",
          "data": {
            "text/plain": [
              "1000999471    38\n",
              "1090131268    35\n",
              "1046946862    20\n",
              "1067567786    31\n",
              "1081646153    24\n",
              "              ..\n",
              "1020219477    49\n",
              "1079665506    58\n",
              "1049752712    43\n",
              "1077785464    72\n",
              "1014550910    48\n",
              "Length: 50000, dtype: int64"
            ]
          },
          "metadata": {},
          "execution_count": 55
        }
      ],
      "source": [
        "S_edad = pd.Series(edades, index=np.random.randint(1e9,1e9+1e8,size=50000))\n",
        "S_edad"
      ]
    },
    {
      "cell_type": "markdown",
      "metadata": {
        "id": "-1IGvHTU-YCT"
      },
      "source": [
        "Para extraer solo los datos de estudiantes con edades inferiores a 25 años basta con filtrar con las condición lógica adecuada:"
      ]
    },
    {
      "cell_type": "code",
      "execution_count": null,
      "metadata": {
        "id": "fXdeYH27-c7K",
        "colab": {
          "base_uri": "https://localhost:8080/"
        },
        "outputId": "40b5977f-a7ea-4bbd-dd91-adb661e78832"
      },
      "outputs": [
        {
          "output_type": "stream",
          "name": "stdout",
          "text": [
            "En la Universidad hay 50000 estudiantes en total.\n",
            "De éstos, hay 16284 menores de 25 años.\n"
          ]
        }
      ],
      "source": [
        "S_edad_25 = S_edad[(S_edad < 25)]\n",
        "print('En la Universidad hay %d estudiantes en total.' % len(S_edad))\n",
        "print('De éstos, hay %d menores de 25 años.' % len(S_edad_25))"
      ]
    },
    {
      "cell_type": "markdown",
      "metadata": {
        "id": "4vgSq4V9-e5q"
      },
      "source": [
        "Para extraer solo los datos de estudiantes con edades entre 25 y 30 años se usan las condiciones lógicas adecuadas:"
      ]
    },
    {
      "cell_type": "code",
      "execution_count": null,
      "metadata": {
        "id": "vgmRg7JN-hRb",
        "colab": {
          "base_uri": "https://localhost:8080/"
        },
        "outputId": "9a97db21-385c-42ea-92e8-3d50050f976f"
      },
      "outputs": [
        {
          "output_type": "stream",
          "name": "stdout",
          "text": [
            "De los 50000 estudiantes de la universidad, hay 10816 con edades entre 25 y 30 años.\n"
          ]
        }
      ],
      "source": [
        "S_edad_2530 = S_edad[(S_edad >= 25) & (S_edad <= 30)]\n",
        "print('De los %d estudiantes de la universidad, hay %d con edades entre 25 y 30 años.' % (len(S_edad),len(S_edad_2530)))"
      ]
    },
    {
      "cell_type": "markdown",
      "metadata": {
        "id": "ltvL8bXl-jE6"
      },
      "source": [
        "Adicional a determinar la cantidad de datos en un grupo, se tiene la identificación individual de cada uno de estos. Se hace a través del índice, el cual puede ser, por ejemplo, el número de documento de identidad del estudiante."
      ]
    },
    {
      "cell_type": "code",
      "execution_count": null,
      "metadata": {
        "id": "2ChFyQqc-k_r",
        "colab": {
          "base_uri": "https://localhost:8080/"
        },
        "outputId": "1ff26b7f-1082-4ef1-befe-a012b54799ba"
      },
      "outputs": [
        {
          "output_type": "execute_result",
          "data": {
            "text/plain": [
              "1059971133    26\n",
              "1051418193    30\n",
              "1042408136    25\n",
              "1052905910    27\n",
              "1032473956    26\n",
              "              ..\n",
              "1028678339    25\n",
              "1028630187    27\n",
              "1098531382    29\n",
              "1058916089    26\n",
              "1036919027    25\n",
              "Length: 10816, dtype: int64"
            ]
          },
          "metadata": {},
          "execution_count": 58
        }
      ],
      "source": [
        "S_edad_2530"
      ]
    },
    {
      "cell_type": "markdown",
      "metadata": {
        "id": "4XkAxCA8-o0P"
      },
      "source": [
        "### <font color='5adcff'> **Operaciones vectorizadas**\n",
        "\n",
        "Funcionan de forma similar a como sucede con arreglos unidimensionales."
      ]
    },
    {
      "cell_type": "code",
      "execution_count": null,
      "metadata": {
        "id": "f3NphleK-qrz",
        "colab": {
          "base_uri": "https://localhost:8080/"
        },
        "outputId": "934c5c90-d390-4a82-fa49-612432f8cd58"
      },
      "outputs": [
        {
          "output_type": "execute_result",
          "data": {
            "text/plain": [
              "0    4\n",
              "1    7\n",
              "2   -5\n",
              "3    3\n",
              "4   -1\n",
              "5   -3\n",
              "dtype: int64"
            ]
          },
          "metadata": {},
          "execution_count": 59
        }
      ],
      "source": [
        "serie = pd.Series([4,7,-5,3, -1, -3])\n",
        "serie"
      ]
    },
    {
      "cell_type": "code",
      "execution_count": null,
      "metadata": {
        "id": "IIvb7rab-sRT",
        "colab": {
          "base_uri": "https://localhost:8080/"
        },
        "outputId": "4f2837a6-84c6-4a70-f104-e0aeb777a49a"
      },
      "outputs": [
        {
          "output_type": "execute_result",
          "data": {
            "text/plain": [
              "0     8\n",
              "1    14\n",
              "2   -10\n",
              "3     6\n",
              "4    -2\n",
              "5    -6\n",
              "dtype: int64"
            ]
          },
          "metadata": {},
          "execution_count": 60
        }
      ],
      "source": [
        "serie * 2"
      ]
    },
    {
      "cell_type": "markdown",
      "metadata": {
        "id": "wjdD7_Ay-1YL"
      },
      "source": [
        "### <font color='5adcff'>**Asignación de nombre a una serie y a sus índices**"
      ]
    },
    {
      "cell_type": "code",
      "execution_count": null,
      "metadata": {
        "id": "gOL1LvKb-3T7",
        "colab": {
          "base_uri": "https://localhost:8080/"
        },
        "outputId": "9b6b03b6-d17e-4aee-daea-77c89966c959"
      },
      "outputs": [
        {
          "output_type": "execute_result",
          "data": {
            "text/plain": [
              "0    4\n",
              "1    7\n",
              "2   -5\n",
              "3    3\n",
              "4   -1\n",
              "5   -3\n",
              "dtype: int64"
            ]
          },
          "metadata": {},
          "execution_count": 61
        }
      ],
      "source": [
        "serie"
      ]
    },
    {
      "cell_type": "code",
      "execution_count": null,
      "metadata": {
        "id": "_B8eyghj-49T",
        "colab": {
          "base_uri": "https://localhost:8080/"
        },
        "outputId": "6034bb7d-81f3-4e9c-b7d2-3667293c3c9a"
      },
      "outputs": [
        {
          "output_type": "execute_result",
          "data": {
            "text/plain": [
              "Departamento\n",
              "0    4\n",
              "1    7\n",
              "2   -5\n",
              "3    3\n",
              "4   -1\n",
              "5   -3\n",
              "Name: Población, dtype: int64"
            ]
          },
          "metadata": {},
          "execution_count": 62
        }
      ],
      "source": [
        "serie.name = 'Población'\n",
        "serie.index.name = 'Departamento'\n",
        "serie"
      ]
    },
    {
      "cell_type": "markdown",
      "metadata": {
        "id": "_MYGLM21-7az"
      },
      "source": [
        "## <font color='5adcff'> **Suma de series**\n",
        "\n",
        "Se usan los índices como referencia para realizar la suma:  solo se obtiene un resultado cuando el índice coincide entre las series que se suman:\n",
        "\n",
        "- Cuando no coinciden los índices, se crea un valor 'NaN' en esa posición.\n",
        "- Es posible sumar series de tamaño diferente."
      ]
    },
    {
      "cell_type": "code",
      "execution_count": null,
      "metadata": {
        "id": "ee4tpyXX--ED",
        "colab": {
          "base_uri": "https://localhost:8080/"
        },
        "outputId": "7cf31775-2d94-4b04-9705-b04c87b2f893"
      },
      "outputs": [
        {
          "output_type": "stream",
          "name": "stdout",
          "text": [
            "0    1\n",
            "1    2\n",
            "2    3\n",
            "dtype: int64\n",
            "\n",
            "\n",
            "0    0\n",
            "1    7\n",
            "2    8\n",
            "3   -1\n",
            "dtype: int64\n"
          ]
        }
      ],
      "source": [
        "serie_a = pd.Series([1,2,3])\n",
        "serie_b = pd.Series([0,7,8,-1])\n",
        "print(serie_a, serie_b, sep='\\n'*3)"
      ]
    },
    {
      "cell_type": "markdown",
      "metadata": {
        "id": "2ijuNSWG_AEb"
      },
      "source": [
        "Se puede observar que en ambas series los índices en común son: 0, 1, y 2."
      ]
    },
    {
      "cell_type": "code",
      "execution_count": null,
      "metadata": {
        "id": "gNpk5LuZ_Cib",
        "colab": {
          "base_uri": "https://localhost:8080/"
        },
        "outputId": "b0b48b88-50c6-454f-de70-adc794c04a94"
      },
      "outputs": [
        {
          "output_type": "execute_result",
          "data": {
            "text/plain": [
              "0     1.0\n",
              "1     9.0\n",
              "2    11.0\n",
              "3     NaN\n",
              "dtype: float64"
            ]
          },
          "metadata": {},
          "execution_count": 64
        }
      ],
      "source": [
        "serie_a + serie_b"
      ]
    },
    {
      "cell_type": "code",
      "execution_count": null,
      "metadata": {
        "id": "V1QPDeDr_F67",
        "colab": {
          "base_uri": "https://localhost:8080/"
        },
        "outputId": "d96e66bd-8028-465d-ad7c-50c4ba81fd41"
      },
      "outputs": [
        {
          "output_type": "execute_result",
          "data": {
            "text/plain": [
              "rojo        2000.0\n",
              "amarillo     500.0\n",
              "naranja     1000.0\n",
              "azul        1000.0\n",
              "verde          NaN\n",
              "dtype: float64"
            ]
          },
          "metadata": {},
          "execution_count": 65
        }
      ],
      "source": [
        "d1 = {'rojo':2000, 'azul':1000, 'amarillo':500, 'naranja':1000}\n",
        "colores = ['rojo','amarillo','naranja','azul','verde']\n",
        "serie1 = pd.Series(d1,index=colores)\n",
        "serie1"
      ]
    },
    {
      "cell_type": "code",
      "execution_count": null,
      "metadata": {
        "id": "4-ZSmM7-_Kzr",
        "colab": {
          "base_uri": "https://localhost:8080/"
        },
        "outputId": "78571d3c-8266-4272-83ba-dfb45af7b18a"
      },
      "outputs": [
        {
          "output_type": "execute_result",
          "data": {
            "text/plain": [
              "rojo         400\n",
              "amarillo    1000\n",
              "negro        700\n",
              "dtype: int64"
            ]
          },
          "metadata": {},
          "execution_count": 66
        }
      ],
      "source": [
        "d2 = {'rojo':400, 'amarillo':1000, 'negro':700}\n",
        "serie2 = pd.Series(d2)\n",
        "serie2"
      ]
    },
    {
      "cell_type": "markdown",
      "metadata": {
        "id": "IdonBTUe_NBL"
      },
      "source": [
        "En este caso, los índices en común son: rojo y amarillo."
      ]
    },
    {
      "cell_type": "code",
      "execution_count": null,
      "metadata": {
        "id": "eDW3F3aU_REK",
        "colab": {
          "base_uri": "https://localhost:8080/"
        },
        "outputId": "9ca6fc53-e357-433c-e0fd-b21cbe0061ae"
      },
      "outputs": [
        {
          "output_type": "execute_result",
          "data": {
            "text/plain": [
              "amarillo    1500.0\n",
              "azul           NaN\n",
              "naranja        NaN\n",
              "negro          NaN\n",
              "rojo        2400.0\n",
              "verde          NaN\n",
              "dtype: float64"
            ]
          },
          "metadata": {},
          "execution_count": 67
        }
      ],
      "source": [
        "serie1 + serie2"
      ]
    },
    {
      "cell_type": "markdown",
      "metadata": {
        "id": "xnJhd9kJAXuy"
      },
      "source": [
        "# <font color='157699'> **Operando con diccionarios** </font>"
      ]
    },
    {
      "cell_type": "markdown",
      "metadata": {
        "id": "XsnIAiFvTY-C"
      },
      "source": [
        "\n",
        "## <font color='5adcff'> **Inspeccionar la información** </font>\n",
        "\n",
        "---\n",
        "\n",
        "Pandas ofrece diversas funciones para explorar los datos contenidos en un DataFrame. Algunas de ellas son:\n",
        "\n",
        "| Función            | Descripción                                                                         |\n",
        "|--------------------|-------------------------------------------------------------------------------------|\n",
        "| `df.head(n)`       | Devuelve las primeras n filas del DataFrame                                         |\n",
        "| `df.tail(n)`       | Devuelve las últimas n filas del DataFrame                                          |\n",
        "| `df.info()`        | Proporciona un resumen del DataFrame, incluidos los tipos de datos y el uso de memoria |\n",
        "| `df.describe()`    | Proporciona estadísticas resumidas para las columnas numéricas en el DataFrame      |\n",
        "| `df.shape`         | Devuelve una tupla que representa las dimensiones del DataFrame (filas, columnas)   |\n",
        "| `df.columns`       | Devuelve una lista de los nombres de las columnas en el DataFrame                    |\n",
        "| `df.index`         | Devuelve el índice (etiquetas de fila) del DataFrame                                 |\n",
        "| `df.dtypes`        | Devuelve los tipos de datos de cada columna en el DataFrame                          |\n",
        "| `df.isnull().sum()`| Devuelve el número de valores faltantes en cada columna del DataFrame               |\n",
        "| `df.nunique()`     | Devuelve el número de valores únicos en cada columna del DataFrame                   |\n"
      ]
    },
    {
      "cell_type": "markdown",
      "metadata": {
        "id": "ol6Kvga07hTc"
      },
      "source": [
        "Podemos conocer el número de filas y columnas en el dataframe mediante la propiedad `shape`\n"
      ]
    },
    {
      "cell_type": "code",
      "execution_count": null,
      "metadata": {
        "id": "hGqDEIbZ7tmp",
        "colab": {
          "base_uri": "https://localhost:8080/"
        },
        "outputId": "b981fdf7-d272-4607-bf62-377f16cbf7e1"
      },
      "outputs": [
        {
          "output_type": "stream",
          "name": "stdout",
          "text": [
            "(13464, 7)\n"
          ]
        }
      ],
      "source": [
        "# Imprimir número de filas o de columnas\n",
        "print(internet.shape)\n"
      ]
    },
    {
      "cell_type": "markdown",
      "metadata": {
        "id": "qOyCX21kUPBY"
      },
      "source": [
        "Adicionalmente, podriamos imprimer los primeros o últimos registros usando la instrucción `head()` o `tail()`, respectivamente"
      ]
    },
    {
      "cell_type": "code",
      "execution_count": null,
      "metadata": {
        "id": "7IYOyuNcUNOS",
        "colab": {
          "base_uri": "https://localhost:8080/",
          "height": 206
        },
        "outputId": "a78991d3-7001-4c66-d74c-56339119bba1"
      },
      "outputs": [
        {
          "output_type": "execute_result",
          "data": {
            "text/plain": [
              "    ANO  TRIMESTRE DEPARTAMENTO          MUNICIPIO  \\\n",
              "0  2019          4        CHOCO             BOJAYA   \n",
              "1  2020          1       VAUPES             CARURU   \n",
              "2  2019          4    SANTANDER  VALLE DE SAN JOSE   \n",
              "3  2018          4    SANTANDER           SIMACOTA   \n",
              "4  2018          4        SUCRE            CAIMITO   \n",
              "\n",
              "   No. ACCESOS FIJOS A INTERNET  POBLACION DANE  No. INSTITUCIONES  \n",
              "0                            40           12212                 13  \n",
              "1                            11            3201                  4  \n",
              "2                            28            6222                  7  \n",
              "3                            87           10042                 11  \n",
              "4                            13           15231                 15  "
            ],
            "text/html": [
              "\n",
              "\n",
              "  <div id=\"df-8d84d8d9-966c-4146-a0a2-b34394b63534\">\n",
              "    <div class=\"colab-df-container\">\n",
              "      <div>\n",
              "<style scoped>\n",
              "    .dataframe tbody tr th:only-of-type {\n",
              "        vertical-align: middle;\n",
              "    }\n",
              "\n",
              "    .dataframe tbody tr th {\n",
              "        vertical-align: top;\n",
              "    }\n",
              "\n",
              "    .dataframe thead th {\n",
              "        text-align: right;\n",
              "    }\n",
              "</style>\n",
              "<table border=\"1\" class=\"dataframe\">\n",
              "  <thead>\n",
              "    <tr style=\"text-align: right;\">\n",
              "      <th></th>\n",
              "      <th>ANO</th>\n",
              "      <th>TRIMESTRE</th>\n",
              "      <th>DEPARTAMENTO</th>\n",
              "      <th>MUNICIPIO</th>\n",
              "      <th>No. ACCESOS FIJOS A INTERNET</th>\n",
              "      <th>POBLACION DANE</th>\n",
              "      <th>No. INSTITUCIONES</th>\n",
              "    </tr>\n",
              "  </thead>\n",
              "  <tbody>\n",
              "    <tr>\n",
              "      <th>0</th>\n",
              "      <td>2019</td>\n",
              "      <td>4</td>\n",
              "      <td>CHOCO</td>\n",
              "      <td>BOJAYA</td>\n",
              "      <td>40</td>\n",
              "      <td>12212</td>\n",
              "      <td>13</td>\n",
              "    </tr>\n",
              "    <tr>\n",
              "      <th>1</th>\n",
              "      <td>2020</td>\n",
              "      <td>1</td>\n",
              "      <td>VAUPES</td>\n",
              "      <td>CARURU</td>\n",
              "      <td>11</td>\n",
              "      <td>3201</td>\n",
              "      <td>4</td>\n",
              "    </tr>\n",
              "    <tr>\n",
              "      <th>2</th>\n",
              "      <td>2019</td>\n",
              "      <td>4</td>\n",
              "      <td>SANTANDER</td>\n",
              "      <td>VALLE DE SAN JOSE</td>\n",
              "      <td>28</td>\n",
              "      <td>6222</td>\n",
              "      <td>7</td>\n",
              "    </tr>\n",
              "    <tr>\n",
              "      <th>3</th>\n",
              "      <td>2018</td>\n",
              "      <td>4</td>\n",
              "      <td>SANTANDER</td>\n",
              "      <td>SIMACOTA</td>\n",
              "      <td>87</td>\n",
              "      <td>10042</td>\n",
              "      <td>11</td>\n",
              "    </tr>\n",
              "    <tr>\n",
              "      <th>4</th>\n",
              "      <td>2018</td>\n",
              "      <td>4</td>\n",
              "      <td>SUCRE</td>\n",
              "      <td>CAIMITO</td>\n",
              "      <td>13</td>\n",
              "      <td>15231</td>\n",
              "      <td>15</td>\n",
              "    </tr>\n",
              "  </tbody>\n",
              "</table>\n",
              "</div>\n",
              "      <button class=\"colab-df-convert\" onclick=\"convertToInteractive('df-8d84d8d9-966c-4146-a0a2-b34394b63534')\"\n",
              "              title=\"Convert this dataframe to an interactive table.\"\n",
              "              style=\"display:none;\">\n",
              "\n",
              "  <svg xmlns=\"http://www.w3.org/2000/svg\" height=\"24px\"viewBox=\"0 0 24 24\"\n",
              "       width=\"24px\">\n",
              "    <path d=\"M0 0h24v24H0V0z\" fill=\"none\"/>\n",
              "    <path d=\"M18.56 5.44l.94 2.06.94-2.06 2.06-.94-2.06-.94-.94-2.06-.94 2.06-2.06.94zm-11 1L8.5 8.5l.94-2.06 2.06-.94-2.06-.94L8.5 2.5l-.94 2.06-2.06.94zm10 10l.94 2.06.94-2.06 2.06-.94-2.06-.94-.94-2.06-.94 2.06-2.06.94z\"/><path d=\"M17.41 7.96l-1.37-1.37c-.4-.4-.92-.59-1.43-.59-.52 0-1.04.2-1.43.59L10.3 9.45l-7.72 7.72c-.78.78-.78 2.05 0 2.83L4 21.41c.39.39.9.59 1.41.59.51 0 1.02-.2 1.41-.59l7.78-7.78 2.81-2.81c.8-.78.8-2.07 0-2.86zM5.41 20L4 18.59l7.72-7.72 1.47 1.35L5.41 20z\"/>\n",
              "  </svg>\n",
              "      </button>\n",
              "\n",
              "\n",
              "\n",
              "    <div id=\"df-8434abea-a69b-4a54-a4d1-e8f454692688\">\n",
              "      <button class=\"colab-df-quickchart\" onclick=\"quickchart('df-8434abea-a69b-4a54-a4d1-e8f454692688')\"\n",
              "              title=\"Suggest charts.\"\n",
              "              style=\"display:none;\">\n",
              "\n",
              "<svg xmlns=\"http://www.w3.org/2000/svg\" height=\"24px\"viewBox=\"0 0 24 24\"\n",
              "     width=\"24px\">\n",
              "    <g>\n",
              "        <path d=\"M19 3H5c-1.1 0-2 .9-2 2v14c0 1.1.9 2 2 2h14c1.1 0 2-.9 2-2V5c0-1.1-.9-2-2-2zM9 17H7v-7h2v7zm4 0h-2V7h2v10zm4 0h-2v-4h2v4z\"/>\n",
              "    </g>\n",
              "</svg>\n",
              "      </button>\n",
              "    </div>\n",
              "\n",
              "<style>\n",
              "  .colab-df-quickchart {\n",
              "    background-color: #E8F0FE;\n",
              "    border: none;\n",
              "    border-radius: 50%;\n",
              "    cursor: pointer;\n",
              "    display: none;\n",
              "    fill: #1967D2;\n",
              "    height: 32px;\n",
              "    padding: 0 0 0 0;\n",
              "    width: 32px;\n",
              "  }\n",
              "\n",
              "  .colab-df-quickchart:hover {\n",
              "    background-color: #E2EBFA;\n",
              "    box-shadow: 0px 1px 2px rgba(60, 64, 67, 0.3), 0px 1px 3px 1px rgba(60, 64, 67, 0.15);\n",
              "    fill: #174EA6;\n",
              "  }\n",
              "\n",
              "  [theme=dark] .colab-df-quickchart {\n",
              "    background-color: #3B4455;\n",
              "    fill: #D2E3FC;\n",
              "  }\n",
              "\n",
              "  [theme=dark] .colab-df-quickchart:hover {\n",
              "    background-color: #434B5C;\n",
              "    box-shadow: 0px 1px 3px 1px rgba(0, 0, 0, 0.15);\n",
              "    filter: drop-shadow(0px 1px 2px rgba(0, 0, 0, 0.3));\n",
              "    fill: #FFFFFF;\n",
              "  }\n",
              "</style>\n",
              "\n",
              "    <script>\n",
              "      async function quickchart(key) {\n",
              "        const containerElement = document.querySelector('#' + key);\n",
              "        const charts = await google.colab.kernel.invokeFunction(\n",
              "            'suggestCharts', [key], {});\n",
              "      }\n",
              "    </script>\n",
              "\n",
              "      <script>\n",
              "\n",
              "function displayQuickchartButton(domScope) {\n",
              "  let quickchartButtonEl =\n",
              "    domScope.querySelector('#df-8434abea-a69b-4a54-a4d1-e8f454692688 button.colab-df-quickchart');\n",
              "  quickchartButtonEl.style.display =\n",
              "    google.colab.kernel.accessAllowed ? 'block' : 'none';\n",
              "}\n",
              "\n",
              "        displayQuickchartButton(document);\n",
              "      </script>\n",
              "      <style>\n",
              "    .colab-df-container {\n",
              "      display:flex;\n",
              "      flex-wrap:wrap;\n",
              "      gap: 12px;\n",
              "    }\n",
              "\n",
              "    .colab-df-convert {\n",
              "      background-color: #E8F0FE;\n",
              "      border: none;\n",
              "      border-radius: 50%;\n",
              "      cursor: pointer;\n",
              "      display: none;\n",
              "      fill: #1967D2;\n",
              "      height: 32px;\n",
              "      padding: 0 0 0 0;\n",
              "      width: 32px;\n",
              "    }\n",
              "\n",
              "    .colab-df-convert:hover {\n",
              "      background-color: #E2EBFA;\n",
              "      box-shadow: 0px 1px 2px rgba(60, 64, 67, 0.3), 0px 1px 3px 1px rgba(60, 64, 67, 0.15);\n",
              "      fill: #174EA6;\n",
              "    }\n",
              "\n",
              "    [theme=dark] .colab-df-convert {\n",
              "      background-color: #3B4455;\n",
              "      fill: #D2E3FC;\n",
              "    }\n",
              "\n",
              "    [theme=dark] .colab-df-convert:hover {\n",
              "      background-color: #434B5C;\n",
              "      box-shadow: 0px 1px 3px 1px rgba(0, 0, 0, 0.15);\n",
              "      filter: drop-shadow(0px 1px 2px rgba(0, 0, 0, 0.3));\n",
              "      fill: #FFFFFF;\n",
              "    }\n",
              "  </style>\n",
              "\n",
              "      <script>\n",
              "        const buttonEl =\n",
              "          document.querySelector('#df-8d84d8d9-966c-4146-a0a2-b34394b63534 button.colab-df-convert');\n",
              "        buttonEl.style.display =\n",
              "          google.colab.kernel.accessAllowed ? 'block' : 'none';\n",
              "\n",
              "        async function convertToInteractive(key) {\n",
              "          const element = document.querySelector('#df-8d84d8d9-966c-4146-a0a2-b34394b63534');\n",
              "          const dataTable =\n",
              "            await google.colab.kernel.invokeFunction('convertToInteractive',\n",
              "                                                     [key], {});\n",
              "          if (!dataTable) return;\n",
              "\n",
              "          const docLinkHtml = 'Like what you see? Visit the ' +\n",
              "            '<a target=\"_blank\" href=https://colab.research.google.com/notebooks/data_table.ipynb>data table notebook</a>'\n",
              "            + ' to learn more about interactive tables.';\n",
              "          element.innerHTML = '';\n",
              "          dataTable['output_type'] = 'display_data';\n",
              "          await google.colab.output.renderOutput(dataTable, element);\n",
              "          const docLink = document.createElement('div');\n",
              "          docLink.innerHTML = docLinkHtml;\n",
              "          element.appendChild(docLink);\n",
              "        }\n",
              "      </script>\n",
              "    </div>\n",
              "  </div>\n"
            ]
          },
          "metadata": {},
          "execution_count": 69
        }
      ],
      "source": [
        "# Imprimir primeras filas\n",
        "internet.head(5)"
      ]
    },
    {
      "cell_type": "markdown",
      "metadata": {
        "id": "EKPNbq8OLvjM"
      },
      "source": [
        "Es posible inspeccionar el tipo de información que hemos cargado usando usando:\n",
        " `dtypes` o `info()`\n",
        "\n",
        "*   El atributo `dtypes` retorna una serie con el tipo de datos asociado a cada variable en el dataframe\n",
        "*   La función `info()` provee además información respecto a los elementos no nulos en cada variable\n",
        "\n"
      ]
    },
    {
      "cell_type": "code",
      "execution_count": null,
      "metadata": {
        "id": "IW_cKKJLLx57",
        "colab": {
          "base_uri": "https://localhost:8080/"
        },
        "outputId": "ac66c7c3-4fc6-4e6c-b3f1-50635ec4288a"
      },
      "outputs": [
        {
          "output_type": "execute_result",
          "data": {
            "text/plain": [
              "ANO                              int64\n",
              "TRIMESTRE                        int64\n",
              "DEPARTAMENTO                    object\n",
              "MUNICIPIO                       object\n",
              "No. ACCESOS FIJOS A INTERNET     int64\n",
              "POBLACION DANE                   int64\n",
              "No. INSTITUCIONES                int64\n",
              "dtype: object"
            ]
          },
          "metadata": {},
          "execution_count": 70
        }
      ],
      "source": [
        "internet.dtypes"
      ]
    },
    {
      "cell_type": "code",
      "execution_count": null,
      "metadata": {
        "id": "LhL7Y-z6ncc2",
        "colab": {
          "base_uri": "https://localhost:8080/"
        },
        "outputId": "d606f44f-fd81-4dcf-ed3c-754402cce8a3"
      },
      "outputs": [
        {
          "output_type": "stream",
          "name": "stdout",
          "text": [
            "<class 'pandas.core.frame.DataFrame'>\n",
            "RangeIndex: 13464 entries, 0 to 13463\n",
            "Data columns (total 7 columns):\n",
            " #   Column                        Non-Null Count  Dtype \n",
            "---  ------                        --------------  ----- \n",
            " 0   ANO                           13464 non-null  int64 \n",
            " 1   TRIMESTRE                     13464 non-null  int64 \n",
            " 2   DEPARTAMENTO                  13464 non-null  object\n",
            " 3   MUNICIPIO                     13464 non-null  object\n",
            " 4   No. ACCESOS FIJOS A INTERNET  13464 non-null  int64 \n",
            " 5   POBLACION DANE                13464 non-null  int64 \n",
            " 6   No. INSTITUCIONES             13464 non-null  int64 \n",
            "dtypes: int64(5), object(2)\n",
            "memory usage: 736.4+ KB\n"
          ]
        }
      ],
      "source": [
        "internet.info()"
      ]
    },
    {
      "cell_type": "markdown",
      "metadata": {
        "id": "eQje4LvQ7eEe"
      },
      "source": [
        "## <font color='5adcff'> **Seleccionar un subconjunto del dataframe** </font>\n",
        "\n",
        "---\n",
        "Se podria estar interesado en seleccionar un subconjunto de una tabla o DataFrame. Esto puede implicar seleccionar filas, columnas o ambas. Aunque existen diversas opciones para hacerlo, veremos aquí a modo de ejemplo solo un par de ellas:"
      ]
    },
    {
      "cell_type": "markdown",
      "metadata": {
        "id": "wStRyQMmM2XH"
      },
      "source": [
        "\n",
        "### <font color='8EC044'> **Selección de filas/registros** </font>\n",
        "\n",
        "Existen distintas formas de seleccionar filas, algunas son:\n",
        "\n",
        "| Método | Descripción | Ejemplo |\n",
        "|--------|-------------|---------|\n",
        "| `loc[]` | Selecciona filas por etiquetas o valores de índice | `df.loc[['a', 'b']]` |\n",
        "| `iloc[]` | Selecciona filas por posición de índice | `df.iloc[:3]` |\n",
        "| Operadores de comparación | Selecciona filas que cumplen una condición | `df[df['edad'] > 30]` |\n",
        "| `query()` | Selecciona filas usando expresiones de consulta | `df.query('edad > 30 and sexo == \"Femenino\"')` |\n",
        "\n",
        "Veamos algunos de ellos en detalle"
      ]
    },
    {
      "cell_type": "markdown",
      "metadata": {
        "id": "S9hoc5qXNajn"
      },
      "source": [
        "Es posible seleccionar filas con los comandos 'iloc' y 'loc'. La primera se basa en los indices de las filas y la segunda en el valor de dichos índices. En este caso, como los indices corresponden a la posición, ambas tendran un efecto muy similar.\n",
        "\n",
        "Nota que la función 'iloc' retorna las observaciones que están entre las posiciones dos y cinco sin incluir."
      ]
    },
    {
      "cell_type": "code",
      "execution_count": null,
      "metadata": {
        "id": "H9b-W17NBuS7",
        "colab": {
          "base_uri": "https://localhost:8080/",
          "height": 143
        },
        "outputId": "2953f4e1-29d9-4ade-8f8c-d8afc3e35c08"
      },
      "outputs": [
        {
          "output_type": "execute_result",
          "data": {
            "text/plain": [
              "    ANO  TRIMESTRE DEPARTAMENTO          MUNICIPIO  \\\n",
              "2  2019          4    SANTANDER  VALLE DE SAN JOSE   \n",
              "3  2018          4    SANTANDER           SIMACOTA   \n",
              "4  2018          4        SUCRE            CAIMITO   \n",
              "\n",
              "   No. ACCESOS FIJOS A INTERNET  POBLACION DANE  No. INSTITUCIONES  \n",
              "2                            28            6222                  7  \n",
              "3                            87           10042                 11  \n",
              "4                            13           15231                 15  "
            ],
            "text/html": [
              "\n",
              "\n",
              "  <div id=\"df-828282e0-0e90-4bfc-846b-376c8e467675\">\n",
              "    <div class=\"colab-df-container\">\n",
              "      <div>\n",
              "<style scoped>\n",
              "    .dataframe tbody tr th:only-of-type {\n",
              "        vertical-align: middle;\n",
              "    }\n",
              "\n",
              "    .dataframe tbody tr th {\n",
              "        vertical-align: top;\n",
              "    }\n",
              "\n",
              "    .dataframe thead th {\n",
              "        text-align: right;\n",
              "    }\n",
              "</style>\n",
              "<table border=\"1\" class=\"dataframe\">\n",
              "  <thead>\n",
              "    <tr style=\"text-align: right;\">\n",
              "      <th></th>\n",
              "      <th>ANO</th>\n",
              "      <th>TRIMESTRE</th>\n",
              "      <th>DEPARTAMENTO</th>\n",
              "      <th>MUNICIPIO</th>\n",
              "      <th>No. ACCESOS FIJOS A INTERNET</th>\n",
              "      <th>POBLACION DANE</th>\n",
              "      <th>No. INSTITUCIONES</th>\n",
              "    </tr>\n",
              "  </thead>\n",
              "  <tbody>\n",
              "    <tr>\n",
              "      <th>2</th>\n",
              "      <td>2019</td>\n",
              "      <td>4</td>\n",
              "      <td>SANTANDER</td>\n",
              "      <td>VALLE DE SAN JOSE</td>\n",
              "      <td>28</td>\n",
              "      <td>6222</td>\n",
              "      <td>7</td>\n",
              "    </tr>\n",
              "    <tr>\n",
              "      <th>3</th>\n",
              "      <td>2018</td>\n",
              "      <td>4</td>\n",
              "      <td>SANTANDER</td>\n",
              "      <td>SIMACOTA</td>\n",
              "      <td>87</td>\n",
              "      <td>10042</td>\n",
              "      <td>11</td>\n",
              "    </tr>\n",
              "    <tr>\n",
              "      <th>4</th>\n",
              "      <td>2018</td>\n",
              "      <td>4</td>\n",
              "      <td>SUCRE</td>\n",
              "      <td>CAIMITO</td>\n",
              "      <td>13</td>\n",
              "      <td>15231</td>\n",
              "      <td>15</td>\n",
              "    </tr>\n",
              "  </tbody>\n",
              "</table>\n",
              "</div>\n",
              "      <button class=\"colab-df-convert\" onclick=\"convertToInteractive('df-828282e0-0e90-4bfc-846b-376c8e467675')\"\n",
              "              title=\"Convert this dataframe to an interactive table.\"\n",
              "              style=\"display:none;\">\n",
              "\n",
              "  <svg xmlns=\"http://www.w3.org/2000/svg\" height=\"24px\"viewBox=\"0 0 24 24\"\n",
              "       width=\"24px\">\n",
              "    <path d=\"M0 0h24v24H0V0z\" fill=\"none\"/>\n",
              "    <path d=\"M18.56 5.44l.94 2.06.94-2.06 2.06-.94-2.06-.94-.94-2.06-.94 2.06-2.06.94zm-11 1L8.5 8.5l.94-2.06 2.06-.94-2.06-.94L8.5 2.5l-.94 2.06-2.06.94zm10 10l.94 2.06.94-2.06 2.06-.94-2.06-.94-.94-2.06-.94 2.06-2.06.94z\"/><path d=\"M17.41 7.96l-1.37-1.37c-.4-.4-.92-.59-1.43-.59-.52 0-1.04.2-1.43.59L10.3 9.45l-7.72 7.72c-.78.78-.78 2.05 0 2.83L4 21.41c.39.39.9.59 1.41.59.51 0 1.02-.2 1.41-.59l7.78-7.78 2.81-2.81c.8-.78.8-2.07 0-2.86zM5.41 20L4 18.59l7.72-7.72 1.47 1.35L5.41 20z\"/>\n",
              "  </svg>\n",
              "      </button>\n",
              "\n",
              "\n",
              "\n",
              "    <div id=\"df-d99c7328-b2ee-4381-a395-033cb7961401\">\n",
              "      <button class=\"colab-df-quickchart\" onclick=\"quickchart('df-d99c7328-b2ee-4381-a395-033cb7961401')\"\n",
              "              title=\"Suggest charts.\"\n",
              "              style=\"display:none;\">\n",
              "\n",
              "<svg xmlns=\"http://www.w3.org/2000/svg\" height=\"24px\"viewBox=\"0 0 24 24\"\n",
              "     width=\"24px\">\n",
              "    <g>\n",
              "        <path d=\"M19 3H5c-1.1 0-2 .9-2 2v14c0 1.1.9 2 2 2h14c1.1 0 2-.9 2-2V5c0-1.1-.9-2-2-2zM9 17H7v-7h2v7zm4 0h-2V7h2v10zm4 0h-2v-4h2v4z\"/>\n",
              "    </g>\n",
              "</svg>\n",
              "      </button>\n",
              "    </div>\n",
              "\n",
              "<style>\n",
              "  .colab-df-quickchart {\n",
              "    background-color: #E8F0FE;\n",
              "    border: none;\n",
              "    border-radius: 50%;\n",
              "    cursor: pointer;\n",
              "    display: none;\n",
              "    fill: #1967D2;\n",
              "    height: 32px;\n",
              "    padding: 0 0 0 0;\n",
              "    width: 32px;\n",
              "  }\n",
              "\n",
              "  .colab-df-quickchart:hover {\n",
              "    background-color: #E2EBFA;\n",
              "    box-shadow: 0px 1px 2px rgba(60, 64, 67, 0.3), 0px 1px 3px 1px rgba(60, 64, 67, 0.15);\n",
              "    fill: #174EA6;\n",
              "  }\n",
              "\n",
              "  [theme=dark] .colab-df-quickchart {\n",
              "    background-color: #3B4455;\n",
              "    fill: #D2E3FC;\n",
              "  }\n",
              "\n",
              "  [theme=dark] .colab-df-quickchart:hover {\n",
              "    background-color: #434B5C;\n",
              "    box-shadow: 0px 1px 3px 1px rgba(0, 0, 0, 0.15);\n",
              "    filter: drop-shadow(0px 1px 2px rgba(0, 0, 0, 0.3));\n",
              "    fill: #FFFFFF;\n",
              "  }\n",
              "</style>\n",
              "\n",
              "    <script>\n",
              "      async function quickchart(key) {\n",
              "        const containerElement = document.querySelector('#' + key);\n",
              "        const charts = await google.colab.kernel.invokeFunction(\n",
              "            'suggestCharts', [key], {});\n",
              "      }\n",
              "    </script>\n",
              "\n",
              "      <script>\n",
              "\n",
              "function displayQuickchartButton(domScope) {\n",
              "  let quickchartButtonEl =\n",
              "    domScope.querySelector('#df-d99c7328-b2ee-4381-a395-033cb7961401 button.colab-df-quickchart');\n",
              "  quickchartButtonEl.style.display =\n",
              "    google.colab.kernel.accessAllowed ? 'block' : 'none';\n",
              "}\n",
              "\n",
              "        displayQuickchartButton(document);\n",
              "      </script>\n",
              "      <style>\n",
              "    .colab-df-container {\n",
              "      display:flex;\n",
              "      flex-wrap:wrap;\n",
              "      gap: 12px;\n",
              "    }\n",
              "\n",
              "    .colab-df-convert {\n",
              "      background-color: #E8F0FE;\n",
              "      border: none;\n",
              "      border-radius: 50%;\n",
              "      cursor: pointer;\n",
              "      display: none;\n",
              "      fill: #1967D2;\n",
              "      height: 32px;\n",
              "      padding: 0 0 0 0;\n",
              "      width: 32px;\n",
              "    }\n",
              "\n",
              "    .colab-df-convert:hover {\n",
              "      background-color: #E2EBFA;\n",
              "      box-shadow: 0px 1px 2px rgba(60, 64, 67, 0.3), 0px 1px 3px 1px rgba(60, 64, 67, 0.15);\n",
              "      fill: #174EA6;\n",
              "    }\n",
              "\n",
              "    [theme=dark] .colab-df-convert {\n",
              "      background-color: #3B4455;\n",
              "      fill: #D2E3FC;\n",
              "    }\n",
              "\n",
              "    [theme=dark] .colab-df-convert:hover {\n",
              "      background-color: #434B5C;\n",
              "      box-shadow: 0px 1px 3px 1px rgba(0, 0, 0, 0.15);\n",
              "      filter: drop-shadow(0px 1px 2px rgba(0, 0, 0, 0.3));\n",
              "      fill: #FFFFFF;\n",
              "    }\n",
              "  </style>\n",
              "\n",
              "      <script>\n",
              "        const buttonEl =\n",
              "          document.querySelector('#df-828282e0-0e90-4bfc-846b-376c8e467675 button.colab-df-convert');\n",
              "        buttonEl.style.display =\n",
              "          google.colab.kernel.accessAllowed ? 'block' : 'none';\n",
              "\n",
              "        async function convertToInteractive(key) {\n",
              "          const element = document.querySelector('#df-828282e0-0e90-4bfc-846b-376c8e467675');\n",
              "          const dataTable =\n",
              "            await google.colab.kernel.invokeFunction('convertToInteractive',\n",
              "                                                     [key], {});\n",
              "          if (!dataTable) return;\n",
              "\n",
              "          const docLinkHtml = 'Like what you see? Visit the ' +\n",
              "            '<a target=\"_blank\" href=https://colab.research.google.com/notebooks/data_table.ipynb>data table notebook</a>'\n",
              "            + ' to learn more about interactive tables.';\n",
              "          element.innerHTML = '';\n",
              "          dataTable['output_type'] = 'display_data';\n",
              "          await google.colab.output.renderOutput(dataTable, element);\n",
              "          const docLink = document.createElement('div');\n",
              "          docLink.innerHTML = docLinkHtml;\n",
              "          element.appendChild(docLink);\n",
              "        }\n",
              "      </script>\n",
              "    </div>\n",
              "  </div>\n"
            ]
          },
          "metadata": {},
          "execution_count": 72
        }
      ],
      "source": [
        "internet.iloc[2:5]"
      ]
    },
    {
      "cell_type": "markdown",
      "metadata": {
        "id": "lux60uz6Csfr"
      },
      "source": [
        "Por su parte, la función 'loc' retorna las observaciones cuyos indices son 2, 3, 4 y 5."
      ]
    },
    {
      "cell_type": "code",
      "execution_count": null,
      "metadata": {
        "id": "zk6vrl-UNLuO",
        "colab": {
          "base_uri": "https://localhost:8080/",
          "height": 175
        },
        "outputId": "d747444e-4068-4f3d-bfbe-b0369c10ebe9"
      },
      "outputs": [
        {
          "output_type": "execute_result",
          "data": {
            "text/plain": [
              "    ANO  TRIMESTRE DEPARTAMENTO          MUNICIPIO  \\\n",
              "2  2019          4    SANTANDER  VALLE DE SAN JOSE   \n",
              "3  2018          4    SANTANDER           SIMACOTA   \n",
              "4  2018          4        SUCRE            CAIMITO   \n",
              "5  2020          1    SANTANDER            LEBRIJA   \n",
              "\n",
              "   No. ACCESOS FIJOS A INTERNET  POBLACION DANE  No. INSTITUCIONES  \n",
              "2                            28            6222                  7  \n",
              "3                            87           10042                 11  \n",
              "4                            13           15231                 15  \n",
              "5                          1173           44169                 45  "
            ],
            "text/html": [
              "\n",
              "\n",
              "  <div id=\"df-85c85419-9838-49ec-96e3-87dd14bb6b1a\">\n",
              "    <div class=\"colab-df-container\">\n",
              "      <div>\n",
              "<style scoped>\n",
              "    .dataframe tbody tr th:only-of-type {\n",
              "        vertical-align: middle;\n",
              "    }\n",
              "\n",
              "    .dataframe tbody tr th {\n",
              "        vertical-align: top;\n",
              "    }\n",
              "\n",
              "    .dataframe thead th {\n",
              "        text-align: right;\n",
              "    }\n",
              "</style>\n",
              "<table border=\"1\" class=\"dataframe\">\n",
              "  <thead>\n",
              "    <tr style=\"text-align: right;\">\n",
              "      <th></th>\n",
              "      <th>ANO</th>\n",
              "      <th>TRIMESTRE</th>\n",
              "      <th>DEPARTAMENTO</th>\n",
              "      <th>MUNICIPIO</th>\n",
              "      <th>No. ACCESOS FIJOS A INTERNET</th>\n",
              "      <th>POBLACION DANE</th>\n",
              "      <th>No. INSTITUCIONES</th>\n",
              "    </tr>\n",
              "  </thead>\n",
              "  <tbody>\n",
              "    <tr>\n",
              "      <th>2</th>\n",
              "      <td>2019</td>\n",
              "      <td>4</td>\n",
              "      <td>SANTANDER</td>\n",
              "      <td>VALLE DE SAN JOSE</td>\n",
              "      <td>28</td>\n",
              "      <td>6222</td>\n",
              "      <td>7</td>\n",
              "    </tr>\n",
              "    <tr>\n",
              "      <th>3</th>\n",
              "      <td>2018</td>\n",
              "      <td>4</td>\n",
              "      <td>SANTANDER</td>\n",
              "      <td>SIMACOTA</td>\n",
              "      <td>87</td>\n",
              "      <td>10042</td>\n",
              "      <td>11</td>\n",
              "    </tr>\n",
              "    <tr>\n",
              "      <th>4</th>\n",
              "      <td>2018</td>\n",
              "      <td>4</td>\n",
              "      <td>SUCRE</td>\n",
              "      <td>CAIMITO</td>\n",
              "      <td>13</td>\n",
              "      <td>15231</td>\n",
              "      <td>15</td>\n",
              "    </tr>\n",
              "    <tr>\n",
              "      <th>5</th>\n",
              "      <td>2020</td>\n",
              "      <td>1</td>\n",
              "      <td>SANTANDER</td>\n",
              "      <td>LEBRIJA</td>\n",
              "      <td>1173</td>\n",
              "      <td>44169</td>\n",
              "      <td>45</td>\n",
              "    </tr>\n",
              "  </tbody>\n",
              "</table>\n",
              "</div>\n",
              "      <button class=\"colab-df-convert\" onclick=\"convertToInteractive('df-85c85419-9838-49ec-96e3-87dd14bb6b1a')\"\n",
              "              title=\"Convert this dataframe to an interactive table.\"\n",
              "              style=\"display:none;\">\n",
              "\n",
              "  <svg xmlns=\"http://www.w3.org/2000/svg\" height=\"24px\"viewBox=\"0 0 24 24\"\n",
              "       width=\"24px\">\n",
              "    <path d=\"M0 0h24v24H0V0z\" fill=\"none\"/>\n",
              "    <path d=\"M18.56 5.44l.94 2.06.94-2.06 2.06-.94-2.06-.94-.94-2.06-.94 2.06-2.06.94zm-11 1L8.5 8.5l.94-2.06 2.06-.94-2.06-.94L8.5 2.5l-.94 2.06-2.06.94zm10 10l.94 2.06.94-2.06 2.06-.94-2.06-.94-.94-2.06-.94 2.06-2.06.94z\"/><path d=\"M17.41 7.96l-1.37-1.37c-.4-.4-.92-.59-1.43-.59-.52 0-1.04.2-1.43.59L10.3 9.45l-7.72 7.72c-.78.78-.78 2.05 0 2.83L4 21.41c.39.39.9.59 1.41.59.51 0 1.02-.2 1.41-.59l7.78-7.78 2.81-2.81c.8-.78.8-2.07 0-2.86zM5.41 20L4 18.59l7.72-7.72 1.47 1.35L5.41 20z\"/>\n",
              "  </svg>\n",
              "      </button>\n",
              "\n",
              "\n",
              "\n",
              "    <div id=\"df-86175589-57b0-4736-aad8-c1c64972cbdd\">\n",
              "      <button class=\"colab-df-quickchart\" onclick=\"quickchart('df-86175589-57b0-4736-aad8-c1c64972cbdd')\"\n",
              "              title=\"Suggest charts.\"\n",
              "              style=\"display:none;\">\n",
              "\n",
              "<svg xmlns=\"http://www.w3.org/2000/svg\" height=\"24px\"viewBox=\"0 0 24 24\"\n",
              "     width=\"24px\">\n",
              "    <g>\n",
              "        <path d=\"M19 3H5c-1.1 0-2 .9-2 2v14c0 1.1.9 2 2 2h14c1.1 0 2-.9 2-2V5c0-1.1-.9-2-2-2zM9 17H7v-7h2v7zm4 0h-2V7h2v10zm4 0h-2v-4h2v4z\"/>\n",
              "    </g>\n",
              "</svg>\n",
              "      </button>\n",
              "    </div>\n",
              "\n",
              "<style>\n",
              "  .colab-df-quickchart {\n",
              "    background-color: #E8F0FE;\n",
              "    border: none;\n",
              "    border-radius: 50%;\n",
              "    cursor: pointer;\n",
              "    display: none;\n",
              "    fill: #1967D2;\n",
              "    height: 32px;\n",
              "    padding: 0 0 0 0;\n",
              "    width: 32px;\n",
              "  }\n",
              "\n",
              "  .colab-df-quickchart:hover {\n",
              "    background-color: #E2EBFA;\n",
              "    box-shadow: 0px 1px 2px rgba(60, 64, 67, 0.3), 0px 1px 3px 1px rgba(60, 64, 67, 0.15);\n",
              "    fill: #174EA6;\n",
              "  }\n",
              "\n",
              "  [theme=dark] .colab-df-quickchart {\n",
              "    background-color: #3B4455;\n",
              "    fill: #D2E3FC;\n",
              "  }\n",
              "\n",
              "  [theme=dark] .colab-df-quickchart:hover {\n",
              "    background-color: #434B5C;\n",
              "    box-shadow: 0px 1px 3px 1px rgba(0, 0, 0, 0.15);\n",
              "    filter: drop-shadow(0px 1px 2px rgba(0, 0, 0, 0.3));\n",
              "    fill: #FFFFFF;\n",
              "  }\n",
              "</style>\n",
              "\n",
              "    <script>\n",
              "      async function quickchart(key) {\n",
              "        const containerElement = document.querySelector('#' + key);\n",
              "        const charts = await google.colab.kernel.invokeFunction(\n",
              "            'suggestCharts', [key], {});\n",
              "      }\n",
              "    </script>\n",
              "\n",
              "      <script>\n",
              "\n",
              "function displayQuickchartButton(domScope) {\n",
              "  let quickchartButtonEl =\n",
              "    domScope.querySelector('#df-86175589-57b0-4736-aad8-c1c64972cbdd button.colab-df-quickchart');\n",
              "  quickchartButtonEl.style.display =\n",
              "    google.colab.kernel.accessAllowed ? 'block' : 'none';\n",
              "}\n",
              "\n",
              "        displayQuickchartButton(document);\n",
              "      </script>\n",
              "      <style>\n",
              "    .colab-df-container {\n",
              "      display:flex;\n",
              "      flex-wrap:wrap;\n",
              "      gap: 12px;\n",
              "    }\n",
              "\n",
              "    .colab-df-convert {\n",
              "      background-color: #E8F0FE;\n",
              "      border: none;\n",
              "      border-radius: 50%;\n",
              "      cursor: pointer;\n",
              "      display: none;\n",
              "      fill: #1967D2;\n",
              "      height: 32px;\n",
              "      padding: 0 0 0 0;\n",
              "      width: 32px;\n",
              "    }\n",
              "\n",
              "    .colab-df-convert:hover {\n",
              "      background-color: #E2EBFA;\n",
              "      box-shadow: 0px 1px 2px rgba(60, 64, 67, 0.3), 0px 1px 3px 1px rgba(60, 64, 67, 0.15);\n",
              "      fill: #174EA6;\n",
              "    }\n",
              "\n",
              "    [theme=dark] .colab-df-convert {\n",
              "      background-color: #3B4455;\n",
              "      fill: #D2E3FC;\n",
              "    }\n",
              "\n",
              "    [theme=dark] .colab-df-convert:hover {\n",
              "      background-color: #434B5C;\n",
              "      box-shadow: 0px 1px 3px 1px rgba(0, 0, 0, 0.15);\n",
              "      filter: drop-shadow(0px 1px 2px rgba(0, 0, 0, 0.3));\n",
              "      fill: #FFFFFF;\n",
              "    }\n",
              "  </style>\n",
              "\n",
              "      <script>\n",
              "        const buttonEl =\n",
              "          document.querySelector('#df-85c85419-9838-49ec-96e3-87dd14bb6b1a button.colab-df-convert');\n",
              "        buttonEl.style.display =\n",
              "          google.colab.kernel.accessAllowed ? 'block' : 'none';\n",
              "\n",
              "        async function convertToInteractive(key) {\n",
              "          const element = document.querySelector('#df-85c85419-9838-49ec-96e3-87dd14bb6b1a');\n",
              "          const dataTable =\n",
              "            await google.colab.kernel.invokeFunction('convertToInteractive',\n",
              "                                                     [key], {});\n",
              "          if (!dataTable) return;\n",
              "\n",
              "          const docLinkHtml = 'Like what you see? Visit the ' +\n",
              "            '<a target=\"_blank\" href=https://colab.research.google.com/notebooks/data_table.ipynb>data table notebook</a>'\n",
              "            + ' to learn more about interactive tables.';\n",
              "          element.innerHTML = '';\n",
              "          dataTable['output_type'] = 'display_data';\n",
              "          await google.colab.output.renderOutput(dataTable, element);\n",
              "          const docLink = document.createElement('div');\n",
              "          docLink.innerHTML = docLinkHtml;\n",
              "          element.appendChild(docLink);\n",
              "        }\n",
              "      </script>\n",
              "    </div>\n",
              "  </div>\n"
            ]
          },
          "metadata": {},
          "execution_count": 73
        }
      ],
      "source": [
        "internet.loc[2:5]"
      ]
    },
    {
      "cell_type": "markdown",
      "metadata": {
        "id": "3ynH97qNP0j3"
      },
      "source": [
        "Adicional, es posible seleccionar registros basados en alguna condición.\n",
        "Por ejemplo, se pueden seleccionar solo los registros cuyo valor en la variable año (ANO) sea 2019."
      ]
    },
    {
      "cell_type": "code",
      "execution_count": null,
      "metadata": {
        "id": "T3uW6AlN4Vqe",
        "colab": {
          "base_uri": "https://localhost:8080/",
          "height": 424
        },
        "outputId": "e6606d68-97fb-4ea5-e24a-e153830cacd9"
      },
      "outputs": [
        {
          "output_type": "execute_result",
          "data": {
            "text/plain": [
              "        ANO  TRIMESTRE  DEPARTAMENTO             MUNICIPIO  \\\n",
              "0      2019          4         CHOCO                BOJAYA   \n",
              "2      2019          4     SANTANDER     VALLE DE SAN JOSE   \n",
              "6      2019          3     ANTIOQUIA              FREDONIA   \n",
              "7      2019          1       BOLIVAR                MOMPOS   \n",
              "8      2019          3      NARIï¿½O  SAN PEDRO DE CARTAGO   \n",
              "...     ...        ...           ...                   ...   \n",
              "13207  2019          4  CUNDINAMARCA            GACHANCIPA   \n",
              "13221  2019          3          META         VILLAVICENCIO   \n",
              "13227  2019          4  CUNDINAMARCA              LA PALMA   \n",
              "13269  2019          2  CUNDINAMARCA            SUBACHOQUE   \n",
              "13286  2019          2  CUNDINAMARCA            GACHANCIPA   \n",
              "\n",
              "       No. ACCESOS FIJOS A INTERNET  POBLACION DANE  No. INSTITUCIONES  \n",
              "0                                40           12212                 13  \n",
              "2                                28            6222                  7  \n",
              "6                              2051           24553                 25  \n",
              "7                              1320           45498                 46  \n",
              "8                                44            6831                  7  \n",
              "...                             ...             ...                ...  \n",
              "13207                          1310           18264                 19  \n",
              "13221                         98517          538824                540  \n",
              "13227                            56            9588                 10  \n",
              "13269                          1275           16183                 16  \n",
              "13286                          1313           18264                 19  \n",
              "\n",
              "[4488 rows x 7 columns]"
            ],
            "text/html": [
              "\n",
              "\n",
              "  <div id=\"df-06767027-cf9c-4d33-95df-6af2e06b43cf\">\n",
              "    <div class=\"colab-df-container\">\n",
              "      <div>\n",
              "<style scoped>\n",
              "    .dataframe tbody tr th:only-of-type {\n",
              "        vertical-align: middle;\n",
              "    }\n",
              "\n",
              "    .dataframe tbody tr th {\n",
              "        vertical-align: top;\n",
              "    }\n",
              "\n",
              "    .dataframe thead th {\n",
              "        text-align: right;\n",
              "    }\n",
              "</style>\n",
              "<table border=\"1\" class=\"dataframe\">\n",
              "  <thead>\n",
              "    <tr style=\"text-align: right;\">\n",
              "      <th></th>\n",
              "      <th>ANO</th>\n",
              "      <th>TRIMESTRE</th>\n",
              "      <th>DEPARTAMENTO</th>\n",
              "      <th>MUNICIPIO</th>\n",
              "      <th>No. ACCESOS FIJOS A INTERNET</th>\n",
              "      <th>POBLACION DANE</th>\n",
              "      <th>No. INSTITUCIONES</th>\n",
              "    </tr>\n",
              "  </thead>\n",
              "  <tbody>\n",
              "    <tr>\n",
              "      <th>0</th>\n",
              "      <td>2019</td>\n",
              "      <td>4</td>\n",
              "      <td>CHOCO</td>\n",
              "      <td>BOJAYA</td>\n",
              "      <td>40</td>\n",
              "      <td>12212</td>\n",
              "      <td>13</td>\n",
              "    </tr>\n",
              "    <tr>\n",
              "      <th>2</th>\n",
              "      <td>2019</td>\n",
              "      <td>4</td>\n",
              "      <td>SANTANDER</td>\n",
              "      <td>VALLE DE SAN JOSE</td>\n",
              "      <td>28</td>\n",
              "      <td>6222</td>\n",
              "      <td>7</td>\n",
              "    </tr>\n",
              "    <tr>\n",
              "      <th>6</th>\n",
              "      <td>2019</td>\n",
              "      <td>3</td>\n",
              "      <td>ANTIOQUIA</td>\n",
              "      <td>FREDONIA</td>\n",
              "      <td>2051</td>\n",
              "      <td>24553</td>\n",
              "      <td>25</td>\n",
              "    </tr>\n",
              "    <tr>\n",
              "      <th>7</th>\n",
              "      <td>2019</td>\n",
              "      <td>1</td>\n",
              "      <td>BOLIVAR</td>\n",
              "      <td>MOMPOS</td>\n",
              "      <td>1320</td>\n",
              "      <td>45498</td>\n",
              "      <td>46</td>\n",
              "    </tr>\n",
              "    <tr>\n",
              "      <th>8</th>\n",
              "      <td>2019</td>\n",
              "      <td>3</td>\n",
              "      <td>NARIï¿½O</td>\n",
              "      <td>SAN PEDRO DE CARTAGO</td>\n",
              "      <td>44</td>\n",
              "      <td>6831</td>\n",
              "      <td>7</td>\n",
              "    </tr>\n",
              "    <tr>\n",
              "      <th>...</th>\n",
              "      <td>...</td>\n",
              "      <td>...</td>\n",
              "      <td>...</td>\n",
              "      <td>...</td>\n",
              "      <td>...</td>\n",
              "      <td>...</td>\n",
              "      <td>...</td>\n",
              "    </tr>\n",
              "    <tr>\n",
              "      <th>13207</th>\n",
              "      <td>2019</td>\n",
              "      <td>4</td>\n",
              "      <td>CUNDINAMARCA</td>\n",
              "      <td>GACHANCIPA</td>\n",
              "      <td>1310</td>\n",
              "      <td>18264</td>\n",
              "      <td>19</td>\n",
              "    </tr>\n",
              "    <tr>\n",
              "      <th>13221</th>\n",
              "      <td>2019</td>\n",
              "      <td>3</td>\n",
              "      <td>META</td>\n",
              "      <td>VILLAVICENCIO</td>\n",
              "      <td>98517</td>\n",
              "      <td>538824</td>\n",
              "      <td>540</td>\n",
              "    </tr>\n",
              "    <tr>\n",
              "      <th>13227</th>\n",
              "      <td>2019</td>\n",
              "      <td>4</td>\n",
              "      <td>CUNDINAMARCA</td>\n",
              "      <td>LA PALMA</td>\n",
              "      <td>56</td>\n",
              "      <td>9588</td>\n",
              "      <td>10</td>\n",
              "    </tr>\n",
              "    <tr>\n",
              "      <th>13269</th>\n",
              "      <td>2019</td>\n",
              "      <td>2</td>\n",
              "      <td>CUNDINAMARCA</td>\n",
              "      <td>SUBACHOQUE</td>\n",
              "      <td>1275</td>\n",
              "      <td>16183</td>\n",
              "      <td>16</td>\n",
              "    </tr>\n",
              "    <tr>\n",
              "      <th>13286</th>\n",
              "      <td>2019</td>\n",
              "      <td>2</td>\n",
              "      <td>CUNDINAMARCA</td>\n",
              "      <td>GACHANCIPA</td>\n",
              "      <td>1313</td>\n",
              "      <td>18264</td>\n",
              "      <td>19</td>\n",
              "    </tr>\n",
              "  </tbody>\n",
              "</table>\n",
              "<p>4488 rows × 7 columns</p>\n",
              "</div>\n",
              "      <button class=\"colab-df-convert\" onclick=\"convertToInteractive('df-06767027-cf9c-4d33-95df-6af2e06b43cf')\"\n",
              "              title=\"Convert this dataframe to an interactive table.\"\n",
              "              style=\"display:none;\">\n",
              "\n",
              "  <svg xmlns=\"http://www.w3.org/2000/svg\" height=\"24px\"viewBox=\"0 0 24 24\"\n",
              "       width=\"24px\">\n",
              "    <path d=\"M0 0h24v24H0V0z\" fill=\"none\"/>\n",
              "    <path d=\"M18.56 5.44l.94 2.06.94-2.06 2.06-.94-2.06-.94-.94-2.06-.94 2.06-2.06.94zm-11 1L8.5 8.5l.94-2.06 2.06-.94-2.06-.94L8.5 2.5l-.94 2.06-2.06.94zm10 10l.94 2.06.94-2.06 2.06-.94-2.06-.94-.94-2.06-.94 2.06-2.06.94z\"/><path d=\"M17.41 7.96l-1.37-1.37c-.4-.4-.92-.59-1.43-.59-.52 0-1.04.2-1.43.59L10.3 9.45l-7.72 7.72c-.78.78-.78 2.05 0 2.83L4 21.41c.39.39.9.59 1.41.59.51 0 1.02-.2 1.41-.59l7.78-7.78 2.81-2.81c.8-.78.8-2.07 0-2.86zM5.41 20L4 18.59l7.72-7.72 1.47 1.35L5.41 20z\"/>\n",
              "  </svg>\n",
              "      </button>\n",
              "\n",
              "\n",
              "\n",
              "    <div id=\"df-28e67232-65fc-405d-aec5-116c0cb22bce\">\n",
              "      <button class=\"colab-df-quickchart\" onclick=\"quickchart('df-28e67232-65fc-405d-aec5-116c0cb22bce')\"\n",
              "              title=\"Suggest charts.\"\n",
              "              style=\"display:none;\">\n",
              "\n",
              "<svg xmlns=\"http://www.w3.org/2000/svg\" height=\"24px\"viewBox=\"0 0 24 24\"\n",
              "     width=\"24px\">\n",
              "    <g>\n",
              "        <path d=\"M19 3H5c-1.1 0-2 .9-2 2v14c0 1.1.9 2 2 2h14c1.1 0 2-.9 2-2V5c0-1.1-.9-2-2-2zM9 17H7v-7h2v7zm4 0h-2V7h2v10zm4 0h-2v-4h2v4z\"/>\n",
              "    </g>\n",
              "</svg>\n",
              "      </button>\n",
              "    </div>\n",
              "\n",
              "<style>\n",
              "  .colab-df-quickchart {\n",
              "    background-color: #E8F0FE;\n",
              "    border: none;\n",
              "    border-radius: 50%;\n",
              "    cursor: pointer;\n",
              "    display: none;\n",
              "    fill: #1967D2;\n",
              "    height: 32px;\n",
              "    padding: 0 0 0 0;\n",
              "    width: 32px;\n",
              "  }\n",
              "\n",
              "  .colab-df-quickchart:hover {\n",
              "    background-color: #E2EBFA;\n",
              "    box-shadow: 0px 1px 2px rgba(60, 64, 67, 0.3), 0px 1px 3px 1px rgba(60, 64, 67, 0.15);\n",
              "    fill: #174EA6;\n",
              "  }\n",
              "\n",
              "  [theme=dark] .colab-df-quickchart {\n",
              "    background-color: #3B4455;\n",
              "    fill: #D2E3FC;\n",
              "  }\n",
              "\n",
              "  [theme=dark] .colab-df-quickchart:hover {\n",
              "    background-color: #434B5C;\n",
              "    box-shadow: 0px 1px 3px 1px rgba(0, 0, 0, 0.15);\n",
              "    filter: drop-shadow(0px 1px 2px rgba(0, 0, 0, 0.3));\n",
              "    fill: #FFFFFF;\n",
              "  }\n",
              "</style>\n",
              "\n",
              "    <script>\n",
              "      async function quickchart(key) {\n",
              "        const containerElement = document.querySelector('#' + key);\n",
              "        const charts = await google.colab.kernel.invokeFunction(\n",
              "            'suggestCharts', [key], {});\n",
              "      }\n",
              "    </script>\n",
              "\n",
              "      <script>\n",
              "\n",
              "function displayQuickchartButton(domScope) {\n",
              "  let quickchartButtonEl =\n",
              "    domScope.querySelector('#df-28e67232-65fc-405d-aec5-116c0cb22bce button.colab-df-quickchart');\n",
              "  quickchartButtonEl.style.display =\n",
              "    google.colab.kernel.accessAllowed ? 'block' : 'none';\n",
              "}\n",
              "\n",
              "        displayQuickchartButton(document);\n",
              "      </script>\n",
              "      <style>\n",
              "    .colab-df-container {\n",
              "      display:flex;\n",
              "      flex-wrap:wrap;\n",
              "      gap: 12px;\n",
              "    }\n",
              "\n",
              "    .colab-df-convert {\n",
              "      background-color: #E8F0FE;\n",
              "      border: none;\n",
              "      border-radius: 50%;\n",
              "      cursor: pointer;\n",
              "      display: none;\n",
              "      fill: #1967D2;\n",
              "      height: 32px;\n",
              "      padding: 0 0 0 0;\n",
              "      width: 32px;\n",
              "    }\n",
              "\n",
              "    .colab-df-convert:hover {\n",
              "      background-color: #E2EBFA;\n",
              "      box-shadow: 0px 1px 2px rgba(60, 64, 67, 0.3), 0px 1px 3px 1px rgba(60, 64, 67, 0.15);\n",
              "      fill: #174EA6;\n",
              "    }\n",
              "\n",
              "    [theme=dark] .colab-df-convert {\n",
              "      background-color: #3B4455;\n",
              "      fill: #D2E3FC;\n",
              "    }\n",
              "\n",
              "    [theme=dark] .colab-df-convert:hover {\n",
              "      background-color: #434B5C;\n",
              "      box-shadow: 0px 1px 3px 1px rgba(0, 0, 0, 0.15);\n",
              "      filter: drop-shadow(0px 1px 2px rgba(0, 0, 0, 0.3));\n",
              "      fill: #FFFFFF;\n",
              "    }\n",
              "  </style>\n",
              "\n",
              "      <script>\n",
              "        const buttonEl =\n",
              "          document.querySelector('#df-06767027-cf9c-4d33-95df-6af2e06b43cf button.colab-df-convert');\n",
              "        buttonEl.style.display =\n",
              "          google.colab.kernel.accessAllowed ? 'block' : 'none';\n",
              "\n",
              "        async function convertToInteractive(key) {\n",
              "          const element = document.querySelector('#df-06767027-cf9c-4d33-95df-6af2e06b43cf');\n",
              "          const dataTable =\n",
              "            await google.colab.kernel.invokeFunction('convertToInteractive',\n",
              "                                                     [key], {});\n",
              "          if (!dataTable) return;\n",
              "\n",
              "          const docLinkHtml = 'Like what you see? Visit the ' +\n",
              "            '<a target=\"_blank\" href=https://colab.research.google.com/notebooks/data_table.ipynb>data table notebook</a>'\n",
              "            + ' to learn more about interactive tables.';\n",
              "          element.innerHTML = '';\n",
              "          dataTable['output_type'] = 'display_data';\n",
              "          await google.colab.output.renderOutput(dataTable, element);\n",
              "          const docLink = document.createElement('div');\n",
              "          docLink.innerHTML = docLinkHtml;\n",
              "          element.appendChild(docLink);\n",
              "        }\n",
              "      </script>\n",
              "    </div>\n",
              "  </div>\n"
            ]
          },
          "metadata": {},
          "execution_count": 74
        }
      ],
      "source": [
        "seleccion = internet[internet['ANO']==2019]\n",
        "seleccion\n"
      ]
    },
    {
      "cell_type": "markdown",
      "metadata": {
        "id": "KQkWwE3u257t"
      },
      "source": [
        "### <font color='8EC044'> **Seleccionar columnas** </font>"
      ]
    },
    {
      "cell_type": "markdown",
      "metadata": {
        "id": "SciDPKhYAQ3d"
      },
      "source": [
        "\n",
        "Al igual que con las filas, se pueden seleccionar columnas de diferentes formas:\n",
        "\n",
        "| Método | Descripción | Ejemplo |\n",
        "|--------|-------------|---------|\n",
        "| `[]`   | Selecciona una o varias columnas por nombre | `df['nombre']` o `df[['nombre', 'edad']]` |\n",
        "| `loc[]` | Selecciona una o varias columnas por etiquetas o valores de índice | `df.loc[:, 'nombre']` o `df.loc[:, ['nombre', 'edad']]` |\n",
        "| `iloc[]` | Selecciona una o varias columnas por posición de índice | `df.iloc[:, 0]` o `df.iloc[:, [0, 1]]` |\n",
        "| `filter()` | Selecciona columnas que cumplen una condición | `df.filter(like='n')` o `df.filter(regex='^e')` |\n",
        "| `select_dtypes()` | Selecciona columnas por tipo de dato | `df.select_dtypes(include=['float'])` |\n",
        "\n",
        "\n",
        "\n",
        "Los comandos más comunes son 'iloc' y 'loc'. La primera se basa en los índices de las columnas y la segunda en el valor de dichos índices."
      ]
    },
    {
      "cell_type": "markdown",
      "metadata": {
        "id": "u2-DxAq5DakE"
      },
      "source": [
        "Nota que adicionamos ':' como primer argumento de la selección, con el fin de indicar que queremos todos los registros (filas) para las columnas cuyo índice está entre el 1 y el 3, sin incluir esta última."
      ]
    },
    {
      "cell_type": "code",
      "execution_count": null,
      "metadata": {
        "id": "Ah5Q268AAYNc",
        "colab": {
          "base_uri": "https://localhost:8080/",
          "height": 424
        },
        "outputId": "89d0e733-c861-4aa1-be58-a02119e20757"
      },
      "outputs": [
        {
          "output_type": "execute_result",
          "data": {
            "text/plain": [
              "       TRIMESTRE DEPARTAMENTO\n",
              "0              4        CHOCO\n",
              "1              1       VAUPES\n",
              "2              4    SANTANDER\n",
              "3              4    SANTANDER\n",
              "4              4        SUCRE\n",
              "...          ...          ...\n",
              "13459          2    ANTIOQUIA\n",
              "13460          3        CAUCA\n",
              "13461          2    SANTANDER\n",
              "13462          2    SANTANDER\n",
              "13463          3     AMAZONAS\n",
              "\n",
              "[13464 rows x 2 columns]"
            ],
            "text/html": [
              "\n",
              "\n",
              "  <div id=\"df-6a93de64-1db5-42e1-a0bf-8dc8d14f58d1\">\n",
              "    <div class=\"colab-df-container\">\n",
              "      <div>\n",
              "<style scoped>\n",
              "    .dataframe tbody tr th:only-of-type {\n",
              "        vertical-align: middle;\n",
              "    }\n",
              "\n",
              "    .dataframe tbody tr th {\n",
              "        vertical-align: top;\n",
              "    }\n",
              "\n",
              "    .dataframe thead th {\n",
              "        text-align: right;\n",
              "    }\n",
              "</style>\n",
              "<table border=\"1\" class=\"dataframe\">\n",
              "  <thead>\n",
              "    <tr style=\"text-align: right;\">\n",
              "      <th></th>\n",
              "      <th>TRIMESTRE</th>\n",
              "      <th>DEPARTAMENTO</th>\n",
              "    </tr>\n",
              "  </thead>\n",
              "  <tbody>\n",
              "    <tr>\n",
              "      <th>0</th>\n",
              "      <td>4</td>\n",
              "      <td>CHOCO</td>\n",
              "    </tr>\n",
              "    <tr>\n",
              "      <th>1</th>\n",
              "      <td>1</td>\n",
              "      <td>VAUPES</td>\n",
              "    </tr>\n",
              "    <tr>\n",
              "      <th>2</th>\n",
              "      <td>4</td>\n",
              "      <td>SANTANDER</td>\n",
              "    </tr>\n",
              "    <tr>\n",
              "      <th>3</th>\n",
              "      <td>4</td>\n",
              "      <td>SANTANDER</td>\n",
              "    </tr>\n",
              "    <tr>\n",
              "      <th>4</th>\n",
              "      <td>4</td>\n",
              "      <td>SUCRE</td>\n",
              "    </tr>\n",
              "    <tr>\n",
              "      <th>...</th>\n",
              "      <td>...</td>\n",
              "      <td>...</td>\n",
              "    </tr>\n",
              "    <tr>\n",
              "      <th>13459</th>\n",
              "      <td>2</td>\n",
              "      <td>ANTIOQUIA</td>\n",
              "    </tr>\n",
              "    <tr>\n",
              "      <th>13460</th>\n",
              "      <td>3</td>\n",
              "      <td>CAUCA</td>\n",
              "    </tr>\n",
              "    <tr>\n",
              "      <th>13461</th>\n",
              "      <td>2</td>\n",
              "      <td>SANTANDER</td>\n",
              "    </tr>\n",
              "    <tr>\n",
              "      <th>13462</th>\n",
              "      <td>2</td>\n",
              "      <td>SANTANDER</td>\n",
              "    </tr>\n",
              "    <tr>\n",
              "      <th>13463</th>\n",
              "      <td>3</td>\n",
              "      <td>AMAZONAS</td>\n",
              "    </tr>\n",
              "  </tbody>\n",
              "</table>\n",
              "<p>13464 rows × 2 columns</p>\n",
              "</div>\n",
              "      <button class=\"colab-df-convert\" onclick=\"convertToInteractive('df-6a93de64-1db5-42e1-a0bf-8dc8d14f58d1')\"\n",
              "              title=\"Convert this dataframe to an interactive table.\"\n",
              "              style=\"display:none;\">\n",
              "\n",
              "  <svg xmlns=\"http://www.w3.org/2000/svg\" height=\"24px\"viewBox=\"0 0 24 24\"\n",
              "       width=\"24px\">\n",
              "    <path d=\"M0 0h24v24H0V0z\" fill=\"none\"/>\n",
              "    <path d=\"M18.56 5.44l.94 2.06.94-2.06 2.06-.94-2.06-.94-.94-2.06-.94 2.06-2.06.94zm-11 1L8.5 8.5l.94-2.06 2.06-.94-2.06-.94L8.5 2.5l-.94 2.06-2.06.94zm10 10l.94 2.06.94-2.06 2.06-.94-2.06-.94-.94-2.06-.94 2.06-2.06.94z\"/><path d=\"M17.41 7.96l-1.37-1.37c-.4-.4-.92-.59-1.43-.59-.52 0-1.04.2-1.43.59L10.3 9.45l-7.72 7.72c-.78.78-.78 2.05 0 2.83L4 21.41c.39.39.9.59 1.41.59.51 0 1.02-.2 1.41-.59l7.78-7.78 2.81-2.81c.8-.78.8-2.07 0-2.86zM5.41 20L4 18.59l7.72-7.72 1.47 1.35L5.41 20z\"/>\n",
              "  </svg>\n",
              "      </button>\n",
              "\n",
              "\n",
              "\n",
              "    <div id=\"df-bb04d37b-dd43-4389-a323-68d363d723a3\">\n",
              "      <button class=\"colab-df-quickchart\" onclick=\"quickchart('df-bb04d37b-dd43-4389-a323-68d363d723a3')\"\n",
              "              title=\"Suggest charts.\"\n",
              "              style=\"display:none;\">\n",
              "\n",
              "<svg xmlns=\"http://www.w3.org/2000/svg\" height=\"24px\"viewBox=\"0 0 24 24\"\n",
              "     width=\"24px\">\n",
              "    <g>\n",
              "        <path d=\"M19 3H5c-1.1 0-2 .9-2 2v14c0 1.1.9 2 2 2h14c1.1 0 2-.9 2-2V5c0-1.1-.9-2-2-2zM9 17H7v-7h2v7zm4 0h-2V7h2v10zm4 0h-2v-4h2v4z\"/>\n",
              "    </g>\n",
              "</svg>\n",
              "      </button>\n",
              "    </div>\n",
              "\n",
              "<style>\n",
              "  .colab-df-quickchart {\n",
              "    background-color: #E8F0FE;\n",
              "    border: none;\n",
              "    border-radius: 50%;\n",
              "    cursor: pointer;\n",
              "    display: none;\n",
              "    fill: #1967D2;\n",
              "    height: 32px;\n",
              "    padding: 0 0 0 0;\n",
              "    width: 32px;\n",
              "  }\n",
              "\n",
              "  .colab-df-quickchart:hover {\n",
              "    background-color: #E2EBFA;\n",
              "    box-shadow: 0px 1px 2px rgba(60, 64, 67, 0.3), 0px 1px 3px 1px rgba(60, 64, 67, 0.15);\n",
              "    fill: #174EA6;\n",
              "  }\n",
              "\n",
              "  [theme=dark] .colab-df-quickchart {\n",
              "    background-color: #3B4455;\n",
              "    fill: #D2E3FC;\n",
              "  }\n",
              "\n",
              "  [theme=dark] .colab-df-quickchart:hover {\n",
              "    background-color: #434B5C;\n",
              "    box-shadow: 0px 1px 3px 1px rgba(0, 0, 0, 0.15);\n",
              "    filter: drop-shadow(0px 1px 2px rgba(0, 0, 0, 0.3));\n",
              "    fill: #FFFFFF;\n",
              "  }\n",
              "</style>\n",
              "\n",
              "    <script>\n",
              "      async function quickchart(key) {\n",
              "        const containerElement = document.querySelector('#' + key);\n",
              "        const charts = await google.colab.kernel.invokeFunction(\n",
              "            'suggestCharts', [key], {});\n",
              "      }\n",
              "    </script>\n",
              "\n",
              "      <script>\n",
              "\n",
              "function displayQuickchartButton(domScope) {\n",
              "  let quickchartButtonEl =\n",
              "    domScope.querySelector('#df-bb04d37b-dd43-4389-a323-68d363d723a3 button.colab-df-quickchart');\n",
              "  quickchartButtonEl.style.display =\n",
              "    google.colab.kernel.accessAllowed ? 'block' : 'none';\n",
              "}\n",
              "\n",
              "        displayQuickchartButton(document);\n",
              "      </script>\n",
              "      <style>\n",
              "    .colab-df-container {\n",
              "      display:flex;\n",
              "      flex-wrap:wrap;\n",
              "      gap: 12px;\n",
              "    }\n",
              "\n",
              "    .colab-df-convert {\n",
              "      background-color: #E8F0FE;\n",
              "      border: none;\n",
              "      border-radius: 50%;\n",
              "      cursor: pointer;\n",
              "      display: none;\n",
              "      fill: #1967D2;\n",
              "      height: 32px;\n",
              "      padding: 0 0 0 0;\n",
              "      width: 32px;\n",
              "    }\n",
              "\n",
              "    .colab-df-convert:hover {\n",
              "      background-color: #E2EBFA;\n",
              "      box-shadow: 0px 1px 2px rgba(60, 64, 67, 0.3), 0px 1px 3px 1px rgba(60, 64, 67, 0.15);\n",
              "      fill: #174EA6;\n",
              "    }\n",
              "\n",
              "    [theme=dark] .colab-df-convert {\n",
              "      background-color: #3B4455;\n",
              "      fill: #D2E3FC;\n",
              "    }\n",
              "\n",
              "    [theme=dark] .colab-df-convert:hover {\n",
              "      background-color: #434B5C;\n",
              "      box-shadow: 0px 1px 3px 1px rgba(0, 0, 0, 0.15);\n",
              "      filter: drop-shadow(0px 1px 2px rgba(0, 0, 0, 0.3));\n",
              "      fill: #FFFFFF;\n",
              "    }\n",
              "  </style>\n",
              "\n",
              "      <script>\n",
              "        const buttonEl =\n",
              "          document.querySelector('#df-6a93de64-1db5-42e1-a0bf-8dc8d14f58d1 button.colab-df-convert');\n",
              "        buttonEl.style.display =\n",
              "          google.colab.kernel.accessAllowed ? 'block' : 'none';\n",
              "\n",
              "        async function convertToInteractive(key) {\n",
              "          const element = document.querySelector('#df-6a93de64-1db5-42e1-a0bf-8dc8d14f58d1');\n",
              "          const dataTable =\n",
              "            await google.colab.kernel.invokeFunction('convertToInteractive',\n",
              "                                                     [key], {});\n",
              "          if (!dataTable) return;\n",
              "\n",
              "          const docLinkHtml = 'Like what you see? Visit the ' +\n",
              "            '<a target=\"_blank\" href=https://colab.research.google.com/notebooks/data_table.ipynb>data table notebook</a>'\n",
              "            + ' to learn more about interactive tables.';\n",
              "          element.innerHTML = '';\n",
              "          dataTable['output_type'] = 'display_data';\n",
              "          await google.colab.output.renderOutput(dataTable, element);\n",
              "          const docLink = document.createElement('div');\n",
              "          docLink.innerHTML = docLinkHtml;\n",
              "          element.appendChild(docLink);\n",
              "        }\n",
              "      </script>\n",
              "    </div>\n",
              "  </div>\n"
            ]
          },
          "metadata": {},
          "execution_count": 75
        }
      ],
      "source": [
        "seleccion = internet.iloc[:, 1:3]\n",
        "seleccion"
      ]
    },
    {
      "cell_type": "markdown",
      "metadata": {
        "id": "bC5DgDdMDsxj"
      },
      "source": [
        "Si usamos la función 'loc', debemos especificar los nombres de las columnas que deseamos extraer."
      ]
    },
    {
      "cell_type": "code",
      "execution_count": null,
      "metadata": {
        "id": "DqkofFa9Aexh",
        "colab": {
          "base_uri": "https://localhost:8080/",
          "height": 424
        },
        "outputId": "3e9fef3f-1e97-43ae-802e-3e925ce19376"
      },
      "outputs": [
        {
          "output_type": "execute_result",
          "data": {
            "text/plain": [
              "       TRIMESTRE DEPARTAMENTO          MUNICIPIO\n",
              "0              4        CHOCO             BOJAYA\n",
              "1              1       VAUPES             CARURU\n",
              "2              4    SANTANDER  VALLE DE SAN JOSE\n",
              "3              4    SANTANDER           SIMACOTA\n",
              "4              4        SUCRE            CAIMITO\n",
              "...          ...          ...                ...\n",
              "13459          2    ANTIOQUIA           VALDIVIA\n",
              "13460          3        CAUCA         VILLA RICA\n",
              "13461          2    SANTANDER             AGUADA\n",
              "13462          2    SANTANDER              SUCRE\n",
              "13463          3     AMAZONAS            LETICIA\n",
              "\n",
              "[13464 rows x 3 columns]"
            ],
            "text/html": [
              "\n",
              "\n",
              "  <div id=\"df-e49c599e-9c61-44ca-bcef-c1797bfb5340\">\n",
              "    <div class=\"colab-df-container\">\n",
              "      <div>\n",
              "<style scoped>\n",
              "    .dataframe tbody tr th:only-of-type {\n",
              "        vertical-align: middle;\n",
              "    }\n",
              "\n",
              "    .dataframe tbody tr th {\n",
              "        vertical-align: top;\n",
              "    }\n",
              "\n",
              "    .dataframe thead th {\n",
              "        text-align: right;\n",
              "    }\n",
              "</style>\n",
              "<table border=\"1\" class=\"dataframe\">\n",
              "  <thead>\n",
              "    <tr style=\"text-align: right;\">\n",
              "      <th></th>\n",
              "      <th>TRIMESTRE</th>\n",
              "      <th>DEPARTAMENTO</th>\n",
              "      <th>MUNICIPIO</th>\n",
              "    </tr>\n",
              "  </thead>\n",
              "  <tbody>\n",
              "    <tr>\n",
              "      <th>0</th>\n",
              "      <td>4</td>\n",
              "      <td>CHOCO</td>\n",
              "      <td>BOJAYA</td>\n",
              "    </tr>\n",
              "    <tr>\n",
              "      <th>1</th>\n",
              "      <td>1</td>\n",
              "      <td>VAUPES</td>\n",
              "      <td>CARURU</td>\n",
              "    </tr>\n",
              "    <tr>\n",
              "      <th>2</th>\n",
              "      <td>4</td>\n",
              "      <td>SANTANDER</td>\n",
              "      <td>VALLE DE SAN JOSE</td>\n",
              "    </tr>\n",
              "    <tr>\n",
              "      <th>3</th>\n",
              "      <td>4</td>\n",
              "      <td>SANTANDER</td>\n",
              "      <td>SIMACOTA</td>\n",
              "    </tr>\n",
              "    <tr>\n",
              "      <th>4</th>\n",
              "      <td>4</td>\n",
              "      <td>SUCRE</td>\n",
              "      <td>CAIMITO</td>\n",
              "    </tr>\n",
              "    <tr>\n",
              "      <th>...</th>\n",
              "      <td>...</td>\n",
              "      <td>...</td>\n",
              "      <td>...</td>\n",
              "    </tr>\n",
              "    <tr>\n",
              "      <th>13459</th>\n",
              "      <td>2</td>\n",
              "      <td>ANTIOQUIA</td>\n",
              "      <td>VALDIVIA</td>\n",
              "    </tr>\n",
              "    <tr>\n",
              "      <th>13460</th>\n",
              "      <td>3</td>\n",
              "      <td>CAUCA</td>\n",
              "      <td>VILLA RICA</td>\n",
              "    </tr>\n",
              "    <tr>\n",
              "      <th>13461</th>\n",
              "      <td>2</td>\n",
              "      <td>SANTANDER</td>\n",
              "      <td>AGUADA</td>\n",
              "    </tr>\n",
              "    <tr>\n",
              "      <th>13462</th>\n",
              "      <td>2</td>\n",
              "      <td>SANTANDER</td>\n",
              "      <td>SUCRE</td>\n",
              "    </tr>\n",
              "    <tr>\n",
              "      <th>13463</th>\n",
              "      <td>3</td>\n",
              "      <td>AMAZONAS</td>\n",
              "      <td>LETICIA</td>\n",
              "    </tr>\n",
              "  </tbody>\n",
              "</table>\n",
              "<p>13464 rows × 3 columns</p>\n",
              "</div>\n",
              "      <button class=\"colab-df-convert\" onclick=\"convertToInteractive('df-e49c599e-9c61-44ca-bcef-c1797bfb5340')\"\n",
              "              title=\"Convert this dataframe to an interactive table.\"\n",
              "              style=\"display:none;\">\n",
              "\n",
              "  <svg xmlns=\"http://www.w3.org/2000/svg\" height=\"24px\"viewBox=\"0 0 24 24\"\n",
              "       width=\"24px\">\n",
              "    <path d=\"M0 0h24v24H0V0z\" fill=\"none\"/>\n",
              "    <path d=\"M18.56 5.44l.94 2.06.94-2.06 2.06-.94-2.06-.94-.94-2.06-.94 2.06-2.06.94zm-11 1L8.5 8.5l.94-2.06 2.06-.94-2.06-.94L8.5 2.5l-.94 2.06-2.06.94zm10 10l.94 2.06.94-2.06 2.06-.94-2.06-.94-.94-2.06-.94 2.06-2.06.94z\"/><path d=\"M17.41 7.96l-1.37-1.37c-.4-.4-.92-.59-1.43-.59-.52 0-1.04.2-1.43.59L10.3 9.45l-7.72 7.72c-.78.78-.78 2.05 0 2.83L4 21.41c.39.39.9.59 1.41.59.51 0 1.02-.2 1.41-.59l7.78-7.78 2.81-2.81c.8-.78.8-2.07 0-2.86zM5.41 20L4 18.59l7.72-7.72 1.47 1.35L5.41 20z\"/>\n",
              "  </svg>\n",
              "      </button>\n",
              "\n",
              "\n",
              "\n",
              "    <div id=\"df-9e5cba42-6668-4c9e-b53b-92c221cb9dae\">\n",
              "      <button class=\"colab-df-quickchart\" onclick=\"quickchart('df-9e5cba42-6668-4c9e-b53b-92c221cb9dae')\"\n",
              "              title=\"Suggest charts.\"\n",
              "              style=\"display:none;\">\n",
              "\n",
              "<svg xmlns=\"http://www.w3.org/2000/svg\" height=\"24px\"viewBox=\"0 0 24 24\"\n",
              "     width=\"24px\">\n",
              "    <g>\n",
              "        <path d=\"M19 3H5c-1.1 0-2 .9-2 2v14c0 1.1.9 2 2 2h14c1.1 0 2-.9 2-2V5c0-1.1-.9-2-2-2zM9 17H7v-7h2v7zm4 0h-2V7h2v10zm4 0h-2v-4h2v4z\"/>\n",
              "    </g>\n",
              "</svg>\n",
              "      </button>\n",
              "    </div>\n",
              "\n",
              "<style>\n",
              "  .colab-df-quickchart {\n",
              "    background-color: #E8F0FE;\n",
              "    border: none;\n",
              "    border-radius: 50%;\n",
              "    cursor: pointer;\n",
              "    display: none;\n",
              "    fill: #1967D2;\n",
              "    height: 32px;\n",
              "    padding: 0 0 0 0;\n",
              "    width: 32px;\n",
              "  }\n",
              "\n",
              "  .colab-df-quickchart:hover {\n",
              "    background-color: #E2EBFA;\n",
              "    box-shadow: 0px 1px 2px rgba(60, 64, 67, 0.3), 0px 1px 3px 1px rgba(60, 64, 67, 0.15);\n",
              "    fill: #174EA6;\n",
              "  }\n",
              "\n",
              "  [theme=dark] .colab-df-quickchart {\n",
              "    background-color: #3B4455;\n",
              "    fill: #D2E3FC;\n",
              "  }\n",
              "\n",
              "  [theme=dark] .colab-df-quickchart:hover {\n",
              "    background-color: #434B5C;\n",
              "    box-shadow: 0px 1px 3px 1px rgba(0, 0, 0, 0.15);\n",
              "    filter: drop-shadow(0px 1px 2px rgba(0, 0, 0, 0.3));\n",
              "    fill: #FFFFFF;\n",
              "  }\n",
              "</style>\n",
              "\n",
              "    <script>\n",
              "      async function quickchart(key) {\n",
              "        const containerElement = document.querySelector('#' + key);\n",
              "        const charts = await google.colab.kernel.invokeFunction(\n",
              "            'suggestCharts', [key], {});\n",
              "      }\n",
              "    </script>\n",
              "\n",
              "      <script>\n",
              "\n",
              "function displayQuickchartButton(domScope) {\n",
              "  let quickchartButtonEl =\n",
              "    domScope.querySelector('#df-9e5cba42-6668-4c9e-b53b-92c221cb9dae button.colab-df-quickchart');\n",
              "  quickchartButtonEl.style.display =\n",
              "    google.colab.kernel.accessAllowed ? 'block' : 'none';\n",
              "}\n",
              "\n",
              "        displayQuickchartButton(document);\n",
              "      </script>\n",
              "      <style>\n",
              "    .colab-df-container {\n",
              "      display:flex;\n",
              "      flex-wrap:wrap;\n",
              "      gap: 12px;\n",
              "    }\n",
              "\n",
              "    .colab-df-convert {\n",
              "      background-color: #E8F0FE;\n",
              "      border: none;\n",
              "      border-radius: 50%;\n",
              "      cursor: pointer;\n",
              "      display: none;\n",
              "      fill: #1967D2;\n",
              "      height: 32px;\n",
              "      padding: 0 0 0 0;\n",
              "      width: 32px;\n",
              "    }\n",
              "\n",
              "    .colab-df-convert:hover {\n",
              "      background-color: #E2EBFA;\n",
              "      box-shadow: 0px 1px 2px rgba(60, 64, 67, 0.3), 0px 1px 3px 1px rgba(60, 64, 67, 0.15);\n",
              "      fill: #174EA6;\n",
              "    }\n",
              "\n",
              "    [theme=dark] .colab-df-convert {\n",
              "      background-color: #3B4455;\n",
              "      fill: #D2E3FC;\n",
              "    }\n",
              "\n",
              "    [theme=dark] .colab-df-convert:hover {\n",
              "      background-color: #434B5C;\n",
              "      box-shadow: 0px 1px 3px 1px rgba(0, 0, 0, 0.15);\n",
              "      filter: drop-shadow(0px 1px 2px rgba(0, 0, 0, 0.3));\n",
              "      fill: #FFFFFF;\n",
              "    }\n",
              "  </style>\n",
              "\n",
              "      <script>\n",
              "        const buttonEl =\n",
              "          document.querySelector('#df-e49c599e-9c61-44ca-bcef-c1797bfb5340 button.colab-df-convert');\n",
              "        buttonEl.style.display =\n",
              "          google.colab.kernel.accessAllowed ? 'block' : 'none';\n",
              "\n",
              "        async function convertToInteractive(key) {\n",
              "          const element = document.querySelector('#df-e49c599e-9c61-44ca-bcef-c1797bfb5340');\n",
              "          const dataTable =\n",
              "            await google.colab.kernel.invokeFunction('convertToInteractive',\n",
              "                                                     [key], {});\n",
              "          if (!dataTable) return;\n",
              "\n",
              "          const docLinkHtml = 'Like what you see? Visit the ' +\n",
              "            '<a target=\"_blank\" href=https://colab.research.google.com/notebooks/data_table.ipynb>data table notebook</a>'\n",
              "            + ' to learn more about interactive tables.';\n",
              "          element.innerHTML = '';\n",
              "          dataTable['output_type'] = 'display_data';\n",
              "          await google.colab.output.renderOutput(dataTable, element);\n",
              "          const docLink = document.createElement('div');\n",
              "          docLink.innerHTML = docLinkHtml;\n",
              "          element.appendChild(docLink);\n",
              "        }\n",
              "      </script>\n",
              "    </div>\n",
              "  </div>\n"
            ]
          },
          "metadata": {},
          "execution_count": 76
        }
      ],
      "source": [
        "seleccion = internet.loc[:, \"TRIMESTRE\":\"MUNICIPIO\"]\n",
        "seleccion"
      ]
    },
    {
      "cell_type": "markdown",
      "metadata": {
        "id": "QY4kTmBGAiMq"
      },
      "source": [
        "Además, podemos seleccionar columnas con la referencia a su nombre. Considera el DataFrame Internet que leimos antes, selecciona la columna MUNICIPIOS."
      ]
    },
    {
      "cell_type": "code",
      "execution_count": null,
      "metadata": {
        "id": "fvapn0joA4Ya",
        "colab": {
          "base_uri": "https://localhost:8080/"
        },
        "outputId": "0c8994d4-bbc1-409c-bc87-5b59de8c4b20"
      },
      "outputs": [
        {
          "output_type": "execute_result",
          "data": {
            "text/plain": [
              "0                   BOJAYA\n",
              "1                   CARURU\n",
              "2        VALLE DE SAN JOSE\n",
              "3                 SIMACOTA\n",
              "4                  CAIMITO\n",
              "               ...        \n",
              "13459             VALDIVIA\n",
              "13460           VILLA RICA\n",
              "13461               AGUADA\n",
              "13462                SUCRE\n",
              "13463              LETICIA\n",
              "Name: MUNICIPIO, Length: 13464, dtype: object"
            ]
          },
          "metadata": {},
          "execution_count": 77
        }
      ],
      "source": [
        "municipios = internet[\"MUNICIPIO\"]\n",
        "municipios"
      ]
    },
    {
      "cell_type": "markdown",
      "metadata": {
        "id": "RjW_v-gGBBRI"
      },
      "source": [
        "En esta caso, la selección correponde a una 'Serie'."
      ]
    },
    {
      "cell_type": "code",
      "execution_count": null,
      "metadata": {
        "id": "5U7W2QUFBEkz",
        "colab": {
          "base_uri": "https://localhost:8080/"
        },
        "outputId": "83aebe81-8932-4e67-9a2d-a260825064da"
      },
      "outputs": [
        {
          "output_type": "execute_result",
          "data": {
            "text/plain": [
              "pandas.core.series.Series"
            ]
          },
          "metadata": {},
          "execution_count": 78
        }
      ],
      "source": [
        "type(municipios)"
      ]
    },
    {
      "cell_type": "markdown",
      "metadata": {
        "id": "m89v4Uw7BHkc"
      },
      "source": [
        "De forma similar podriamos seleccionar varias columnas, para ellos pasamos como argumento un listado de nombres de columnas."
      ]
    },
    {
      "cell_type": "code",
      "execution_count": null,
      "metadata": {
        "id": "u5E495HfBKON",
        "colab": {
          "base_uri": "https://localhost:8080/",
          "height": 424
        },
        "outputId": "62005faa-fed4-4cea-f2eb-4b0442cf1849"
      },
      "outputs": [
        {
          "output_type": "execute_result",
          "data": {
            "text/plain": [
              "               MUNICIPIO  POBLACION DANE\n",
              "0                 BOJAYA           12212\n",
              "1                 CARURU            3201\n",
              "2      VALLE DE SAN JOSE            6222\n",
              "3               SIMACOTA           10042\n",
              "4                CAIMITO           15231\n",
              "...                  ...             ...\n",
              "13459           VALDIVIA           14102\n",
              "13460         VILLA RICA           16596\n",
              "13461             AGUADA            1867\n",
              "13462              SUCRE            7202\n",
              "13463            LETICIA           41957\n",
              "\n",
              "[13464 rows x 2 columns]"
            ],
            "text/html": [
              "\n",
              "\n",
              "  <div id=\"df-1bb95ddc-ad58-448c-b8d0-8da8a8c26623\">\n",
              "    <div class=\"colab-df-container\">\n",
              "      <div>\n",
              "<style scoped>\n",
              "    .dataframe tbody tr th:only-of-type {\n",
              "        vertical-align: middle;\n",
              "    }\n",
              "\n",
              "    .dataframe tbody tr th {\n",
              "        vertical-align: top;\n",
              "    }\n",
              "\n",
              "    .dataframe thead th {\n",
              "        text-align: right;\n",
              "    }\n",
              "</style>\n",
              "<table border=\"1\" class=\"dataframe\">\n",
              "  <thead>\n",
              "    <tr style=\"text-align: right;\">\n",
              "      <th></th>\n",
              "      <th>MUNICIPIO</th>\n",
              "      <th>POBLACION DANE</th>\n",
              "    </tr>\n",
              "  </thead>\n",
              "  <tbody>\n",
              "    <tr>\n",
              "      <th>0</th>\n",
              "      <td>BOJAYA</td>\n",
              "      <td>12212</td>\n",
              "    </tr>\n",
              "    <tr>\n",
              "      <th>1</th>\n",
              "      <td>CARURU</td>\n",
              "      <td>3201</td>\n",
              "    </tr>\n",
              "    <tr>\n",
              "      <th>2</th>\n",
              "      <td>VALLE DE SAN JOSE</td>\n",
              "      <td>6222</td>\n",
              "    </tr>\n",
              "    <tr>\n",
              "      <th>3</th>\n",
              "      <td>SIMACOTA</td>\n",
              "      <td>10042</td>\n",
              "    </tr>\n",
              "    <tr>\n",
              "      <th>4</th>\n",
              "      <td>CAIMITO</td>\n",
              "      <td>15231</td>\n",
              "    </tr>\n",
              "    <tr>\n",
              "      <th>...</th>\n",
              "      <td>...</td>\n",
              "      <td>...</td>\n",
              "    </tr>\n",
              "    <tr>\n",
              "      <th>13459</th>\n",
              "      <td>VALDIVIA</td>\n",
              "      <td>14102</td>\n",
              "    </tr>\n",
              "    <tr>\n",
              "      <th>13460</th>\n",
              "      <td>VILLA RICA</td>\n",
              "      <td>16596</td>\n",
              "    </tr>\n",
              "    <tr>\n",
              "      <th>13461</th>\n",
              "      <td>AGUADA</td>\n",
              "      <td>1867</td>\n",
              "    </tr>\n",
              "    <tr>\n",
              "      <th>13462</th>\n",
              "      <td>SUCRE</td>\n",
              "      <td>7202</td>\n",
              "    </tr>\n",
              "    <tr>\n",
              "      <th>13463</th>\n",
              "      <td>LETICIA</td>\n",
              "      <td>41957</td>\n",
              "    </tr>\n",
              "  </tbody>\n",
              "</table>\n",
              "<p>13464 rows × 2 columns</p>\n",
              "</div>\n",
              "      <button class=\"colab-df-convert\" onclick=\"convertToInteractive('df-1bb95ddc-ad58-448c-b8d0-8da8a8c26623')\"\n",
              "              title=\"Convert this dataframe to an interactive table.\"\n",
              "              style=\"display:none;\">\n",
              "\n",
              "  <svg xmlns=\"http://www.w3.org/2000/svg\" height=\"24px\"viewBox=\"0 0 24 24\"\n",
              "       width=\"24px\">\n",
              "    <path d=\"M0 0h24v24H0V0z\" fill=\"none\"/>\n",
              "    <path d=\"M18.56 5.44l.94 2.06.94-2.06 2.06-.94-2.06-.94-.94-2.06-.94 2.06-2.06.94zm-11 1L8.5 8.5l.94-2.06 2.06-.94-2.06-.94L8.5 2.5l-.94 2.06-2.06.94zm10 10l.94 2.06.94-2.06 2.06-.94-2.06-.94-.94-2.06-.94 2.06-2.06.94z\"/><path d=\"M17.41 7.96l-1.37-1.37c-.4-.4-.92-.59-1.43-.59-.52 0-1.04.2-1.43.59L10.3 9.45l-7.72 7.72c-.78.78-.78 2.05 0 2.83L4 21.41c.39.39.9.59 1.41.59.51 0 1.02-.2 1.41-.59l7.78-7.78 2.81-2.81c.8-.78.8-2.07 0-2.86zM5.41 20L4 18.59l7.72-7.72 1.47 1.35L5.41 20z\"/>\n",
              "  </svg>\n",
              "      </button>\n",
              "\n",
              "\n",
              "\n",
              "    <div id=\"df-3f81704f-7f36-4179-aaa4-1f8a60cc82de\">\n",
              "      <button class=\"colab-df-quickchart\" onclick=\"quickchart('df-3f81704f-7f36-4179-aaa4-1f8a60cc82de')\"\n",
              "              title=\"Suggest charts.\"\n",
              "              style=\"display:none;\">\n",
              "\n",
              "<svg xmlns=\"http://www.w3.org/2000/svg\" height=\"24px\"viewBox=\"0 0 24 24\"\n",
              "     width=\"24px\">\n",
              "    <g>\n",
              "        <path d=\"M19 3H5c-1.1 0-2 .9-2 2v14c0 1.1.9 2 2 2h14c1.1 0 2-.9 2-2V5c0-1.1-.9-2-2-2zM9 17H7v-7h2v7zm4 0h-2V7h2v10zm4 0h-2v-4h2v4z\"/>\n",
              "    </g>\n",
              "</svg>\n",
              "      </button>\n",
              "    </div>\n",
              "\n",
              "<style>\n",
              "  .colab-df-quickchart {\n",
              "    background-color: #E8F0FE;\n",
              "    border: none;\n",
              "    border-radius: 50%;\n",
              "    cursor: pointer;\n",
              "    display: none;\n",
              "    fill: #1967D2;\n",
              "    height: 32px;\n",
              "    padding: 0 0 0 0;\n",
              "    width: 32px;\n",
              "  }\n",
              "\n",
              "  .colab-df-quickchart:hover {\n",
              "    background-color: #E2EBFA;\n",
              "    box-shadow: 0px 1px 2px rgba(60, 64, 67, 0.3), 0px 1px 3px 1px rgba(60, 64, 67, 0.15);\n",
              "    fill: #174EA6;\n",
              "  }\n",
              "\n",
              "  [theme=dark] .colab-df-quickchart {\n",
              "    background-color: #3B4455;\n",
              "    fill: #D2E3FC;\n",
              "  }\n",
              "\n",
              "  [theme=dark] .colab-df-quickchart:hover {\n",
              "    background-color: #434B5C;\n",
              "    box-shadow: 0px 1px 3px 1px rgba(0, 0, 0, 0.15);\n",
              "    filter: drop-shadow(0px 1px 2px rgba(0, 0, 0, 0.3));\n",
              "    fill: #FFFFFF;\n",
              "  }\n",
              "</style>\n",
              "\n",
              "    <script>\n",
              "      async function quickchart(key) {\n",
              "        const containerElement = document.querySelector('#' + key);\n",
              "        const charts = await google.colab.kernel.invokeFunction(\n",
              "            'suggestCharts', [key], {});\n",
              "      }\n",
              "    </script>\n",
              "\n",
              "      <script>\n",
              "\n",
              "function displayQuickchartButton(domScope) {\n",
              "  let quickchartButtonEl =\n",
              "    domScope.querySelector('#df-3f81704f-7f36-4179-aaa4-1f8a60cc82de button.colab-df-quickchart');\n",
              "  quickchartButtonEl.style.display =\n",
              "    google.colab.kernel.accessAllowed ? 'block' : 'none';\n",
              "}\n",
              "\n",
              "        displayQuickchartButton(document);\n",
              "      </script>\n",
              "      <style>\n",
              "    .colab-df-container {\n",
              "      display:flex;\n",
              "      flex-wrap:wrap;\n",
              "      gap: 12px;\n",
              "    }\n",
              "\n",
              "    .colab-df-convert {\n",
              "      background-color: #E8F0FE;\n",
              "      border: none;\n",
              "      border-radius: 50%;\n",
              "      cursor: pointer;\n",
              "      display: none;\n",
              "      fill: #1967D2;\n",
              "      height: 32px;\n",
              "      padding: 0 0 0 0;\n",
              "      width: 32px;\n",
              "    }\n",
              "\n",
              "    .colab-df-convert:hover {\n",
              "      background-color: #E2EBFA;\n",
              "      box-shadow: 0px 1px 2px rgba(60, 64, 67, 0.3), 0px 1px 3px 1px rgba(60, 64, 67, 0.15);\n",
              "      fill: #174EA6;\n",
              "    }\n",
              "\n",
              "    [theme=dark] .colab-df-convert {\n",
              "      background-color: #3B4455;\n",
              "      fill: #D2E3FC;\n",
              "    }\n",
              "\n",
              "    [theme=dark] .colab-df-convert:hover {\n",
              "      background-color: #434B5C;\n",
              "      box-shadow: 0px 1px 3px 1px rgba(0, 0, 0, 0.15);\n",
              "      filter: drop-shadow(0px 1px 2px rgba(0, 0, 0, 0.3));\n",
              "      fill: #FFFFFF;\n",
              "    }\n",
              "  </style>\n",
              "\n",
              "      <script>\n",
              "        const buttonEl =\n",
              "          document.querySelector('#df-1bb95ddc-ad58-448c-b8d0-8da8a8c26623 button.colab-df-convert');\n",
              "        buttonEl.style.display =\n",
              "          google.colab.kernel.accessAllowed ? 'block' : 'none';\n",
              "\n",
              "        async function convertToInteractive(key) {\n",
              "          const element = document.querySelector('#df-1bb95ddc-ad58-448c-b8d0-8da8a8c26623');\n",
              "          const dataTable =\n",
              "            await google.colab.kernel.invokeFunction('convertToInteractive',\n",
              "                                                     [key], {});\n",
              "          if (!dataTable) return;\n",
              "\n",
              "          const docLinkHtml = 'Like what you see? Visit the ' +\n",
              "            '<a target=\"_blank\" href=https://colab.research.google.com/notebooks/data_table.ipynb>data table notebook</a>'\n",
              "            + ' to learn more about interactive tables.';\n",
              "          element.innerHTML = '';\n",
              "          dataTable['output_type'] = 'display_data';\n",
              "          await google.colab.output.renderOutput(dataTable, element);\n",
              "          const docLink = document.createElement('div');\n",
              "          docLink.innerHTML = docLinkHtml;\n",
              "          element.appendChild(docLink);\n",
              "        }\n",
              "      </script>\n",
              "    </div>\n",
              "  </div>\n"
            ]
          },
          "metadata": {},
          "execution_count": 79
        }
      ],
      "source": [
        "df_seleccion = internet[[\"MUNICIPIO\", \"POBLACION DANE\"]]\n",
        "df_seleccion"
      ]
    },
    {
      "cell_type": "markdown",
      "metadata": {
        "id": "wW6s_Gtvv6zO"
      },
      "source": [
        "\n",
        "## <font color='5adcff'> **Operaciones con columnas de un dataframe** </font>\n",
        "\n",
        "---\n",
        "\n",
        "Existe una amplia gama de funciones que pueden aplicarse a los DataFrame, en particular algunas de ellas aplican a las columnas de un DataFrame. Por ejemplo:\n",
        "\n",
        "| Método | Descripción |\n",
        "| --- | --- |\n",
        "| `df['columna'].astype(dtype)` | Convierte la columna a un tipo de dato específico |\n",
        "| `df['columna'].mean()` | Devuelve la media de los valores de la columna |\n",
        "| `df['columna'].median()` | Devuelve la mediana de los valores de la columna |\n",
        "| `df['columna'].min()` | Devuelve el valor mínimo de la columna |\n",
        "| `df['columna'].max()` | Devuelve el valor máximo de la columna |\n",
        "| `df['columna'].sum()` | Devuelve la suma de los valores de la columna |\n",
        "| `df['columna'].count()` | Devuelve el número de valores no nulos de la columna |\n",
        "| `df['columna'].value_counts()` | Devuelve una serie con el número de apariciones de cada valor único en la columna |\n",
        "| `df['columna'].unique()` | Devuelve un *array* con los valores únicos de la columna |\n",
        "| `df['columna'].nunique()` | Devuelve el número de valores únicos en la columna |\n",
        "| `df['columna'].apply(func)` | Aplica una función personalizada a cada elemento de la columna |\n",
        "| `df['columna'].replace(old, new)` | Reemplaza valores específicos en la columna |\n",
        "\n",
        "\n",
        "Una lista exhaustiva puede consultarse en este [enlace](https://pandas.pydata.org/pandas-docs/stable/reference/frame.html).\n",
        "\n",
        "Al aplicarse la función 'sum()' a todo el DataFframe retorna una serie con el valor de la suma para cada columna, pero también es posible aplicarlo a un subconjunto de las columnas."
      ]
    },
    {
      "cell_type": "markdown",
      "metadata": {
        "id": "G68Qj16VVIwf"
      },
      "source": [
        "## <font color='5adcff'> **Crear nuevas columnas** </font>\n",
        "\n",
        "---\n",
        "\n",
        "Una de las tareas más comunes en los DataFrames es generar nuevas columnas con base en la información existente. Nota que podríamos crear una nueva columna que corresponda a un índice entre el número de puntos de acceso y la población, la cual denominaremos 'INDICE_ACC' y cuyo cálculo es el cociente del número de puntos de acceso sobre la población."
      ]
    },
    {
      "cell_type": "code",
      "execution_count": null,
      "metadata": {
        "id": "PXCakwsXXuRW",
        "colab": {
          "base_uri": "https://localhost:8080/",
          "height": 424
        },
        "outputId": "ec31480b-bbc9-485a-939f-00432506fe0d"
      },
      "outputs": [
        {
          "output_type": "execute_result",
          "data": {
            "text/plain": [
              "        ANO  TRIMESTRE DEPARTAMENTO          MUNICIPIO  \\\n",
              "0      2019          4        CHOCO             BOJAYA   \n",
              "1      2020          1       VAUPES             CARURU   \n",
              "2      2019          4    SANTANDER  VALLE DE SAN JOSE   \n",
              "3      2018          4    SANTANDER           SIMACOTA   \n",
              "4      2018          4        SUCRE            CAIMITO   \n",
              "...     ...        ...          ...                ...   \n",
              "13459  2020          2    ANTIOQUIA           VALDIVIA   \n",
              "13460  2017          3        CAUCA         VILLA RICA   \n",
              "13461  2020          2    SANTANDER             AGUADA   \n",
              "13462  2018          2    SANTANDER              SUCRE   \n",
              "13463  2017          3     AMAZONAS            LETICIA   \n",
              "\n",
              "       No. ACCESOS FIJOS A INTERNET  POBLACION DANE  No. INSTITUCIONES  \\\n",
              "0                                40           12212                 13   \n",
              "1                                11            3201                  4   \n",
              "2                                28            6222                  7   \n",
              "3                                87           10042                 11   \n",
              "4                                13           15231                 15   \n",
              "...                             ...             ...                ...   \n",
              "13459                           750           14102                 15   \n",
              "13460                             0           16596                 17   \n",
              "13461                            14            1867                  2   \n",
              "13462                             0            7202                  8   \n",
              "13463                             0           41957                 42   \n",
              "\n",
              "       INDICE_ACC  \n",
              "0        0.003275  \n",
              "1        0.003436  \n",
              "2        0.004500  \n",
              "3        0.008664  \n",
              "4        0.000854  \n",
              "...           ...  \n",
              "13459    0.053184  \n",
              "13460    0.000000  \n",
              "13461    0.007499  \n",
              "13462    0.000000  \n",
              "13463    0.000000  \n",
              "\n",
              "[13464 rows x 8 columns]"
            ],
            "text/html": [
              "\n",
              "\n",
              "  <div id=\"df-c2978dce-62b9-4ce4-b533-babc24d2a8f7\">\n",
              "    <div class=\"colab-df-container\">\n",
              "      <div>\n",
              "<style scoped>\n",
              "    .dataframe tbody tr th:only-of-type {\n",
              "        vertical-align: middle;\n",
              "    }\n",
              "\n",
              "    .dataframe tbody tr th {\n",
              "        vertical-align: top;\n",
              "    }\n",
              "\n",
              "    .dataframe thead th {\n",
              "        text-align: right;\n",
              "    }\n",
              "</style>\n",
              "<table border=\"1\" class=\"dataframe\">\n",
              "  <thead>\n",
              "    <tr style=\"text-align: right;\">\n",
              "      <th></th>\n",
              "      <th>ANO</th>\n",
              "      <th>TRIMESTRE</th>\n",
              "      <th>DEPARTAMENTO</th>\n",
              "      <th>MUNICIPIO</th>\n",
              "      <th>No. ACCESOS FIJOS A INTERNET</th>\n",
              "      <th>POBLACION DANE</th>\n",
              "      <th>No. INSTITUCIONES</th>\n",
              "      <th>INDICE_ACC</th>\n",
              "    </tr>\n",
              "  </thead>\n",
              "  <tbody>\n",
              "    <tr>\n",
              "      <th>0</th>\n",
              "      <td>2019</td>\n",
              "      <td>4</td>\n",
              "      <td>CHOCO</td>\n",
              "      <td>BOJAYA</td>\n",
              "      <td>40</td>\n",
              "      <td>12212</td>\n",
              "      <td>13</td>\n",
              "      <td>0.003275</td>\n",
              "    </tr>\n",
              "    <tr>\n",
              "      <th>1</th>\n",
              "      <td>2020</td>\n",
              "      <td>1</td>\n",
              "      <td>VAUPES</td>\n",
              "      <td>CARURU</td>\n",
              "      <td>11</td>\n",
              "      <td>3201</td>\n",
              "      <td>4</td>\n",
              "      <td>0.003436</td>\n",
              "    </tr>\n",
              "    <tr>\n",
              "      <th>2</th>\n",
              "      <td>2019</td>\n",
              "      <td>4</td>\n",
              "      <td>SANTANDER</td>\n",
              "      <td>VALLE DE SAN JOSE</td>\n",
              "      <td>28</td>\n",
              "      <td>6222</td>\n",
              "      <td>7</td>\n",
              "      <td>0.004500</td>\n",
              "    </tr>\n",
              "    <tr>\n",
              "      <th>3</th>\n",
              "      <td>2018</td>\n",
              "      <td>4</td>\n",
              "      <td>SANTANDER</td>\n",
              "      <td>SIMACOTA</td>\n",
              "      <td>87</td>\n",
              "      <td>10042</td>\n",
              "      <td>11</td>\n",
              "      <td>0.008664</td>\n",
              "    </tr>\n",
              "    <tr>\n",
              "      <th>4</th>\n",
              "      <td>2018</td>\n",
              "      <td>4</td>\n",
              "      <td>SUCRE</td>\n",
              "      <td>CAIMITO</td>\n",
              "      <td>13</td>\n",
              "      <td>15231</td>\n",
              "      <td>15</td>\n",
              "      <td>0.000854</td>\n",
              "    </tr>\n",
              "    <tr>\n",
              "      <th>...</th>\n",
              "      <td>...</td>\n",
              "      <td>...</td>\n",
              "      <td>...</td>\n",
              "      <td>...</td>\n",
              "      <td>...</td>\n",
              "      <td>...</td>\n",
              "      <td>...</td>\n",
              "      <td>...</td>\n",
              "    </tr>\n",
              "    <tr>\n",
              "      <th>13459</th>\n",
              "      <td>2020</td>\n",
              "      <td>2</td>\n",
              "      <td>ANTIOQUIA</td>\n",
              "      <td>VALDIVIA</td>\n",
              "      <td>750</td>\n",
              "      <td>14102</td>\n",
              "      <td>15</td>\n",
              "      <td>0.053184</td>\n",
              "    </tr>\n",
              "    <tr>\n",
              "      <th>13460</th>\n",
              "      <td>2017</td>\n",
              "      <td>3</td>\n",
              "      <td>CAUCA</td>\n",
              "      <td>VILLA RICA</td>\n",
              "      <td>0</td>\n",
              "      <td>16596</td>\n",
              "      <td>17</td>\n",
              "      <td>0.000000</td>\n",
              "    </tr>\n",
              "    <tr>\n",
              "      <th>13461</th>\n",
              "      <td>2020</td>\n",
              "      <td>2</td>\n",
              "      <td>SANTANDER</td>\n",
              "      <td>AGUADA</td>\n",
              "      <td>14</td>\n",
              "      <td>1867</td>\n",
              "      <td>2</td>\n",
              "      <td>0.007499</td>\n",
              "    </tr>\n",
              "    <tr>\n",
              "      <th>13462</th>\n",
              "      <td>2018</td>\n",
              "      <td>2</td>\n",
              "      <td>SANTANDER</td>\n",
              "      <td>SUCRE</td>\n",
              "      <td>0</td>\n",
              "      <td>7202</td>\n",
              "      <td>8</td>\n",
              "      <td>0.000000</td>\n",
              "    </tr>\n",
              "    <tr>\n",
              "      <th>13463</th>\n",
              "      <td>2017</td>\n",
              "      <td>3</td>\n",
              "      <td>AMAZONAS</td>\n",
              "      <td>LETICIA</td>\n",
              "      <td>0</td>\n",
              "      <td>41957</td>\n",
              "      <td>42</td>\n",
              "      <td>0.000000</td>\n",
              "    </tr>\n",
              "  </tbody>\n",
              "</table>\n",
              "<p>13464 rows × 8 columns</p>\n",
              "</div>\n",
              "      <button class=\"colab-df-convert\" onclick=\"convertToInteractive('df-c2978dce-62b9-4ce4-b533-babc24d2a8f7')\"\n",
              "              title=\"Convert this dataframe to an interactive table.\"\n",
              "              style=\"display:none;\">\n",
              "\n",
              "  <svg xmlns=\"http://www.w3.org/2000/svg\" height=\"24px\"viewBox=\"0 0 24 24\"\n",
              "       width=\"24px\">\n",
              "    <path d=\"M0 0h24v24H0V0z\" fill=\"none\"/>\n",
              "    <path d=\"M18.56 5.44l.94 2.06.94-2.06 2.06-.94-2.06-.94-.94-2.06-.94 2.06-2.06.94zm-11 1L8.5 8.5l.94-2.06 2.06-.94-2.06-.94L8.5 2.5l-.94 2.06-2.06.94zm10 10l.94 2.06.94-2.06 2.06-.94-2.06-.94-.94-2.06-.94 2.06-2.06.94z\"/><path d=\"M17.41 7.96l-1.37-1.37c-.4-.4-.92-.59-1.43-.59-.52 0-1.04.2-1.43.59L10.3 9.45l-7.72 7.72c-.78.78-.78 2.05 0 2.83L4 21.41c.39.39.9.59 1.41.59.51 0 1.02-.2 1.41-.59l7.78-7.78 2.81-2.81c.8-.78.8-2.07 0-2.86zM5.41 20L4 18.59l7.72-7.72 1.47 1.35L5.41 20z\"/>\n",
              "  </svg>\n",
              "      </button>\n",
              "\n",
              "\n",
              "\n",
              "    <div id=\"df-bb1b19d4-a9ce-4ed0-a9d8-1b6317a27c90\">\n",
              "      <button class=\"colab-df-quickchart\" onclick=\"quickchart('df-bb1b19d4-a9ce-4ed0-a9d8-1b6317a27c90')\"\n",
              "              title=\"Suggest charts.\"\n",
              "              style=\"display:none;\">\n",
              "\n",
              "<svg xmlns=\"http://www.w3.org/2000/svg\" height=\"24px\"viewBox=\"0 0 24 24\"\n",
              "     width=\"24px\">\n",
              "    <g>\n",
              "        <path d=\"M19 3H5c-1.1 0-2 .9-2 2v14c0 1.1.9 2 2 2h14c1.1 0 2-.9 2-2V5c0-1.1-.9-2-2-2zM9 17H7v-7h2v7zm4 0h-2V7h2v10zm4 0h-2v-4h2v4z\"/>\n",
              "    </g>\n",
              "</svg>\n",
              "      </button>\n",
              "    </div>\n",
              "\n",
              "<style>\n",
              "  .colab-df-quickchart {\n",
              "    background-color: #E8F0FE;\n",
              "    border: none;\n",
              "    border-radius: 50%;\n",
              "    cursor: pointer;\n",
              "    display: none;\n",
              "    fill: #1967D2;\n",
              "    height: 32px;\n",
              "    padding: 0 0 0 0;\n",
              "    width: 32px;\n",
              "  }\n",
              "\n",
              "  .colab-df-quickchart:hover {\n",
              "    background-color: #E2EBFA;\n",
              "    box-shadow: 0px 1px 2px rgba(60, 64, 67, 0.3), 0px 1px 3px 1px rgba(60, 64, 67, 0.15);\n",
              "    fill: #174EA6;\n",
              "  }\n",
              "\n",
              "  [theme=dark] .colab-df-quickchart {\n",
              "    background-color: #3B4455;\n",
              "    fill: #D2E3FC;\n",
              "  }\n",
              "\n",
              "  [theme=dark] .colab-df-quickchart:hover {\n",
              "    background-color: #434B5C;\n",
              "    box-shadow: 0px 1px 3px 1px rgba(0, 0, 0, 0.15);\n",
              "    filter: drop-shadow(0px 1px 2px rgba(0, 0, 0, 0.3));\n",
              "    fill: #FFFFFF;\n",
              "  }\n",
              "</style>\n",
              "\n",
              "    <script>\n",
              "      async function quickchart(key) {\n",
              "        const containerElement = document.querySelector('#' + key);\n",
              "        const charts = await google.colab.kernel.invokeFunction(\n",
              "            'suggestCharts', [key], {});\n",
              "      }\n",
              "    </script>\n",
              "\n",
              "      <script>\n",
              "\n",
              "function displayQuickchartButton(domScope) {\n",
              "  let quickchartButtonEl =\n",
              "    domScope.querySelector('#df-bb1b19d4-a9ce-4ed0-a9d8-1b6317a27c90 button.colab-df-quickchart');\n",
              "  quickchartButtonEl.style.display =\n",
              "    google.colab.kernel.accessAllowed ? 'block' : 'none';\n",
              "}\n",
              "\n",
              "        displayQuickchartButton(document);\n",
              "      </script>\n",
              "      <style>\n",
              "    .colab-df-container {\n",
              "      display:flex;\n",
              "      flex-wrap:wrap;\n",
              "      gap: 12px;\n",
              "    }\n",
              "\n",
              "    .colab-df-convert {\n",
              "      background-color: #E8F0FE;\n",
              "      border: none;\n",
              "      border-radius: 50%;\n",
              "      cursor: pointer;\n",
              "      display: none;\n",
              "      fill: #1967D2;\n",
              "      height: 32px;\n",
              "      padding: 0 0 0 0;\n",
              "      width: 32px;\n",
              "    }\n",
              "\n",
              "    .colab-df-convert:hover {\n",
              "      background-color: #E2EBFA;\n",
              "      box-shadow: 0px 1px 2px rgba(60, 64, 67, 0.3), 0px 1px 3px 1px rgba(60, 64, 67, 0.15);\n",
              "      fill: #174EA6;\n",
              "    }\n",
              "\n",
              "    [theme=dark] .colab-df-convert {\n",
              "      background-color: #3B4455;\n",
              "      fill: #D2E3FC;\n",
              "    }\n",
              "\n",
              "    [theme=dark] .colab-df-convert:hover {\n",
              "      background-color: #434B5C;\n",
              "      box-shadow: 0px 1px 3px 1px rgba(0, 0, 0, 0.15);\n",
              "      filter: drop-shadow(0px 1px 2px rgba(0, 0, 0, 0.3));\n",
              "      fill: #FFFFFF;\n",
              "    }\n",
              "  </style>\n",
              "\n",
              "      <script>\n",
              "        const buttonEl =\n",
              "          document.querySelector('#df-c2978dce-62b9-4ce4-b533-babc24d2a8f7 button.colab-df-convert');\n",
              "        buttonEl.style.display =\n",
              "          google.colab.kernel.accessAllowed ? 'block' : 'none';\n",
              "\n",
              "        async function convertToInteractive(key) {\n",
              "          const element = document.querySelector('#df-c2978dce-62b9-4ce4-b533-babc24d2a8f7');\n",
              "          const dataTable =\n",
              "            await google.colab.kernel.invokeFunction('convertToInteractive',\n",
              "                                                     [key], {});\n",
              "          if (!dataTable) return;\n",
              "\n",
              "          const docLinkHtml = 'Like what you see? Visit the ' +\n",
              "            '<a target=\"_blank\" href=https://colab.research.google.com/notebooks/data_table.ipynb>data table notebook</a>'\n",
              "            + ' to learn more about interactive tables.';\n",
              "          element.innerHTML = '';\n",
              "          dataTable['output_type'] = 'display_data';\n",
              "          await google.colab.output.renderOutput(dataTable, element);\n",
              "          const docLink = document.createElement('div');\n",
              "          docLink.innerHTML = docLinkHtml;\n",
              "          element.appendChild(docLink);\n",
              "        }\n",
              "      </script>\n",
              "    </div>\n",
              "  </div>\n"
            ]
          },
          "metadata": {},
          "execution_count": 80
        }
      ],
      "source": [
        "internet['INDICE_ACC']=internet['No. ACCESOS FIJOS A INTERNET']/internet['POBLACION DANE']\n",
        "internet"
      ]
    },
    {
      "cell_type": "markdown",
      "metadata": {
        "id": "xpeUiIe9jahw"
      },
      "source": [
        "Columnas que requieren operaciones más complejas pueden crearse con las funciones creadas para ello. Esto puede hacerse a través la función 'apply()', la cual recibe una función predefinida o una expresión 'lambda' de funciones predefinidas o una expresión 'lambda' con funciones creadas por el usuario.\n",
        "\n",
        "Calculemos la columna 'INDICE_ACC' por medio de la función 'apply()'. Para ello definimos la función 'get_index(`)'. Es decir:\n",
        "\n",
        "> ```\n",
        "def get_index(row):\n",
        "  return row['No. ACCESOS FIJOS A INTERNET']/row['POBLACION DANE']\n",
        "```\n",
        "\n",
        "\n",
        "\n"
      ]
    },
    {
      "cell_type": "code",
      "execution_count": null,
      "metadata": {
        "id": "9RIRoQt-6LrF",
        "colab": {
          "base_uri": "https://localhost:8080/",
          "height": 424
        },
        "outputId": "461a96eb-893a-435b-876d-7b7461b941a8"
      },
      "outputs": [
        {
          "output_type": "execute_result",
          "data": {
            "text/plain": [
              "        ANO  TRIMESTRE DEPARTAMENTO          MUNICIPIO  \\\n",
              "0      2019          4        CHOCO             BOJAYA   \n",
              "1      2020          1       VAUPES             CARURU   \n",
              "2      2019          4    SANTANDER  VALLE DE SAN JOSE   \n",
              "3      2018          4    SANTANDER           SIMACOTA   \n",
              "4      2018          4        SUCRE            CAIMITO   \n",
              "...     ...        ...          ...                ...   \n",
              "13459  2020          2    ANTIOQUIA           VALDIVIA   \n",
              "13460  2017          3        CAUCA         VILLA RICA   \n",
              "13461  2020          2    SANTANDER             AGUADA   \n",
              "13462  2018          2    SANTANDER              SUCRE   \n",
              "13463  2017          3     AMAZONAS            LETICIA   \n",
              "\n",
              "       No. ACCESOS FIJOS A INTERNET  POBLACION DANE  No. INSTITUCIONES  \\\n",
              "0                                40           12212                 13   \n",
              "1                                11            3201                  4   \n",
              "2                                28            6222                  7   \n",
              "3                                87           10042                 11   \n",
              "4                                13           15231                 15   \n",
              "...                             ...             ...                ...   \n",
              "13459                           750           14102                 15   \n",
              "13460                             0           16596                 17   \n",
              "13461                            14            1867                  2   \n",
              "13462                             0            7202                  8   \n",
              "13463                             0           41957                 42   \n",
              "\n",
              "       INDICE_ACC  \n",
              "0        0.003275  \n",
              "1        0.003436  \n",
              "2        0.004500  \n",
              "3        0.008664  \n",
              "4        0.000854  \n",
              "...           ...  \n",
              "13459    0.053184  \n",
              "13460    0.000000  \n",
              "13461    0.007499  \n",
              "13462    0.000000  \n",
              "13463    0.000000  \n",
              "\n",
              "[13464 rows x 8 columns]"
            ],
            "text/html": [
              "\n",
              "\n",
              "  <div id=\"df-01a3898c-a1a3-42d5-b097-db7f3c631753\">\n",
              "    <div class=\"colab-df-container\">\n",
              "      <div>\n",
              "<style scoped>\n",
              "    .dataframe tbody tr th:only-of-type {\n",
              "        vertical-align: middle;\n",
              "    }\n",
              "\n",
              "    .dataframe tbody tr th {\n",
              "        vertical-align: top;\n",
              "    }\n",
              "\n",
              "    .dataframe thead th {\n",
              "        text-align: right;\n",
              "    }\n",
              "</style>\n",
              "<table border=\"1\" class=\"dataframe\">\n",
              "  <thead>\n",
              "    <tr style=\"text-align: right;\">\n",
              "      <th></th>\n",
              "      <th>ANO</th>\n",
              "      <th>TRIMESTRE</th>\n",
              "      <th>DEPARTAMENTO</th>\n",
              "      <th>MUNICIPIO</th>\n",
              "      <th>No. ACCESOS FIJOS A INTERNET</th>\n",
              "      <th>POBLACION DANE</th>\n",
              "      <th>No. INSTITUCIONES</th>\n",
              "      <th>INDICE_ACC</th>\n",
              "    </tr>\n",
              "  </thead>\n",
              "  <tbody>\n",
              "    <tr>\n",
              "      <th>0</th>\n",
              "      <td>2019</td>\n",
              "      <td>4</td>\n",
              "      <td>CHOCO</td>\n",
              "      <td>BOJAYA</td>\n",
              "      <td>40</td>\n",
              "      <td>12212</td>\n",
              "      <td>13</td>\n",
              "      <td>0.003275</td>\n",
              "    </tr>\n",
              "    <tr>\n",
              "      <th>1</th>\n",
              "      <td>2020</td>\n",
              "      <td>1</td>\n",
              "      <td>VAUPES</td>\n",
              "      <td>CARURU</td>\n",
              "      <td>11</td>\n",
              "      <td>3201</td>\n",
              "      <td>4</td>\n",
              "      <td>0.003436</td>\n",
              "    </tr>\n",
              "    <tr>\n",
              "      <th>2</th>\n",
              "      <td>2019</td>\n",
              "      <td>4</td>\n",
              "      <td>SANTANDER</td>\n",
              "      <td>VALLE DE SAN JOSE</td>\n",
              "      <td>28</td>\n",
              "      <td>6222</td>\n",
              "      <td>7</td>\n",
              "      <td>0.004500</td>\n",
              "    </tr>\n",
              "    <tr>\n",
              "      <th>3</th>\n",
              "      <td>2018</td>\n",
              "      <td>4</td>\n",
              "      <td>SANTANDER</td>\n",
              "      <td>SIMACOTA</td>\n",
              "      <td>87</td>\n",
              "      <td>10042</td>\n",
              "      <td>11</td>\n",
              "      <td>0.008664</td>\n",
              "    </tr>\n",
              "    <tr>\n",
              "      <th>4</th>\n",
              "      <td>2018</td>\n",
              "      <td>4</td>\n",
              "      <td>SUCRE</td>\n",
              "      <td>CAIMITO</td>\n",
              "      <td>13</td>\n",
              "      <td>15231</td>\n",
              "      <td>15</td>\n",
              "      <td>0.000854</td>\n",
              "    </tr>\n",
              "    <tr>\n",
              "      <th>...</th>\n",
              "      <td>...</td>\n",
              "      <td>...</td>\n",
              "      <td>...</td>\n",
              "      <td>...</td>\n",
              "      <td>...</td>\n",
              "      <td>...</td>\n",
              "      <td>...</td>\n",
              "      <td>...</td>\n",
              "    </tr>\n",
              "    <tr>\n",
              "      <th>13459</th>\n",
              "      <td>2020</td>\n",
              "      <td>2</td>\n",
              "      <td>ANTIOQUIA</td>\n",
              "      <td>VALDIVIA</td>\n",
              "      <td>750</td>\n",
              "      <td>14102</td>\n",
              "      <td>15</td>\n",
              "      <td>0.053184</td>\n",
              "    </tr>\n",
              "    <tr>\n",
              "      <th>13460</th>\n",
              "      <td>2017</td>\n",
              "      <td>3</td>\n",
              "      <td>CAUCA</td>\n",
              "      <td>VILLA RICA</td>\n",
              "      <td>0</td>\n",
              "      <td>16596</td>\n",
              "      <td>17</td>\n",
              "      <td>0.000000</td>\n",
              "    </tr>\n",
              "    <tr>\n",
              "      <th>13461</th>\n",
              "      <td>2020</td>\n",
              "      <td>2</td>\n",
              "      <td>SANTANDER</td>\n",
              "      <td>AGUADA</td>\n",
              "      <td>14</td>\n",
              "      <td>1867</td>\n",
              "      <td>2</td>\n",
              "      <td>0.007499</td>\n",
              "    </tr>\n",
              "    <tr>\n",
              "      <th>13462</th>\n",
              "      <td>2018</td>\n",
              "      <td>2</td>\n",
              "      <td>SANTANDER</td>\n",
              "      <td>SUCRE</td>\n",
              "      <td>0</td>\n",
              "      <td>7202</td>\n",
              "      <td>8</td>\n",
              "      <td>0.000000</td>\n",
              "    </tr>\n",
              "    <tr>\n",
              "      <th>13463</th>\n",
              "      <td>2017</td>\n",
              "      <td>3</td>\n",
              "      <td>AMAZONAS</td>\n",
              "      <td>LETICIA</td>\n",
              "      <td>0</td>\n",
              "      <td>41957</td>\n",
              "      <td>42</td>\n",
              "      <td>0.000000</td>\n",
              "    </tr>\n",
              "  </tbody>\n",
              "</table>\n",
              "<p>13464 rows × 8 columns</p>\n",
              "</div>\n",
              "      <button class=\"colab-df-convert\" onclick=\"convertToInteractive('df-01a3898c-a1a3-42d5-b097-db7f3c631753')\"\n",
              "              title=\"Convert this dataframe to an interactive table.\"\n",
              "              style=\"display:none;\">\n",
              "\n",
              "  <svg xmlns=\"http://www.w3.org/2000/svg\" height=\"24px\"viewBox=\"0 0 24 24\"\n",
              "       width=\"24px\">\n",
              "    <path d=\"M0 0h24v24H0V0z\" fill=\"none\"/>\n",
              "    <path d=\"M18.56 5.44l.94 2.06.94-2.06 2.06-.94-2.06-.94-.94-2.06-.94 2.06-2.06.94zm-11 1L8.5 8.5l.94-2.06 2.06-.94-2.06-.94L8.5 2.5l-.94 2.06-2.06.94zm10 10l.94 2.06.94-2.06 2.06-.94-2.06-.94-.94-2.06-.94 2.06-2.06.94z\"/><path d=\"M17.41 7.96l-1.37-1.37c-.4-.4-.92-.59-1.43-.59-.52 0-1.04.2-1.43.59L10.3 9.45l-7.72 7.72c-.78.78-.78 2.05 0 2.83L4 21.41c.39.39.9.59 1.41.59.51 0 1.02-.2 1.41-.59l7.78-7.78 2.81-2.81c.8-.78.8-2.07 0-2.86zM5.41 20L4 18.59l7.72-7.72 1.47 1.35L5.41 20z\"/>\n",
              "  </svg>\n",
              "      </button>\n",
              "\n",
              "\n",
              "\n",
              "    <div id=\"df-c9118237-aa72-4759-a381-8c0fb25d696a\">\n",
              "      <button class=\"colab-df-quickchart\" onclick=\"quickchart('df-c9118237-aa72-4759-a381-8c0fb25d696a')\"\n",
              "              title=\"Suggest charts.\"\n",
              "              style=\"display:none;\">\n",
              "\n",
              "<svg xmlns=\"http://www.w3.org/2000/svg\" height=\"24px\"viewBox=\"0 0 24 24\"\n",
              "     width=\"24px\">\n",
              "    <g>\n",
              "        <path d=\"M19 3H5c-1.1 0-2 .9-2 2v14c0 1.1.9 2 2 2h14c1.1 0 2-.9 2-2V5c0-1.1-.9-2-2-2zM9 17H7v-7h2v7zm4 0h-2V7h2v10zm4 0h-2v-4h2v4z\"/>\n",
              "    </g>\n",
              "</svg>\n",
              "      </button>\n",
              "    </div>\n",
              "\n",
              "<style>\n",
              "  .colab-df-quickchart {\n",
              "    background-color: #E8F0FE;\n",
              "    border: none;\n",
              "    border-radius: 50%;\n",
              "    cursor: pointer;\n",
              "    display: none;\n",
              "    fill: #1967D2;\n",
              "    height: 32px;\n",
              "    padding: 0 0 0 0;\n",
              "    width: 32px;\n",
              "  }\n",
              "\n",
              "  .colab-df-quickchart:hover {\n",
              "    background-color: #E2EBFA;\n",
              "    box-shadow: 0px 1px 2px rgba(60, 64, 67, 0.3), 0px 1px 3px 1px rgba(60, 64, 67, 0.15);\n",
              "    fill: #174EA6;\n",
              "  }\n",
              "\n",
              "  [theme=dark] .colab-df-quickchart {\n",
              "    background-color: #3B4455;\n",
              "    fill: #D2E3FC;\n",
              "  }\n",
              "\n",
              "  [theme=dark] .colab-df-quickchart:hover {\n",
              "    background-color: #434B5C;\n",
              "    box-shadow: 0px 1px 3px 1px rgba(0, 0, 0, 0.15);\n",
              "    filter: drop-shadow(0px 1px 2px rgba(0, 0, 0, 0.3));\n",
              "    fill: #FFFFFF;\n",
              "  }\n",
              "</style>\n",
              "\n",
              "    <script>\n",
              "      async function quickchart(key) {\n",
              "        const containerElement = document.querySelector('#' + key);\n",
              "        const charts = await google.colab.kernel.invokeFunction(\n",
              "            'suggestCharts', [key], {});\n",
              "      }\n",
              "    </script>\n",
              "\n",
              "      <script>\n",
              "\n",
              "function displayQuickchartButton(domScope) {\n",
              "  let quickchartButtonEl =\n",
              "    domScope.querySelector('#df-c9118237-aa72-4759-a381-8c0fb25d696a button.colab-df-quickchart');\n",
              "  quickchartButtonEl.style.display =\n",
              "    google.colab.kernel.accessAllowed ? 'block' : 'none';\n",
              "}\n",
              "\n",
              "        displayQuickchartButton(document);\n",
              "      </script>\n",
              "      <style>\n",
              "    .colab-df-container {\n",
              "      display:flex;\n",
              "      flex-wrap:wrap;\n",
              "      gap: 12px;\n",
              "    }\n",
              "\n",
              "    .colab-df-convert {\n",
              "      background-color: #E8F0FE;\n",
              "      border: none;\n",
              "      border-radius: 50%;\n",
              "      cursor: pointer;\n",
              "      display: none;\n",
              "      fill: #1967D2;\n",
              "      height: 32px;\n",
              "      padding: 0 0 0 0;\n",
              "      width: 32px;\n",
              "    }\n",
              "\n",
              "    .colab-df-convert:hover {\n",
              "      background-color: #E2EBFA;\n",
              "      box-shadow: 0px 1px 2px rgba(60, 64, 67, 0.3), 0px 1px 3px 1px rgba(60, 64, 67, 0.15);\n",
              "      fill: #174EA6;\n",
              "    }\n",
              "\n",
              "    [theme=dark] .colab-df-convert {\n",
              "      background-color: #3B4455;\n",
              "      fill: #D2E3FC;\n",
              "    }\n",
              "\n",
              "    [theme=dark] .colab-df-convert:hover {\n",
              "      background-color: #434B5C;\n",
              "      box-shadow: 0px 1px 3px 1px rgba(0, 0, 0, 0.15);\n",
              "      filter: drop-shadow(0px 1px 2px rgba(0, 0, 0, 0.3));\n",
              "      fill: #FFFFFF;\n",
              "    }\n",
              "  </style>\n",
              "\n",
              "      <script>\n",
              "        const buttonEl =\n",
              "          document.querySelector('#df-01a3898c-a1a3-42d5-b097-db7f3c631753 button.colab-df-convert');\n",
              "        buttonEl.style.display =\n",
              "          google.colab.kernel.accessAllowed ? 'block' : 'none';\n",
              "\n",
              "        async function convertToInteractive(key) {\n",
              "          const element = document.querySelector('#df-01a3898c-a1a3-42d5-b097-db7f3c631753');\n",
              "          const dataTable =\n",
              "            await google.colab.kernel.invokeFunction('convertToInteractive',\n",
              "                                                     [key], {});\n",
              "          if (!dataTable) return;\n",
              "\n",
              "          const docLinkHtml = 'Like what you see? Visit the ' +\n",
              "            '<a target=\"_blank\" href=https://colab.research.google.com/notebooks/data_table.ipynb>data table notebook</a>'\n",
              "            + ' to learn more about interactive tables.';\n",
              "          element.innerHTML = '';\n",
              "          dataTable['output_type'] = 'display_data';\n",
              "          await google.colab.output.renderOutput(dataTable, element);\n",
              "          const docLink = document.createElement('div');\n",
              "          docLink.innerHTML = docLinkHtml;\n",
              "          element.appendChild(docLink);\n",
              "        }\n",
              "      </script>\n",
              "    </div>\n",
              "  </div>\n"
            ]
          },
          "metadata": {},
          "execution_count": 81
        }
      ],
      "source": [
        "def get_index(row):\n",
        "  return row['No. ACCESOS FIJOS A INTERNET']/row['POBLACION DANE']\n",
        "\n",
        "internet['INDICE_ACC'] = internet.apply(lambda row: get_index(row), axis = 1)\n",
        "\n",
        "internet"
      ]
    },
    {
      "cell_type": "markdown",
      "metadata": {
        "id": "fb0q5mtzADGn"
      },
      "source": [
        "La siguiente tabla resume algunos otros métodos para agregar columnas:\n",
        "\n",
        "| Método | Sintaxis | Descripción |\n",
        "|--------|---------|-------------|\n",
        "| Operaciones aritméticas | `df['nueva_columna'] = df['columna1'] + df['columna2']` | Crea una nueva columna a partir de operaciones aritméticas entre otras columnas del DataFrame. |\n",
        "| Método `apply` | `df['nueva_columna'] = df['columna'].apply(funcion)` | Crea una nueva columna aplicando una función a una columna existente del DataFrame. |\n",
        "| Método `map` | `df['nueva_columna'] = df['columna'].map(dict)` | Crea una nueva columna aplicando un mapeo de valores a una columna existente del DataFrame. |\n",
        "| Método `assign` | `df = df.assign(nueva_columna = [valores])` | Crea una nueva columna con los valores especificados en una lista y agrega la columna al DataFrame. |\n",
        "| Método `loc` | `df.loc[filtro, 'nueva_columna'] = valores` | Crea una nueva columna y asigna valores a las filas que cumplen un cierto filtro. |\n"
      ]
    },
    {
      "cell_type": "markdown",
      "metadata": {
        "id": "_NPF23olvHx5"
      },
      "source": [
        "## <font color='5adcff'> **Agrupar datos** </font>\n",
        "\n",
        "---\n",
        "Mediante la función 'groupby()' los datos pueden agruparse con respecto a los valores de algunas de las columnas categóricas. Una descripción detallada puede consultarse en su [documentación](https://pandas.pydata.org/pandas-docs/stable/reference/api/pandas.DataFrame.groupby.html).\n",
        "\n",
        "En su forma más simple, debemos expecificar la variable respecto a la cual deseamos realizar la agrupación, la variable que se agrupará y el estadistico que deseamos calcular. En el siguiente ejemplo, serían respectivamente 'DEPARTAMENTO', 'INDICE_ACC' and 'mean()'.\n",
        "\n",
        "\n"
      ]
    },
    {
      "cell_type": "code",
      "execution_count": null,
      "metadata": {
        "id": "fA7L50ZbxWbX",
        "colab": {
          "base_uri": "https://localhost:8080/"
        },
        "outputId": "bd2a29b4-9434-40ad-89c9-c540558ae520"
      },
      "outputs": [
        {
          "output_type": "execute_result",
          "data": {
            "text/plain": [
              "DEPARTAMENTO\n",
              "AMAZONAS                    0.003096\n",
              "ANTIOQUIA                   0.057899\n",
              "ARAUCA                      0.028624\n",
              "ATLANTICO                   0.029549\n",
              "BOGOTA                      0.168385\n",
              "BOLIVAR                     0.013543\n",
              "BOYACA                      0.017561\n",
              "CALDAS                      0.034381\n",
              "CAQUETA                     0.011840\n",
              "CASANARE                    0.024435\n",
              "CAUCA                       0.009787\n",
              "CESAR                       0.017285\n",
              "CHOCO                       0.013430\n",
              "CORDOBA                     0.018978\n",
              "CUNDINAMARCA                0.032613\n",
              "GUAINIA                     0.005070\n",
              "GUAVIARE                    0.012201\n",
              "HUILA                       0.018335\n",
              "LA GUAJIRA                  0.024472\n",
              "MAGDALENA                   0.008795\n",
              "META                        0.026453\n",
              "NARIï¿½O                    0.009047\n",
              "NORTE DE SANTANDER          0.017209\n",
              "PUTUMAYO                    0.021334\n",
              "QUINDIO                     0.056387\n",
              "RISARALDA                   0.048480\n",
              "SAN ANDRES Y PROVIDENCIA    0.025987\n",
              "SANTANDER                   0.020915\n",
              "SUCRE                       0.014691\n",
              "TOLIMA                      0.026429\n",
              "VALLE DEL CAUCA             0.055608\n",
              "VAUPES                      0.000787\n",
              "VICHADA                     0.010232\n",
              "Name: INDICE_ACC, dtype: float64"
            ]
          },
          "metadata": {},
          "execution_count": 82
        }
      ],
      "source": [
        "gruop_DEPARTAMENTO = internet.groupby('DEPARTAMENTO')['INDICE_ACC'].mean()\n",
        "gruop_DEPARTAMENTO"
      ]
    },
    {
      "cell_type": "markdown",
      "metadata": {
        "id": "AE7ZDd2fxojw"
      },
      "source": [
        "Puede agruparse respecto a varias columnas de manera simultánea al pasar los nombres de dichas columnas como una lista. En nuestro ejemplo ['DEPARTAMENTO', 'MUNICIPIO'], el parámetro 'as_index' controla que los valores de las variables categoricas se incluyan o no como indices de las filas resultantes."
      ]
    },
    {
      "cell_type": "code",
      "execution_count": null,
      "metadata": {
        "id": "KO4IgZ1wxtIG",
        "colab": {
          "base_uri": "https://localhost:8080/",
          "height": 424
        },
        "outputId": "4f403c3c-26e8-4c61-8eed-4c9780b2cb4b"
      },
      "outputs": [
        {
          "output_type": "execute_result",
          "data": {
            "text/plain": [
              "     DEPARTAMENTO         MUNICIPIO  INDICE_ACC\n",
              "0        AMAZONAS        EL ENCANTO    0.001081\n",
              "1        AMAZONAS       LA CHORRERA    0.009279\n",
              "2        AMAZONAS        LA PEDRERA    0.000107\n",
              "3        AMAZONAS       LA VICTORIA    0.000000\n",
              "4        AMAZONAS           LETICIA    0.015006\n",
              "...           ...               ...         ...\n",
              "1117       VAUPES          YAVARATE    0.000308\n",
              "1118      VICHADA          CUMARIBO    0.000557\n",
              "1119      VICHADA      LA PRIMAVERA    0.002378\n",
              "1120      VICHADA  PUERTO CARREï¿½O    0.035957\n",
              "1121      VICHADA     SANTA ROSALIA    0.002038\n",
              "\n",
              "[1122 rows x 3 columns]"
            ],
            "text/html": [
              "\n",
              "\n",
              "  <div id=\"df-400a5609-e764-464d-bbaa-e395794fecd8\">\n",
              "    <div class=\"colab-df-container\">\n",
              "      <div>\n",
              "<style scoped>\n",
              "    .dataframe tbody tr th:only-of-type {\n",
              "        vertical-align: middle;\n",
              "    }\n",
              "\n",
              "    .dataframe tbody tr th {\n",
              "        vertical-align: top;\n",
              "    }\n",
              "\n",
              "    .dataframe thead th {\n",
              "        text-align: right;\n",
              "    }\n",
              "</style>\n",
              "<table border=\"1\" class=\"dataframe\">\n",
              "  <thead>\n",
              "    <tr style=\"text-align: right;\">\n",
              "      <th></th>\n",
              "      <th>DEPARTAMENTO</th>\n",
              "      <th>MUNICIPIO</th>\n",
              "      <th>INDICE_ACC</th>\n",
              "    </tr>\n",
              "  </thead>\n",
              "  <tbody>\n",
              "    <tr>\n",
              "      <th>0</th>\n",
              "      <td>AMAZONAS</td>\n",
              "      <td>EL ENCANTO</td>\n",
              "      <td>0.001081</td>\n",
              "    </tr>\n",
              "    <tr>\n",
              "      <th>1</th>\n",
              "      <td>AMAZONAS</td>\n",
              "      <td>LA CHORRERA</td>\n",
              "      <td>0.009279</td>\n",
              "    </tr>\n",
              "    <tr>\n",
              "      <th>2</th>\n",
              "      <td>AMAZONAS</td>\n",
              "      <td>LA PEDRERA</td>\n",
              "      <td>0.000107</td>\n",
              "    </tr>\n",
              "    <tr>\n",
              "      <th>3</th>\n",
              "      <td>AMAZONAS</td>\n",
              "      <td>LA VICTORIA</td>\n",
              "      <td>0.000000</td>\n",
              "    </tr>\n",
              "    <tr>\n",
              "      <th>4</th>\n",
              "      <td>AMAZONAS</td>\n",
              "      <td>LETICIA</td>\n",
              "      <td>0.015006</td>\n",
              "    </tr>\n",
              "    <tr>\n",
              "      <th>...</th>\n",
              "      <td>...</td>\n",
              "      <td>...</td>\n",
              "      <td>...</td>\n",
              "    </tr>\n",
              "    <tr>\n",
              "      <th>1117</th>\n",
              "      <td>VAUPES</td>\n",
              "      <td>YAVARATE</td>\n",
              "      <td>0.000308</td>\n",
              "    </tr>\n",
              "    <tr>\n",
              "      <th>1118</th>\n",
              "      <td>VICHADA</td>\n",
              "      <td>CUMARIBO</td>\n",
              "      <td>0.000557</td>\n",
              "    </tr>\n",
              "    <tr>\n",
              "      <th>1119</th>\n",
              "      <td>VICHADA</td>\n",
              "      <td>LA PRIMAVERA</td>\n",
              "      <td>0.002378</td>\n",
              "    </tr>\n",
              "    <tr>\n",
              "      <th>1120</th>\n",
              "      <td>VICHADA</td>\n",
              "      <td>PUERTO CARREï¿½O</td>\n",
              "      <td>0.035957</td>\n",
              "    </tr>\n",
              "    <tr>\n",
              "      <th>1121</th>\n",
              "      <td>VICHADA</td>\n",
              "      <td>SANTA ROSALIA</td>\n",
              "      <td>0.002038</td>\n",
              "    </tr>\n",
              "  </tbody>\n",
              "</table>\n",
              "<p>1122 rows × 3 columns</p>\n",
              "</div>\n",
              "      <button class=\"colab-df-convert\" onclick=\"convertToInteractive('df-400a5609-e764-464d-bbaa-e395794fecd8')\"\n",
              "              title=\"Convert this dataframe to an interactive table.\"\n",
              "              style=\"display:none;\">\n",
              "\n",
              "  <svg xmlns=\"http://www.w3.org/2000/svg\" height=\"24px\"viewBox=\"0 0 24 24\"\n",
              "       width=\"24px\">\n",
              "    <path d=\"M0 0h24v24H0V0z\" fill=\"none\"/>\n",
              "    <path d=\"M18.56 5.44l.94 2.06.94-2.06 2.06-.94-2.06-.94-.94-2.06-.94 2.06-2.06.94zm-11 1L8.5 8.5l.94-2.06 2.06-.94-2.06-.94L8.5 2.5l-.94 2.06-2.06.94zm10 10l.94 2.06.94-2.06 2.06-.94-2.06-.94-.94-2.06-.94 2.06-2.06.94z\"/><path d=\"M17.41 7.96l-1.37-1.37c-.4-.4-.92-.59-1.43-.59-.52 0-1.04.2-1.43.59L10.3 9.45l-7.72 7.72c-.78.78-.78 2.05 0 2.83L4 21.41c.39.39.9.59 1.41.59.51 0 1.02-.2 1.41-.59l7.78-7.78 2.81-2.81c.8-.78.8-2.07 0-2.86zM5.41 20L4 18.59l7.72-7.72 1.47 1.35L5.41 20z\"/>\n",
              "  </svg>\n",
              "      </button>\n",
              "\n",
              "\n",
              "\n",
              "    <div id=\"df-4a0319bf-d487-4991-9456-33ed96fd9497\">\n",
              "      <button class=\"colab-df-quickchart\" onclick=\"quickchart('df-4a0319bf-d487-4991-9456-33ed96fd9497')\"\n",
              "              title=\"Suggest charts.\"\n",
              "              style=\"display:none;\">\n",
              "\n",
              "<svg xmlns=\"http://www.w3.org/2000/svg\" height=\"24px\"viewBox=\"0 0 24 24\"\n",
              "     width=\"24px\">\n",
              "    <g>\n",
              "        <path d=\"M19 3H5c-1.1 0-2 .9-2 2v14c0 1.1.9 2 2 2h14c1.1 0 2-.9 2-2V5c0-1.1-.9-2-2-2zM9 17H7v-7h2v7zm4 0h-2V7h2v10zm4 0h-2v-4h2v4z\"/>\n",
              "    </g>\n",
              "</svg>\n",
              "      </button>\n",
              "    </div>\n",
              "\n",
              "<style>\n",
              "  .colab-df-quickchart {\n",
              "    background-color: #E8F0FE;\n",
              "    border: none;\n",
              "    border-radius: 50%;\n",
              "    cursor: pointer;\n",
              "    display: none;\n",
              "    fill: #1967D2;\n",
              "    height: 32px;\n",
              "    padding: 0 0 0 0;\n",
              "    width: 32px;\n",
              "  }\n",
              "\n",
              "  .colab-df-quickchart:hover {\n",
              "    background-color: #E2EBFA;\n",
              "    box-shadow: 0px 1px 2px rgba(60, 64, 67, 0.3), 0px 1px 3px 1px rgba(60, 64, 67, 0.15);\n",
              "    fill: #174EA6;\n",
              "  }\n",
              "\n",
              "  [theme=dark] .colab-df-quickchart {\n",
              "    background-color: #3B4455;\n",
              "    fill: #D2E3FC;\n",
              "  }\n",
              "\n",
              "  [theme=dark] .colab-df-quickchart:hover {\n",
              "    background-color: #434B5C;\n",
              "    box-shadow: 0px 1px 3px 1px rgba(0, 0, 0, 0.15);\n",
              "    filter: drop-shadow(0px 1px 2px rgba(0, 0, 0, 0.3));\n",
              "    fill: #FFFFFF;\n",
              "  }\n",
              "</style>\n",
              "\n",
              "    <script>\n",
              "      async function quickchart(key) {\n",
              "        const containerElement = document.querySelector('#' + key);\n",
              "        const charts = await google.colab.kernel.invokeFunction(\n",
              "            'suggestCharts', [key], {});\n",
              "      }\n",
              "    </script>\n",
              "\n",
              "      <script>\n",
              "\n",
              "function displayQuickchartButton(domScope) {\n",
              "  let quickchartButtonEl =\n",
              "    domScope.querySelector('#df-4a0319bf-d487-4991-9456-33ed96fd9497 button.colab-df-quickchart');\n",
              "  quickchartButtonEl.style.display =\n",
              "    google.colab.kernel.accessAllowed ? 'block' : 'none';\n",
              "}\n",
              "\n",
              "        displayQuickchartButton(document);\n",
              "      </script>\n",
              "      <style>\n",
              "    .colab-df-container {\n",
              "      display:flex;\n",
              "      flex-wrap:wrap;\n",
              "      gap: 12px;\n",
              "    }\n",
              "\n",
              "    .colab-df-convert {\n",
              "      background-color: #E8F0FE;\n",
              "      border: none;\n",
              "      border-radius: 50%;\n",
              "      cursor: pointer;\n",
              "      display: none;\n",
              "      fill: #1967D2;\n",
              "      height: 32px;\n",
              "      padding: 0 0 0 0;\n",
              "      width: 32px;\n",
              "    }\n",
              "\n",
              "    .colab-df-convert:hover {\n",
              "      background-color: #E2EBFA;\n",
              "      box-shadow: 0px 1px 2px rgba(60, 64, 67, 0.3), 0px 1px 3px 1px rgba(60, 64, 67, 0.15);\n",
              "      fill: #174EA6;\n",
              "    }\n",
              "\n",
              "    [theme=dark] .colab-df-convert {\n",
              "      background-color: #3B4455;\n",
              "      fill: #D2E3FC;\n",
              "    }\n",
              "\n",
              "    [theme=dark] .colab-df-convert:hover {\n",
              "      background-color: #434B5C;\n",
              "      box-shadow: 0px 1px 3px 1px rgba(0, 0, 0, 0.15);\n",
              "      filter: drop-shadow(0px 1px 2px rgba(0, 0, 0, 0.3));\n",
              "      fill: #FFFFFF;\n",
              "    }\n",
              "  </style>\n",
              "\n",
              "      <script>\n",
              "        const buttonEl =\n",
              "          document.querySelector('#df-400a5609-e764-464d-bbaa-e395794fecd8 button.colab-df-convert');\n",
              "        buttonEl.style.display =\n",
              "          google.colab.kernel.accessAllowed ? 'block' : 'none';\n",
              "\n",
              "        async function convertToInteractive(key) {\n",
              "          const element = document.querySelector('#df-400a5609-e764-464d-bbaa-e395794fecd8');\n",
              "          const dataTable =\n",
              "            await google.colab.kernel.invokeFunction('convertToInteractive',\n",
              "                                                     [key], {});\n",
              "          if (!dataTable) return;\n",
              "\n",
              "          const docLinkHtml = 'Like what you see? Visit the ' +\n",
              "            '<a target=\"_blank\" href=https://colab.research.google.com/notebooks/data_table.ipynb>data table notebook</a>'\n",
              "            + ' to learn more about interactive tables.';\n",
              "          element.innerHTML = '';\n",
              "          dataTable['output_type'] = 'display_data';\n",
              "          await google.colab.output.renderOutput(dataTable, element);\n",
              "          const docLink = document.createElement('div');\n",
              "          docLink.innerHTML = docLinkHtml;\n",
              "          element.appendChild(docLink);\n",
              "        }\n",
              "      </script>\n",
              "    </div>\n",
              "  </div>\n"
            ]
          },
          "metadata": {},
          "execution_count": 83
        }
      ],
      "source": [
        "gruop_DEP_MUN = internet.groupby(['DEPARTAMENTO', 'MUNICIPIO'], as_index=False)['INDICE_ACC'].mean()\n",
        "gruop_DEP_MUN"
      ]
    },
    {
      "cell_type": "markdown",
      "metadata": {
        "id": "tASh01wox71A"
      },
      "source": [
        "Por último, es posible agregar los datos al genera varios estadisticos al mismo tiempo y por medio de la función 'agg()'."
      ]
    },
    {
      "cell_type": "code",
      "execution_count": null,
      "metadata": {
        "id": "nU4aAY_YyJxa",
        "colab": {
          "base_uri": "https://localhost:8080/",
          "height": 424
        },
        "outputId": "985c891b-c88a-4c00-8380-9e92aec17fc4"
      },
      "outputs": [
        {
          "output_type": "execute_result",
          "data": {
            "text/plain": [
              "     DEPARTAMENTO         MUNICIPIO  max_INDICE_ACC  min_INDICE_ACC  \\\n",
              "0        AMAZONAS        EL ENCANTO        0.003370             0.0   \n",
              "1        AMAZONAS       LA CHORRERA        0.020981             0.0   \n",
              "2        AMAZONAS        LA PEDRERA        0.000258             0.0   \n",
              "3        AMAZONAS       LA VICTORIA        0.000000             0.0   \n",
              "4        AMAZONAS           LETICIA        0.025414             0.0   \n",
              "...           ...               ...             ...             ...   \n",
              "1117       VAUPES          YAVARATE        0.000937             0.0   \n",
              "1118      VICHADA          CUMARIBO        0.001404             0.0   \n",
              "1119      VICHADA      LA PRIMAVERA        0.006225             0.0   \n",
              "1120      VICHADA  PUERTO CARREï¿½O        0.066818             0.0   \n",
              "1121      VICHADA     SANTA ROSALIA        0.003874             0.0   \n",
              "\n",
              "      mean_INDICE_ACC  max_INSTITUCIONES  \n",
              "0            0.001081                  6  \n",
              "1            0.009279                  5  \n",
              "2            0.000107                  6  \n",
              "3            0.000000                  2  \n",
              "4            0.015006                 51  \n",
              "...               ...                ...  \n",
              "1117         0.000308                  2  \n",
              "1118         0.000557                 79  \n",
              "1119         0.002378                 17  \n",
              "1120         0.035957                 22  \n",
              "1121         0.002038                  5  \n",
              "\n",
              "[1122 rows x 6 columns]"
            ],
            "text/html": [
              "\n",
              "\n",
              "  <div id=\"df-28480874-6552-475b-bed1-b446116e7259\">\n",
              "    <div class=\"colab-df-container\">\n",
              "      <div>\n",
              "<style scoped>\n",
              "    .dataframe tbody tr th:only-of-type {\n",
              "        vertical-align: middle;\n",
              "    }\n",
              "\n",
              "    .dataframe tbody tr th {\n",
              "        vertical-align: top;\n",
              "    }\n",
              "\n",
              "    .dataframe thead th {\n",
              "        text-align: right;\n",
              "    }\n",
              "</style>\n",
              "<table border=\"1\" class=\"dataframe\">\n",
              "  <thead>\n",
              "    <tr style=\"text-align: right;\">\n",
              "      <th></th>\n",
              "      <th>DEPARTAMENTO</th>\n",
              "      <th>MUNICIPIO</th>\n",
              "      <th>max_INDICE_ACC</th>\n",
              "      <th>min_INDICE_ACC</th>\n",
              "      <th>mean_INDICE_ACC</th>\n",
              "      <th>max_INSTITUCIONES</th>\n",
              "    </tr>\n",
              "  </thead>\n",
              "  <tbody>\n",
              "    <tr>\n",
              "      <th>0</th>\n",
              "      <td>AMAZONAS</td>\n",
              "      <td>EL ENCANTO</td>\n",
              "      <td>0.003370</td>\n",
              "      <td>0.0</td>\n",
              "      <td>0.001081</td>\n",
              "      <td>6</td>\n",
              "    </tr>\n",
              "    <tr>\n",
              "      <th>1</th>\n",
              "      <td>AMAZONAS</td>\n",
              "      <td>LA CHORRERA</td>\n",
              "      <td>0.020981</td>\n",
              "      <td>0.0</td>\n",
              "      <td>0.009279</td>\n",
              "      <td>5</td>\n",
              "    </tr>\n",
              "    <tr>\n",
              "      <th>2</th>\n",
              "      <td>AMAZONAS</td>\n",
              "      <td>LA PEDRERA</td>\n",
              "      <td>0.000258</td>\n",
              "      <td>0.0</td>\n",
              "      <td>0.000107</td>\n",
              "      <td>6</td>\n",
              "    </tr>\n",
              "    <tr>\n",
              "      <th>3</th>\n",
              "      <td>AMAZONAS</td>\n",
              "      <td>LA VICTORIA</td>\n",
              "      <td>0.000000</td>\n",
              "      <td>0.0</td>\n",
              "      <td>0.000000</td>\n",
              "      <td>2</td>\n",
              "    </tr>\n",
              "    <tr>\n",
              "      <th>4</th>\n",
              "      <td>AMAZONAS</td>\n",
              "      <td>LETICIA</td>\n",
              "      <td>0.025414</td>\n",
              "      <td>0.0</td>\n",
              "      <td>0.015006</td>\n",
              "      <td>51</td>\n",
              "    </tr>\n",
              "    <tr>\n",
              "      <th>...</th>\n",
              "      <td>...</td>\n",
              "      <td>...</td>\n",
              "      <td>...</td>\n",
              "      <td>...</td>\n",
              "      <td>...</td>\n",
              "      <td>...</td>\n",
              "    </tr>\n",
              "    <tr>\n",
              "      <th>1117</th>\n",
              "      <td>VAUPES</td>\n",
              "      <td>YAVARATE</td>\n",
              "      <td>0.000937</td>\n",
              "      <td>0.0</td>\n",
              "      <td>0.000308</td>\n",
              "      <td>2</td>\n",
              "    </tr>\n",
              "    <tr>\n",
              "      <th>1118</th>\n",
              "      <td>VICHADA</td>\n",
              "      <td>CUMARIBO</td>\n",
              "      <td>0.001404</td>\n",
              "      <td>0.0</td>\n",
              "      <td>0.000557</td>\n",
              "      <td>79</td>\n",
              "    </tr>\n",
              "    <tr>\n",
              "      <th>1119</th>\n",
              "      <td>VICHADA</td>\n",
              "      <td>LA PRIMAVERA</td>\n",
              "      <td>0.006225</td>\n",
              "      <td>0.0</td>\n",
              "      <td>0.002378</td>\n",
              "      <td>17</td>\n",
              "    </tr>\n",
              "    <tr>\n",
              "      <th>1120</th>\n",
              "      <td>VICHADA</td>\n",
              "      <td>PUERTO CARREï¿½O</td>\n",
              "      <td>0.066818</td>\n",
              "      <td>0.0</td>\n",
              "      <td>0.035957</td>\n",
              "      <td>22</td>\n",
              "    </tr>\n",
              "    <tr>\n",
              "      <th>1121</th>\n",
              "      <td>VICHADA</td>\n",
              "      <td>SANTA ROSALIA</td>\n",
              "      <td>0.003874</td>\n",
              "      <td>0.0</td>\n",
              "      <td>0.002038</td>\n",
              "      <td>5</td>\n",
              "    </tr>\n",
              "  </tbody>\n",
              "</table>\n",
              "<p>1122 rows × 6 columns</p>\n",
              "</div>\n",
              "      <button class=\"colab-df-convert\" onclick=\"convertToInteractive('df-28480874-6552-475b-bed1-b446116e7259')\"\n",
              "              title=\"Convert this dataframe to an interactive table.\"\n",
              "              style=\"display:none;\">\n",
              "\n",
              "  <svg xmlns=\"http://www.w3.org/2000/svg\" height=\"24px\"viewBox=\"0 0 24 24\"\n",
              "       width=\"24px\">\n",
              "    <path d=\"M0 0h24v24H0V0z\" fill=\"none\"/>\n",
              "    <path d=\"M18.56 5.44l.94 2.06.94-2.06 2.06-.94-2.06-.94-.94-2.06-.94 2.06-2.06.94zm-11 1L8.5 8.5l.94-2.06 2.06-.94-2.06-.94L8.5 2.5l-.94 2.06-2.06.94zm10 10l.94 2.06.94-2.06 2.06-.94-2.06-.94-.94-2.06-.94 2.06-2.06.94z\"/><path d=\"M17.41 7.96l-1.37-1.37c-.4-.4-.92-.59-1.43-.59-.52 0-1.04.2-1.43.59L10.3 9.45l-7.72 7.72c-.78.78-.78 2.05 0 2.83L4 21.41c.39.39.9.59 1.41.59.51 0 1.02-.2 1.41-.59l7.78-7.78 2.81-2.81c.8-.78.8-2.07 0-2.86zM5.41 20L4 18.59l7.72-7.72 1.47 1.35L5.41 20z\"/>\n",
              "  </svg>\n",
              "      </button>\n",
              "\n",
              "\n",
              "\n",
              "    <div id=\"df-9979172c-b2c5-402a-b11c-bd8b6dccf8b7\">\n",
              "      <button class=\"colab-df-quickchart\" onclick=\"quickchart('df-9979172c-b2c5-402a-b11c-bd8b6dccf8b7')\"\n",
              "              title=\"Suggest charts.\"\n",
              "              style=\"display:none;\">\n",
              "\n",
              "<svg xmlns=\"http://www.w3.org/2000/svg\" height=\"24px\"viewBox=\"0 0 24 24\"\n",
              "     width=\"24px\">\n",
              "    <g>\n",
              "        <path d=\"M19 3H5c-1.1 0-2 .9-2 2v14c0 1.1.9 2 2 2h14c1.1 0 2-.9 2-2V5c0-1.1-.9-2-2-2zM9 17H7v-7h2v7zm4 0h-2V7h2v10zm4 0h-2v-4h2v4z\"/>\n",
              "    </g>\n",
              "</svg>\n",
              "      </button>\n",
              "    </div>\n",
              "\n",
              "<style>\n",
              "  .colab-df-quickchart {\n",
              "    background-color: #E8F0FE;\n",
              "    border: none;\n",
              "    border-radius: 50%;\n",
              "    cursor: pointer;\n",
              "    display: none;\n",
              "    fill: #1967D2;\n",
              "    height: 32px;\n",
              "    padding: 0 0 0 0;\n",
              "    width: 32px;\n",
              "  }\n",
              "\n",
              "  .colab-df-quickchart:hover {\n",
              "    background-color: #E2EBFA;\n",
              "    box-shadow: 0px 1px 2px rgba(60, 64, 67, 0.3), 0px 1px 3px 1px rgba(60, 64, 67, 0.15);\n",
              "    fill: #174EA6;\n",
              "  }\n",
              "\n",
              "  [theme=dark] .colab-df-quickchart {\n",
              "    background-color: #3B4455;\n",
              "    fill: #D2E3FC;\n",
              "  }\n",
              "\n",
              "  [theme=dark] .colab-df-quickchart:hover {\n",
              "    background-color: #434B5C;\n",
              "    box-shadow: 0px 1px 3px 1px rgba(0, 0, 0, 0.15);\n",
              "    filter: drop-shadow(0px 1px 2px rgba(0, 0, 0, 0.3));\n",
              "    fill: #FFFFFF;\n",
              "  }\n",
              "</style>\n",
              "\n",
              "    <script>\n",
              "      async function quickchart(key) {\n",
              "        const containerElement = document.querySelector('#' + key);\n",
              "        const charts = await google.colab.kernel.invokeFunction(\n",
              "            'suggestCharts', [key], {});\n",
              "      }\n",
              "    </script>\n",
              "\n",
              "      <script>\n",
              "\n",
              "function displayQuickchartButton(domScope) {\n",
              "  let quickchartButtonEl =\n",
              "    domScope.querySelector('#df-9979172c-b2c5-402a-b11c-bd8b6dccf8b7 button.colab-df-quickchart');\n",
              "  quickchartButtonEl.style.display =\n",
              "    google.colab.kernel.accessAllowed ? 'block' : 'none';\n",
              "}\n",
              "\n",
              "        displayQuickchartButton(document);\n",
              "      </script>\n",
              "      <style>\n",
              "    .colab-df-container {\n",
              "      display:flex;\n",
              "      flex-wrap:wrap;\n",
              "      gap: 12px;\n",
              "    }\n",
              "\n",
              "    .colab-df-convert {\n",
              "      background-color: #E8F0FE;\n",
              "      border: none;\n",
              "      border-radius: 50%;\n",
              "      cursor: pointer;\n",
              "      display: none;\n",
              "      fill: #1967D2;\n",
              "      height: 32px;\n",
              "      padding: 0 0 0 0;\n",
              "      width: 32px;\n",
              "    }\n",
              "\n",
              "    .colab-df-convert:hover {\n",
              "      background-color: #E2EBFA;\n",
              "      box-shadow: 0px 1px 2px rgba(60, 64, 67, 0.3), 0px 1px 3px 1px rgba(60, 64, 67, 0.15);\n",
              "      fill: #174EA6;\n",
              "    }\n",
              "\n",
              "    [theme=dark] .colab-df-convert {\n",
              "      background-color: #3B4455;\n",
              "      fill: #D2E3FC;\n",
              "    }\n",
              "\n",
              "    [theme=dark] .colab-df-convert:hover {\n",
              "      background-color: #434B5C;\n",
              "      box-shadow: 0px 1px 3px 1px rgba(0, 0, 0, 0.15);\n",
              "      filter: drop-shadow(0px 1px 2px rgba(0, 0, 0, 0.3));\n",
              "      fill: #FFFFFF;\n",
              "    }\n",
              "  </style>\n",
              "\n",
              "      <script>\n",
              "        const buttonEl =\n",
              "          document.querySelector('#df-28480874-6552-475b-bed1-b446116e7259 button.colab-df-convert');\n",
              "        buttonEl.style.display =\n",
              "          google.colab.kernel.accessAllowed ? 'block' : 'none';\n",
              "\n",
              "        async function convertToInteractive(key) {\n",
              "          const element = document.querySelector('#df-28480874-6552-475b-bed1-b446116e7259');\n",
              "          const dataTable =\n",
              "            await google.colab.kernel.invokeFunction('convertToInteractive',\n",
              "                                                     [key], {});\n",
              "          if (!dataTable) return;\n",
              "\n",
              "          const docLinkHtml = 'Like what you see? Visit the ' +\n",
              "            '<a target=\"_blank\" href=https://colab.research.google.com/notebooks/data_table.ipynb>data table notebook</a>'\n",
              "            + ' to learn more about interactive tables.';\n",
              "          element.innerHTML = '';\n",
              "          dataTable['output_type'] = 'display_data';\n",
              "          await google.colab.output.renderOutput(dataTable, element);\n",
              "          const docLink = document.createElement('div');\n",
              "          docLink.innerHTML = docLinkHtml;\n",
              "          element.appendChild(docLink);\n",
              "        }\n",
              "      </script>\n",
              "    </div>\n",
              "  </div>\n"
            ]
          },
          "metadata": {},
          "execution_count": 84
        }
      ],
      "source": [
        "gruop_DEP_MUN = internet.groupby(['DEPARTAMENTO', 'MUNICIPIO'], as_index=False).agg(\n",
        "     max_INDICE_ACC = ('INDICE_ACC', max),\n",
        "     min_INDICE_ACC = ('INDICE_ACC', min),\n",
        "     mean_INDICE_ACC = ('INDICE_ACC', 'mean'),\n",
        "     max_INSTITUCIONES = ('No. INSTITUCIONES', max)\n",
        ")\n",
        "\n",
        "gruop_DEP_MUN"
      ]
    },
    {
      "cell_type": "markdown",
      "metadata": {
        "id": "LfwXO_a78JyX"
      },
      "source": [
        "Estas y otras formas de realizar la agrupación se resumen en la siguiente tabla:\n",
        "\n",
        "| Sintaxis | Descripción |\n",
        "| --- | --- |\n",
        "| df.groupby('columna') | Agrupa el DataFrame `df` por la columna especificada |\n",
        "| df.groupby(['columna1', 'columna2']) | Agrupa el DataFrame `df` por las columnas especificadas |\n",
        "| df.groupby('columna').mean() | Agrupa el DataFrame `df` por la columna especificada y calcula la media de cada grupo |\n",
        "| df.groupby('columna').agg(func) | Agrupa el DataFrame `df` por la columna especificada y aplica una función de agregación personalizada `func` a cada grupo |\n",
        "| df.groupby('columna').apply(func) | Agrupa el DataFrame `df` por la columna especificada y aplica una función personalizada `func` a cada grupo |\n",
        "| df.groupby('columna').filter(func) | Agrupa el DataFrame `df` por la columna especificada y filtra los grupos que cumplen con una condición dada por la función `func` |\n"
      ]
    },
    {
      "cell_type": "markdown",
      "metadata": {
        "id": "m-o77Az65NP3"
      },
      "source": [
        "### <font color='5adcff'> **Agrupar datos de distintos** </font> <font color='157699'> **DataFrames** </font>\n",
        "\n",
        "---"
      ]
    },
    {
      "cell_type": "markdown",
      "metadata": {
        "id": "IQsZnJUL5QN0"
      },
      "source": [
        "En algunos casos estamos interesados en concatenar datos de diferentes DataFrames. Para esto, Pandas ofrece diferentes opciones dependiendo del tipo de unión que deseemos hacer.\n",
        "\n",
        "| Tipo de unión | Función de Pandas | Descripción |\n",
        "| --- | --- | --- |\n",
        "| Unión interna | `pd.merge(df1, df2, on=columna_común)` | Retorna sólo las filas en las que existe una coincidencia entre ambas tablas en la columna especificada. |\n",
        "| Unión externa | `pd.merge(df1, df2, on=columna_común, how='outer')` | Retorna todas las filas de ambas tablas, llenando con NaNs las celdas sin coincidencia. |\n",
        "| Unión izquierda | `pd.merge(df1, df2, on=columna_común, how='left')` | Retorna todas las filas de la tabla izquierda, y las filas de la tabla derecha que coinciden con la columna especificada. Las celdas sin coincidencia se llenan con NaNs. |\n",
        "| Unión derecha | `pd.merge(df1, df2, on=columna_común, how='right')` | Retorna todas las filas de la tabla derecha, y las filas de la tabla izquierda que coinciden con la columna especificada. Las celdas sin coincidencia se llenan con NaNs. |\n",
        "| Concatenación | `pd.concat([df1, df2])` | Une dos o más DataFrames en función de las filas o columnas. |\n",
        "| Añadir filas | `df1.append(df2)` | Añade las filas del segundo DataFrame al final del primero. |\n",
        "| Añadir columnas | `pd.concat([df1, df2], axis=1)` | Añade las columnas del segundo DataFrame al final del primero. |"
      ]
    },
    {
      "cell_type": "markdown",
      "metadata": {
        "id": "3Jbj4zUJ5S91"
      },
      "source": [
        "Considera, por ejemplo, dos DataFrames diferentes:"
      ]
    },
    {
      "cell_type": "code",
      "execution_count": null,
      "metadata": {
        "id": "DsxtJlbf5U9N",
        "colab": {
          "base_uri": "https://localhost:8080/"
        },
        "outputId": "a9f671a3-007b-46d4-dfb9-c52df0d4307e"
      },
      "outputs": [
        {
          "output_type": "stream",
          "name": "stdout",
          "text": [
            "    A   B   C   D\n",
            "0  A0  B0  C0  D0\n",
            "1  A1  B1  C1  D1\n",
            "2  A2  B2  C2  D2\n",
            "3  A3  B3  C3  D3\n"
          ]
        }
      ],
      "source": [
        "import pandas as pd\n",
        "\n",
        "df1 = pd.DataFrame({'A': ['A0', 'A1', 'A2', 'A3'],\n",
        "                    'B': ['B0', 'B1', 'B2', 'B3'],\n",
        "                    'C': ['C0', 'C1', 'C2', 'C3'],\n",
        "                    'D': ['D0', 'D1', 'D2', 'D3']})\n",
        "\n",
        "print(df1)\n"
      ]
    },
    {
      "cell_type": "code",
      "execution_count": null,
      "metadata": {
        "id": "FGKlp9oQ5Vrt",
        "colab": {
          "base_uri": "https://localhost:8080/"
        },
        "outputId": "094dd941-18ad-40e2-b418-0376339310ad"
      },
      "outputs": [
        {
          "output_type": "stream",
          "name": "stdout",
          "text": [
            "    A   B   C   D\n",
            "0  A4  B4  C4  D4\n",
            "1  A5  B5  C5  D5\n",
            "2  A6  B6  C6  D6\n",
            "3  A7  B7  C7  D7\n"
          ]
        }
      ],
      "source": [
        "df2 = pd.DataFrame({'A': ['A4', 'A5', 'A6', 'A7'],\n",
        "                    'B': ['B4', 'B5', 'B6', 'B7'],\n",
        "                    'C': ['C4', 'C5', 'C6', 'C7'],\n",
        "                    'D': ['D4', 'D5', 'D6', 'D7']})\n",
        "\n",
        "print(df2)"
      ]
    },
    {
      "cell_type": "markdown",
      "metadata": {
        "id": "cJoMQ3Nt5YWd"
      },
      "source": [
        "La siguiente instrucción concatena las filas de los dos DataFrames:"
      ]
    },
    {
      "cell_type": "code",
      "execution_count": null,
      "metadata": {
        "id": "1hPuILft5asU",
        "colab": {
          "base_uri": "https://localhost:8080/",
          "height": 300
        },
        "outputId": "133d8fb5-45ab-43af-8654-f28e1167fc95"
      },
      "outputs": [
        {
          "output_type": "execute_result",
          "data": {
            "text/plain": [
              "    A   B   C   D\n",
              "0  A0  B0  C0  D0\n",
              "1  A1  B1  C1  D1\n",
              "2  A2  B2  C2  D2\n",
              "3  A3  B3  C3  D3\n",
              "4  A4  B4  C4  D4\n",
              "5  A5  B5  C5  D5\n",
              "6  A6  B6  C6  D6\n",
              "7  A7  B7  C7  D7"
            ],
            "text/html": [
              "\n",
              "\n",
              "  <div id=\"df-1665b2cf-f068-4892-a1ce-889acf986b11\">\n",
              "    <div class=\"colab-df-container\">\n",
              "      <div>\n",
              "<style scoped>\n",
              "    .dataframe tbody tr th:only-of-type {\n",
              "        vertical-align: middle;\n",
              "    }\n",
              "\n",
              "    .dataframe tbody tr th {\n",
              "        vertical-align: top;\n",
              "    }\n",
              "\n",
              "    .dataframe thead th {\n",
              "        text-align: right;\n",
              "    }\n",
              "</style>\n",
              "<table border=\"1\" class=\"dataframe\">\n",
              "  <thead>\n",
              "    <tr style=\"text-align: right;\">\n",
              "      <th></th>\n",
              "      <th>A</th>\n",
              "      <th>B</th>\n",
              "      <th>C</th>\n",
              "      <th>D</th>\n",
              "    </tr>\n",
              "  </thead>\n",
              "  <tbody>\n",
              "    <tr>\n",
              "      <th>0</th>\n",
              "      <td>A0</td>\n",
              "      <td>B0</td>\n",
              "      <td>C0</td>\n",
              "      <td>D0</td>\n",
              "    </tr>\n",
              "    <tr>\n",
              "      <th>1</th>\n",
              "      <td>A1</td>\n",
              "      <td>B1</td>\n",
              "      <td>C1</td>\n",
              "      <td>D1</td>\n",
              "    </tr>\n",
              "    <tr>\n",
              "      <th>2</th>\n",
              "      <td>A2</td>\n",
              "      <td>B2</td>\n",
              "      <td>C2</td>\n",
              "      <td>D2</td>\n",
              "    </tr>\n",
              "    <tr>\n",
              "      <th>3</th>\n",
              "      <td>A3</td>\n",
              "      <td>B3</td>\n",
              "      <td>C3</td>\n",
              "      <td>D3</td>\n",
              "    </tr>\n",
              "    <tr>\n",
              "      <th>4</th>\n",
              "      <td>A4</td>\n",
              "      <td>B4</td>\n",
              "      <td>C4</td>\n",
              "      <td>D4</td>\n",
              "    </tr>\n",
              "    <tr>\n",
              "      <th>5</th>\n",
              "      <td>A5</td>\n",
              "      <td>B5</td>\n",
              "      <td>C5</td>\n",
              "      <td>D5</td>\n",
              "    </tr>\n",
              "    <tr>\n",
              "      <th>6</th>\n",
              "      <td>A6</td>\n",
              "      <td>B6</td>\n",
              "      <td>C6</td>\n",
              "      <td>D6</td>\n",
              "    </tr>\n",
              "    <tr>\n",
              "      <th>7</th>\n",
              "      <td>A7</td>\n",
              "      <td>B7</td>\n",
              "      <td>C7</td>\n",
              "      <td>D7</td>\n",
              "    </tr>\n",
              "  </tbody>\n",
              "</table>\n",
              "</div>\n",
              "      <button class=\"colab-df-convert\" onclick=\"convertToInteractive('df-1665b2cf-f068-4892-a1ce-889acf986b11')\"\n",
              "              title=\"Convert this dataframe to an interactive table.\"\n",
              "              style=\"display:none;\">\n",
              "\n",
              "  <svg xmlns=\"http://www.w3.org/2000/svg\" height=\"24px\"viewBox=\"0 0 24 24\"\n",
              "       width=\"24px\">\n",
              "    <path d=\"M0 0h24v24H0V0z\" fill=\"none\"/>\n",
              "    <path d=\"M18.56 5.44l.94 2.06.94-2.06 2.06-.94-2.06-.94-.94-2.06-.94 2.06-2.06.94zm-11 1L8.5 8.5l.94-2.06 2.06-.94-2.06-.94L8.5 2.5l-.94 2.06-2.06.94zm10 10l.94 2.06.94-2.06 2.06-.94-2.06-.94-.94-2.06-.94 2.06-2.06.94z\"/><path d=\"M17.41 7.96l-1.37-1.37c-.4-.4-.92-.59-1.43-.59-.52 0-1.04.2-1.43.59L10.3 9.45l-7.72 7.72c-.78.78-.78 2.05 0 2.83L4 21.41c.39.39.9.59 1.41.59.51 0 1.02-.2 1.41-.59l7.78-7.78 2.81-2.81c.8-.78.8-2.07 0-2.86zM5.41 20L4 18.59l7.72-7.72 1.47 1.35L5.41 20z\"/>\n",
              "  </svg>\n",
              "      </button>\n",
              "\n",
              "\n",
              "\n",
              "    <div id=\"df-34212651-4cfe-4d82-8ee9-feab32111648\">\n",
              "      <button class=\"colab-df-quickchart\" onclick=\"quickchart('df-34212651-4cfe-4d82-8ee9-feab32111648')\"\n",
              "              title=\"Suggest charts.\"\n",
              "              style=\"display:none;\">\n",
              "\n",
              "<svg xmlns=\"http://www.w3.org/2000/svg\" height=\"24px\"viewBox=\"0 0 24 24\"\n",
              "     width=\"24px\">\n",
              "    <g>\n",
              "        <path d=\"M19 3H5c-1.1 0-2 .9-2 2v14c0 1.1.9 2 2 2h14c1.1 0 2-.9 2-2V5c0-1.1-.9-2-2-2zM9 17H7v-7h2v7zm4 0h-2V7h2v10zm4 0h-2v-4h2v4z\"/>\n",
              "    </g>\n",
              "</svg>\n",
              "      </button>\n",
              "    </div>\n",
              "\n",
              "<style>\n",
              "  .colab-df-quickchart {\n",
              "    background-color: #E8F0FE;\n",
              "    border: none;\n",
              "    border-radius: 50%;\n",
              "    cursor: pointer;\n",
              "    display: none;\n",
              "    fill: #1967D2;\n",
              "    height: 32px;\n",
              "    padding: 0 0 0 0;\n",
              "    width: 32px;\n",
              "  }\n",
              "\n",
              "  .colab-df-quickchart:hover {\n",
              "    background-color: #E2EBFA;\n",
              "    box-shadow: 0px 1px 2px rgba(60, 64, 67, 0.3), 0px 1px 3px 1px rgba(60, 64, 67, 0.15);\n",
              "    fill: #174EA6;\n",
              "  }\n",
              "\n",
              "  [theme=dark] .colab-df-quickchart {\n",
              "    background-color: #3B4455;\n",
              "    fill: #D2E3FC;\n",
              "  }\n",
              "\n",
              "  [theme=dark] .colab-df-quickchart:hover {\n",
              "    background-color: #434B5C;\n",
              "    box-shadow: 0px 1px 3px 1px rgba(0, 0, 0, 0.15);\n",
              "    filter: drop-shadow(0px 1px 2px rgba(0, 0, 0, 0.3));\n",
              "    fill: #FFFFFF;\n",
              "  }\n",
              "</style>\n",
              "\n",
              "    <script>\n",
              "      async function quickchart(key) {\n",
              "        const containerElement = document.querySelector('#' + key);\n",
              "        const charts = await google.colab.kernel.invokeFunction(\n",
              "            'suggestCharts', [key], {});\n",
              "      }\n",
              "    </script>\n",
              "\n",
              "      <script>\n",
              "\n",
              "function displayQuickchartButton(domScope) {\n",
              "  let quickchartButtonEl =\n",
              "    domScope.querySelector('#df-34212651-4cfe-4d82-8ee9-feab32111648 button.colab-df-quickchart');\n",
              "  quickchartButtonEl.style.display =\n",
              "    google.colab.kernel.accessAllowed ? 'block' : 'none';\n",
              "}\n",
              "\n",
              "        displayQuickchartButton(document);\n",
              "      </script>\n",
              "      <style>\n",
              "    .colab-df-container {\n",
              "      display:flex;\n",
              "      flex-wrap:wrap;\n",
              "      gap: 12px;\n",
              "    }\n",
              "\n",
              "    .colab-df-convert {\n",
              "      background-color: #E8F0FE;\n",
              "      border: none;\n",
              "      border-radius: 50%;\n",
              "      cursor: pointer;\n",
              "      display: none;\n",
              "      fill: #1967D2;\n",
              "      height: 32px;\n",
              "      padding: 0 0 0 0;\n",
              "      width: 32px;\n",
              "    }\n",
              "\n",
              "    .colab-df-convert:hover {\n",
              "      background-color: #E2EBFA;\n",
              "      box-shadow: 0px 1px 2px rgba(60, 64, 67, 0.3), 0px 1px 3px 1px rgba(60, 64, 67, 0.15);\n",
              "      fill: #174EA6;\n",
              "    }\n",
              "\n",
              "    [theme=dark] .colab-df-convert {\n",
              "      background-color: #3B4455;\n",
              "      fill: #D2E3FC;\n",
              "    }\n",
              "\n",
              "    [theme=dark] .colab-df-convert:hover {\n",
              "      background-color: #434B5C;\n",
              "      box-shadow: 0px 1px 3px 1px rgba(0, 0, 0, 0.15);\n",
              "      filter: drop-shadow(0px 1px 2px rgba(0, 0, 0, 0.3));\n",
              "      fill: #FFFFFF;\n",
              "    }\n",
              "  </style>\n",
              "\n",
              "      <script>\n",
              "        const buttonEl =\n",
              "          document.querySelector('#df-1665b2cf-f068-4892-a1ce-889acf986b11 button.colab-df-convert');\n",
              "        buttonEl.style.display =\n",
              "          google.colab.kernel.accessAllowed ? 'block' : 'none';\n",
              "\n",
              "        async function convertToInteractive(key) {\n",
              "          const element = document.querySelector('#df-1665b2cf-f068-4892-a1ce-889acf986b11');\n",
              "          const dataTable =\n",
              "            await google.colab.kernel.invokeFunction('convertToInteractive',\n",
              "                                                     [key], {});\n",
              "          if (!dataTable) return;\n",
              "\n",
              "          const docLinkHtml = 'Like what you see? Visit the ' +\n",
              "            '<a target=\"_blank\" href=https://colab.research.google.com/notebooks/data_table.ipynb>data table notebook</a>'\n",
              "            + ' to learn more about interactive tables.';\n",
              "          element.innerHTML = '';\n",
              "          dataTable['output_type'] = 'display_data';\n",
              "          await google.colab.output.renderOutput(dataTable, element);\n",
              "          const docLink = document.createElement('div');\n",
              "          docLink.innerHTML = docLinkHtml;\n",
              "          element.appendChild(docLink);\n",
              "        }\n",
              "      </script>\n",
              "    </div>\n",
              "  </div>\n"
            ]
          },
          "metadata": {},
          "execution_count": 87
        }
      ],
      "source": [
        "df_concatenado = pd.concat([df1, df2], axis=0, ignore_index=True)\n",
        "df_concatenado"
      ]
    },
    {
      "cell_type": "markdown",
      "metadata": {
        "id": "fgQUhNBU5ceE"
      },
      "source": [
        "La opción 'axis=0' indica que se agregan las filas, mientras que la opción 'ignore_index=True' anuncia que se crea un nuevo conjunto de indices para el DataFrameConsolidado."
      ]
    },
    {
      "cell_type": "markdown",
      "metadata": {
        "id": "QvtP2HqVocHA"
      },
      "source": [
        "## <font color='5adcff'> **Análisis exploratorio** </font>\n",
        "\n",
        "Es posible realizar análisis exploratorio de los datos y calcular algunas estadisticas mediante el uso de algunas funciones predefindas.\n",
        "\n",
        "Por ejemplo, la función 'describe()' nos provee un resumen de las medidas de tendencia central y dispersión de las columnas númericas."
      ]
    },
    {
      "cell_type": "code",
      "execution_count": null,
      "metadata": {
        "id": "2k9-rWwEowbB",
        "colab": {
          "base_uri": "https://localhost:8080/",
          "height": 300
        },
        "outputId": "c99edbd2-0928-446c-d6df-45d97a8fbe90"
      },
      "outputs": [
        {
          "output_type": "execute_result",
          "data": {
            "text/plain": [
              "                ANO     TRIMESTRE  No. ACCESOS FIJOS A INTERNET  \\\n",
              "count  13464.000000  13464.000000                  1.346400e+04   \n",
              "mean    2018.500000      2.500000                  4.150322e+03   \n",
              "std        0.957463      1.118076                  5.204473e+04   \n",
              "min     2017.000000      1.000000                  0.000000e+00   \n",
              "25%     2018.000000      1.750000                  0.000000e+00   \n",
              "50%     2018.500000      2.500000                  4.500000e+01   \n",
              "75%     2019.000000      3.250000                  3.862500e+02   \n",
              "max     2020.000000      4.000000                  2.023726e+06   \n",
              "\n",
              "       POBLACION DANE  No. INSTITUCIONES    INDICE_ACC  \n",
              "count    1.346400e+04       13464.000000  13464.000000  \n",
              "mean     4.381646e+04          44.317291      0.026053  \n",
              "std      2.609207e+05         260.923884      0.046264  \n",
              "min      2.790000e+02           0.000000      0.000000  \n",
              "25%      6.612500e+03           7.000000      0.000000  \n",
              "50%      1.291800e+04          13.000000      0.006741  \n",
              "75%      2.727850e+04          28.000000      0.030473  \n",
              "max      8.080734e+06        8081.000000      0.795978  "
            ],
            "text/html": [
              "\n",
              "\n",
              "  <div id=\"df-c1965150-b90a-4fac-a8ff-8e5bff8a0af3\">\n",
              "    <div class=\"colab-df-container\">\n",
              "      <div>\n",
              "<style scoped>\n",
              "    .dataframe tbody tr th:only-of-type {\n",
              "        vertical-align: middle;\n",
              "    }\n",
              "\n",
              "    .dataframe tbody tr th {\n",
              "        vertical-align: top;\n",
              "    }\n",
              "\n",
              "    .dataframe thead th {\n",
              "        text-align: right;\n",
              "    }\n",
              "</style>\n",
              "<table border=\"1\" class=\"dataframe\">\n",
              "  <thead>\n",
              "    <tr style=\"text-align: right;\">\n",
              "      <th></th>\n",
              "      <th>ANO</th>\n",
              "      <th>TRIMESTRE</th>\n",
              "      <th>No. ACCESOS FIJOS A INTERNET</th>\n",
              "      <th>POBLACION DANE</th>\n",
              "      <th>No. INSTITUCIONES</th>\n",
              "      <th>INDICE_ACC</th>\n",
              "    </tr>\n",
              "  </thead>\n",
              "  <tbody>\n",
              "    <tr>\n",
              "      <th>count</th>\n",
              "      <td>13464.000000</td>\n",
              "      <td>13464.000000</td>\n",
              "      <td>1.346400e+04</td>\n",
              "      <td>1.346400e+04</td>\n",
              "      <td>13464.000000</td>\n",
              "      <td>13464.000000</td>\n",
              "    </tr>\n",
              "    <tr>\n",
              "      <th>mean</th>\n",
              "      <td>2018.500000</td>\n",
              "      <td>2.500000</td>\n",
              "      <td>4.150322e+03</td>\n",
              "      <td>4.381646e+04</td>\n",
              "      <td>44.317291</td>\n",
              "      <td>0.026053</td>\n",
              "    </tr>\n",
              "    <tr>\n",
              "      <th>std</th>\n",
              "      <td>0.957463</td>\n",
              "      <td>1.118076</td>\n",
              "      <td>5.204473e+04</td>\n",
              "      <td>2.609207e+05</td>\n",
              "      <td>260.923884</td>\n",
              "      <td>0.046264</td>\n",
              "    </tr>\n",
              "    <tr>\n",
              "      <th>min</th>\n",
              "      <td>2017.000000</td>\n",
              "      <td>1.000000</td>\n",
              "      <td>0.000000e+00</td>\n",
              "      <td>2.790000e+02</td>\n",
              "      <td>0.000000</td>\n",
              "      <td>0.000000</td>\n",
              "    </tr>\n",
              "    <tr>\n",
              "      <th>25%</th>\n",
              "      <td>2018.000000</td>\n",
              "      <td>1.750000</td>\n",
              "      <td>0.000000e+00</td>\n",
              "      <td>6.612500e+03</td>\n",
              "      <td>7.000000</td>\n",
              "      <td>0.000000</td>\n",
              "    </tr>\n",
              "    <tr>\n",
              "      <th>50%</th>\n",
              "      <td>2018.500000</td>\n",
              "      <td>2.500000</td>\n",
              "      <td>4.500000e+01</td>\n",
              "      <td>1.291800e+04</td>\n",
              "      <td>13.000000</td>\n",
              "      <td>0.006741</td>\n",
              "    </tr>\n",
              "    <tr>\n",
              "      <th>75%</th>\n",
              "      <td>2019.000000</td>\n",
              "      <td>3.250000</td>\n",
              "      <td>3.862500e+02</td>\n",
              "      <td>2.727850e+04</td>\n",
              "      <td>28.000000</td>\n",
              "      <td>0.030473</td>\n",
              "    </tr>\n",
              "    <tr>\n",
              "      <th>max</th>\n",
              "      <td>2020.000000</td>\n",
              "      <td>4.000000</td>\n",
              "      <td>2.023726e+06</td>\n",
              "      <td>8.080734e+06</td>\n",
              "      <td>8081.000000</td>\n",
              "      <td>0.795978</td>\n",
              "    </tr>\n",
              "  </tbody>\n",
              "</table>\n",
              "</div>\n",
              "      <button class=\"colab-df-convert\" onclick=\"convertToInteractive('df-c1965150-b90a-4fac-a8ff-8e5bff8a0af3')\"\n",
              "              title=\"Convert this dataframe to an interactive table.\"\n",
              "              style=\"display:none;\">\n",
              "\n",
              "  <svg xmlns=\"http://www.w3.org/2000/svg\" height=\"24px\"viewBox=\"0 0 24 24\"\n",
              "       width=\"24px\">\n",
              "    <path d=\"M0 0h24v24H0V0z\" fill=\"none\"/>\n",
              "    <path d=\"M18.56 5.44l.94 2.06.94-2.06 2.06-.94-2.06-.94-.94-2.06-.94 2.06-2.06.94zm-11 1L8.5 8.5l.94-2.06 2.06-.94-2.06-.94L8.5 2.5l-.94 2.06-2.06.94zm10 10l.94 2.06.94-2.06 2.06-.94-2.06-.94-.94-2.06-.94 2.06-2.06.94z\"/><path d=\"M17.41 7.96l-1.37-1.37c-.4-.4-.92-.59-1.43-.59-.52 0-1.04.2-1.43.59L10.3 9.45l-7.72 7.72c-.78.78-.78 2.05 0 2.83L4 21.41c.39.39.9.59 1.41.59.51 0 1.02-.2 1.41-.59l7.78-7.78 2.81-2.81c.8-.78.8-2.07 0-2.86zM5.41 20L4 18.59l7.72-7.72 1.47 1.35L5.41 20z\"/>\n",
              "  </svg>\n",
              "      </button>\n",
              "\n",
              "\n",
              "\n",
              "    <div id=\"df-f3179065-667e-4ff9-b472-02f4a3415d9d\">\n",
              "      <button class=\"colab-df-quickchart\" onclick=\"quickchart('df-f3179065-667e-4ff9-b472-02f4a3415d9d')\"\n",
              "              title=\"Suggest charts.\"\n",
              "              style=\"display:none;\">\n",
              "\n",
              "<svg xmlns=\"http://www.w3.org/2000/svg\" height=\"24px\"viewBox=\"0 0 24 24\"\n",
              "     width=\"24px\">\n",
              "    <g>\n",
              "        <path d=\"M19 3H5c-1.1 0-2 .9-2 2v14c0 1.1.9 2 2 2h14c1.1 0 2-.9 2-2V5c0-1.1-.9-2-2-2zM9 17H7v-7h2v7zm4 0h-2V7h2v10zm4 0h-2v-4h2v4z\"/>\n",
              "    </g>\n",
              "</svg>\n",
              "      </button>\n",
              "    </div>\n",
              "\n",
              "<style>\n",
              "  .colab-df-quickchart {\n",
              "    background-color: #E8F0FE;\n",
              "    border: none;\n",
              "    border-radius: 50%;\n",
              "    cursor: pointer;\n",
              "    display: none;\n",
              "    fill: #1967D2;\n",
              "    height: 32px;\n",
              "    padding: 0 0 0 0;\n",
              "    width: 32px;\n",
              "  }\n",
              "\n",
              "  .colab-df-quickchart:hover {\n",
              "    background-color: #E2EBFA;\n",
              "    box-shadow: 0px 1px 2px rgba(60, 64, 67, 0.3), 0px 1px 3px 1px rgba(60, 64, 67, 0.15);\n",
              "    fill: #174EA6;\n",
              "  }\n",
              "\n",
              "  [theme=dark] .colab-df-quickchart {\n",
              "    background-color: #3B4455;\n",
              "    fill: #D2E3FC;\n",
              "  }\n",
              "\n",
              "  [theme=dark] .colab-df-quickchart:hover {\n",
              "    background-color: #434B5C;\n",
              "    box-shadow: 0px 1px 3px 1px rgba(0, 0, 0, 0.15);\n",
              "    filter: drop-shadow(0px 1px 2px rgba(0, 0, 0, 0.3));\n",
              "    fill: #FFFFFF;\n",
              "  }\n",
              "</style>\n",
              "\n",
              "    <script>\n",
              "      async function quickchart(key) {\n",
              "        const containerElement = document.querySelector('#' + key);\n",
              "        const charts = await google.colab.kernel.invokeFunction(\n",
              "            'suggestCharts', [key], {});\n",
              "      }\n",
              "    </script>\n",
              "\n",
              "      <script>\n",
              "\n",
              "function displayQuickchartButton(domScope) {\n",
              "  let quickchartButtonEl =\n",
              "    domScope.querySelector('#df-f3179065-667e-4ff9-b472-02f4a3415d9d button.colab-df-quickchart');\n",
              "  quickchartButtonEl.style.display =\n",
              "    google.colab.kernel.accessAllowed ? 'block' : 'none';\n",
              "}\n",
              "\n",
              "        displayQuickchartButton(document);\n",
              "      </script>\n",
              "      <style>\n",
              "    .colab-df-container {\n",
              "      display:flex;\n",
              "      flex-wrap:wrap;\n",
              "      gap: 12px;\n",
              "    }\n",
              "\n",
              "    .colab-df-convert {\n",
              "      background-color: #E8F0FE;\n",
              "      border: none;\n",
              "      border-radius: 50%;\n",
              "      cursor: pointer;\n",
              "      display: none;\n",
              "      fill: #1967D2;\n",
              "      height: 32px;\n",
              "      padding: 0 0 0 0;\n",
              "      width: 32px;\n",
              "    }\n",
              "\n",
              "    .colab-df-convert:hover {\n",
              "      background-color: #E2EBFA;\n",
              "      box-shadow: 0px 1px 2px rgba(60, 64, 67, 0.3), 0px 1px 3px 1px rgba(60, 64, 67, 0.15);\n",
              "      fill: #174EA6;\n",
              "    }\n",
              "\n",
              "    [theme=dark] .colab-df-convert {\n",
              "      background-color: #3B4455;\n",
              "      fill: #D2E3FC;\n",
              "    }\n",
              "\n",
              "    [theme=dark] .colab-df-convert:hover {\n",
              "      background-color: #434B5C;\n",
              "      box-shadow: 0px 1px 3px 1px rgba(0, 0, 0, 0.15);\n",
              "      filter: drop-shadow(0px 1px 2px rgba(0, 0, 0, 0.3));\n",
              "      fill: #FFFFFF;\n",
              "    }\n",
              "  </style>\n",
              "\n",
              "      <script>\n",
              "        const buttonEl =\n",
              "          document.querySelector('#df-c1965150-b90a-4fac-a8ff-8e5bff8a0af3 button.colab-df-convert');\n",
              "        buttonEl.style.display =\n",
              "          google.colab.kernel.accessAllowed ? 'block' : 'none';\n",
              "\n",
              "        async function convertToInteractive(key) {\n",
              "          const element = document.querySelector('#df-c1965150-b90a-4fac-a8ff-8e5bff8a0af3');\n",
              "          const dataTable =\n",
              "            await google.colab.kernel.invokeFunction('convertToInteractive',\n",
              "                                                     [key], {});\n",
              "          if (!dataTable) return;\n",
              "\n",
              "          const docLinkHtml = 'Like what you see? Visit the ' +\n",
              "            '<a target=\"_blank\" href=https://colab.research.google.com/notebooks/data_table.ipynb>data table notebook</a>'\n",
              "            + ' to learn more about interactive tables.';\n",
              "          element.innerHTML = '';\n",
              "          dataTable['output_type'] = 'display_data';\n",
              "          await google.colab.output.renderOutput(dataTable, element);\n",
              "          const docLink = document.createElement('div');\n",
              "          docLink.innerHTML = docLinkHtml;\n",
              "          element.appendChild(docLink);\n",
              "        }\n",
              "      </script>\n",
              "    </div>\n",
              "  </div>\n"
            ]
          },
          "metadata": {},
          "execution_count": 88
        }
      ],
      "source": [
        "internet.describe()"
      ]
    },
    {
      "cell_type": "markdown",
      "metadata": {
        "id": "T1QRp09cuYHQ"
      },
      "source": [
        "Es posible obtener información especifica de una o más columnas al usar algunas de las funciones predefinidas."
      ]
    },
    {
      "cell_type": "code",
      "execution_count": null,
      "metadata": {
        "id": "aXA66nY0urZg",
        "colab": {
          "base_uri": "https://localhost:8080/"
        },
        "outputId": "ae9c8ce2-4c36-4878-d9e1-cda6b02f6390"
      },
      "outputs": [
        {
          "output_type": "execute_result",
          "data": {
            "text/plain": [
              "No. ACCESOS FIJOS A INTERNET    4150.321598\n",
              "INDICE_ACC                         0.026053\n",
              "dtype: float64"
            ]
          },
          "metadata": {},
          "execution_count": 89
        }
      ],
      "source": [
        "internet[['No. ACCESOS FIJOS A INTERNET', 'INDICE_ACC']].mean()"
      ]
    },
    {
      "cell_type": "markdown",
      "metadata": {
        "id": "0IuC1jy7pO0Q"
      },
      "source": [
        "De forma análoga, la función 'value_counts()' provee información para las variables categoricas, en particular el conteo de datos para cada valor prosible."
      ]
    },
    {
      "cell_type": "code",
      "execution_count": null,
      "metadata": {
        "id": "7HAcmO8WqIMi",
        "colab": {
          "base_uri": "https://localhost:8080/"
        },
        "outputId": "ef3439f9-74dc-41da-e9b0-aa96eb01a4b5"
      },
      "outputs": [
        {
          "output_type": "execute_result",
          "data": {
            "text/plain": [
              "ANTIOQUIA                   1500\n",
              "BOYACA                      1476\n",
              "CUNDINAMARCA                1392\n",
              "SANTANDER                   1044\n",
              "NARIï¿½O                     768\n",
              "TOLIMA                       564\n",
              "BOLIVAR                      552\n",
              "CAUCA                        504\n",
              "VALLE DEL CAUCA              504\n",
              "NORTE DE SANTANDER           480\n",
              "HUILA                        444\n",
              "MAGDALENA                    360\n",
              "CORDOBA                      360\n",
              "CHOCO                        360\n",
              "META                         348\n",
              "CALDAS                       324\n",
              "SUCRE                        312\n",
              "CESAR                        300\n",
              "ATLANTICO                    276\n",
              "CASANARE                     228\n",
              "CAQUETA                      192\n",
              "LA GUAJIRA                   180\n",
              "RISARALDA                    168\n",
              "PUTUMAYO                     156\n",
              "QUINDIO                      144\n",
              "AMAZONAS                     132\n",
              "GUAINIA                      108\n",
              "ARAUCA                        84\n",
              "VAUPES                        72\n",
              "GUAVIARE                      48\n",
              "VICHADA                       48\n",
              "SAN ANDRES Y PROVIDENCIA      24\n",
              "BOGOTA                        12\n",
              "Name: DEPARTAMENTO, dtype: int64"
            ]
          },
          "metadata": {},
          "execution_count": 90
        }
      ],
      "source": [
        "internet['DEPARTAMENTO'].value_counts()"
      ]
    },
    {
      "cell_type": "markdown",
      "metadata": {
        "id": "At2xOumx7y7_"
      },
      "source": [
        "Por último, es posible crear gráficos directamente desde Pandas de forma sencilla. Creemos por ejemplo un gráfico de barras del valor promedio del indice de accesibilidad por año."
      ]
    },
    {
      "cell_type": "code",
      "execution_count": null,
      "metadata": {
        "id": "OLlzq-5s4ZGI",
        "colab": {
          "base_uri": "https://localhost:8080/",
          "height": 488
        },
        "outputId": "f9987901-428e-4545-aba6-cd93854e40e6"
      },
      "outputs": [
        {
          "output_type": "execute_result",
          "data": {
            "text/plain": [
              "<Axes: xlabel='ANO'>"
            ]
          },
          "metadata": {},
          "execution_count": 91
        },
        {
          "output_type": "display_data",
          "data": {
            "text/plain": [
              "<Figure size 640x480 with 1 Axes>"
            ],
            "image/png": "[encoded data removed]"
          },
          "metadata": {}
        }
      ],
      "source": [
        "gruop_ANO = internet.groupby('ANO', as_index=False)['INDICE_ACC'].mean()\n",
        "gruop_ANO.plot.bar(x='ANO', y='INDICE_ACC')"
      ]
    },
    {
      "cell_type": "markdown",
      "metadata": {
        "id": "4rq2Q8hl5wd1"
      },
      "source": [
        "Algunas otras opciones de gráficos son:\n",
        "\n",
        "\n",
        "| Tipo de gráfico | Función de Pandas | Descripción |\n",
        "| --- | --- | --- |\n",
        "| Gráfico de línea | `DataFrame.plot()` | Muestra los datos como una serie de puntos conectados por líneas rectas. Útil para ver la tendencia de los datos a lo largo del tiempo. |\n",
        "| Gráfico de barras | `DataFrame.plot.bar()` | Muestra los datos como barras verticales u horizontales, útil para comparar datos de diferentes categorías. |\n",
        "| Gráfico de barras apiladas | `DataFrame.plot.bar(stacked=True)` | Similar al gráfico de barras, pero las barras se apilan una encima de la otra. Útil para comparar la contribución de cada categoría a un total. |\n",
        "| Gráfico de dispersión | `DataFrame.plot.scatter()` | Muestra la relación entre dos conjuntos de datos como una serie de puntos. Útil para ver si hay una correlación entre los dos conjuntos de datos. |\n",
        "| Gráfico de área | `DataFrame.plot.area()` | Muestra los datos como un área sombreada debajo de una línea. Útil para ver la evolución de los datos a lo largo del tiempo. |\n",
        "| Gráfico de pastel | `DataFrame.plot.pie()` | Muestra los datos como un diagrama de pastel, donde cada sección representa un porcentaje del total. Útil para ver la distribución de los datos. |\n",
        "| Gráfico de caja | `DataFrame.plot.box()` | Muestra los datos como una caja y un conjunto de bigotes, útil para ver la distribución de los datos y detectar valores atípicos. |"
      ]
    },
    {
      "cell_type": "markdown",
      "metadata": {
        "id": "ycUWDIDZYvde"
      },
      "source": [
        "## <font color='5adcff'> **Exportar información** </font>"
      ]
    },
    {
      "cell_type": "markdown",
      "metadata": {
        "id": "aBecXtjw_W_K"
      },
      "source": [
        "De forma similar a funciones para leer datos en distintos formatos, también es posible exportar las series y DataFrames en formatos como .csv y .xlsx.\n",
        "\n",
        "En el siguiente ejemplo seleccionamos algunas de las filas y columnas del archivo original y las exportamos a un archivo de tipo .csv."
      ]
    },
    {
      "cell_type": "code",
      "execution_count": null,
      "metadata": {
        "id": "mFbt4kcrY0BM"
      },
      "outputs": [],
      "source": [
        "seleccion = internet[(internet['TRIMESTRE']==1) & (internet['POBLACION DANE']>1000)][[\"ANO\", \"MUNICIPIO\", \"No. ACCESOS FIJOS A INTERNET\"]]\n",
        "seleccion.to_csv(\"seleccion.csv\")"
      ]
    },
    {
      "cell_type": "markdown",
      "metadata": {
        "id": "yfpbaFvpAxyG"
      },
      "source": [
        "El siguiente *script* descarga el archivo a tu computador para que puedas explorarlo:"
      ]
    },
    {
      "cell_type": "code",
      "execution_count": null,
      "metadata": {
        "id": "yJJhqwPBA29L",
        "colab": {
          "base_uri": "https://localhost:8080/",
          "height": 17
        },
        "outputId": "3706564a-1a62-4375-cb8b-0674a9805a8c"
      },
      "outputs": [
        {
          "output_type": "display_data",
          "data": {
            "text/plain": [
              "<IPython.core.display.Javascript object>"
            ],
            "application/javascript": [
              "\n",
              "    async function download(id, filename, size) {\n",
              "      if (!google.colab.kernel.accessAllowed) {\n",
              "        return;\n",
              "      }\n",
              "      const div = document.createElement('div');\n",
              "      const label = document.createElement('label');\n",
              "      label.textContent = `Downloading \"${filename}\": `;\n",
              "      div.appendChild(label);\n",
              "      const progress = document.createElement('progress');\n",
              "      progress.max = size;\n",
              "      div.appendChild(progress);\n",
              "      document.body.appendChild(div);\n",
              "\n",
              "      const buffers = [];\n",
              "      let downloaded = 0;\n",
              "\n",
              "      const channel = await google.colab.kernel.comms.open(id);\n",
              "      // Send a message to notify the kernel that we're ready.\n",
              "      channel.send({})\n",
              "\n",
              "      for await (const message of channel.messages) {\n",
              "        // Send a message to notify the kernel that we're ready.\n",
              "        channel.send({})\n",
              "        if (message.buffers) {\n",
              "          for (const buffer of message.buffers) {\n",
              "            buffers.push(buffer);\n",
              "            downloaded += buffer.byteLength;\n",
              "            progress.value = downloaded;\n",
              "          }\n",
              "        }\n",
              "      }\n",
              "      const blob = new Blob(buffers, {type: 'application/binary'});\n",
              "      const a = document.createElement('a');\n",
              "      a.href = window.URL.createObjectURL(blob);\n",
              "      a.download = filename;\n",
              "      div.appendChild(a);\n",
              "      a.click();\n",
              "      div.remove();\n",
              "    }\n",
              "  "
            ]
          },
          "metadata": {}
        },
        {
          "output_type": "display_data",
          "data": {
            "text/plain": [
              "<IPython.core.display.Javascript object>"
            ],
            "application/javascript": [
              "download(\"download_800f34b6-3cfb-4ff2-80a7-a05c0befb464\", \"seleccion.csv\", 77913)"
            ]
          },
          "metadata": {}
        }
      ],
      "source": [
        "from google.colab import files\n",
        "files.download('seleccion.csv')"
      ]
    },
    {
      "cell_type": "markdown",
      "metadata": {
        "id": "zGSAgnBi54WE"
      },
      "source": [
        "Algunas otras opciones son:\n",
        "\n",
        "| Formato | Función de exportación |\n",
        "| --- | --- |\n",
        "| CSV | `df.to_csv()` |\n",
        "| Excel | `df.to_excel()` |\n",
        "| JSON | `df.to_json()` |\n",
        "| HTML | `df.to_html()` |\n",
        "| LaTeX | `df.to_latex()` |\n",
        "| SQL | `df.to_sql()` |"
      ]
    },
    {
      "cell_type": "markdown",
      "metadata": {
        "id": "GZp598sVAoDl"
      },
      "source": [
        "## <font color='5adcff'> **Referencias bibliográficas** </font>\n",
        "\n",
        "Wikipedia. (s.f.). *Valores separados por coma*. [Enlace](https://es.wikipedia.org/wiki/Valores_separados_por_comas)\n"
      ]
    }
  ],
  "metadata": {
    "colab": {
      "provenance": [],
      "collapsed_sections": [
        "YoYEDozrZZ6H",
        "QEsJ7ndUICeq",
        "XsnIAiFvTY-C",
        "eQje4LvQ7eEe",
        "G68Qj16VVIwf"
      ]
    },
    "kernelspec": {
      "display_name": "Python 3",
      "name": "python3"
    },
    "language_info": {
      "codemirror_mode": {
        "name": "ipython",
        "version": 3
      },
      "file_extension": ".py",
      "mimetype": "text/x-python",
      "name": "python",
      "nbconvert_exporter": "python",
      "pygments_lexer": "ipython3",
      "version": "3.9.7"
    }
  },
  "nbformat": 4,
  "nbformat_minor": 0
}