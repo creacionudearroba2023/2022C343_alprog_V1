{
  "cells": [
    {
      "cell_type": "markdown",
      "metadata": {
        "id": "oVOCX8pEanPy"
      },
      "source": [
        "<img src=\"https://udearroba.udea.edu.co/imagescourses/2022C343_alprog_V1/banner-colab.png\">"
      ]
    },
    {
      "cell_type": "markdown",
      "metadata": {
        "id": "3bsKqDKFLyw9"
      },
      "source": [
        "# <font color='3E779E'> **NumPy**\n",
        "\n",
        "En anteriores unidades hemos visto cómo crear y trabajar con estructuras de datos. En ocasiones existe la necesidad de trabajar con una cantidad de datos grande, esto sucede en especial con datos númericos. A su vez, es también de suma utilidad operar y procesar estos datos con el fin de obtener la información deseada. Un buen ejemplo de estas situaciones son las redes neuronales, las cuales son el nucleo de la inteligencia artificial. El funcionamiento de estas se encuentra dado en esencia por numerosas operaciones matemáticas.\n",
        "\n",
        "NumPy (Numerical Python) es una libreria para Python de código abierto cuyo proposito es trabajar con datos numéricos.\n",
        "\n",
        "NumPy contiene tipos de datos que son arreglos multidimensionales, a su vez, poseen métodos para operar de manera eficiente. En el contexto matemático a estos arreglos multidimensionales se les conoce como <strong> matrices </strong>. En ese sentido, NumPy se puede utilizar para realizar una amplia variedad de operaciones matemáticas en matrices.\n",
        "\n",
        "La ventaja de Numpy frente a las estructuras predefinidas en Python es la eficiencia y velocidad, lo cual la hace ideal para el procesamiento de vectores y matrices de grandes dimensiones."
      ]
    },
    {
      "cell_type": "markdown",
      "metadata": {
        "id": "J-UzqckzyydX"
      },
      "source": [
        "# <font color='157699'> **Uso** </font>\n",
        "\n",
        "Para utilizar NumPy basta con importarlo al inicio del código de la siguiente manera:"
      ]
    },
    {
      "cell_type": "code",
      "execution_count": null,
      "metadata": {
        "id": "s-uHz3u4zGYx"
      },
      "outputs": [],
      "source": [
        "import numpy as np"
      ]
    },
    {
      "cell_type": "markdown",
      "metadata": {
        "id": "YWXpzq2P1hsN"
      },
      "source": [
        "# <font color='157699'> **Arreglos (*array*) en NumPy** </font>\n",
        "\n",
        "Un *array* es una estructura de datos de **un mismo tipo** organizada en forma lista. No tiene mucho sentido utilizar datos que no sean númericos, sin embargo es posible. En la práctica los arreglos NumPy son similares a las listas en Python, pero son específicamene diseñados para operar de manera más eficiente, sin mencionar que sus métodos automatizan muchas operaciones complejas."
      ]
    },
    {
      "cell_type": "markdown",
      "metadata": {
        "id": "zCKTTl4A5Yz1"
      },
      "source": [
        "Los arreglos de NumPy se crean mediante el método array() que usualmente recibe una lista como argumento."
      ]
    },
    {
      "cell_type": "code",
      "execution_count": null,
      "metadata": {
        "id": "k_jxZK9Z53jg"
      },
      "outputs": [],
      "source": [
        "print([1, 2, 3])\n",
        "arreglo = np.array([1, 2, 3])\n",
        "arreglo\n",
        "print(arreglo)"
      ]
    },
    {
      "cell_type": "markdown",
      "metadata": {
        "id": "egkneEap68LP"
      },
      "source": [
        "Los arreglos pueden ser unidimensionales o multidimensionales. Dada su utilidad en el contexto matemático, vale la pena mencionar que los arreglos de una sola dimensión serían equivalentes a los vectores y los arreglos multidimensionales serían equivalentes a las matrices.\n",
        "\n",
        "En el ejemplo anterior el arreglo [1,2,3] representa un vector de 3 componentes, a continuación se crea un arreglo de dos dimensiones, es decir, una matriz de dos dimensiones."
      ]
    },
    {
      "cell_type": "code",
      "execution_count": null,
      "metadata": {
        "id": "rjsKV3npAp_8"
      },
      "outputs": [],
      "source": [
        "matriz = np.array([[1, 2, 3], [4, 5, 6]])\n",
        "print(matriz)"
      ]
    },
    {
      "cell_type": "markdown",
      "metadata": {
        "id": "fMPZ6RoEOYQp"
      },
      "source": [
        "Existe una amplia gama metodos que son utilizados para automatizar la creación de arreglos. Estas se encuentran descritas en detalle en la <a href=\"https://numpy.org/doc/stable/reference/routines.array-creation.html\" target=\"_blank\">documentación</a> de la librería. Algunos de los más usados son:"
      ]
    },
    {
      "cell_type": "markdown",
      "metadata": {
        "id": "pahWVRw9YMlq"
      },
      "source": [
        "| Función| resultado \t|\n",
        "|:---|:---|\n",
        "| empty(d) | arreglo vacio de dimensión 'd'\t|\n",
        "| zeros(d) | arreglo de zeros de dimensión d '\t|\n",
        "| ones(d) | arreglo de unos de dimensión d' |\n",
        "| random.rand(d) | arreglo de elementos aleatorios de dimensión  'd\t|\n",
        "\n"
      ]
    },
    {
      "cell_type": "markdown",
      "metadata": {
        "id": "7wfjmggkfhPy"
      },
      "source": [
        "En el siguiente ejemplo se creará una matriz de tamaño `3x3` con valores aleatorios:"
      ]
    },
    {
      "cell_type": "code",
      "execution_count": null,
      "metadata": {
        "id": "rglsNkyHxT7v"
      },
      "outputs": [],
      "source": [
        "matriz = np.random.rand(3,3)\n",
        "print(matriz)"
      ]
    },
    {
      "cell_type": "markdown",
      "metadata": {
        "id": "-E1LN0SBxT7w"
      },
      "source": [
        "Si por ejemplo deseo que los valores de la matriz anterior estuvieran entre 1 y 9, puedo recurrir a una variación de random"
      ]
    },
    {
      "cell_type": "code",
      "execution_count": null,
      "metadata": {
        "id": "f2J0Kbbifs42"
      },
      "outputs": [],
      "source": [
        "matriz = np.random.randint(9, size=(3, 3))\n",
        "print(matriz)"
      ]
    },
    {
      "cell_type": "markdown",
      "metadata": {
        "id": "JFH9y72CxT7x"
      },
      "source": [
        "Todas las variaciones y opciones disponibles se encuentran en la documentación de la librería <a href=\"https://numpy.org/doc/stable/reference/routines.html\" target=\"_blank\">documentación</a>"
      ]
    },
    {
      "cell_type": "markdown",
      "metadata": {
        "id": "xK9tdC9Iqrmg"
      },
      "source": [
        "# <font color='157699'> **Atributos de los *array*** </font>\n",
        "\n",
        "El siguiente conjunto de funciones permite conocer algunos de los atributos (características) de un *array* en Numpy."
      ]
    },
    {
      "cell_type": "markdown",
      "metadata": {
        "id": "VGyU9RJuq6Ts"
      },
      "source": [
        "| Función| resultado \t|\n",
        "|:---|:---|\n",
        "| a.ndim  |  Devuelve el número de dimensiones del array 'a'\t|\n",
        "| a.shape |  Devuelve el valor de las dimensiones del array ¿a'\t|\n",
        "| a.size |  Devuelve el número de elementos del array 'a'\t|\n",
        "| a.dtype | Devuelve el tipo de datos de los elementos del array 'a'\t|"
      ]
    },
    {
      "cell_type": "code",
      "execution_count": null,
      "metadata": {
        "id": "4kn8diBz0ABt"
      },
      "outputs": [],
      "source": [
        "arreglo = np.random.random((3,3))\n",
        "print(arreglo)\n",
        "print('El arreglo tiene ',arreglo.ndim,' dimensiones.')\n",
        "print('El arreglo tiene las dimensiones',arreglo.shape)\n",
        "print('El arreglo tiene ',arreglo.size,' elementos.')\n",
        "print('El arreglo es de tipo ',arreglo.dtype)"
      ]
    },
    {
      "cell_type": "markdown",
      "metadata": {
        "id": "Cz3phhNB-8vo"
      },
      "source": [
        "# <font color='157699'> **Acceso a los elementos de un *array***</font>\n",
        "\n",
        "Los elementos de un *array* se acceden por medio de sus indices, como en la estructura de listas.\n",
        "\n",
        "Generamos un vector aleatorio de tamaño 10 y accedemos a su quinto elemento (posición 4):\n",
        "\n",
        "\n"
      ]
    },
    {
      "cell_type": "markdown",
      "metadata": {
        "id": "6MteIvuxEXWw"
      },
      "source": [
        "## <font color='5adcff'> **Indexación** </font>"
      ]
    },
    {
      "cell_type": "code",
      "execution_count": null,
      "metadata": {
        "id": "eu5GqUag_o1X"
      },
      "outputs": [],
      "source": [
        "aleatorio = np.random.random(10)\n",
        "print(aleatorio)\n",
        "print(\"El elemento con indice 4 es: \" + str(aleatorio[4]))"
      ]
    },
    {
      "cell_type": "markdown",
      "metadata": {
        "id": "dNv1Z1SlA-JV"
      },
      "source": [
        "NumPy permite restructurar los arreglos. Para esto se usa el método <strong>reshape</strong>. Por ejemplo, podemos restructurar la matriz anterior a un formate de 5x2."
      ]
    },
    {
      "cell_type": "code",
      "execution_count": null,
      "metadata": {
        "id": "ULucKhwJBQ28"
      },
      "outputs": [],
      "source": [
        "aleatorio = aleatorio.reshape(5,2)\n",
        "print(aleatorio)\n",
        "print(aleatorio.shape)"
      ]
    },
    {
      "cell_type": "markdown",
      "metadata": {
        "id": "TiTDDOfCBoP8"
      },
      "source": [
        "Un ejemplo de seleccionar un elemento específico por medio de los indices es el siguiente:"
      ]
    },
    {
      "cell_type": "code",
      "execution_count": null,
      "metadata": {
        "id": "0_YZjw_gCwm-"
      },
      "outputs": [],
      "source": [
        "aleatorio[2,1]"
      ]
    },
    {
      "cell_type": "markdown",
      "metadata": {
        "id": "0K-tLv2exT72"
      },
      "source": [
        "Si quisieras seleccionar la fila tres completa, puedes especificarlo así:"
      ]
    },
    {
      "cell_type": "code",
      "execution_count": null,
      "metadata": {
        "id": "OHzJMY6427i6"
      },
      "outputs": [],
      "source": [
        "print(aleatorio[3])"
      ]
    },
    {
      "cell_type": "markdown",
      "metadata": {
        "id": "-8_kQ9IoD93B"
      },
      "source": [
        "Nota que al referirse con un solo índice a un arreglo multidimensional, retorna el *subarray* asociado a las dimensiones restantes."
      ]
    },
    {
      "cell_type": "markdown",
      "metadata": {
        "id": "xUbZpC_0GAOn"
      },
      "source": [
        "## <font color='5adcff'> ***Slicing*** </font>"
      ]
    },
    {
      "cell_type": "markdown",
      "metadata": {
        "id": "2fPXCqKABmOF"
      },
      "source": [
        "Se usa para extraer elementos de una secuencia. Para esto se usa el operador ':'. Además, se debe especificar el índice inicial y final para cada dimensión, separados por comas.\n",
        "Por ejemplo, si quisieras obtener las filas del dos al cuatro de la matriz anterior."
      ]
    },
    {
      "cell_type": "code",
      "execution_count": null,
      "metadata": {
        "id": "7EtNPDOFDRnn"
      },
      "outputs": [],
      "source": [
        "print(aleatorio)\n",
        "aleatorio[2:4,:]\n"
      ]
    },
    {
      "cell_type": "markdown",
      "metadata": {
        "id": "a8Nz4d7nIHpl"
      },
      "source": [
        "Esto puede ser de utilidad para signar valores o hacer operaciones con los elementos seleccionados. Por ejemplo, es posible sumar uno a los elementos seleccionados"
      ]
    },
    {
      "cell_type": "code",
      "execution_count": null,
      "metadata": {
        "id": "lPHaeWFrIWfp"
      },
      "outputs": [],
      "source": [
        "aleatorio[2:4,:] +=1\n",
        "aleatorio"
      ]
    },
    {
      "cell_type": "markdown",
      "metadata": {
        "id": "2wS3Sc4dJJ03"
      },
      "source": [
        "También se puede hacer la selección mediante expresiones condicionales. Por ejemplo, seleccionar los elementos que son mayores que uno."
      ]
    },
    {
      "cell_type": "code",
      "execution_count": null,
      "metadata": {
        "id": "MzhrhomJJTyw"
      },
      "outputs": [],
      "source": [
        "aleatorio[aleatorio > 1]"
      ]
    },
    {
      "cell_type": "markdown",
      "metadata": {
        "id": "sE4uqAHFLSU6"
      },
      "source": [
        "#<font color='157699'> **Operaciones con *arrays***</font>"
      ]
    },
    {
      "cell_type": "markdown",
      "metadata": {
        "id": "H8C7pHXcLV9e"
      },
      "source": [
        "Una limitación de Python a la hora de manejar grandes volúmenes de datos es su carácter ineficiente. Para recorrer un array con Python de forma nativa es necesario hacer uso de ciclos y esto es bastante lento. NumPy permite realizar operaciones entre números y arreglos o entre arreglos de manera eficiente. Para lograrlo, NumPy permite invocar los métodos de forma **vectorizada**, es decir, pasando como argumento la variable que representa a la matriz.\n",
        "\n",
        "Con la **vectorización** NumPy permitee implementar funciones donde los argumentos son matrices u operadores cuyos operandos son matrices. Numpy, por detras, hace uso de una implementación eficiente en un lenguaje compilado."
      ]
    },
    {
      "cell_type": "markdown",
      "metadata": {
        "id": "3X5QbrEujG0v"
      },
      "source": [
        "## <font color='5adcff'> **Operaciones básicas** </font>\n",
        "Las operaciones aritméticas sobre los arreglos aplican a nivel de elementos. Un nuevo arreglo se genera con el resultado de la operación.\n",
        "\n",
        "Nota, por ejemplo, el resultado de la suma de dos arreglos de la misma dimensión."
      ]
    },
    {
      "cell_type": "code",
      "execution_count": null,
      "metadata": {
        "id": "VGPvHJIhjGVZ"
      },
      "outputs": [],
      "source": [
        "arreglo1 = np.array([3, 5, 6])\n",
        "arreglo2 = np.array([2, 4, 1])\n",
        "resultado = arreglo1 +arreglo2\n",
        "resultado"
      ]
    },
    {
      "cell_type": "markdown",
      "metadata": {
        "id": "yxtVCHZfp3A6"
      },
      "source": [
        "En caso de que los arreglos sean de dimensiones diferentes y la operación nos sea conformable se generará un error. Sin embargo, NumPy usa el concepto de *broadcasting* para efectuar operaciones entre elementos de distinta dimensión. El caso más sencillo de ellos sería la suma de un escalar 'e' a un vector, en el que el valor de 'e' se adiciona a todos los elementos del arreglo."
      ]
    },
    {
      "cell_type": "code",
      "execution_count": null,
      "metadata": {
        "id": "Cg90xmKXqfAP"
      },
      "outputs": [],
      "source": [
        "matriz = np.array([[3, 5, 6], [2, 4, 1], [1, 7, 9]])\n",
        "resultado = 10 + matriz\n",
        "resultado"
      ]
    },
    {
      "cell_type": "markdown",
      "metadata": {
        "id": "jjqm34TPqyMa"
      },
      "source": [
        "Por ejemplo, si sumamos un vector `1x3` a la matriz` 3x3`, se sumará el vector a cada fila elemento por elemento."
      ]
    },
    {
      "cell_type": "code",
      "execution_count": null,
      "metadata": {
        "id": "CNXoUBGiq2l8"
      },
      "outputs": [],
      "source": [
        "matriz = np.array([[3, 5, 6], [2, 4, 1], [1, 7, 9]])\n",
        "vector = np.array([6, 7, 8])\n",
        "resultado = vector + matriz\n",
        "resultado"
      ]
    },
    {
      "cell_type": "markdown",
      "metadata": {
        "id": "CBypiK1KqAYn"
      },
      "source": [
        "Existe un portafolio amplio de funciones que pueden usarse de manera directa sobre un arreglo.\n",
        "\n",
        "| Función | Descripción |\n",
        "| ------- | ----------- |\n",
        "| `np.sum()` | Calcula la suma de todos los elementos del arreglo |\n",
        "| `np.mean()` | Calcula el promedio de todos los elementos del arreglo |\n",
        "| `np.std()` | Calcula la desviación estándar de los elementos del arreglo |\n",
        "| `np.min()` | Encuentra el valor mínimo en el arreglo |\n",
        "| `np.max()` | Encuentra el valor máximo en el arreglo |\n",
        "| `np.sort()` | Ordena los elementos del arreglo |\n",
        "| `np.reshape()` | Cambia la forma del arreglo |\n",
        "| `np.concatenate()` | Une dos o más arreglos |\n",
        "| `np.split()` | Divide un arreglo en subarreglos |\n",
        "\n",
        "\n",
        "Ejemplos de ellas son: calcular la suma de los elementos `sum()` o hallar el máximo de ellos `max()`."
      ]
    },
    {
      "cell_type": "code",
      "execution_count": null,
      "metadata": {
        "id": "VR78IkDWvMW8"
      },
      "outputs": [],
      "source": [
        "matriz = np.array([[3, 5, 6], [2, 4, 1], [1, 7, 9]])\n",
        "matriz.max()"
      ]
    },
    {
      "cell_type": "markdown",
      "metadata": {
        "id": "_XgNmpL2wTHT"
      },
      "source": [
        "Adicional, existe una amplia gama de operaciones matriciales predefinidas:\n",
        "\n",
        "| Función| resultado \t|\n",
        "|:---|:---|\n",
        "| `dot()` | Calcula el producto punto de dos arreglos\t|\n",
        "| `matmul()` | Calcula la multiplicación de dos matrices\t|\n",
        "| `det()` | Calcula el determinante de una matriz\t|\n",
        "| `inv()` | Calcula la matriz inversa\t|\n",
        "| `trace()` | Calcula la traza de una matriz.\t|\n",
        "| `rank()` | Calcula el rango de una matriz.\t|\n",
        "| `transpose()` | Transpone el arreglo |\n",
        "\n"
      ]
    },
    {
      "cell_type": "markdown",
      "metadata": {
        "id": "s0_sF0yL4woN"
      },
      "source": [
        "## <font color='5adcff'> **Operaciones con fórmulas matemáticas** </font>\n",
        "\n",
        "\n",
        "Las propiedades descritas de NumPy permite trabajar de modo facil con operaciones matemáticas, lo cual lo hace bastante usado en la comunidad científica.\n",
        "\n",
        "Por ejemplo, el error cuadrático medio se calcula a través de la siguiente ecuación:\n",
        "\n",
        "$SSE = \\dfrac{\\sum_{i=1}^n (\\hat{y}_i - y_i)^2}{n}$\n",
        "\n",
        "Su implementación en NumPy, basado en la vectorización es tan simple como se presenta a continuación:"
      ]
    },
    {
      "cell_type": "code",
      "execution_count": null,
      "metadata": {
        "id": "vsWYUN9g8Ykd"
      },
      "outputs": [],
      "source": [
        "y_hat = np.array([1, 2, 1, 4, 6, 8, 8])\n",
        "y_real= np.array([2, 1, 3, 2, 3, 5, 6])\n",
        "n = y_hat.size\n",
        "\n",
        "SSE = 1/n*(np.sum(np.square(y_hat - y_real)))\n",
        "SSE"
      ]
    },
    {
      "cell_type": "markdown",
      "metadata": {
        "id": "eaUgmdAObT_A"
      },
      "source": [
        "· Universidad de Antioquia · Ude@ Educación Virtual ·"
      ]
    }
  ],
  "metadata": {
    "colab": {
      "collapsed_sections": [
        "J-UzqckzyydX",
        "YWXpzq2P1hsN",
        "xK9tdC9Iqrmg"
      ],
      "private_outputs": true,
      "provenance": []
    },
    "kernelspec": {
      "display_name": "base",
      "language": "python",
      "name": "python3"
    },
    "language_info": {
      "codemirror_mode": {
        "name": "ipython",
        "version": 3
      },
      "file_extension": ".py",
      "mimetype": "text/x-python",
      "name": "python",
      "nbconvert_exporter": "python",
      "pygments_lexer": "ipython3",
      "version": "3.11.4"
    }
  },
  "nbformat": 4,
  "nbformat_minor": 0
}
