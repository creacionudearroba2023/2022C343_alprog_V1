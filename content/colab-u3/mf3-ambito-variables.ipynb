{
  "cells": [
    {
      "cell_type": "markdown",
      "metadata": {
        "id": "b2A7ZVRCyHhP"
      },
      "source": [
        "<img src=\"https://udearroba.udea.edu.co/imagescourses/2022C343_alprog_V1/banner-colab.png\">"
      ]
    },
    {
      "cell_type": "markdown",
      "metadata": {
        "id": "YnSeE29fFr6H"
      },
      "source": [
        "\n",
        "## <font color='157699'> **Ámbito de </font> <font color='5adcff'> las variables** </font>\n",
        "\n",
        "Al organizar un programa en funciones se crean también fronteras en el código fuente, es decir, el código queda separado de acuerdo con el conjunto de variables e instrucciones que hay dentro de cada función definida, así como aquellas variables e instrucciones que no pertenecen a ninguna función. Estas fronteras se conocen como los **ámbitos** y es importante entender sus implicaciones para el correcto desarrollo de los programas.\n",
        "\n",
        "Las variables cuyo ámbito se encuentra enmarcado dentro de una función se llaman **variables locales**. Por otro lado, a las variables con un ámbito que está por fuera de cualquier función se les llama **variables globales**.\n",
        "\n",
        "El ámbito de una variable es la región dentro del código a donde esta pertenece. Sin embargo, los ámbitos tiene reglas jerárquicas en las que una instrucción de un ámbito cualquiera puede utilizar las variables de los ámbitos superiores, pero no las de los ámbitos inferiores. Esta jerarquía se establece de acuerdo con el lugar en el que se definen las funciones:\n",
        "\n",
        "- En un ámbito local es posible leer el valor de cualquier variable del mismo ámbito o de ámbitos superiores.\n",
        "- En un ámbito local solo es posible modificar el valor de una variable global.\n",
        "- En el ámbito global solo es posible leer o modificar variables globales.\n",
        "\n",
        "Las limitaciones que imponen los ámbitos de las variables son en realidad deseables, pues hacen que el código sea más organizado y que se cometan menos errores. Cuando un programador trabaja en una región del código, este solo debe tener en mente las variables del ámbito en que se encuentra."
      ]
    },
    {
      "cell_type": "code",
      "execution_count": null,
      "metadata": {
        "colab": {
          "base_uri": "https://localhost:8080/"
        },
        "id": "6rJiRwEcFr6K",
        "outputId": "e9ef7c6c-50ff-4b32-a21a-034fb1b02bfb"
      },
      "outputs": [
        {
          "name": "stdout",
          "output_type": "stream",
          "text": [
            "Por favor ingrese su documento: 4567889\n",
            "Estudiante usted está matriculado en la Universidad de Antioquia Sede Amalfi\n",
            "ID = 4567889\n",
            "Sede = Sede Amalfi\n"
          ]
        }
      ],
      "source": [
        "def informacion(sede):\n",
        "    # uni, id y sede son variables locales a la función informacion\n",
        "    uni = \"Universidad de Antioquia\"\n",
        "    id = int(input(\"Por favor ingrese su documento: \"))\n",
        "    print(f'Estudiante usted está matriculado en la {uni} {sede}')\n",
        "    return id\n",
        "\n",
        "# nombre y sede son variables globales en el programa\n",
        "id = 0\n",
        "sede = 'Sede Amalfi'\n",
        "id = informacion(sede) # valor de sede usado como argumento\n",
        "print('ID =', id)\n",
        "print('Sede =', sede)"
      ]
    },
    {
      "cell_type": "markdown",
      "metadata": {
        "id": "Ayz3nJDPFr6P"
      },
      "source": [
        "El código anterior muestra un programa que define e invoca una función. Aunque la variable 'uni' es, por supuesto, del ámbito local de la función 'información()', nota que las variables 'id' y 'sede' aparecen tanto afuera como adentro de la función. Debe quedar claro que esas variables que se usan dentro de información() son por completo independientes de las que se usan por fuera de la función. Es decir, son dos pares de variables que solo tienen el mismo nombre, lo cual es posible dado que pertenecen a ámbitos diferentes.\n",
        "\n",
        "El ejemplo anterior usa los mismos nombres de variables en ambos ámbitos a propósito, para hacer énfasis en su diferencia a pesar de tener el mismo nombre. Sin embargo, en la mayoría de los casos se aconseja dar nombres diferentes a variables de diferentes ámbitos para no crear confusiones para quien lee el código.\n",
        "\n",
        "Adicional, se puede observar que al final de la ejecución la función retorna la información almacenada en la variable local 'id', esta es asignada a la variable global 'id'. Por esta razón, al imprimirla aparece en pantalla el nombre ingresado por el usuario en lugar del valor inicial '0'."
      ]
    },
    {
      "cell_type": "markdown",
      "metadata": {
        "id": "ZJNXWi25hsVp"
      },
      "source": [
        "## <font color='157699'> **Funciones </font> <font color='5adcff'> anidadas** </font>\n",
        "\n",
        "Las funciones en Python comparten muchas propiedades con las variables. En ambos casos son nombres que se le asignan a datos almacenados en la memoria. Para las funciones, los datos son en realidad instrucciones que, cuando la función es invocada, son ejecutadas por el procesador. En cambio, en las variables los datos son procesados por las instrucciones.\n",
        "\n",
        "El concepto de ámbito que se acaba de definir para las variables y es una propiedad que comparten las funciones, en otras palabras, las funciones también tienen un ámbito. Hasta ahora, en los ejemplos vistos siempre se han definido las funciones en el ámbito global, sin embargo, pueden definirse en cualquier ámbito con el objetivo de restringir su uso y organizar mejor un programa.\n",
        "\n",
        "El siguiente código muestra cómo definir una función dentro de otra. La función 'info_per()' queda entonces restringida al ámbito de la función 'información()'. De esta manera, la jerarquía superior de los ámbitos de este ejemplo es la global, seguida de 'informacion()', por último, de 'infor_per()'. Esto quiere decir que:\n",
        "\n",
        "- En el ámbito de 'info_per()' es posible leer todas las variables del programa pero modificar solo las globales y las locales de 'infor_per()'.\n",
        "- En el ámbito de 'información()' es posible leer y modificar las variables globales y las locales de 'informacion()'. Las variables locales de 'info_per()' no se pueden leer ni modificar.\n",
        "- En el ámbito global solo es posible leer y modificar las variables globales.\n",
        "\n",
        "Por el contrario, si se trata de imprimir en el ámbito global al programa la variable local 'uni' (lo cual puedes hacer descomentando la última línea) surgirá un error al ejecturar el código debido a que, en el ámbito global, la variable 'uni' no existe."
      ]
    },
    {
      "cell_type": "code",
      "execution_count": null,
      "metadata": {
        "id": "gmwCO-l5Fr6S"
      },
      "outputs": [],
      "source": [
        "def informacion(sede):\n",
        "    '''\n",
        "    Esta función imprime en pantalla la información de un estudiante\n",
        "    Como argumento toma una cadena de caracteres con el nombre de la sede del estudiante\n",
        "    La función retorna dos números enteros con el número de documento del estudiante\n",
        "    y la fecha de nacimiento\n",
        "    '''\n",
        "    uni = \"Universidad de Antioquia\"\n",
        "    def inf_per():\n",
        "        '''la función retorna la información personal ingresada por el usuario'''\n",
        "        nombre_usr = input(\"Por favor ingrese su nombre: \")\n",
        "        id_usr = int(input(\"Por favor ingrese su documento: \"))\n",
        "        nacimiento_usr = int(input(\"Por favor ingrese su año de nacimiento: \"))\n",
        "        return nombre_usr, id_usr, nacimiento_usr\n",
        "\n",
        "    nombre, id, nacimiento = inf_per()\n",
        "    print(f'Estudiante {nombre} está matriculado en la {uni} {sede}')\n",
        "    return id, nacimiento\n",
        "\n",
        "sede = 'Sede Amalfi'\n",
        "info_1, info_2 = informacion(sede)\n",
        "print(info_1, info_2)\n",
        "#print(uni)\n"
      ]
    },
    {
      "cell_type": "markdown",
      "metadata": {
        "id": "gsZstoIR5D7S"
      },
      "source": [
        "## <font color='157699'> **Recursividad**</font>\n",
        "\n",
        "Es también posible usar una función de forma recursiva, es decir, que ella se llame a sí misma. Veamos, por ejemplo, la siguiente función que calcula el término enésimo de la sucesión de Fibonacci (consulta la definición de la sucesión de Fibonacci en el siguiente [enlace](https://es.wikipedia.org/wiki/Sucesi%C3%B3n_de_Fibonacci))\n",
        "\n",
        "\n",
        "```\n",
        "Función fibonacci(n):\n",
        "    Si n es igual a 0:\n",
        "        Devolver 0\n",
        "    Si n es igual a 1\n",
        "        Devolver 1\n",
        "    De lo contrario:\n",
        "        Devolver fibonacci(n-1) + fibonacci(n-2)\n",
        "```\n",
        "\n",
        "Este algoritmo utiliza la propiedad recursiva de la sucesión, la cual establece que cada término es la suma de los dos anteriores.\n",
        "\n",
        "En el caso de los primeros dos, cuando 'n' es igual a '0', se devuelve '0' y cuando 'n' es igual a '1' se devuelve '1', lo que evita la ocurrencia de un ciclo infinito. En caso contrario, se llama a la función Fibonacci con los valores decrementados de n y se suman. Esto se repite hasta que se alcanza alguno de los casos base y se devuelve el resultado final.\n"
      ]
    },
    {
      "cell_type": "markdown",
      "metadata": {
        "id": "o6vXplrA5897"
      },
      "source": [
        "Experimenta con la siguiente implementacion del algoritmo:"
      ]
    },
    {
      "cell_type": "code",
      "execution_count": null,
      "metadata": {
        "colab": {
          "base_uri": "https://localhost:8080/"
        },
        "id": "E15BGbxw5a4e",
        "outputId": "a6b52819-d444-424c-df02-211ac90e8d00"
      },
      "outputs": [
        {
          "name": "stdout",
          "output_type": "stream",
          "text": [
            "8\n"
          ]
        }
      ],
      "source": [
        "\n",
        "def fibonacci(n):\n",
        "    if n == 0:\n",
        "        return 0\n",
        "    elif n == 1:\n",
        "        return 1\n",
        "    else:\n",
        "        return fibonacci(n-1) + fibonacci(n-2)\n",
        "\n",
        "print(fibonacci(6))"
      ]
    },
    {
      "cell_type": "markdown",
      "metadata": {
        "id": "WCc0jqsMFr6Y"
      },
      "source": [
        "\n",
        "## <font color='157699'> **Marcos de </font> <font color='5adcff'> pilas** </font>\n",
        "Cuando se ejecuta un programa, el intérprete (en este caso Python) debe asociar a cada uno de los ámbitos activos la información de las funciones y variables. Con este propósito, cuando una función inicia su ejecución se crea un nuevo ámbito activo, o sea, un espacio de memoria donde se almacenan las variables y funciones del mismo. A este espacio se le conoce como **marco de pila** o *stack frame* en inglés."
      ]
    },
    {
      "cell_type": "markdown",
      "metadata": {
        "id": "gkO56je_Fr6u"
      },
      "source": [
        "La figura 2 muestra un código fuente que al ejecutarse crea varios marcos de pila. Las variables que aparecen apiladas en marcos son las activas en ese momento en cada marco. En la ejecución, de la cual se tomó la imagen del marco de pila como ejemplo, se lleva a cabo la función 'info_per()', que fue invocada por la función 'información()', por lo que existen tres marcos de pilas: el global, el de 'información()' y el de 'info_per()'."
      ]
    },
    {
      "cell_type": "code",
      "execution_count": null,
      "metadata": {
        "id": "1gq3sqHZ8msI"
      },
      "outputs": [],
      "source": [
        "def informacion(sede):\n",
        "    uni = \"Universidad de Antioquia\"\n",
        "    def inf_per():\n",
        "        nombre_usr = input(\"Por favor ingrese su nombre: \")\n",
        "        id_usr = int(input(\"Por favor ingrese su documento: \"))\n",
        "        nacimiento_usr = int(input(\"Por favor ingrese su año de nacimiento: \"))\n",
        "        return nombre_usr, id_usr, nacimiento_usr\n",
        "    nombre, id, nacimiento = inf_per()\n",
        "    print(f'Estudiante {nombre} está matriculado en la {uni} {sede}')\n",
        "    return id, nacimiento\n",
        "\n",
        "sede = 'Sede Amalfi'\n",
        "info_1, info_2 = informacion(sede)\n",
        "print(info_1, info_2)\n"
      ]
    },
    {
      "cell_type": "markdown",
      "metadata": {
        "id": "Rct02QcaFr6z"
      },
      "source": [
        "<img src=\"https://udearroba.udea.edu.co/imagescourses/2022C343_alprog_V1/colab-u3/mf3-marcos-pila.png\">\n",
        "\n",
        "\n",
        "Figura 2. Código con funciones y su correspondiente marco de pila.\n",
        "\n",
        "\n"
      ]
    },
    {
      "cell_type": "markdown",
      "metadata": {
        "id": "VXimETZgFr61"
      },
      "source": [
        "## <font color='157699'>**Tiempo de vida de <font color='5adcff'> las variables**</font>\n",
        "\n",
        "Como se muestra, cuando se llama una función se crea una pila para almacenar las variables locales de la función. Aun así, es importante decir que cuando una función termina su ejecución su pila de variables desaparece, lo que implica que todas las variables locales de dicha función también lo hacen. Se dice entonces que una variable local existe solo si su ámbito está activo, es decir, si la función a la que pertenece está siendo ejecutada.\n",
        "\n",
        "Una consecuencia importante de este comportamiento es: los datos asociados a las variables locales se pierden (se borran de la memoria) cuando la función termina de ejecutarse. Para conservar la información asociada a una variable local es necesario copiarlo en una variable global. Esto se puede hacer con una signación directa o a través del *return* de la función.\n",
        "\n",
        "Por último, cabe anotar que el tiempo de vida de las variables globales es el mismo que el del programa, así que existen durante toda la ejecución del programa. Sin embargo, al terminarse la ejecución, ninguna variable permancerá en memoria, todos los datos se borrarán."
      ]
    },
    {
      "cell_type": "markdown",
      "metadata": {
        "id": "5kYhDcMqFr8a"
      },
      "source": [
        "<a id='sec4.3.2'></a>\n",
        "## <font color='157699'> **Algunos apuntes adiconales sobre las variables </font> <font color='5adcff'> globales y locales** </font>\n",
        "\n",
        "Al tratar de imprimir la variable 'uni' por fuera de la función 'información()' se generará un error. Esto sucede porque 'uni' es local a dicha función y no existe en el marco global del programa. No obstante, en el código que se muestra a continuación la instrucción 'global uni' hace explícito que debe tratarse como una variable **global**. Esto permite que la instrucción 'print(uni)', que está en el ámbito global, se pueda ejecutar sin problemas."
      ]
    },
    {
      "cell_type": "code",
      "execution_count": null,
      "metadata": {
        "id": "d6JEK83sF8Z5"
      },
      "outputs": [],
      "source": [
        "def informacion(sede):\n",
        "    global uni\n",
        "    uni = \"Universidad de Antioquia\"\n",
        "    def inf_per():\n",
        "        nombre_usr = input(\"Por favor ingrese su nombre: \")\n",
        "        id_usr = int(input(\"Por favor ingrese su documento: \"))\n",
        "        nacimiento_usr = int(input(\"Por favor ingrese su año de nacimiento: \"))\n",
        "        return nombre_usr, id_usr, nacimiento_usr\n",
        "    nombre, id, nacimiento = inf_per()\n",
        "    print(f'Estudiante {nombre} está matriculado en la {uni} {sede}')\n",
        "    return id, nacimiento\n",
        "\n",
        "sede = 'Sede Amalfi'\n",
        "info_1, info_2 = informacion(sede)\n",
        "print(info_1, info_2)\n",
        "print(uni)"
      ]
    },
    {
      "cell_type": "markdown",
      "metadata": {
        "id": "eCyiph0nFr8d"
      },
      "source": [
        "La **primera vez** que el intérprete encuentra una variable en una función se aplican las siguientes reglas para determinar si es del ámbito local o no. De ahí en adelante será tratada igual dentro de esa función:\n",
        "* Si está acompañada de 'global' se tratará como tal. Si ya existe otra variable global con el mismo nombre, entonces ambas serán la misma variable.\n",
        "* Si se encuentra por primera vez al lado izquierdo del operador de asignación se tratará como local, sin importar que exista una variable con el mismo nombre en otro ámbito.\n",
        "* Si se encuentra por primera vez en una operación de lectura, por ejemplo: al lado derecho del operador de asignación, o en una condición de *if* o un *while*, se tratará como una variable de un ámbito exterior al local. Si no existe tal variable con valor asignado en ningún ámbito superior al de la función, entonces se producirá un error.\n",
        "\n",
        "**Nota:** el uso extensivo de variables globales puede ser inconveniente para la comprensión de un programa, al igual que para la detección de fallos y su corección (depuración del programa). Es recomendable usarlas solo en caso que sea necesario.\n"
      ]
    },
    {
      "cell_type": "markdown",
      "metadata": {
        "id": "AW3EJr0qxpde"
      },
      "source": [
        "· Universidad de Antioquia · Ude@ Educación Virtual ·"
      ]
    }
  ],
  "metadata": {
    "colab": {
      "provenance": []
    },
    "kernelspec": {
      "display_name": "Python 3",
      "name": "python3"
    },
    "language_info": {
      "name": "python"
    }
  },
  "nbformat": 4,
  "nbformat_minor": 0
}
