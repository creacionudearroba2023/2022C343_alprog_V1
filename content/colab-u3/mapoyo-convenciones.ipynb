{
  "cells": [
    {
      "cell_type": "markdown",
      "metadata": {
        "id": "Q7POvHLmSBA8"
      },
      "source": [
        "<img src=\"https://udearroba.udea.edu.co/imagescourses/2022C343_alprog_V1/banner-colab.png\">"
      ]
    },
    {
      "cell_type": "markdown",
      "metadata": {
        "id": "l6RHDb5qNO9x"
      },
      "source": [
        "# <font color='3E779E'> **Documentación**"
      ]
    },
    {
      "cell_type": "markdown",
      "metadata": {
        "id": "QCl0-A-kNUXB"
      },
      "source": [
        "## <font color='5adcff'> **Introducción**\n",
        "\n",
        "###PEP 257. Convenciones de cadenas de documentación\n",
        "\n",
        "\n",
        "La documentación de clases, métodos, funciones, módulos o submódulos se realiza en Python por medio de cadenas de documentación o, en inglés, *docstring*.\n",
        "\n",
        "Como se vio en la Unidad 3, en la clase de *Buenas prácticas de programación (PEP8)*, las nuevas características propuestas para Python en aspectos como diseño y estilo se encuentran en los documentos *PEP*, que significa Propuesta de Mejora de Python o, en inglés, *Python Enhancement Proposal*.\n",
        "\n",
        "El PEP 257 documenta la semántica y las convenciones asociadas con los *docstring* de Python. El objetivo de este PEP es estandarizar la estructura de alto nivel de las cadenas de documentación: qué deben contener y cómo decirlo, en forma de convenciones, no como normas o reglas de sintaxis.\n",
        "\n",
        "*“Una convención universal proporciona toda la capacidad de mantenimiento, claridad, consistencia y también una base para buenos hábitos de programación. Lo que no hace es insistir en que lo sigas en contra de tu voluntad. ¡Eso es Python!”*\n",
        "—Tim Peter.\n",
        "\n",
        "Seguir estas convenciones permitirá obtener mejores resultados y compatibilidad con otros programas que administran de forma automática la documentación de *scripts* de Python. Aunque no hay que alarmarse, no seguir estas convenciones producirá, a lo sumo, una documentación poco organizada que no se verá tan bien.\n"
      ]
    },
    {
      "cell_type": "markdown",
      "metadata": {
        "id": "P_cw-jwPRjq-"
      },
      "source": [
        "\n",
        "### <font color='5adcff'> **¿Qué es un *docstring*?**\n",
        "\n",
        "Es una cadena de caracteres que aparece como la primera línea que se escribe en la definición de clases, métodos, funciones, módulos o submódulos. Tal docstring se convierte en el atributo especial 'doc' de ese objeto.\n",
        "\n",
        "Por lo general, todos los módulos deberían tener una documentación, y todas las funciones y clases exportadas por un módulo también deberían tener su respectiva documentación; los métodos públicos (incluido el constructor 'init') también deben estar documentados. Por último, un paquete puede estar documentado en el *docstring* del archivo 'init__.py' en la carpeta donde está contenido el paquete.\n",
        "\n",
        "Por aspectos de coherencia, se sugiere poner siempre los *dosctring* entre \"\"\"comillas dobles triples\"\"\".\n",
        "\n",
        "Los textos de comentarios que aparecen en otras partes del código de Python también pueden actuar como documentación y, aunque no son reconocidos por el intérprete de Python, algunas herramientas de *software* pueden extraer de estos dos tipos de *docstring* adicionales:\n",
        "\n",
        "<font color='000000'> 1.  Los comentarios escritos justo después de una asignación simple en el nivel superior de un módulo, clase o del método 'init' se denominan *docstring* de atributo.\n",
        "2.   Los comentarios escritos después de un *docstring* se denominan *docstring* adicionales.\n",
        "\n",
        "Para información adicional sobre* docstring *de atributo y adicionales, puedes consultar el documento *PEP 258: Docutils Design Specification*."
      ]
    },
    {
      "cell_type": "markdown",
      "metadata": {
        "id": "0A7xX5dHfCBx"
      },
      "source": [
        "## <font color='5adcff'> **Tipos de docstring** *italicised text*"
      ]
    },
    {
      "cell_type": "markdown",
      "metadata": {
        "id": "dZUVr2WbfPLG"
      },
      "source": [
        "### <font color='7c7c7c'> **De una línea**\n",
        "\n",
        "Se usan para casos en los que se pueda expresar de forma clara en una línea las específicaciones de un objeto. Por ejemplo:\n",
        "\n",
        "\n",
        "```\n",
        "def function(a, b):\n",
        "    \"\"\"junta los objetos a y b retornádolos en una lista.\"\"\"\n",
        "```"
      ]
    },
    {
      "cell_type": "markdown",
      "metadata": {
        "id": "tcOESheHh68J"
      },
      "source": [
        "### <font color='7c7c7c'> **Observaciones**\n",
        "\n",
        "* Se utilizan comillas triples aun si el texto está en una sola línea. Esto facilita su posterior expansión.\n",
        "* Las comillas de cierre están en la misma línea que las comillas de apertura. Esto se ve mejor para las frases de una sola línea.\n",
        "* No hay espacios en blanco ni antes ni después del *docstring*.\n",
        "*El* docstring* es una frase que termina en un punto. Esto para motivar una documentación en forma de descripción en lugar de como una orden. Por ejemplo, no escribas \"Devuelve el nombre de la ruta...\".\n",
        "* Un *docstring* de una sola línea debe hacer énfasis en aspectos no explicitos del objeto, como el tipo de valor de datos que retorna, y evitar repetir información explicita como los parámetros de una función/método.\n",
        "\n",
        "Por ejemplo, evita:\n",
        "\n",
        "```\n",
        "def funcion(a, b):\n",
        "    \"\"\"funcion(a, b) -> lista\"\"\"\n",
        "```\n",
        "\n",
        "La forma aconsejada para este *docstring* sería algo como:\n",
        "\n",
        "\n",
        "\n",
        "```\n",
        "def funcion(a, b):\n",
        "    \"\"\"Ejecuta una operación y retorna una lista.\"\"\"\n",
        "```"
      ]
    },
    {
      "cell_type": "markdown",
      "metadata": {
        "id": "A_xXn6btkgI6"
      },
      "source": [
        "### <font color='7c7c7c'> **De varias líneas**\n",
        "\n",
        "Se componen de una primera línea de resumen, como un *docstring* de una línea, seguida de una línea en blanco y después de una descripción más elaborada. La línea de resumen puede ser utilizada por herramientas de indexación automática. Es importante que quepa en una línea y que esté separado del resto de la cadena de documentación por una línea en blanco. La línea de resumen puede estar en la misma línea que las comillas de apertura o en la línea siguiente.\n",
        "\n",
        "### <font color='7c7c7c'> **Observaciones**\n",
        "\n",
        "* Todo el texto de la documentación debe tener la misma sangría que las comillas en su primera línea, por ejemplo:\n",
        "\n",
        "  ```\n",
        "  def complex(real=0.0, imag=0.0):\n",
        "      \"\"\"Form a complex number.\n",
        "\n",
        "      Keyword arguments:\n",
        "      real -- the real part (default 0.0)\n",
        "      imag -- the imaginary part (default 0.0)\n",
        "      \"\"\"\n",
        "      if imag == 0.0 and real == 0.0:\n",
        "          return complex_zero\n",
        "\n",
        "  ```\n",
        "\n",
        "* Inserte una línea en blanco después de todos los *docstring* (de una línea o de varias líneas) que documentan una clase. En términos generales, los métodos de la clase están separados entre sí por una sola línea en blanco y el *docstring* debe separarse del primer método por una línea en blanco.\n",
        "\n",
        "* La documentación de un *script* de Python (un programa independiente de un archivo) debe poder usarse como su mensaje de \"uso\" que se imprime cuando se invoca el *script* con argumentos incorrectos o faltantes (o quizás con la opción \"-h\", para \"ayuda\"). Este *docstring* debe documentar las funcionalidades del programa, la sintaxis de las instrucciones, las variables del entorno y los archivos. Los mensajes de uso pueden ser bastante elaborados (de varias pantallas) y deberían ser suficientes para que un usuario nuevo use el programa de forma correcta, así como una referencia rápida completa a todas las opciones y argumentos para el usuario sofisticado.\n",
        "\n",
        "* La documentación de un módulo por lo general debe enumerar las clases, excepciones y funciones (y cualquier otro objeto) que exporta el módulo, con un resumen de una línea de cada una (estos resúmenes suelen brindar menos detalles que la línea de resumen en la cadena de documentación del objeto).\n",
        "\n",
        "* La documentación de un paquete (es decir, la cadena de documentación del módulo 'init__.py' del paquete) debe enumerar además los módulos y subpaquetes exportados por el paquete.\n",
        "\n",
        "* El *docstring* de una función o método debe resumir su comportamiento y documentar sus argumentos, valores devueltos, efectos secundarios, excepciones planteadas y restricciones sobre cuándo se puede llamar, en el caso que corresponda. Así mismo, deben indicarse los argumentos opcionales.\n",
        "\n",
        "* La documentación de una clase debe resumir su comportamiento y enumerar los métodos públicos y las variables de instancia. Si la clase está destinada a ser subclase y tiene una interfaz adicional para subclases, esta interfaz debe enumerarse por separado (en el *docstring*). El constructor de clase debe documentarse en la cadena de documentación en el método 'init'. Los métodos individuales deben estar documentados por su propia cadena de documentación.\n",
        "\n",
        "* Si una clase subclasifica a otra clase y su comportamiento se hereda principalmente de esa clase, su cadena de documentación debe mencionar esto y resumir las diferencias. Usa el verbo \"anular\" para indicar que un método de subclase reemplaza un método de superclase y no llama al método de superclase; usa el verbo \"extender\" para indicar que un método de subclase llama al método de superclase (además de su propio comportamiento).\n",
        "\n",
        "* En la documentación no escribas los argumentos de funciones o métodos en mayúsculas. Recuerda que Python distingue entre mayúsculas y minúsculas, por lo que la cadena de documentación debe documentar los nombres correctos de los argumentos. Es mejor listar cada argumento en una línea separada como se mostró en el ejemplo.\n",
        "\n",
        "* Por último, a menos que toda la documentación quepa en una sola línea, escribe las comillas triples de cierre en una línea aparte."
      ]
    },
    {
      "cell_type": "markdown",
      "metadata": {
        "id": "iGd1c6n8poaV"
      },
      "source": [
        "## <font color='5adcff'> **Manejo de la indentación en un *docstring***\n",
        "\n",
        "Las herramientas de procesamiento de *docstring* eliminarán el mismo nivel de indentación de la segunda y siguientes líneas del *docstring*, igual a la indentación más corta de todas las líneas que no estén en blanco después de la primera línea. Cualquier indentación en la primera línea (es decir, hasta la primera línea nueva) no se tiene en cuenta y es eliminada, se conserva la indentación relativa de las líneas posteriores en el *docstring*. Las líneas en blanco deben eliminarse al principio y al final de la cadena de documentación.\n",
        "\n",
        "Para clarificar este aspecto, te presentamos el siguiente códido de ejemplo que toma un d*ocstring* y hace el procesamiento mencionado de las indentaciones:"
      ]
    },
    {
      "cell_type": "code",
      "execution_count": null,
      "metadata": {
        "id": "VWkf4PkxqrZ5"
      },
      "outputs": [],
      "source": [
        "def trim(docstring):\n",
        "    if not docstring:\n",
        "        return ''\n",
        "    # Convert tabs to spaces (following the normal Python rules)\n",
        "    # and split into a list of lines:\n",
        "    lines = docstring.expandtabs().splitlines()\n",
        "    # Determine minimum indentation (first line doesn't count):\n",
        "    indent = sys.maxsize\n",
        "    for line in lines[1:]:\n",
        "        stripped = line.lstrip()\n",
        "        if stripped:\n",
        "            indent = min(indent, len(line) - len(stripped))\n",
        "    # Remove indentation (first line is special):\n",
        "    trimmed = [lines[0].strip()]\n",
        "    if indent < sys.maxsize:\n",
        "        for line in lines[1:]:\n",
        "            trimmed.append(line[indent:].rstrip())\n",
        "    # Strip off trailing and leading blank lines:\n",
        "    while trimmed and not trimmed[-1]:\n",
        "        trimmed.pop()\n",
        "    while trimmed and not trimmed[0]:\n",
        "        trimmed.pop(0)\n",
        "    # Return a single string:\n",
        "    return '\\n'.join(trimmed)"
      ]
    },
    {
      "cell_type": "markdown",
      "metadata": {
        "id": "K9eBFHyrRoza"
      },
      "source": [
        "· Universidad de Antioquia · Ude@ Educación Virtual ·"
      ]
    }
  ],
  "metadata": {
    "colab": {
      "provenance": []
    },
    "kernelspec": {
      "display_name": "Python 3",
      "name": "python3"
    },
    "language_info": {
      "name": "python"
    }
  },
  "nbformat": 4,
  "nbformat_minor": 0
}
