{
  "cells": [
    {
      "cell_type": "markdown",
      "metadata": {
        "id": "J9iHStfA1B-1"
      },
      "source": [
        "<img src=\"https://udearroba.udea.edu.co/imagescourses/2022C343_alprog_V1/banner-colab.png\">"
      ]
    },
    {
      "cell_type": "markdown",
      "metadata": {
        "id": "GY3XiYuFFr15"
      },
      "source": [
        "# <font color='3E779E'> **Funciones** </font>\n",
        "\n",
        "El modelo de programación modular se caracteriza por la construcción de bloques o módulos de código diseñados para funcionar por sí solos; a su vez, estos pueden ser conectados con otros bloques, de forma que se logren programas de mayor complejidad.  \n",
        "\n",
        "Por otro lado, la programación modular permite aproximarse a la solución de un problema por medio de trabajo en equipo o por etapas, ya que facilita la modificación de cada bloque de código de forma independiente. Esto para actualizar o corregir errores, lo que agiliza el proceso de programación. Por tanto, ahora discutiremos conceptos como funciones, variables y su ámbito de validez, así como el manejo de módulos, librerías y algunas normas para la documentación de los programas y los bloques que lo constituyen."
      ]
    },
    {
      "cell_type": "markdown",
      "metadata": {
        "id": "C94C039BFr18"
      },
      "source": [
        "###  <font color='45adcff'> **Definición de funciones** </font>\n",
        "Una función permite reutilizar una porción de código de un programa que se necesita en otra parte del mismo. Si no te es posible implementar las funciones, solo debes copiar y pegar el código a reutilizar. Sin embargo, pueden ocurrir varios inconvenientes al hacerlo:\n",
        "\n",
        "* Se deben cambiar los nombres de las variables, para que se ajusten a los nombres usados en la parte del programa donde se va a reutilizar el código.\n",
        "* Si luego de haber reutilizado el código en varios lugares del programa se quiere hacer algún cambio en el algoritmo reutilizado, será necesario aplicar el cambio en todos los lugares donde se reutilizó."
      ]
    },
    {
      "cell_type": "markdown",
      "metadata": {
        "id": "xMzXkwNiFr2x"
      },
      "source": [
        "Con base en esas observaciones se puede decir que una **función** es un segmento de código que se encapsula y se pone aparte para ser usado, una o varias veces, en cualquier parte de un programa. Las funciones también son llamadas subrutinas o subprogramas y están presentes en casi todos los lenguajes de programación.\n",
        "\n",
        "La parte izquierda de la figura 1 muestra un algoritmo que se repite al principio y al final, es decir, es un subalgoritmo utilizado dos veces. El lado derecho muestra cómo se representa el mismo algoritmo en dos partes: por un lado, el subalgoritmo a ser reutilizado, y por otro, el algoritmo simplificado al hacer uso del subalgoritmo.\n"
      ]
    },
    {
      "cell_type": "markdown",
      "metadata": {
        "id": "b1D3VTf00U4l"
      },
      "source": [
        "<img src=\"https://udearroba.udea.edu.co/imagescourses/2022C343_alprog_V1/colab-u3/mf1-funciones.png\">\n",
        "\n",
        "                                                         **Figura 1.** Algoritmos con funciones y sin funciones."
      ]
    },
    {
      "cell_type": "markdown",
      "metadata": {
        "id": "wMJocGPyFr21"
      },
      "source": [
        "\n",
        "## <font color='3E779E'> **Funciones** </font> <font color='45adcff'> **en Python** </font>\n",
        "\n",
        "### <font color='45adcff'> **Definición** </font>\n",
        "\n",
        "Para definir una función es necesario tener en cuenta tres elementos:\n",
        "\n",
        "* El nombre que llevará la función. Este no debe contener espacios, es preferible que lleve caracteres especiales (tíldes, ñ,@,$,&, entre otros) o símbolos diferentes a letras y números.\n",
        "* Las entradas, también llamadas parámetros formales o simplemente parámetros.\n",
        "* Las salidas, que son los resultados producidos durante la ejecución de la función y que esta debe devolver.\n",
        "* El cuerpo de la función, que es el segmento de código que ejecuta la función."
      ]
    },
    {
      "cell_type": "markdown",
      "metadata": {
        "id": "WePycR2Dw9_H"
      },
      "source": [
        "Las siguientes líneas de código muestran la definición de una función que implementa una función algebraica.  "
      ]
    },
    {
      "cell_type": "code",
      "execution_count": null,
      "metadata": {
        "colab": {
          "base_uri": "https://localhost:8080/"
        },
        "id": "ND0UrmzFyEfK",
        "outputId": "d872bf29-94e9-4cd9-f8f0-d9a51be496c1"
      },
      "outputs": [
        {
          "name": "stdout",
          "output_type": "stream",
          "text": [
            "169\n",
            "94\n"
          ]
        }
      ],
      "source": [
        "def f(x,y):\n",
        "  z = x**3 + y**2 + 5*x + 3\n",
        "  return z\n",
        "\n",
        "resultado = f(5,4)\n",
        "print(resultado)\n",
        "print(f(3,7))\n"
      ]
    },
    {
      "cell_type": "markdown",
      "metadata": {
        "id": "E5_cmjCNFr29"
      },
      "source": [
        "La instrucción **def** hace parte del lenguaje Python e indica que se va a **definir una función**. Seguido de un espacio va el **nombre de la función**, el cual debe seguir las mismas reglas y buenas prácticas que los nombres de las variables."
      ]
    },
    {
      "cell_type": "markdown",
      "metadata": {
        "id": "-hzd-FukFr2-"
      },
      "source": [
        "Luego, entre paréntesis y separadas por comas, debe ir la lista de las variables de entrada que requiere la función. Estas se llaman **parámetros formales**. Lo que sigue es el conjunto de instrucciones que conforman el **cuerpo de la función**, estas líneas de instrucciones deben tener un desplazamiento a la derecha o sangría (por lo general, se usa la palabra inglesa *indent*), con respecto a la posición de def. De esta manera se indica que esas instrucciones hacen parte de la función.\n",
        "\n",
        "Por último, la instrucción **return** sirve para indicar qué dato o conjunto de datos entregará la función como **resultado** de su ejecución. Este resultado se llevará a la parte del programa desde donde se invoque la función. La ejecución de una función finaliza cuando se encuentra la instrucción **return** o cuando no hay más instrucciones por ejecutar."
      ]
    },
    {
      "cell_type": "markdown",
      "metadata": {
        "id": "mgQ1x1n2Fr3A"
      },
      "source": [
        "Si lo requieres, también es posible crear una función que no tenga variables de entrada ni de salida. Los siguientes dos ejemeplos muestran tal situación, donde los paréntesis están vacíos y no aparece la instrucción **return**."
      ]
    },
    {
      "cell_type": "markdown",
      "metadata": {
        "id": "Rs9IoJTdp-Q-"
      },
      "source": [
        "### <font color='c1c1c1'>**Ejemplo 1**"
      ]
    },
    {
      "cell_type": "code",
      "execution_count": null,
      "metadata": {
        "id": "Cs-xwE6AFr3B"
      },
      "outputs": [],
      "source": [
        "def saludo():\n",
        "    nombre = input('Ingresa tu nombre: ')\n",
        "    apellido = input('Ingresa tu apellido: ')\n",
        "    print('Bienvenido',nombre,apellido)\n"
      ]
    },
    {
      "cell_type": "code",
      "execution_count": null,
      "metadata": {
        "colab": {
          "base_uri": "https://localhost:8080/"
        },
        "id": "8SVeuTk30dqh",
        "outputId": "149d89ff-4af6-4e61-ae9e-de15e1f6c629"
      },
      "outputs": [
        {
          "name": "stdout",
          "output_type": "stream",
          "text": [
            "Ingresa tu nombre: Manuel\n",
            "Ingresa tu apellido: Benjumea\n",
            "Bienvenido  Manuel Benjumea\n"
          ]
        }
      ],
      "source": [
        "prueba = saludo()"
      ]
    },
    {
      "cell_type": "markdown",
      "metadata": {
        "id": "-Ww8M9JnqEBt"
      },
      "source": [
        "### <font color='c1c1c1'>**Ejemplo 2**"
      ]
    },
    {
      "cell_type": "code",
      "execution_count": null,
      "metadata": {
        "id": "0zL8xi6PqM2c"
      },
      "outputs": [],
      "source": [
        "def CuantasLetrasHay():\n",
        "    name = input('Ingresa tu nombre: ')\n",
        "    print('El input ingresado tiene ' + str(len(name)) + ' letras')\n",
        "\n",
        "CuantasLetrasHay()"
      ]
    },
    {
      "cell_type": "markdown",
      "metadata": {
        "id": "fKjS_kHnFr3F"
      },
      "source": [
        "\n",
        "### <font color='157699'> **Invocación de una función** </font>\n",
        "\n",
        "Hasta ahora hemos visto como se construye una función y cómo se define, sin embargo esto es solamente la mitad de la historia acerca de las funciones. Una vez la función se ha creado (definido), esta puede ser usada en el resto del programa.\n",
        "\n",
        "Se dice que se invoca una función cuando se llama por medio de su nombre para que se ejecute. Al invocarla es necesario también entregarle datos para sus variables de entrada (si las tiene) y asignar los datos de salida (si los hay) a alguna variable del ámbito desde donde se invoca la función.\n",
        "\n",
        "\n",
        "#### <font color='c1c1c1'> **Ejemplo 3** </font>\n",
        "\n",
        "El siguiente código muestra un programa que incluye no solo la definición de una función, si no también un programa principal donde se invoca la función definida con anterioridad."
      ]
    },
    {
      "cell_type": "code",
      "execution_count": null,
      "metadata": {
        "id": "5VuOb3Ni2eps"
      },
      "outputs": [],
      "source": [
        "def adulto(nombre,edad):\n",
        "    if 0 <= edad <= 18:\n",
        "        mensaje = 'El usuario ' + nombre + ' es menor de edad'\n",
        "    elif edad >18:\n",
        "        mensaje = 'El usuario ' + nombre + ' es mayor de edad'\n",
        "    else:\n",
        "        mensaje = '¡Error!'\n",
        "\n",
        "    return mensaje\n"
      ]
    },
    {
      "cell_type": "markdown",
      "metadata": {
        "id": "FoxDEwFF5XdT"
      },
      "source": [
        "El programa que se escribe a continuación solicita el nombre y la edad del usuario para identificar si es menor o mayor de edad. Para esto hace uso de la función definida.\n",
        "\n",
        "Observa que el nombre y la edad se almacenan en las variables **su_nombre** (de tipo cadena de caracteres) y **su_edad** (de tipo entero) respectivamente. Estos son los valores reales con los cuales se invoca y ejecuta la función en la línea de código:\n",
        "```\n",
        "resultado = adulto(su_nombre, su_edad)\n",
        "```\n",
        "El valor retornado por la función se almacena en la variable **resultado** que se encuentra en el programa principal, y es el que se imprime en la última línea del programa."
      ]
    },
    {
      "cell_type": "code",
      "execution_count": null,
      "metadata": {
        "id": "mjhYN1Hj3xJD"
      },
      "outputs": [],
      "source": [
        "# Programa que, conociendo la edad de un usuario, identifica si es menor o mayor de edad\n",
        "# Se pregunta al usuario por los valores reales con los cuales se invocará la función\n",
        "print('Bienvenido al programa señor usuario')\n",
        "su_nombre = input('Ingrese por favor su nombre: ')\n",
        "su_edad = int(input('Ingrese por favor un número entero que indique su edad: '))\n",
        "resultado = adulto(su_nombre, su_edad) #Invocación de la función \"adulto\" con los valores reales\n",
        "print(resultado) # En la variable resultado se guarda el valor que retorna la función"
      ]
    },
    {
      "cell_type": "markdown",
      "metadata": {
        "id": "oVfWXNx4Fr4C"
      },
      "source": [
        "#### <font color='c1c1c1'> **Ejemplo 4**\n",
        "La función **COPtoUSD** recibe una cantidad de dinero en pesos colombianos (cadena de texto) y la convierte a dólares."
      ]
    },
    {
      "cell_type": "code",
      "execution_count": null,
      "metadata": {
        "id": "MrJn_tIyFr4D"
      },
      "outputs": [],
      "source": [
        "def COPtoUSD(COP):\n",
        "        USD = int(COP)/4500\n",
        "        return USD\n",
        "\n",
        "Dinero = input('Ingrese la cantidad de dinero en pesos colombianos que desea convertir a dolares ')\n",
        "print(str(Dinero) + ' pesos colombianos equivalen a US$' + str(COPtoUSD(Dinero)) + ' dolares estadounidenses')"
      ]
    },
    {
      "cell_type": "markdown",
      "metadata": {
        "id": "EHd0q-73Fr5F"
      },
      "source": [
        "<a id='sec4.2.4'></a>\n",
        "## <font color='3E779E'> **Documentación del código </font> <font color='45adcff'> y especificación de funciones** </font>\n",
        "\n",
        "\n",
        "A pesar de que los lenguajes de alto nivel tratan en cierta medida de acercarse al lenguaje natural de las personas, existe una brecha grande cuando los algoritmos son complejos. En otras palabras, el código fuente de los programas puede ser difícil de entender, en especial para alguien diferente a la persona que lo escribió.\n",
        "\n",
        "Python, como muchos otros lenguajes de programación, permite agregar texto en el código fuente sin que este haga parte de las instrucciones a ejecutar.\n",
        "\n",
        "Con el símbolo numeral **#** o con las comillas triples **'''** se pueden agregar comentarios al código fuente para facilitar el entendimiento del mismo. La documentación del código fuente de un programa consiste en agregar comentarios en las partes que son críticas para su entendimiento, su funcionamiento y su eficiencia.\n",
        "\n",
        "Quizás lo más importante que se debe documentar en un programa son las funciones, debido a que establecen límites entre las diferentes partes de un programa. Una documentación apropiada debe informar sobre los datos de entrada y salida, así como el propósito de la función. A esta información se le llama la **especificación** de la función.\n",
        "\n",
        "En el siguiente ejemplo te mostramos la definición de una función con su respectiva especificación."
      ]
    },
    {
      "cell_type": "markdown",
      "metadata": {
        "id": "-aRecSDvFr5Q"
      },
      "source": [
        "#### <font color='c1c1c1'> **Ejemplo 5** </font>\n",
        "La función **oldest** recibe dos cadenas de caracteres que contienen fechas en el formato DD-MM-AAAA y retorna la fecha más antigua, como se indica en su especificación. El programa principal le pide dos fechas al usuario y le muestra la más vieja."
      ]
    },
    {
      "cell_type": "code",
      "execution_count": null,
      "metadata": {
        "id": "PCkrbxDlFr5R"
      },
      "outputs": [],
      "source": [
        "def oldest(d1, d2):\n",
        "    '''Recibe dos cadenas de caracteres con fechas en formato DD-MM-AAAA,\n",
        "    retorna la fecha más vieja.'''\n",
        "    d1_num = int(d1[6:]+d1[3:5]+d1[:2])\n",
        "    d2_num = int(d2[6:]+d2[3:5]+d2[:2])\n",
        "    if d1_num < d2_num:\n",
        "        return d1\n",
        "    else:\n",
        "        return d2\n",
        "\n",
        "a = input('Ingrese una fecha en formato DD-MM-AAAA: ')\n",
        "b = input('Ingrese otra fecha en formato DD-MM-AAAA: ')\n",
        "print('La fecha ' + oldest(a, b) + ' es la más vieja')"
      ]
    },
    {
      "cell_type": "markdown",
      "metadata": {
        "id": "hqFTmtWbFr5O"
      },
      "source": [
        "La especificación de una función tiene dos partes:\n",
        "* **Suposiciones**: son los requisitos que deben cumplir los argumentos al invocar una función para que esta funcione bien.\n",
        "* **Garantías**: es la descripción de lo que hace la función, siempre y cuando se cumplan las suposiciones.\n",
        "\n",
        "En el código anterior, la línea 2 presenta las suposiciones y la línea 3 contiene las garantías."
      ]
    },
    {
      "cell_type": "markdown",
      "metadata": {
        "id": "Jh_h-kvmFr5P"
      },
      "source": [
        "La especificación de una función es muy importante porque, con solo leerla, puedes hacer uso de la función sin necesidad de inspeccionar el cuerpo de la misma para deducirlo. Se podría pensar en la especificación como el manual de usuario de la función.\n",
        "\n",
        "**Sugerencia:** para ampliar la información sobre documentación, te aconsejo la lectura del material de apoyo *Convenciones para documentación PEP 257*."
      ]
    },
    {
      "cell_type": "markdown",
      "metadata": {
        "id": "tasXdHLcFr6E"
      },
      "source": [
        "## <font color='3E779E'>**Ventajas de <font color='45adcff'> usar funciones**</font>\n",
        "\n",
        "Las principales ventajas son:\n",
        "* Programas más cortos: al reutilizar segmentos de código en varios lugares de un programa se evita repetirlos una y otra vez. Si se usan funciones solo es necesario definir el segmento de código una única vez como subrutina, que luego puede ser utilizada cuantas veces sea necesario. Esto ahorra tiempo al programar y memoria al ejecutar el programa.\n",
        "* Eficiencia para hacer cambios: cuando decidas hacer un cambio al cuerpo de una función, en todos los lugares donde se invoque la misma se aplicará el cambio de forma automatica. Si no usas funciones, deberás hacer el cambio en todos los lugares donde se utilice el mismo segmento de código.\n",
        "* Organización del código fuente: un programa que usa funciones adquiere una estructura modular que permite lograr un código fuente mucho más organizado, fácil de entender y modificar.\n",
        "* Facilidad de trabajo en equipo: un programa que está dividido en funciones puede ser desarrollado entre varias personas de manera más fácil, pues las funciones definen fronteras claras de hasta dónde llega la responsabilidad de cada programador."
      ]
    },
    {
      "cell_type": "markdown",
      "metadata": {
        "id": "dunNSk1hFr4K"
      },
      "source": [
        "<a id='sec4.2.3'></a>\n",
        "## <font color='3E779E'>**Argumentos por nombre y parámetros por defecto**\n",
        "\n",
        "Las funciones en Python tienen algunas características de configuración opcional que ofrecen mayor flexibilidad al programador.\n",
        "\n",
        "Hasta lo que hemos visto, para invocar una función no es necesario conocer el nombre de las variables internas (parámetros) a las cuales se les asignan los valores reales (argumentos o datos de entrada), basta con saber el significado y orden de cada uno de los parámetros.\n",
        "\n",
        "Sin embargo, una opción especial para el uso de funciones es la de los **argumentos por nombre**. Python permite que los argumentos sean asignados de manera directa al usar los nombres de los parámetros y, en ese caso, puede hacerse en cualquier orden.\n",
        "\n",
        "\n",
        "El siguiente ejemplo define la función concat_Name() que recibe dos cadenas de caracteres nombre y apellido, y retorna el nombre concatenado en mayúscula.\n",
        "\n"
      ]
    },
    {
      "cell_type": "code",
      "execution_count": null,
      "metadata": {
        "colab": {
          "base_uri": "https://localhost:8080/",
          "height": 36
        },
        "id": "lJjrEWGEJTMM",
        "outputId": "98cd7346-205b-4caa-a2af-ed70020a82f2"
      },
      "outputs": [
        {
          "data": {
            "application/vnd.google.colaboratory.intrinsic+json": {
              "type": "string"
            },
            "text/plain": [
              "'ANDRÉS DUQUE'"
            ]
          },
          "execution_count": 8,
          "metadata": {},
          "output_type": "execute_result"
        }
      ],
      "source": [
        "def concat_Name(nombre, apellido):\n",
        "  nombre = nombre.upper()\n",
        "  apellido = apellido.upper()\n",
        "\n",
        "  return nombre + ' '+ apellido\n",
        "\n",
        "concat_Name('Andrés', 'Duque')"
      ]
    },
    {
      "cell_type": "markdown",
      "metadata": {
        "id": "UnL90S6EI72D"
      },
      "source": [
        "Nota que se pueden ingresar los argumentos en cualquier orden si los llamamos por su nombre y obtenemos el mismo resultado."
      ]
    },
    {
      "cell_type": "code",
      "execution_count": null,
      "metadata": {
        "colab": {
          "base_uri": "https://localhost:8080/",
          "height": 36
        },
        "id": "ggSzhktdLV1E",
        "outputId": "813e77ae-9e1e-4c8d-d5ac-a40a8ef1ba85"
      },
      "outputs": [
        {
          "data": {
            "application/vnd.google.colaboratory.intrinsic+json": {
              "type": "string"
            },
            "text/plain": [
              "'ANDRÉS DUQUE'"
            ]
          },
          "execution_count": 9,
          "metadata": {},
          "output_type": "execute_result"
        }
      ],
      "source": [
        "concat_Name(apellido='Duque', nombre='Andrés')"
      ]
    },
    {
      "cell_type": "markdown",
      "metadata": {
        "id": "qTASTOI1LhT0"
      },
      "source": [
        "### <font color='45adcff'>**Parámetros por defecto**\n",
        "Al crear la lista de parámetros de una función, es posible asignar un valor por defecto a uno o varios de estos parámetros. Cuando se hace esto, el parámetro se convierte en opcional, es decir, la función puede ser invocada sin asignarle un argumento a dicho parámetro opcional, ya que este tiene un valor por defecto.\n",
        "\n",
        "Si al invocar una función se le asigna argumento a un parámetro opcional, este solo tomará el valor del argumento asignado e ignorará su valor por defecto. A esta característica de las funciones en Python se le conoce como **parámetros por defecto** y es útil cuando se quiere simplificar el uso de una función.\n",
        "\n",
        "De esta manera, no es necesario darle argumentos a funciones que quizás tengan muchos parámetros. Pueden solo tener valores por defecto, que si el usuario de la función lo quiere puede modificarlos.\n",
        "\n",
        "\n",
        "El siguiente ejemplo modifica la función concat_Name() que recibe dos cadenas de caracteres nombre y apellido, y un booleano mayuscula. La función retorna las cadenas de caracteres concatenados y los convierte en mayuscula solo si el booleano mayusacula = True.\n",
        "\n"
      ]
    },
    {
      "cell_type": "code",
      "execution_count": null,
      "metadata": {
        "id": "8IVVuIu0MHdl"
      },
      "outputs": [],
      "source": [
        "def concat_Name(nombre, apellido, mayuscula = True):\n",
        "  if mayuscula:\n",
        "    nombre = nombre.upper()\n",
        "    apellido = apellido.upper()\n",
        "\n",
        "  return nombre + ' '+ apellido\n",
        "\n"
      ]
    },
    {
      "cell_type": "markdown",
      "metadata": {
        "id": "R9aykXD4M0l1"
      },
      "source": [
        "Invocamos la función al usar el valor por defecto para el argumento `mayúscula`."
      ]
    },
    {
      "cell_type": "code",
      "execution_count": null,
      "metadata": {
        "colab": {
          "base_uri": "https://localhost:8080/",
          "height": 35
        },
        "id": "hoXEMwJCNAW1",
        "outputId": "9d8c035d-cdab-438e-807a-2e1c6ddd4ffc"
      },
      "outputs": [
        {
          "data": {
            "application/vnd.google.colaboratory.intrinsic+json": {
              "type": "string"
            },
            "text/plain": [
              "'ANDRÉS DUQUE'"
            ]
          },
          "execution_count": 2,
          "metadata": {},
          "output_type": "execute_result"
        }
      ],
      "source": [
        "concat_Name('Andrés', 'Duque')"
      ]
    },
    {
      "cell_type": "markdown",
      "metadata": {
        "id": "pHH3-7zeNDnc"
      },
      "source": [
        "Ahora, deseamos que no se conviertan las cadenas a mayúscula por lo que especificamos que `mayuscula = False`."
      ]
    },
    {
      "cell_type": "code",
      "execution_count": null,
      "metadata": {
        "colab": {
          "base_uri": "https://localhost:8080/",
          "height": 35
        },
        "id": "qYC-rPdrFr4L",
        "outputId": "ca6e8432-38ad-48a1-f39a-54c1cb4d5117"
      },
      "outputs": [
        {
          "data": {
            "application/vnd.google.colaboratory.intrinsic+json": {
              "type": "string"
            },
            "text/plain": [
              "'Andrés Duque'"
            ]
          },
          "execution_count": 3,
          "metadata": {},
          "output_type": "execute_result"
        }
      ],
      "source": [
        "concat_Name('Andrés', 'Duque', False)"
      ]
    },
    {
      "cell_type": "markdown",
      "metadata": {
        "id": "1elGZ3SdNbQO"
      },
      "source": [
        "De manera opcional:"
      ]
    },
    {
      "cell_type": "code",
      "execution_count": null,
      "metadata": {
        "colab": {
          "base_uri": "https://localhost:8080/",
          "height": 35
        },
        "id": "nLxqbTxrNdee",
        "outputId": "8841dbf1-98ca-498f-8eea-598107a4b285"
      },
      "outputs": [
        {
          "data": {
            "application/vnd.google.colaboratory.intrinsic+json": {
              "type": "string"
            },
            "text/plain": [
              "'Andrés Duque'"
            ]
          },
          "execution_count": 4,
          "metadata": {},
          "output_type": "execute_result"
        }
      ],
      "source": [
        "concat_Name(mayuscula= False, apellido='Duque', nombre='Andrés',)"
      ]
    },
    {
      "cell_type": "markdown",
      "metadata": {
        "id": "tvk8xaA4Fr4_"
      },
      "source": [
        "#### <font color='C1C1C1'> **Ejemplo 6** </font>\n",
        "La función **palindr** recibe una cadena de caracteres y determina si esta es o no un palíndromo, en otras palabras, si la cadena se lee igual al derecho y al revés. La función tiene un parámetro por defecto para determinar si el algoritmo debe ignorar o no los caracteres no alfabéticos. Luego de la definición de la función, esta de forma repetida le pide al usuario una frase hasta que ingrese un palíndromo."
      ]
    },
    {
      "cell_type": "code",
      "execution_count": null,
      "metadata": {
        "id": "WBx8X-hUFr5B"
      },
      "outputs": [],
      "source": [
        "def palindr(x, pm=False):\n",
        "    if pm:\n",
        "        s = ''\n",
        "        punctuation = ' !\"#$%&\\'()*+,-./:;<=>?@[\\\\]^_`{|}~'\n",
        "        for c in x:\n",
        "            if not c in punctuation:\n",
        "                s += c\n",
        "        x = s\n",
        "    a = 0\n",
        "    b = len(x)-1\n",
        "    while a < b and x[a] == x[b]:\n",
        "        a += 1\n",
        "        b -= 1\n",
        "    if a < b:\n",
        "        return False\n",
        "    else:\n",
        "        return True\n",
        "\n",
        "word = input('Ingrese una frase: ')\n",
        "while not palindr(word, True):\n",
        "    print('\"' + word + '\" no es un palíndromo...')\n",
        "    word = input('Ingrese una frase: ')\n",
        "\n",
        "print('Usted ha ingresado un palíndromo: \"' + word + '\"')"
      ]
    },
    {
      "cell_type": "markdown",
      "metadata": {
        "id": "Go8PdE_z1GuW"
      },
      "source": [
        "· Universidad deAntioquia · Ude@ Educación Virtual ·"
      ]
    }
  ],
  "metadata": {
    "colab": {
      "provenance": []
    },
    "kernelspec": {
      "display_name": "Python 3",
      "name": "python3"
    },
    "language_info": {
      "name": "python"
    }
  },
  "nbformat": 4,
  "nbformat_minor": 0
}
