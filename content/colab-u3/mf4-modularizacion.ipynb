{
  "cells": [
    {
      "cell_type": "markdown",
      "metadata": {
        "id": "pbXHlP5g7xQQ"
      },
      "source": [
        "<img src=\"https://udearroba.udea.edu.co/imagescourses/2022C343_alprog_V1/banner-colab.png\">"
      ]
    },
    {
      "cell_type": "markdown",
      "metadata": {
        "id": "hmWpqKdcGw-o"
      },
      "source": [
        "# <font color='157699'> **Introducción** </font>\n",
        "\n",
        "\n",
        "\n",
        "\n"
      ]
    },
    {
      "cell_type": "markdown",
      "metadata": {
        "id": "NoN-jfXN79Sa"
      },
      "source": [
        "Por lo general, nos referimos como modularización al proceso de agrupar instrucciones de programación en componentes llamados 'módulos'. Cada uno de estos realiza alguna tarea especifica y es, en lo posible, independiente de los demás componentes en que se divide el programa.\n",
        "\n",
        "Algunas de las razones para modularizar un programa son:\n",
        "\n",
        "* Crear límites bien definidos y componentes en el programa.\n",
        "* Facilitar la reutilización de componentes del programa.\n",
        "* Reducir la complejidad y aumentar la legibilidad de un programa.\n",
        "\n",
        "Una primera forma de modularización es la creación de funciones que ya hemos discutido en el curso.\n",
        "\n"
      ]
    },
    {
      "cell_type": "markdown",
      "metadata": {
        "id": "OAx-RZlB8iNf"
      },
      "source": [
        "# <font color='157699'> **Funciones** </font>\n",
        "\n",
        "Definiremos de manera general una función: es un conjunto de instrucciones agrupadas con el fin de realizar una tarea especifica. Para ello, recibe unos elementos de entrada que denominamos argumentos o parámetros y retorna uno o varios valores de salida.  \n",
        "\n",
        "Retomemos el ejemplo de la función 'palindr'. Esta recibe una cadena de caracteres y determina si esta es o no un palíndromo, es decir, si la cadena se lee igual al derecho y al revés."
      ]
    },
    {
      "cell_type": "code",
      "execution_count": null,
      "metadata": {
        "id": "WBx8X-hUFr5B",
        "vscode": {
          "languageId": "python"
        }
      },
      "outputs": [],
      "source": [
        "def palindr(palabra):\n",
        "    '''Cuando palabra es un palindromo retorna True, de otro modo retorna False'''\n",
        "    a = 0\n",
        "    b = len(palabra)-1\n",
        "    while a < b and palabra[a] == palabra[b]:\n",
        "        a += 1\n",
        "        b -= 1\n",
        "    if a < b:\n",
        "        return False\n",
        "    else:\n",
        "        return True\n",
        "\n",
        "word = input('Ingrese una palabra o frase: ')\n",
        "resultado = palindr(word)\n",
        "if resultado:\n",
        "    print('\"' + word + '\" es un palíndromo')\n",
        "else:\n",
        "    print('\"' + word + '\" no es un palíndromo')\n"
      ]
    },
    {
      "cell_type": "markdown",
      "metadata": {
        "id": "64K96rJ4L3As"
      },
      "source": [
        "# <font color='157699'> **Módulos** </font>\n",
        "\n",
        "Un módulo es un archivo de Python cuyos objetos (ejemplo: variables y funciones) pueden ser accedidos desde otro archivo de Python. Es una forma de organizar el código que facilita su creación en equipos de trabajo y su mantenimiento.\n",
        "\n",
        "Un estrategia que se suele utilizar consiste en agrupar funciones en módulos y tener otro módulo principal, donde se desarrolla el código que los integra e invoca las funciones que están en cada uno.\n",
        "\n",
        "Por ejemplo, se puede crear un módulo 'geometria.py' que agrupe las funciones para calcular el área de las figuras geometricas más conocidas. Estas se muestran en el siguiente código. El archivo `geometria.py` puede descargarse en este [enlace](https://drive.google.com/file/d/1S8hiYYyo69lKnq41-7O5-jbTZkJvd35V/view?usp=sharing)"
      ]
    },
    {
      "cell_type": "code",
      "execution_count": null,
      "metadata": {
        "id": "m-8stW8uO1lP",
        "vscode": {
          "languageId": "python"
        }
      },
      "outputs": [],
      "source": [
        "import math\n",
        "\n",
        "def circulo(radio):\n",
        "    '''\n",
        "    La función calcula el área del círculo conocido el radio\n",
        "    El parámetro radio debe ser de tipo float e indica el radio del círculo\n",
        "    La función retorna el área calculada\n",
        "    '''\n",
        "    area = math.pi*radio**2\n",
        "    return area\n",
        "\n",
        "def rectangulo(base,altura):\n",
        "    '''\n",
        "    La función calcula el área de un rectangulo conocidas la base y la altura\n",
        "    Los parámetros base y altura denen ser de tipo float\n",
        "    La función retorna el área calculada\n",
        "    '''\n",
        "    area = base*altura\n",
        "    return area\n",
        "\n",
        "def triangulo(base,altura):\n",
        "    '''\n",
        "    La función calcula el área de un rectangulo conocidas la base y la altura\n",
        "    Los parámetros base y altura denen ser de tipo float\n",
        "    La función retorna el área calculada\n",
        "    '''\n",
        "    area = base*altura/2\n",
        "    return area\n",
        "\n",
        "#print(circulo(10),rectangulo(10,10),triangulo(10,10))"
      ]
    },
    {
      "cell_type": "markdown",
      "metadata": {
        "id": "rSMono8TOjPE"
      },
      "source": [
        "**Nota:** para trabajar con el archivo del módulo que se creó recomendamos tenerlo en la misma carpeta de trabajo del entorno de desarrollo que estemos usando. Así se facilita la acción de cargar éste módulo desde otro archivo de Python.\n",
        "\n",
        "En caso de trabajar en Google Colab, para cargar un módulo que se va a utilizar en la sesión actual, primero debemos cargar el archivo por medio de '!gdown'. Luego, importamos el módulo y podemos usar las funciones que estan en él. Recuerda que esto no es necesario si se ejecutarlo de forma directa en un entorno de desarrollo."
      ]
    },
    {
      "cell_type": "code",
      "execution_count": null,
      "metadata": {
        "id": "RSXdrExoYDaT",
        "vscode": {
          "languageId": "python"
        }
      },
      "outputs": [],
      "source": [
        "!gdown 1S8hiYYyo69lKnq41-7O5-jbTZkJvd35V"
      ]
    },
    {
      "cell_type": "markdown",
      "metadata": {
        "id": "QZHYunb7Ct1d"
      },
      "source": [
        "Como alternativa puedes desargar el archivo desde el [enlace](https://drive.google.com/file/d/1S8hiYYyo69lKnq41-7O5-jbTZkJvd35V/view?usp=sharing) indicado y carguarlo en el entorno del *notebook* al correr el siguiete código:"
      ]
    },
    {
      "cell_type": "code",
      "execution_count": null,
      "metadata": {
        "id": "cDQiKwjiCy62",
        "vscode": {
          "languageId": "python"
        }
      },
      "outputs": [],
      "source": [
        "from google.colab import files\n",
        "\n",
        "uploaded = files.upload()\n",
        "\n",
        "for fn in uploaded.keys():\n",
        "  print('User uploaded file \"{name}\" with length {length} bytes'.format(\n",
        "      name=fn, length=len(uploaded[fn])))"
      ]
    },
    {
      "cell_type": "code",
      "execution_count": null,
      "metadata": {
        "id": "FIBPbNIPYIFK",
        "vscode": {
          "languageId": "python"
        }
      },
      "outputs": [],
      "source": [
        "import geometria\n",
        "\n",
        "# Calcular al área de un círculo de radio 2cm\n",
        "resultado = circulo(2)\n",
        "print(f\"El área del círculo es {round(resultado,2)}cm^2\")\n",
        "\n",
        "# Calcular al área de un rectangulo con b = 2cm a = 1cm\n",
        "resultado = rectangulo(2,1)\n",
        "print(f\"El área del rectangulo es {round(resultado,2)}cm^2\")\n",
        "\n",
        "# Calcular al área de un triangulo con b = 2cm h = 1cm\n",
        "resultado = triangulo(2,1)\n",
        "print(f\"El área del triangulo es {round(resultado,2)}cm^2\")"
      ]
    },
    {
      "cell_type": "markdown",
      "metadata": {
        "id": "mocT9gGHeZXK"
      },
      "source": [
        "# <font color='157699'> **Librerias o </font> <font color='5adcff'> paquetes** </font>\n",
        "\n",
        "Un paquete es una carpeta que contiene varios módulos con el proposito de desarrollar algunas funciones especificas. En otras palabras, podríamos considerar que un módulo es la porción de un programa, mientras que un paquete o librería es un conjunto de implementaciones funcionales.\n",
        "\n",
        "Un paquete puede importarse de al menos dos formas diferentes:\n",
        "\n",
        "* Importando el paquete completo:\n",
        "```Python  \n",
        "import math\n",
        "```\n",
        "En cuyo caso para usar una constante, función o modulo de dicho paquete debemos indicar el paquete al cual pertenece.\n",
        "```Python  \n",
        "c = math.pi\n",
        "```\n",
        "\n",
        "* Importando modulos específicos del paquete:\n",
        "```Python  \n",
        "from math import pi\n",
        "```\n",
        "En cuyo caso lo invocamos de modo directo para usar un módulo.\n",
        "```Python  \n",
        "c = pi\n",
        "```"
      ]
    },
    {
      "cell_type": "markdown",
      "metadata": {
        "id": "xDE-0qX9fi0h"
      },
      "source": [
        "Nota, por ejemplo, que en el paquete llamado 'math' existen funciones que permiten realizar operaciones como en una calculadora digital.\n"
      ]
    },
    {
      "cell_type": "code",
      "execution_count": null,
      "metadata": {
        "id": "9dxEAKpofsqe",
        "vscode": {
          "languageId": "python"
        }
      },
      "outputs": [],
      "source": [
        "import math\n",
        "x = 2\n",
        "y = 3\n",
        "math.log10(x) # calcula y retorna el logaritmo en base 10 de x\n",
        "math.pow(x, y) # retorna el resultado de x elevado a la y\n",
        "math.sqrt(x) # retorna la raiz cuadrada de x\n",
        "math.cos(x) # retorna el coseno de x (en radianes)\n",
        "math.sin(x) # retorna el seno de x (en radianes)\n",
        "math.tan(x) # retorna la tangente de x (en radianes)\n",
        "math.degrees(x) # convierte el ángulo x de radianes a grados\n",
        "math.radians(x) # convierte el ángulo x de grados a radianes\n",
        "print(math.pi) # es el valor de la constante matemática π = 3.141592…\n",
        "print(math.e) # es el valor de la constante matemática e = 2.718281…"
      ]
    },
    {
      "cell_type": "markdown",
      "metadata": {
        "id": "N_t7ODPShVEu"
      },
      "source": [
        "# <font color='157699'> **Algunos librerias </font> <font color='5adcff'> de utilidad** </font>\n",
        "\n",
        "A continuación, se enumeran las librerias más usadas para algunas tareas especificas. Hay una gran cantidad de librerias disponibles para muy diversas funciones, te invitamos a explorarlas.\n",
        "\n",
        "En este curso exploraremos con detalle algunas librerias como 'numpy', 'pandas' o 'plotly'. Así mismo, existen librerias para tareas tan complejas como el apendizaje de maquina, tales como 'tensorflow o 'keras'.\n",
        "\n",
        "\n",
        "\n"
      ]
    },
    {
      "cell_type": "markdown",
      "metadata": {
        "id": "yJDngqpbRaKS"
      },
      "source": [
        "| Funcionalidad                             | Librería      |\n",
        "| ----------------------------------------- | ------------ |\n",
        "| Operaciones con tipos de datos especficos | Random       |\n",
        "|                                           | datetime     |\n",
        "|                                           | RE           |\n",
        "| Análisis de datos                         | Numpy        |\n",
        "|                                           | Pandas       |\n",
        "|                                           | Scipy        |\n",
        "| Visualiazación de datos                   | Matplotlib   |\n",
        "|                                           | Seaborn      |\n",
        "|                                           | Plotly       |\n",
        "|                                           | dash         |\n",
        "|                                           | streamlite   |\n",
        "| Aprendizaje automático                    | Keras        |\n",
        "|                                           | Tensorflow   |\n",
        "|                                           | Scikit-learn |\n",
        "|                                           | Scrapy       |"
      ]
    },
    {
      "cell_type": "markdown",
      "metadata": {
        "id": "dr4rq1NYDj-V"
      },
      "source": [
        "# <font color='157699'> **Ejercicios** </font>"
      ]
    },
    {
      "cell_type": "markdown",
      "metadata": {
        "id": "9tee4aiyEJs9"
      },
      "source": [
        "## <font color='5adcff'> **Ejercicio 1** </font>\n",
        "\n",
        "Haz uso de la librería *datatime* para dar respuesta a las siguientes preguntas, dadas dos fechas:\n",
        "\n",
        "> Fecha1: 2022, 12, 17\n",
        "\n",
        "> Fecha2: 2023, 3, 10\n"
      ]
    },
    {
      "cell_type": "code",
      "execution_count": null,
      "metadata": {
        "id": "_u9eu1cYE_TG",
        "vscode": {
          "languageId": "python"
        }
      },
      "outputs": [],
      "source": [
        "# Importamos la librería 'datetime'\n",
        "import datetime\n",
        "\n",
        "# Creamos dos objetos datetime con fechas específicas\n",
        "fecha1 = datetime.datetime(2022, 12, 17)\n",
        "fecha2 = datetime.datetime(2023, 3, 10)"
      ]
    },
    {
      "cell_type": "markdown",
      "metadata": {
        "id": "NzA-3cCRFLsm"
      },
      "source": [
        "1.   Indica a qué día de la semana corresponde cada una de las fechas.\n",
        "\n",
        "\n",
        "\n",
        "\n"
      ]
    },
    {
      "cell_type": "code",
      "execution_count": null,
      "metadata": {
        "id": "yr4QbJ9_FYMd",
        "vscode": {
          "languageId": "python"
        }
      },
      "outputs": [],
      "source": [
        "# Inserte su respuesta aquí\n",
        "\n"
      ]
    },
    {
      "cell_type": "markdown",
      "metadata": {
        "id": "2NJBSl5VFx6u"
      },
      "source": [
        "2.   Señala el número de días que hay entre las dos fechas."
      ]
    },
    {
      "cell_type": "code",
      "execution_count": null,
      "metadata": {
        "id": "h9rUykcRGVjO",
        "vscode": {
          "languageId": "python"
        }
      },
      "outputs": [],
      "source": [
        "# Inserte su respuesta aquí"
      ]
    },
    {
      "cell_type": "markdown",
      "metadata": {
        "id": "kOcPgPnOGYnV"
      },
      "source": [
        "3.   Usa las instrucciones necesarias para dar el siguiente formato a cada una de las fechas 'dd/mm/aa' (ejemplo: 17/12/2022)."
      ]
    },
    {
      "cell_type": "code",
      "execution_count": null,
      "metadata": {
        "id": "y_A3pJtAG7pd",
        "vscode": {
          "languageId": "python"
        }
      },
      "outputs": [],
      "source": [
        "# Inserte su respuesta aquí\n",
        "\n"
      ]
    },
    {
      "cell_type": "markdown",
      "metadata": {
        "id": "XfD-Mh3xHLXW"
      },
      "source": [
        "4.   Suma 30 días a la fecha dos y determina a qué día de la semana corresponde."
      ]
    },
    {
      "cell_type": "code",
      "execution_count": null,
      "metadata": {
        "id": "M0YwYV0BHQsf",
        "vscode": {
          "languageId": "python"
        }
      },
      "outputs": [],
      "source": [
        "# Inserte su respuesta aquí\n",
        "\n"
      ]
    },
    {
      "cell_type": "markdown",
      "metadata": {
        "id": "R1TCFoEdINo_"
      },
      "source": [
        "## <font color='5adcff'> **Ejercicio 2** </font>\n",
        "\n",
        "Considera la libería *random* para dar respuesta a las siguientes preguntas:"
      ]
    },
    {
      "cell_type": "markdown",
      "metadata": {
        "id": "MkviGKhYIkoO"
      },
      "source": [
        "1. Simula el lanzamiento de un dado, es decir, genera un número aleatorio entre 1 y 6."
      ]
    },
    {
      "cell_type": "code",
      "execution_count": null,
      "metadata": {
        "id": "wlkg6nxFItq_",
        "vscode": {
          "languageId": "python"
        }
      },
      "outputs": [],
      "source": [
        "# Inserte su respuesta aquí\n",
        "from random import randint\n",
        "\n",
        "dado = randint(1, 6)\n",
        "dado\n",
        "\n"
      ]
    },
    {
      "cell_type": "markdown",
      "metadata": {
        "id": "ATIp50DBJCFO"
      },
      "source": [
        "2.   Escoge de forma aleatoria un número de letras $n$ dentro de una cadena de caracteres de longitud $m$ ($n<=m$)."
      ]
    },
    {
      "cell_type": "code",
      "execution_count": null,
      "metadata": {
        "id": "3Fh2nMNBJe-g",
        "vscode": {
          "languageId": "python"
        }
      },
      "outputs": [],
      "source": [
        "# Inserte su código aquí\n",
        "\n",
        "import random\n",
        "\n",
        "texto = \"Esta es una cadena de caracteres\"\n",
        "\n",
        "seleccion = random.choices(texto, k=2)\n",
        "seleccion\n"
      ]
    },
    {
      "cell_type": "markdown",
      "metadata": {
        "id": "zfCqWbUyKfvv"
      },
      "source": [
        "3.   Posiciona los caracteres de la cadena de caracteres de manera aleatoria (barajar las letras)"
      ]
    },
    {
      "cell_type": "code",
      "execution_count": null,
      "metadata": {
        "id": "fYasRa5QKxfH",
        "vscode": {
          "languageId": "python"
        }
      },
      "outputs": [],
      "source": [
        "# Inserte su código aquí\n",
        "import random\n",
        "texto = \"Esta es una cadena de caracteres\"\n",
        "#desordenado = random.shuffle(texto)\n",
        "desordenado = random.sample(texto, k=len(texto))\n",
        "desordenado"
      ]
    },
    {
      "cell_type": "markdown",
      "metadata": {
        "id": "Km5pBstQL0U3"
      },
      "source": [
        "## <font color='5adcff'> **Ejercicio 3** </font>\n",
        "\n",
        "Dado el siguiente texto, usa la librería *re* para dar solución a las siguientes preguntas:\n",
        "\n",
        "> `texto = \"Los algoritmos y la programación  son actualmente la competencias con mayor reputación en el entorno profesional\" `\n",
        "\n"
      ]
    },
    {
      "cell_type": "markdown",
      "metadata": {
        "id": "nii3EoLoTK8q"
      },
      "source": [
        "1.   Cambia todos las las letras con acento por su versión sin acento (ejemplo: ó por o)."
      ]
    },
    {
      "cell_type": "code",
      "execution_count": null,
      "metadata": {
        "id": "it_fKaagTcAU",
        "vscode": {
          "languageId": "python"
        }
      },
      "outputs": [],
      "source": [
        "# Inserte su código aquí\n",
        "import re\n",
        "texto = \"Los algoritmos y la programación son actualmente la competencias con mayor reputación en el entorno profesional\"\n",
        "text2 = re.sub('ó', 'o', texto )\n",
        "text2"
      ]
    },
    {
      "cell_type": "markdown",
      "metadata": {
        "id": "h1HMvi2SUVEo"
      },
      "source": [
        "2.   Determina si la palabra 'profesional' está en el texto."
      ]
    },
    {
      "cell_type": "code",
      "execution_count": null,
      "metadata": {
        "id": "WE5C_h9fUk5h",
        "vscode": {
          "languageId": "python"
        }
      },
      "outputs": [],
      "source": [
        "# Inserte su código aquí\n",
        "import re\n",
        "\n",
        "texto = \"Los algoritmos y la programación son actualmente la competencias con mayor reputación en el entorno profesional\"\n",
        "texto.find('competencias')\n",
        "#resultado = re.search('profesional', texto)\n",
        "#resultado"
      ]
    },
    {
      "cell_type": "code",
      "execution_count": null,
      "metadata": {
        "id": "OemNasK7TXgn",
        "vscode": {
          "languageId": "python"
        }
      },
      "outputs": [],
      "source": [
        "def la_palabra_esta(texto, palabra):\n",
        "  posicion = texto.find(palabra)\n",
        "  if posicion >= 0:\n",
        "    return True\n",
        "  else:\n",
        "    return False\n",
        "\n",
        "la_palabra_esta(texto, 'competencias')"
      ]
    },
    {
      "cell_type": "markdown",
      "metadata": {
        "id": "5h6ZACaSUloB"
      },
      "source": [
        "3.   Cuenta el número de veces que la palabra 'la' está en el texto."
      ]
    },
    {
      "cell_type": "code",
      "execution_count": null,
      "metadata": {
        "id": "aYr1JfaNVQk4",
        "vscode": {
          "languageId": "python"
        }
      },
      "outputs": [],
      "source": [
        "# Inserte su código aquí\n",
        "import re\n",
        "texto = \"Los algoritmos y la programación son actualmente la competencias con mayor reputación en el entorno profesional\"\n",
        "#texto.find('carro')\n",
        "re.findall(\"la\", texto)"
      ]
    },
    {
      "cell_type": "markdown",
      "metadata": {
        "id": "b1fMmKZE7tIR"
      },
      "source": [
        "· Universidad de Antioquia · Ude@ Educación Virtual ·"
      ]
    }
  ],
  "metadata": {
    "colab": {
      "private_outputs": true,
      "provenance": []
    },
    "kernelspec": {
      "display_name": "Python (Pyodide)",
      "language": "python",
      "name": "python"
    },
    "language_info": {
      "name": ""
    }
  },
  "nbformat": 4,
  "nbformat_minor": 4
}
