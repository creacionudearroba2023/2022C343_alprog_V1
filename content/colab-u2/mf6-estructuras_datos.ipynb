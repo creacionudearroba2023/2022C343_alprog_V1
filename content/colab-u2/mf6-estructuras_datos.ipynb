{
  "cells": [
    {
      "cell_type": "markdown",
      "id": "3kRbzGc-QDJ8",
      "metadata": {
        "id": "3kRbzGc-QDJ8"
      },
      "source": [
        "<img src=\"https://udearroba.udea.edu.co/imagescourses/2022C343_alprog_V1/banner-colab.png\">"
      ]
    },
    {
      "cell_type": "markdown",
      "id": "87a881ce",
      "metadata": {
        "id": "87a881ce"
      },
      "source": [
        "# <font color='3E779E'>  **Estructuras de datos** </font>\n",
        "\n",
        "\n",
        "\n"
      ]
    },
    {
      "cell_type": "markdown",
      "id": "94c21f03",
      "metadata": {
        "id": "94c21f03"
      },
      "source": [
        "En el apartado de variables viste que estas sirven para almacentar datos en un programa; también aprendiste que estos datos puden ser de diversos tipos (números enteros, decimales, entre otros). En general, estos tipos de datos que solo tienen un único valor se les conoce como <strong> datos simples</strong>. Sin embargo, es posible tener datos que tengan mas de un valor, estos se llaman <strong> datos estructurados</strong>. Un ejemplo de estos son las cadenas de texto, las cuales contienen varios caracteres que componen palabras y frases.\n",
        "\n",
        "## <font color='157699'> **Cadenas de caracteres** </font>\n",
        "\n",
        "Las cadenas de caracteres son estructuras homogéneas, ya que solo contienen datos de tipo *string*.\n",
        "\n"
      ]
    },
    {
      "cell_type": "code",
      "execution_count": null,
      "id": "06239130",
      "metadata": {
        "colab": {
          "base_uri": "https://localhost:8080/",
          "height": 35
        },
        "id": "06239130",
        "outputId": "83ea7f14-dc1f-4218-bc51-a9324c57d7ef"
      },
      "outputs": [
        {
          "data": {
            "application/vnd.google.colaboratory.intrinsic+json": {
              "type": "string"
            },
            "text/plain": [
              "'Luis Carlos'"
            ]
          },
          "execution_count": 1,
          "metadata": {},
          "output_type": "execute_result"
        }
      ],
      "source": [
        "Nombre = 'Luis Carlos'\n",
        "Nombre"
      ]
    },
    {
      "cell_type": "code",
      "execution_count": null,
      "id": "aDRmSPE1bn0r",
      "metadata": {
        "colab": {
          "base_uri": "https://localhost:8080/"
        },
        "id": "aDRmSPE1bn0r",
        "outputId": "e3ce429b-ba0c-49ce-d48b-62b05ce96f38"
      },
      "outputs": [
        {
          "data": {
            "text/plain": [
              "str"
            ]
          },
          "execution_count": 26,
          "metadata": {},
          "output_type": "execute_result"
        }
      ],
      "source": [
        "type(Nombre)"
      ]
    },
    {
      "cell_type": "markdown",
      "id": "e1c8d934",
      "metadata": {
        "id": "e1c8d934"
      },
      "source": [
        "**Longitud: cantidad de elementos:**\n",
        "\n",
        "La función `len()` permite determinar la longitud de una cadena de caracteres."
      ]
    },
    {
      "cell_type": "code",
      "execution_count": null,
      "id": "e3ccc073",
      "metadata": {
        "colab": {
          "base_uri": "https://localhost:8080/"
        },
        "id": "e3ccc073",
        "outputId": "720e14b1-298c-4145-d46d-a2cd84a7b550"
      },
      "outputs": [
        {
          "data": {
            "text/plain": [
              "11"
            ]
          },
          "execution_count": 2,
          "metadata": {},
          "output_type": "execute_result"
        }
      ],
      "source": [
        "len(Nombre)"
      ]
    },
    {
      "cell_type": "markdown",
      "id": "75b3bdda",
      "metadata": {
        "id": "75b3bdda"
      },
      "source": [
        "En muchas ocasiones, es de gran utilidad conocer la posición de los elementos dentro de una estructura de datos. Para esto nos sirve la <strong>indexación</strong>.\n"
      ]
    },
    {
      "cell_type": "markdown",
      "id": "Y_WaDHSyvyeh",
      "metadata": {
        "id": "Y_WaDHSyvyeh"
      },
      "source": [
        "### <font color='45adcff'> **Indexación convencional** </font>\n",
        "\n",
        "Inicia en cero (0) para el primer elemento y aumenta de manera secuencial hasta llegar al último elemento. Nota que de ahora en adelante a la posición de los elementos la nombraremos índice."
      ]
    },
    {
      "cell_type": "code",
      "execution_count": null,
      "id": "42be1d0b",
      "metadata": {
        "colab": {
          "base_uri": "https://localhost:8080/"
        },
        "id": "42be1d0b",
        "outputId": "47d928df-412f-4f35-cdf3-96563e2192ee"
      },
      "outputs": [
        {
          "name": "stdout",
          "output_type": "stream",
          "text": [
            "Elemento\tÍndice\n",
            "------------------------------\n",
            "L\t\t0\n",
            "u\t\t1\n",
            "i\t\t2\n",
            "s\t\t3\n",
            " \t\t4\n",
            "C\t\t5\n",
            "a\t\t6\n",
            "r\t\t7\n",
            "l\t\t8\n",
            "o\t\t9\n",
            "s\t\t10\n"
          ]
        }
      ],
      "source": [
        "print('Elemento','Índice', sep='\\t')\n",
        "print('-'*30)\n",
        "for i in range(len(Nombre)):\n",
        "    print(Nombre[i], i, sep='\\t\\t')\n"
      ]
    },
    {
      "cell_type": "markdown",
      "id": "f7b5d775",
      "metadata": {
        "id": "f7b5d775"
      },
      "source": [
        "Podemos también buscar un elemento en específico dentro de una estructura de datos. Para esto solo tenemos que proporcionar el indice que deseamos buscar, por ejemplo:"
      ]
    },
    {
      "cell_type": "code",
      "execution_count": null,
      "id": "91e95025",
      "metadata": {
        "colab": {
          "base_uri": "https://localhost:8080/",
          "height": 35
        },
        "id": "91e95025",
        "outputId": "4f14b8ce-0e85-4741-8b0f-5622b3489845"
      },
      "outputs": [
        {
          "data": {
            "application/vnd.google.colaboratory.intrinsic+json": {
              "type": "string"
            },
            "text/plain": [
              "'L'"
            ]
          },
          "execution_count": 7,
          "metadata": {},
          "output_type": "execute_result"
        }
      ],
      "source": [
        "\n",
        "Nombre[0]"
      ]
    },
    {
      "cell_type": "code",
      "execution_count": null,
      "id": "e0c16c7e",
      "metadata": {
        "colab": {
          "base_uri": "https://localhost:8080/",
          "height": 35
        },
        "id": "e0c16c7e",
        "outputId": "49c5a79a-7f77-40d2-9edd-8e1cb71f7fb7"
      },
      "outputs": [
        {
          "data": {
            "application/vnd.google.colaboratory.intrinsic+json": {
              "type": "string"
            },
            "text/plain": [
              "'r'"
            ]
          },
          "execution_count": 9,
          "metadata": {},
          "output_type": "execute_result"
        }
      ],
      "source": [
        "Nombre[7]"
      ]
    },
    {
      "cell_type": "markdown",
      "id": "Tl6CdPUJwP7l",
      "metadata": {
        "id": "Tl6CdPUJwP7l"
      },
      "source": [
        "### <font color='5adcff'> **Indexación inversa** </font>\n",
        "\n",
        "En Python se puede hacer indexación al comenzar con el último elemento de una estructura de datos, el cual tendrá el índice -1. Los elementos anteriores a este disminuyen su índice en -1 por cada posición:"
      ]
    },
    {
      "cell_type": "code",
      "execution_count": null,
      "id": "QUvO_y_5wt19",
      "metadata": {
        "colab": {
          "base_uri": "https://localhost:8080/"
        },
        "id": "QUvO_y_5wt19",
        "outputId": "032649c4-24d5-4e73-b3ac-c5cf590608db"
      },
      "outputs": [
        {
          "name": "stdout",
          "output_type": "stream",
          "text": [
            "Elemento\tÍndice convencional\tÍndice invertido\n",
            "--------------------------------------------------------\n",
            "L\t\t\t0\t\t\t-11\n",
            "u\t\t\t1\t\t\t-10\n",
            "i\t\t\t2\t\t\t-9\n",
            "s\t\t\t3\t\t\t-8\n",
            " \t\t\t4\t\t\t-7\n",
            "C\t\t\t5\t\t\t-6\n",
            "a\t\t\t6\t\t\t-5\n",
            "r\t\t\t7\t\t\t-4\n",
            "l\t\t\t8\t\t\t-3\n",
            "o\t\t\t9\t\t\t-2\n",
            "s\t\t\t10\t\t\t-1\n"
          ]
        }
      ],
      "source": [
        "n = len(Nombre)\n",
        "print('Elemento\\t','Índice convencional\\t', 'Índice invertido', sep='')\n",
        "print('-'*56)\n",
        "for i in range(len(Nombre)):\n",
        "    print(Nombre[i], i, i-n, sep='\\t\\t\\t')"
      ]
    },
    {
      "cell_type": "code",
      "execution_count": null,
      "id": "6a06b6fe",
      "metadata": {
        "colab": {
          "base_uri": "https://localhost:8080/",
          "height": 35
        },
        "id": "6a06b6fe",
        "outputId": "72f6d01c-1af1-49bf-bd7f-20e761faf1da"
      },
      "outputs": [
        {
          "data": {
            "application/vnd.google.colaboratory.intrinsic+json": {
              "type": "string"
            },
            "text/plain": [
              "'s'"
            ]
          },
          "execution_count": 10,
          "metadata": {},
          "output_type": "execute_result"
        }
      ],
      "source": [
        "Nombre[-1]"
      ]
    },
    {
      "cell_type": "code",
      "execution_count": null,
      "id": "dfac3bec",
      "metadata": {
        "colab": {
          "base_uri": "https://localhost:8080/",
          "height": 35
        },
        "id": "dfac3bec",
        "outputId": "f9b48793-ac44-46b8-8b0b-e9751b9d70b8"
      },
      "outputs": [
        {
          "data": {
            "application/vnd.google.colaboratory.intrinsic+json": {
              "type": "string"
            },
            "text/plain": [
              "'a'"
            ]
          },
          "execution_count": 12,
          "metadata": {},
          "output_type": "execute_result"
        }
      ],
      "source": [
        "Nombre[-5]"
      ]
    },
    {
      "cell_type": "code",
      "execution_count": null,
      "id": "16f4e6a5",
      "metadata": {
        "colab": {
          "base_uri": "https://localhost:8080/",
          "height": 35
        },
        "id": "16f4e6a5",
        "outputId": "0c9dcf1d-8f48-4bd6-9522-cf02bc9c1247"
      },
      "outputs": [
        {
          "data": {
            "application/vnd.google.colaboratory.intrinsic+json": {
              "type": "string"
            },
            "text/plain": [
              "'u'"
            ]
          },
          "execution_count": 16,
          "metadata": {},
          "output_type": "execute_result"
        }
      ],
      "source": [
        "Nombre[-10]"
      ]
    },
    {
      "cell_type": "markdown",
      "id": "ALxBiqsJyv48",
      "metadata": {
        "id": "ALxBiqsJyv48"
      },
      "source": [
        "### <font color='5adcff'> **Indexación por grupos (*slicing*)** </font>\n",
        "\n",
        "En Python es posible acceder a una porción continua de elementos en una estructura de datos por medio de la indexación por grupos. Esta forma de indexar también permite acceder a elementos específicos no contiguos. El siguiente ejemplo muestra cómo acceder a los primeros cuatro elementos de la variable <em>Nombre</em>."
      ]
    },
    {
      "cell_type": "code",
      "execution_count": null,
      "id": "FKjC_dJS0zFq",
      "metadata": {
        "colab": {
          "base_uri": "https://localhost:8080/",
          "height": 35
        },
        "id": "FKjC_dJS0zFq",
        "outputId": "6173b5b9-8220-46f7-f8cc-d09838ed5a19"
      },
      "outputs": [
        {
          "data": {
            "application/vnd.google.colaboratory.intrinsic+json": {
              "type": "string"
            },
            "text/plain": [
              "'Luis'"
            ]
          },
          "execution_count": 25,
          "metadata": {},
          "output_type": "execute_result"
        }
      ],
      "source": [
        "Nombre[0:4]"
      ]
    },
    {
      "cell_type": "markdown",
      "id": "O_xqAYH21zlB",
      "metadata": {
        "id": "O_xqAYH21zlB"
      },
      "source": [
        "## <font color='157699'> **Arreglos** </font>\n",
        "\n",
        "Son estructuras de datos flexibles y útiles. Estos pueden almacenar datos de varios tipos, así como también de varios tamaños y dimensiones.\n",
        "Lo siguiente es un ejemplo de lista en Python:"
      ]
    },
    {
      "cell_type": "code",
      "execution_count": null,
      "id": "bcfa39ad",
      "metadata": {
        "id": "bcfa39ad",
        "outputId": "19f40a45-1c76-4e55-ebd5-f171459942ba"
      },
      "outputs": [
        {
          "data": {
            "text/plain": [
              "{'arroz', 'carne', 'huevos', 'leche', 'pan', 'tomates'}"
            ]
          },
          "execution_count": 1,
          "metadata": {},
          "output_type": "execute_result"
        }
      ],
      "source": [
        "Lista_Mercado = ['arroz','tomates','carne','pan','huevos','leche']\n",
        "print(Lista_Mercado)"
      ]
    },
    {
      "cell_type": "markdown",
      "id": "fc952d05",
      "metadata": {
        "id": "fc952d05"
      },
      "source": [
        "Para obtener un ejemplo de arreglo que contiene diferentes tipos de datos, le podemos agregar al ejemplo anterior las cantidades de cada ítem. Quedaría de la siguiente forma:"
      ]
    },
    {
      "cell_type": "code",
      "execution_count": null,
      "id": "e19d46d7",
      "metadata": {
        "id": "e19d46d7",
        "outputId": "39858fc3-36ac-41b8-f322-0e8a3acb2a6a"
      },
      "outputs": [
        {
          "name": "stdout",
          "output_type": "stream",
          "text": [
            "['arroz', 1, 'tomates', 1.5, 'carne', 3, 'pan', 1, 'huevos', 24, 'leche', 2]\n"
          ]
        }
      ],
      "source": [
        "Lista_Mercado = ['arroz',1,'tomates',1.5,'carne',3,'pan',1,'huevos',24,'leche',2]\n",
        "print(Lista_Mercado)"
      ]
    },
    {
      "cell_type": "markdown",
      "id": "9794d454",
      "metadata": {
        "id": "9794d454"
      },
      "source": [
        "Como ya se dijo antes, los arreglos pueden tener diferentes dimensiones, es decir, <em>están organizados de forma similar a una tabla o rejilla</em>. Para ejemplificar esto, podemos modificar el ejemplo anterior de la siguiente manera:"
      ]
    },
    {
      "cell_type": "code",
      "execution_count": null,
      "id": "abdeb1d9",
      "metadata": {
        "id": "abdeb1d9",
        "outputId": "afd49205-1b83-4494-90a9-4fdef2b72ea7"
      },
      "outputs": [
        {
          "name": "stdout",
          "output_type": "stream",
          "text": [
            "[['arroz', 1], ['tomates', 1.5], ['carne', 3], ['pan', 1], ['huevos', 24], ['leche', 2]]\n"
          ]
        },
        {
          "data": {
            "text/plain": [
              "['arroz', 1]"
            ]
          },
          "execution_count": 23,
          "metadata": {},
          "output_type": "execute_result"
        }
      ],
      "source": [
        "Lista_Mercado = [['arroz'  ,1 ],\n",
        "                 ['tomates',1.5],\n",
        "                 ['carne'  ,3  ],\n",
        "                 ['pan'    ,1  ],\n",
        "                 ['huevos' ,24 ],\n",
        "                 ['leche'  ,2  ]]\n",
        "print(Lista_Mercado)\n",
        "print(Lista_Mercado[0])"
      ]
    },
    {
      "cell_type": "markdown",
      "id": "3954badb",
      "metadata": {
        "id": "3954badb"
      },
      "source": [
        "Nota que en el ejemplo anterior cada elemento es en sí mismo un arreglo, por lo que podríamos almacenar datos tan complejos como queramos. Además, la indexación de estos arreglos de mas de una dimensión se hace de forma similar al especificar los indices de las demas dimensiones, por ejemplo:"
      ]
    },
    {
      "cell_type": "code",
      "execution_count": null,
      "id": "f733800b",
      "metadata": {
        "id": "f733800b",
        "outputId": "1aac2e11-f3cb-452e-f5b4-28968352dd54"
      },
      "outputs": [
        {
          "name": "stdout",
          "output_type": "stream",
          "text": [
            "[['Verduras', ['cebolla', 1], ['tomates', 1.5], ['lechuga', 3]], ['Granos', ['arroz', 1], ['garbanzos', 1.5], ['lentejas', 3]], ['Carnes', ['cerdo', 1], ['res', 1.5], ['pollo', 3]]]\n",
            "['Verduras', ['cebolla', 1], ['tomates', 1.5], ['lechuga', 3]]\n",
            "Verduras\n",
            "cebolla\n",
            "1\n"
          ]
        }
      ],
      "source": [
        "Lista_Mercado_Grande = [['Verduras'  ,['cebolla'  ,1 ],\n",
        "                                      ['tomates',1.5],\n",
        "                                      ['lechuga'  ,3  ]\n",
        "                                      ],\n",
        "                       ['Granos'    , ['arroz'  ,1 ],\n",
        "                                      ['garbanzos',1.5],\n",
        "                                      ['lentejas'  ,3  ]\n",
        "                                      ],\n",
        "                       ['Carnes'     ,['cerdo'  ,1 ],\n",
        "                                      ['res',1.5],\n",
        "                                      ['pollo'  ,3  ]\n",
        "                                      ]]\n",
        "\n",
        "print(Lista_Mercado_Grande)\n",
        "print(Lista_Mercado_Grande[0])\n",
        "print(Lista_Mercado_Grande[0][0])\n",
        "print(Lista_Mercado_Grande[0][1][0])\n",
        "print(Lista_Mercado_Grande[0][1][1])"
      ]
    },
    {
      "cell_type": "markdown",
      "id": "abf9504a",
      "metadata": {
        "id": "abf9504a"
      },
      "source": [
        "Una aclaración: la escritura de este tipo de código usualmente se hace en una sola linea, de forma que los ejemplos anteriores podrían escribirse de la siguiente forma sin alterar, en lo mas mínimo, su funcionalidad:"
      ]
    },
    {
      "cell_type": "code",
      "execution_count": null,
      "id": "f19fc004",
      "metadata": {
        "id": "f19fc004",
        "outputId": "1385b348-07d4-4ba4-9e63-125949833e64"
      },
      "outputs": [
        {
          "name": "stdout",
          "output_type": "stream",
          "text": [
            "['arroz', 1]\n",
            "1\n"
          ]
        }
      ],
      "source": [
        "Lista_Mercado = [['arroz',1],['tomates',1.5],['carne',3],['pan',1],['huevos',24],['leche',2 ]]\n",
        "print(Lista_Mercado[0])\n",
        "\n",
        "Lista_Mercado_Grande = [['Verduras',['cebolla',1],['tomates',1.5],['lechuga',3]],['Granos',['arroz',1],['garbanzos',1.5],['lentejas',3]],['Carnes',['cerdo',1 ],['res',1.5],['pollo',3]]]\n",
        "print(Lista_Mercado_Grande[0][1][1])"
      ]
    },
    {
      "cell_type": "markdown",
      "id": "9bf752cd",
      "metadata": {
        "id": "9bf752cd"
      },
      "source": [
        "### <font color='5adcff'> **Crear o modificar arreglos en  ejecución** </font>\n",
        "\n",
        "Hasta el momento hemos visto cómo leer y operar arreglos que están previamente definidos. Sin embargo, hay ocasiones en las que es necesario crear o modificar estructuras de datos a medida que un programa realiza cálculos o interactúa con el usuario. Para realizar esto, Python provee ciertos comandos o funciones que nos permiten cumplir tal objetivo, los más usuados son:\n",
        "\n",
        "\n",
        "<h3>append()</h3>\n",
        "\n",
        "Permite <strong>anexar</strong> un elemento  <strong>al final</strong> de un arreglo. Veamos un ejemplo:"
      ]
    },
    {
      "cell_type": "code",
      "execution_count": null,
      "id": "6c49e2fc",
      "metadata": {
        "id": "6c49e2fc"
      },
      "outputs": [],
      "source": [
        "Frutas = []\n",
        "Frutas.append(\"manzana\")\n",
        "print(Frutas)\n",
        "Frutas.append(\"lulo\")\n",
        "Frutas"
      ]
    },
    {
      "cell_type": "markdown",
      "id": "22755e29",
      "metadata": {
        "id": "22755e29"
      },
      "source": [
        " Nota que la función 'append' permite anexar un elemento al final del arreglo, incluso cuando el arreglo está vacío o cuando ya tiene elementos.\n",
        "\n",
        "<h3>insert()</h3>\n",
        "\n",
        "Permite <strong>anexar</strong> un elemento <strong>en el índice especificado</strong> de un arreglo. Ejemplo:"
      ]
    },
    {
      "cell_type": "code",
      "execution_count": null,
      "id": "b25776de",
      "metadata": {
        "id": "b25776de"
      },
      "outputs": [],
      "source": [
        "Frutas.insert(1,\"maracuyá\")\n",
        "print(Frutas)"
      ]
    },
    {
      "cell_type": "markdown",
      "id": "1a18c9d2",
      "metadata": {
        "id": "1a18c9d2"
      },
      "source": [
        "En este caso, anexamos el ítem maracuyá en el índice 1 del arreglo.\n",
        "\n",
        "Si quieres modificar un ítem, basta con ubicarlo según su indice y reasignar su valor, como si se tratase de una variable simple. Un ejemplo:"
      ]
    },
    {
      "cell_type": "code",
      "execution_count": null,
      "id": "c989dfd2",
      "metadata": {
        "id": "c989dfd2"
      },
      "outputs": [],
      "source": [
        "Frutas[1] = \"Papaya\"\n",
        "print(Frutas)"
      ]
    },
    {
      "cell_type": "markdown",
      "id": "191b7d19",
      "metadata": {
        "id": "191b7d19"
      },
      "source": [
        "<h3>pop()</h3>\n",
        "\n",
        "Permite <strong>borrar</strong> el elemento ubicado en el <strong>índice </strong>especificado del arreglo. Veamos un ejemplo:"
      ]
    },
    {
      "cell_type": "code",
      "execution_count": null,
      "id": "6198ce25",
      "metadata": {
        "id": "6198ce25"
      },
      "outputs": [],
      "source": [
        "Frutas.pop(1)\n",
        "print(Frutas)"
      ]
    },
    {
      "cell_type": "markdown",
      "id": "044d8de8",
      "metadata": {
        "id": "044d8de8"
      },
      "source": [
        "Así, borramos el elemento que se ubicaba en el indice 1 de nuestro arreglo."
      ]
    },
    {
      "cell_type": "markdown",
      "id": "aH2pymLxg0_D",
      "metadata": {
        "id": "aH2pymLxg0_D"
      },
      "source": [
        "\n",
        "\n",
        "### <font color='5adcff'> **Diccionarios** </font>\n",
        "\n",
        "Son una estructura similar a los arreglos, pero sin un orden dado por índices. En este caso, cada elemento consta de dos partes: `clave:valor`, donde la clave es un identificador que hace las veces de índice; sin embargo, puede ser una variable de tipo numérico o de otro tipo, y el valor puede ser también de cualquier tipo de dato. Se crean por medio de llaves: `{ }`."
      ]
    },
    {
      "cell_type": "code",
      "execution_count": null,
      "id": "9MKr2FODhQEO",
      "metadata": {
        "colab": {
          "base_uri": "https://localhost:8080/"
        },
        "id": "9MKr2FODhQEO",
        "outputId": "f644e269-304c-4624-9231-8d11591b0e53"
      },
      "outputs": [
        {
          "data": {
            "text/plain": [
              "{'Nombre': 'Pedro',\n",
              " 'Apellido': 'Jiménez',\n",
              " 'Identificación': 123456789,\n",
              " 'Edad': 21,\n",
              " 127: 'Clave numérica'}"
            ]
          },
          "execution_count": 63,
          "metadata": {},
          "output_type": "execute_result"
        }
      ],
      "source": [
        "dicc_1 = {'Nombre':'Pedro', 'Apellido':'Jiménez', 'Identificación':123456789, 'Edad':21, 127:'Clave numérica'}\n",
        "dicc_1"
      ]
    },
    {
      "cell_type": "code",
      "execution_count": null,
      "id": "nBGdKo2MgzoC",
      "metadata": {
        "colab": {
          "base_uri": "https://localhost:8080/",
          "height": 35
        },
        "id": "nBGdKo2MgzoC",
        "outputId": "33f6a06e-202f-4188-e461-849167a7f0a4"
      },
      "outputs": [
        {
          "data": {
            "application/vnd.google.colaboratory.intrinsic+json": {
              "type": "string"
            },
            "text/plain": [
              "'Pedro'"
            ]
          },
          "execution_count": 65,
          "metadata": {},
          "output_type": "execute_result"
        }
      ],
      "source": [
        "dicc_1['Nombre']"
      ]
    },
    {
      "cell_type": "code",
      "execution_count": null,
      "id": "c9D-JzSYh2AU",
      "metadata": {
        "colab": {
          "base_uri": "https://localhost:8080/"
        },
        "id": "c9D-JzSYh2AU",
        "outputId": "5b6cc1ed-8c59-4c45-92fa-a175f0bd7d15"
      },
      "outputs": [
        {
          "data": {
            "text/plain": [
              "123456789"
            ]
          },
          "execution_count": 67,
          "metadata": {},
          "output_type": "execute_result"
        }
      ],
      "source": [
        "dicc_1['Identificación']"
      ]
    },
    {
      "cell_type": "code",
      "execution_count": null,
      "id": "NSxcGv21h8-h",
      "metadata": {
        "colab": {
          "base_uri": "https://localhost:8080/",
          "height": 35
        },
        "id": "NSxcGv21h8-h",
        "outputId": "134715dd-8e1c-4d10-f3a8-17d4a5d7f1ed"
      },
      "outputs": [
        {
          "data": {
            "application/vnd.google.colaboratory.intrinsic+json": {
              "type": "string"
            },
            "text/plain": [
              "'Jiménez'"
            ]
          },
          "execution_count": 68,
          "metadata": {},
          "output_type": "execute_result"
        }
      ],
      "source": [
        "dicc_1['Apellido']"
      ]
    },
    {
      "cell_type": "code",
      "execution_count": null,
      "id": "xPeYMLfoiB86",
      "metadata": {
        "colab": {
          "base_uri": "https://localhost:8080/",
          "height": 35
        },
        "id": "xPeYMLfoiB86",
        "outputId": "8d300d77-5f73-4f5d-aac2-4345d5a483c6"
      },
      "outputs": [
        {
          "data": {
            "application/vnd.google.colaboratory.intrinsic+json": {
              "type": "string"
            },
            "text/plain": [
              "'Clave numérica'"
            ]
          },
          "execution_count": 69,
          "metadata": {},
          "output_type": "execute_result"
        }
      ],
      "source": [
        "dicc_1[127]"
      ]
    },
    {
      "cell_type": "markdown",
      "id": "qW4knObJiE4A",
      "metadata": {
        "id": "qW4knObJiE4A"
      },
      "source": [
        "En esta última celda se evidencia la diferencia con las otras estructuras de datos, ya que 127 no es un índice, sino la clave, cuyo valor es la cadena de caracteres 'Clave numérica'."
      ]
    },
    {
      "cell_type": "code",
      "execution_count": null,
      "id": "BD395X6iiSc3",
      "metadata": {
        "colab": {
          "base_uri": "https://localhost:8080/"
        },
        "id": "BD395X6iiSc3",
        "outputId": "4575237a-c756-4110-9bcb-4abf78fbca32"
      },
      "outputs": [
        {
          "data": {
            "text/plain": [
              "5"
            ]
          },
          "execution_count": 70,
          "metadata": {},
          "output_type": "execute_result"
        }
      ],
      "source": [
        "len(dicc_1)"
      ]
    },
    {
      "cell_type": "markdown",
      "id": "3aNspZ2B0gPh",
      "metadata": {
        "id": "3aNspZ2B0gPh"
      },
      "source": [
        "· Universidad de Antioquia · Ude@ Educación Virtual ·"
      ]
    }
  ],
  "metadata": {
    "colab": {
      "collapsed_sections": [
        "94c21f03"
      ],
      "provenance": []
    },
    "kernelspec": {
      "display_name": "Python 3 (ipykernel)",
      "language": "python",
      "name": "python3"
    },
    "language_info": {
      "codemirror_mode": {
        "name": "ipython",
        "version": 3
      },
      "file_extension": ".py",
      "mimetype": "text/x-python",
      "name": "python",
      "nbconvert_exporter": "python",
      "pygments_lexer": "ipython3",
      "version": "3.9.13"
    }
  },
  "nbformat": 4,
  "nbformat_minor": 5
}
