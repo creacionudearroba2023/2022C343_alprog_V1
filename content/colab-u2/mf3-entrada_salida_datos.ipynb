{
  "cells": [
    {
      "cell_type": "markdown",
      "metadata": {
        "id": "yT_WqsG2nnqJ"
      },
      "source": [
        "<img src=\"https://udearroba.udea.edu.co/imagescourses/2022C343_alprog_V1/banner-colab.png\">"
      ]
    },
    {
      "cell_type": "markdown",
      "metadata": {
        "id": "SAG-TNNwAf-5"
      },
      "source": [
        "\n",
        "## <font color='3E779E'> **Entrada y salida de datos**</font>\n",
        "Si ejecutas un programa desde una terminal o ventana de comandos, lo que escribes en esa ventana de comandos mientras el programa se está ejecutando se llama **entrada**: el programa puede leer ese texto. La **salida** es la misma ventana y permite que los programas generen texto.\n",
        "\n",
        "La función print() imprime el texto especificado a través de la ventana de comandos. Antes de especificar su funcionalidad, definiremos los tipos de datos que se pueden utilizar en Python.\n"
      ]
    },
    {
      "cell_type": "markdown",
      "metadata": {
        "id": "fYjKvLnH-ux6"
      },
      "source": [
        "## <font color='45adcff'> **Tipos de datos en Python** </font>\n",
        "\"Un tipo de datos de Python no es más que una clasificación de valores de datos similares. Python no declara explícitamente el tipo de datos de una variable. El intérprete de Python interpreta el valor y lo asigna de forma automatica al tipo de datos correcto\" (EIP, 2022, párr. 1).\n",
        "\n",
        "Los tipos de datos en Python nos ayudan a comprender los tipos de operaciones que podemos realizar en un valor dado. Dado que Python es un lenguaje de programación orientado a objetos, Python representa clases de tipos de datos.\n",
        "\n",
        "## <font color='45adcff'> **¿Cuáles son los tipos de datos principales en Python?** </font>\n",
        "En programación se usan para almacenar valores específicos, esto incluye cadenas, listas y números. Cada objeto tiene sus propias reglas y comportamiento, por lo que es importante utilizar el tipo de datos correcto para cada objeto.\n",
        "\n",
        "## <font color='C1C1C1'> **Tipo númerico** </font>\n",
        "Python 3 trabaja con tres tipos de números:\n",
        "\n",
        "* **Entero (int)**: devuelve todos los números enteros (positivo, negativo y cero) sin decimales. En Python 3 este tipo no tiene límite de espacio.\n",
        "* **Real (float)**: se utiliza para representar números reales con decimales. Para implementar esto, por lo general se usa un double de C.\n",
        "* **Número complejo (complex)**: \"se utiliza para representar números complejos que tienen una parte real y una parte imaginaria\" (Blog sobre matemáticas, s.f., párr. 15)."
      ]
    },
    {
      "cell_type": "code",
      "execution_count": null,
      "metadata": {
        "colab": {
          "base_uri": "https://localhost:8080/"
        },
        "id": "6-Y8_l2PDus2",
        "outputId": "55cd0d24-b1cb-45ce-8614-5c7417375ad2"
      },
      "outputs": [
        {
          "data": {
            "text/plain": [
              "complex"
            ]
          },
          "execution_count": 20,
          "metadata": {},
          "output_type": "execute_result"
        }
      ],
      "source": [
        "entero = 7\n",
        "type(entero)\n",
        "\n",
        "real = 7.2\n",
        "type (real)\n",
        "\n",
        "complejo = 1+2j\n",
        "type(complejo)\n"
      ]
    },
    {
      "cell_type": "markdown",
      "metadata": {
        "id": "np-DVpJZEzGH"
      },
      "source": [
        "## <font color='C1C1C1'> **Tipo cadena de caracteres** </font>\n",
        "Son las secuencias o cadenas de caracteres. \"Este tipo es conocido como *string*, aunque su clase verdadera es *str*\" (J2logo, s.f, párr. 49).Representan texto y se pueden definir a través de comillas simples ('') o dobles (\"\").\n",
        "\n",
        "Se puede utilizar comillas simples o dobles de forma indistinta. Si necesitas comillas simples en tu cadena, tienes dos opciones: usar comillas dobles para encerrar la cadena o utilizar comillas simples, pero agregas un carácter \\ a las comillas simples en la cadena. La situación inversa es similar."
      ]
    },
    {
      "cell_type": "code",
      "execution_count": null,
      "metadata": {
        "colab": {
          "base_uri": "https://localhost:8080/"
        },
        "id": "n3H-HVeaFlFm",
        "outputId": "52f7c731-9de6-424a-c1d7-0caea744128a"
      },
      "outputs": [
        {
          "name": "stdout",
          "output_type": "stream",
          "text": [
            "Hola \"Mundo\"\n",
            "Hola 'Mundo'\n",
            "Hola 'Mundo'\n"
          ]
        }
      ],
      "source": [
        "hello = 'Hola \"Mundo\"'\n",
        "hello_2 = 'Hola \\'Mundo\\''\n",
        "hello_3 = \"Hola 'Mundo'\"\n",
        "\n",
        "print(hello)\n",
        "\n",
        "print(hello_2)\n",
        "\n",
        "print(hello_3)\n"
      ]
    },
    {
      "cell_type": "markdown",
      "metadata": {
        "id": "WpPQNA94FKvd"
      },
      "source": [
        "A diferencia de otros lenguajes, en Python no existe el tipo 'carácter'. No obstante, se puede simular con un *string* de un solo carácter:"
      ]
    },
    {
      "cell_type": "code",
      "execution_count": null,
      "metadata": {
        "colab": {
          "base_uri": "https://localhost:8080/"
        },
        "id": "tazu3Vd0FNa_",
        "outputId": "6623abba-5b50-4937-805c-fd478f0093da"
      },
      "outputs": [
        {
          "name": "stdout",
          "output_type": "stream",
          "text": [
            "a\n"
          ]
        }
      ],
      "source": [
        "caracter_a = 'a'\n",
        "print(caracter_a)"
      ]
    },
    {
      "cell_type": "markdown",
      "metadata": {
        "id": "pZm01YRgGkuk"
      },
      "source": [
        "## <font color='C1C1C1'> **Tipo booleano** </font>\n",
        "\"La clase que representa los valores booleanos en Python es **bool**. Esta solo se puede instanciar con dos valores/objetos: *true* indica verdadero y *false* indica falso\" (J2logo, s.f., párr. 43). Una característica de este lenguaje es que cualquier objeto puede usarse para probar si algo es verdadero o falso. Entonces, cualquier objeto puede usarse como un operando de un *if* o *while* (estructura de control que se definirá más adelante) o una operación booleana. De forma predeterminada, todos los objetos son verdaderos, con dos excepciones:\n",
        "\n",
        "* Implementa el método __bool__() y devuelve false.\n",
        "* Ejecutar el método __len__() devuelve 0.\n",
        "\n",
        "Además, los siguientes objetos/instancias también se consideran falsos:\n",
        "\n",
        "* None\n",
        "* False\n",
        "* El valor cero para cada tipo de número es 0, 0.0, 0j,...\n",
        "* Secuencias y colecciones vacías: \\'\\', (), [], {}, set(), range(0)"
      ]
    },
    {
      "cell_type": "markdown",
      "metadata": {
        "id": "Tt5Dd1mmINa4"
      },
      "source": [
        "## <font color='C1C1C1'> **Secuencias** </font>\n",
        "Son colecciones ordenadas de tipos de datos similares o diferentes. Las secuencias permiten almacenar múltiples valores de manera organizada y eficiente (Tokio School, 2022, párr. 13).\n",
        "* **String**: cadenas que representan uno o varios caracteres. Se trata de una línea de texto que se encuadra dentro de la etiqueta str (Tokio School, 2022, párr. 14).\n",
        "* **Listas**: son colecciones ordenadas de elementos que pueden ser de cualquier tipo de datos. Se definen por medio de corchetes ([ ]) y los elementos se separan por comas. Por ejemplo, [1, 2, \"tres\"] es una lista que contiene un entero, otro entero y una cadena.\n",
        "* **Tuplas**: son similares a las listas, pero no se pueden modificar después de su creación. Se definen a través de paréntesis (()) y los elementos se separan por comas. Por ejemplo, (1, 2, \"tres\") es una tupla.\n"
      ]
    },
    {
      "cell_type": "code",
      "execution_count": null,
      "metadata": {
        "colab": {
          "base_uri": "https://localhost:8080/"
        },
        "id": "4T7yQcw_Kz9p",
        "outputId": "f6aa5346-709e-4aad-de65-222fe112c53f"
      },
      "outputs": [
        {
          "data": {
            "text/plain": [
              "[0, 1, 2, 3, 4, 5, 6, 7, 8, 9]"
            ]
          },
          "execution_count": 36,
          "metadata": {},
          "output_type": "execute_result"
        }
      ],
      "source": [
        "#Ejemplo de lista\n",
        "lista1 = []\n",
        "lista2 = [\"a\",1,True]\n",
        "\n",
        "lista3 = list()\n",
        "lista4 = list(\"hola\")\n",
        "lista4=  ['h', 'o', 'l', 'a']\n",
        "\n",
        "list(range(10))"
      ]
    },
    {
      "cell_type": "markdown",
      "metadata": {
        "id": "PmJfEl1JMMXX"
      },
      "source": [
        "* **Tuplas**: Son similares a las listas, pero no se pueden modificar después de su creación. Se definen utilizando paréntesis (()) y los elementos se separan por comas. Por ejemplo, (1, 2, \"tres\") es una tupla.\n"
      ]
    },
    {
      "cell_type": "markdown",
      "metadata": {
        "id": "QofntPR7IrGx"
      },
      "source": [
        "## <font color='C1C1C1'> **Diccionarios** </font>\n",
        " Son colecciones no ordenadas de elementos que a los que se accede por medio de claves. Se definen a través de llaves ({ }) y los elementos se definen como pares clave-valor separados por comas."
      ]
    },
    {
      "cell_type": "code",
      "execution_count": null,
      "metadata": {
        "colab": {
          "base_uri": "https://localhost:8080/"
        },
        "id": "Yn3uuaU3Jed-",
        "outputId": "e593dc34-64b8-4767-e2ce-91dfa44b7521"
      },
      "outputs": [
        {
          "data": {
            "text/plain": [
              "True"
            ]
          },
          "execution_count": 35,
          "metadata": {},
          "output_type": "execute_result"
        }
      ],
      "source": [
        "a={\"estudiante\": \"Juan\", \"edad\": 25}\n",
        "b = {'one': 1, 'two': 2, 'three': 3}\n",
        "c = dict(zip(['one', 'two', 'three'], [1, 2, 3]))\n",
        "b==c"
      ]
    },
    {
      "cell_type": "markdown",
      "metadata": {
        "id": "31ArzXKSJYIy"
      },
      "source": [
        "## <font color='C1C1C1'> **Conjuntos** </font>\n",
        " Son colecciones no ordenadas de elementos únicos. Se definen con llaves ({ }) o con el constructor set().\n",
        "\n",
        " Las conjuntos en Python eliminan los valores duplicados y conservan solo los valores únicos. Las operaciones como intersecciones y uniones se pueden realizar en uno o más conjuntos."
      ]
    },
    {
      "cell_type": "code",
      "execution_count": null,
      "metadata": {
        "id": "Wx196irwKUqY"
      },
      "outputs": [],
      "source": [
        "{1, 2, 3}"
      ]
    },
    {
      "cell_type": "markdown",
      "metadata": {
        "id": "pc0M6FsPAuzE"
      },
      "source": [
        "## <font color='45adcff'> **Entrada** </font>\n",
        "Se usa la función **input()** para entrada directa de información en la celda/consola. Con esta función <font color=red>**siempre**</font> se obtienen datos de tipo cadena de caracteres.\n",
        "<br>\n",
        "Sintaxis: $\\qquad$ `variable = input(mensaje)`"
      ]
    },
    {
      "cell_type": "code",
      "execution_count": null,
      "metadata": {
        "colab": {
          "base_uri": "https://localhost:8080/",
          "height": 53
        },
        "id": "ZalljvI786pu",
        "outputId": "3fdc2bd9-0c0f-483a-b0df-d272b6be75a8"
      },
      "outputs": [
        {
          "name": "stdout",
          "output_type": "stream",
          "text": [
            "Ingrese su nombre: juan\n"
          ]
        },
        {
          "data": {
            "application/vnd.google.colaboratory.intrinsic+json": {
              "type": "string"
            },
            "text/plain": [
              "'juan'"
            ]
          },
          "execution_count": 2,
          "metadata": {},
          "output_type": "execute_result"
        }
      ],
      "source": [
        "nombre = input('Ingrese su nombre: ')\n",
        "nombre"
      ]
    },
    {
      "cell_type": "markdown",
      "metadata": {
        "id": "dsovFGqz8-UZ"
      },
      "source": [
        "En este código, la función input() espera la entrada del usuario por la consola y muestra el mensaje \"Ingrese su nombre: \" para indicarle al usuario qué tipo de entrada de datos se espera. Luego, el valor ingresado se guarda en la variable nombre.\n",
        "\n",
        "Es importante tener en cuenta que la función input() siempre devuelve una cadena de caracteres, por lo que si se espera una entrada de datos numérica, se debe convertir el valor devuelto a un tipo numérico con la función int() o float(). Por ejemplo:\n",
        "\n"
      ]
    },
    {
      "cell_type": "code",
      "execution_count": null,
      "metadata": {
        "colab": {
          "base_uri": "https://localhost:8080/"
        },
        "id": "n7VLrVe1POxe",
        "outputId": "0a915608-acce-4f0b-c765-af520429b18b"
      },
      "outputs": [
        {
          "name": "stdout",
          "output_type": "stream",
          "text": [
            "Ingrese su edad: 23\n"
          ]
        }
      ],
      "source": [
        "edad = int(input(\"Ingrese su edad: \"))"
      ]
    },
    {
      "cell_type": "markdown",
      "metadata": {
        "id": "wZKzen8WPM16"
      },
      "source": [
        "Nota que el siguiente código genera error, ¿por qué? En este caso, la función input() espera la entrada del usuario y devuelve una cadena de caracteres que se convierte a un valor numérico entero con la función int(). El valor entero resultante se guarda en la variable edad.\n",
        "\n",
        "En resumen, para recibir entradas de datos en Python, se utiliza la función input() y se convierte el valor devuelto a un tipo numérico si es necesario.\n",
        "\n",
        "Veamos el siguiente ejemplo, con error incluido:"
      ]
    },
    {
      "cell_type": "code",
      "execution_count": null,
      "metadata": {
        "colab": {
          "base_uri": "https://localhost:8080/",
          "height": 166
        },
        "id": "8HE6uodm8__R",
        "outputId": "04586cfe-a291-42cc-ae07-74221b39d7ae"
      },
      "outputs": [
        {
          "ename": "TypeError",
          "evalue": "ignored",
          "output_type": "error",
          "traceback": [
            "\u001b[0;31m---------------------------------------------------------------------------\u001b[0m",
            "\u001b[0;31mTypeError\u001b[0m                                 Traceback (most recent call last)",
            "\u001b[0;32m<ipython-input-3-d8923a9ce22a>\u001b[0m in \u001b[0;36m<cell line: 1>\u001b[0;34m()\u001b[0m\n\u001b[0;32m----> 1\u001b[0;31m \u001b[0mnombre\u001b[0m \u001b[0;34m+\u001b[0m \u001b[0;36m6\u001b[0m\u001b[0;34m\u001b[0m\u001b[0;34m\u001b[0m\u001b[0m\n\u001b[0m",
            "\u001b[0;31mTypeError\u001b[0m: can only concatenate str (not \"int\") to str"
          ]
        }
      ],
      "source": [
        "nombre + 6"
      ]
    },
    {
      "cell_type": "code",
      "execution_count": null,
      "metadata": {
        "id": "8WAgjT4h9C3f"
      },
      "outputs": [],
      "source": [
        "nombre = input('Escriba su nombre:')"
      ]
    },
    {
      "cell_type": "code",
      "execution_count": null,
      "metadata": {
        "colab": {
          "base_uri": "https://localhost:8080/"
        },
        "id": "HJ5OwB8D9EF4",
        "outputId": "119b5b89-ede2-4981-a6a5-e757586ae85d"
      },
      "outputs": [
        {
          "name": "stdout",
          "output_type": "stream",
          "text": [
            "Escriba su nombre:    Juana\n"
          ]
        }
      ],
      "source": [
        "nombre = input('Escriba su nombre:    ')"
      ]
    },
    {
      "cell_type": "markdown",
      "metadata": {
        "id": "p0SohUNR9aIS"
      },
      "source": [
        "## <font color='45adcff'> **Entrada de datos numéricos** </font>\n",
        "Para que los datos ingresados sean entendidos como números deberán ser números y luego pasar por una operación llamada **cast**. Esta corresponde a indicar qué tipo de dato se espera y debe usarse para almacenar las variables.\n",
        "\n",
        "En este caso especificamos que lo que se ingresara será un entero (int):"
      ]
    },
    {
      "cell_type": "code",
      "execution_count": null,
      "metadata": {
        "colab": {
          "base_uri": "https://localhost:8080/"
        },
        "id": "gDpPvnnq9gpM",
        "outputId": "687174d8-4845-4e40-9283-bd63b4c2c144"
      },
      "outputs": [
        {
          "name": "stdout",
          "output_type": "stream",
          "text": [
            "Ingrese su edad:    23\n"
          ]
        },
        {
          "data": {
            "text/plain": [
              "28"
            ]
          },
          "execution_count": 6,
          "metadata": {},
          "output_type": "execute_result"
        }
      ],
      "source": [
        "edad = int(input('Ingrese su edad:    '))\n",
        "edad\n",
        "type(edad)\n",
        "edad + 5"
      ]
    },
    {
      "cell_type": "markdown",
      "metadata": {
        "id": "LAvD193G9vId"
      },
      "source": [
        "Ahora, específicamos que se ingresará un dato de punto flitante (float):"
      ]
    },
    {
      "cell_type": "code",
      "execution_count": null,
      "metadata": {
        "id": "haZTCaFN9xOF"
      },
      "outputs": [],
      "source": [
        "T_sat = float(input('Temperatura de saturación [C]:    '))\n",
        "T_sat"
      ]
    },
    {
      "cell_type": "markdown",
      "metadata": {
        "id": "Wu7O1-Ug93oC"
      },
      "source": [
        "## <font color='45adcff'> **Salida** </font>\n",
        "Se pueden usar cadenas de caracteres con un prefijo: f'mensaje + variables'."
      ]
    },
    {
      "cell_type": "code",
      "execution_count": null,
      "metadata": {
        "colab": {
          "base_uri": "https://localhost:8080/",
          "height": 35
        },
        "id": "1_XJFoNW-AVm",
        "outputId": "357af209-fecc-48bd-9ad4-515da3c0f858"
      },
      "outputs": [
        {
          "data": {
            "application/vnd.google.colaboratory.intrinsic+json": {
              "type": "string"
            },
            "text/plain": [
              "'La edad de Facundo es 53 años'"
            ]
          },
          "execution_count": 1,
          "metadata": {},
          "output_type": "execute_result"
        }
      ],
      "source": [
        "nombre = 'Facundo'\n",
        "edad = 53\n",
        "f'La edad de {nombre} es {edad} años'"
      ]
    },
    {
      "cell_type": "markdown",
      "metadata": {
        "id": "yEZj2CUO-GPs"
      },
      "source": [
        "**Función print()**\n",
        "\n",
        "De forma similar se usa la función print():"
      ]
    },
    {
      "cell_type": "code",
      "execution_count": null,
      "metadata": {
        "colab": {
          "base_uri": "https://localhost:8080/"
        },
        "id": "5xaUE3uX-OUH",
        "outputId": "6d54d147-1cc8-4b17-a39a-eb420bd924d3"
      },
      "outputs": [
        {
          "name": "stdout",
          "output_type": "stream",
          "text": [
            "La edad de Facundo es 53 años\n",
            "La edad de - Facundo - es - 53 - años\n",
            "La edad de\t\tFacundo\t\tes\t\t53\t\taños\n",
            "La edad de\n",
            "Facundo\n",
            "es\n",
            "53\n",
            "años\n"
          ]
        }
      ],
      "source": [
        "print('La edad de', nombre, 'es', edad, 'años')\n",
        "print('La edad de',nombre,'es',edad,'años',sep=' - ')\n",
        "print('La edad de',nombre,'es',edad,'años',sep='\\t\\t')\n",
        "print('La edad de',nombre,'es',edad,'años',sep='\\n')"
      ]
    },
    {
      "cell_type": "markdown",
      "metadata": {
        "id": "eBdWtORa-dMZ"
      },
      "source": [
        "También es posible construir el texto si al texto estático se le agregan los lugares donde deseamos incorporar información proveniente de variables, esto por medio del formato %.Xf. % indica dónde irá localizada una variable y Xf su formato. Por ejemplo: .4f significa que el número contendrá cuatro cifras significativas."
      ]
    },
    {
      "cell_type": "code",
      "execution_count": null,
      "metadata": {
        "colab": {
          "base_uri": "https://localhost:8080/"
        },
        "id": "ti_349oT-hqx",
        "outputId": "5083deb8-bb21-47f5-ccc9-a0150d24707b"
      },
      "outputs": [
        {
          "data": {
            "text/plain": [
              "3.1416"
            ]
          },
          "execution_count": 3,
          "metadata": {},
          "output_type": "execute_result"
        }
      ],
      "source": [
        "pi=3.1416\n",
        "pi"
      ]
    },
    {
      "cell_type": "code",
      "execution_count": null,
      "metadata": {
        "colab": {
          "base_uri": "https://localhost:8080/"
        },
        "id": "TMcNgP5f-jSH",
        "outputId": "4944f851-8ec6-4cce-e0a9-f9ca8be47bdf"
      },
      "outputs": [
        {
          "name": "stdout",
          "output_type": "stream",
          "text": [
            "pi =  3.1416\n"
          ]
        }
      ],
      "source": [
        "print('pi = ', pi)"
      ]
    },
    {
      "cell_type": "markdown",
      "metadata": {
        "id": "bk0I9Qj4_CtR"
      },
      "source": [
        "Un resultado similar se logra con los denominados *placeholders *{}:"
      ]
    },
    {
      "cell_type": "code",
      "execution_count": null,
      "metadata": {
        "colab": {
          "base_uri": "https://localhost:8080/"
        },
        "id": "yfkdrJif_EZ8",
        "outputId": "90dea29f-92ee-46f3-840d-e4dfe024d6ab"
      },
      "outputs": [
        {
          "name": "stdout",
          "output_type": "stream",
          "text": [
            "La nota de Maria es 4.00\n"
          ]
        }
      ],
      "source": [
        "nota = 4.00\n",
        "estudiante = \"Maria\"\n",
        "\n",
        "print(\"La nota de {} es {:.2f}\".format(estudiante, nota))"
      ]
    },
    {
      "cell_type": "markdown",
      "metadata": {
        "id": "kZcRY8sWHQH5"
      },
      "source": [
        "## <font color='45adcff'> **¿Comó conocer que tipo de datos se están utilizando?** </font>\n",
        "En Python existen dos funciones que permiten establecer y verificar cuál es el tipo de datos que se está utilizando, ellas son:\n",
        "\n",
        "* **type()**: toma un objeto como argumento y devuelve su tipo.\n",
        "\n",
        "* **isinstance()**: toma dos parámetros, un objeto y un tipo. Devuelve *true* si el tipo de objeto se pasa como parámetro; de lo contrario, devuelve *false*.\n"
      ]
    },
    {
      "cell_type": "code",
      "execution_count": null,
      "metadata": {
        "colab": {
          "base_uri": "https://localhost:8080/"
        },
        "id": "WEDwCfBjIoLd",
        "outputId": "3e6eb0e7-5350-4e08-bd6b-2e418fe7fcfd"
      },
      "outputs": [
        {
          "name": "stdout",
          "output_type": "stream",
          "text": [
            "El tipo de datos de  2023  es:  <class 'int'>\n",
            "El tipo de datos de  20.23  es:  <class 'float'>\n",
            "El tipo de datos de  hola mundo  es  <class 'str'>\n",
            "El tipo de datos de  2023  es:  True\n",
            "El tipo de datos de  2023  es:  False\n",
            "El tipo de datos de  2023  es:  False\n"
          ]
        }
      ],
      "source": [
        "from IPython.utils.text import string\n",
        "# Ejemplos de tipos de datos númericos\n",
        "num1=2023\n",
        "print(\"El tipo de datos de \",num1,' es: ',type(num1))\n",
        "num2=20.23\n",
        "print(\"El tipo de datos de \",num2,' es: ',type(num2))\n",
        "#Tipos String\n",
        "txt1=\"hola mundo\"\n",
        "print(\"El tipo de datos de \",txt1,' es ',type(txt1))\n",
        "#utilizando isinstance - Valores verdaderos\n",
        "print(\"El tipo de datos de \",num1,' es: ',isinstance(num1,int))\n",
        "#utilizando isinstance - Valores verdaderos\n",
        "print(\"El tipo de datos de \",num1,' es: ',isinstance(num1,float))\n",
        "print(\"El tipo de datos de \",num1,' es: ',isinstance(txt1,bool))"
      ]
    },
    {
      "cell_type": "markdown",
      "metadata": {
        "id": "W3JfMT1gLpHh"
      },
      "source": [
        "## <font color='45adcff'> **Conversión de datos** </font>\n",
        "Esta es importante ya que permite convertir valores de un tipo a otro de acuerdo con las necesidades establecidas para la ejecución del programa que se esté desarrollando. Se puede dar en los siguientes casos:\n",
        "\n",
        "**Conversión a entero (int)**: Utiliza la función **int()** para convertir un valor a un entero, en donde se cumplen las siguientes condiciones:\n",
        "* Si el valor es una cadena de dígitos, se convertirá de forma directa en un entero.\n",
        "* Si el valor es un número en punto flotante, se truncará hacia abajo para obtener el entero.\n",
        "\n",
        "Para esta función y las posteriores, si se pasa como parámetro un valor inválido, el intérprete mostrará un error."
      ]
    },
    {
      "cell_type": "code",
      "execution_count": null,
      "metadata": {
        "id": "sYAyxurkNImF"
      },
      "outputs": [],
      "source": [
        "#Convierte la cadena 2023 a un entero 2023\n",
        "num1 =int(\"2023\")\n",
        "#Convierte el número con punto flotante 20.23 a un entero 20\n",
        "num2 = int(20.23)"
      ]
    },
    {
      "cell_type": "markdown",
      "metadata": {
        "id": "T6LS7f1zNqSv"
      },
      "source": [
        "**Conversión a número flotante (*float*)**: devuelve un *float* a partir de un número o secuencia de caracteres a través de la función **float()**, en donde se cumplen las siguientes condiciones:\n",
        "* Si el valor es una cadena de dígitos o una cadena que representa un número en punto flotante, se convertirá en un punto flotante.\n",
        "* Si el valor es un entero, se convertirá en un punto flotante al agregar el punto decimal y ceros."
      ]
    },
    {
      "cell_type": "code",
      "execution_count": null,
      "metadata": {
        "id": "AX-ZSZz_Nnm1"
      },
      "outputs": [],
      "source": [
        "# Convierte la cadena \"20.23\" a un punto flotante: 20.23\n",
        "num1 = float(\"20.23\")\n",
        "# Convierte el entero 2023 a un punto flotante: 2023.00\n",
        "num2 = float(2023)"
      ]
    },
    {
      "cell_type": "markdown",
      "metadata": {
        "id": "eFudQCAtPGbv"
      },
      "source": [
        "**Conversión a cadena (str)**: devuelve la representación en cadena de caracteres del objeto que se pasa como parámetro por medio de la funcion **str()**. Esta puede convertir cualquier tipo de dato en una representación en forma de cadena."
      ]
    },
    {
      "cell_type": "code",
      "execution_count": null,
      "metadata": {
        "colab": {
          "base_uri": "https://localhost:8080/"
        },
        "id": "sKIrECnqPrt9",
        "outputId": "381549f9-85b4-4446-e909-5bd68238f697"
      },
      "outputs": [
        {
          "name": "stdout",
          "output_type": "stream",
          "text": [
            "20.23\n"
          ]
        }
      ],
      "source": [
        "# Convierte la número flotante 20.23 en una cadena \"20.23\"\n",
        "num1 = str(\"20.23\")\n",
        "print (num1)\n",
        "# Convierte el entero 2023 a un cadena: \"2023\"\n",
        "num2 = str(2023)"
      ]
    },
    {
      "cell_type": "markdown",
      "metadata": {
        "id": "Sgn4-MDYQGUH"
      },
      "source": [
        "**Conversión a booleano (bool)**: devuelve un valor de *true* o *false* con la función bool() para convertir un valor a un booleano. Los valores considerados como *false* son: 0, None, cadenas de texto vacías y contenedores vacíos (listas, tuplas, conjuntos, diccionarios, etc.), cualquier otro valor se considera *true*."
      ]
    },
    {
      "cell_type": "code",
      "execution_count": null,
      "metadata": {
        "id": "ek3-pKViQgtX"
      },
      "outputs": [],
      "source": [
        "# Convierte el entero 0 a False\n",
        "booleano   = bool(2023)\n",
        "# Convierte la cadena \"Hola  mundo\" a True\n",
        "booleano2 = bool(\"Hola mundo\")"
      ]
    },
    {
      "cell_type": "markdown",
      "metadata": {
        "id": "TEEEL_bhsCGw"
      },
      "source": [
        "**Referencias bibliográficas**\n",
        "\n",
        "Blog sobre matemáticas. (s.f.). *Descubriendo la potencia imaginaria de i*. [Enlace](https://www.universomasseffect.es/descubriendo-la-potencia-imaginaria-de-i/#!)\n",
        "\n",
        "EIP. (2022). *Tipos de datos de Python*. [Enlace](https://eiposgrados.com/blog-python/tipos-de-datos-de-python/)\n",
        "\n",
        "Tokio School. (2022). *¿Qué tipos de datos hay en Python?*. [Enlace](https://www.tokioschool.com/noticias/tipos-de-datos-python/#:~:text=complejo%20en%20Python.-,Secuencias,de%20forma%20organizada%20y%20eficiente)\n",
        "\n"
      ]
    },
    {
      "cell_type": "markdown",
      "metadata": {
        "id": "YWUmSlCdnvwO"
      },
      "source": [
        "· Universidad deAntioquia · Ude@ Educación Virtual ·"
      ]
    }
  ],
  "metadata": {
    "colab": {
      "provenance": []
    },
    "kernelspec": {
      "display_name": "Python 3",
      "name": "python3"
    },
    "language_info": {
      "name": "python"
    }
  },
  "nbformat": 4,
  "nbformat_minor": 0
}
