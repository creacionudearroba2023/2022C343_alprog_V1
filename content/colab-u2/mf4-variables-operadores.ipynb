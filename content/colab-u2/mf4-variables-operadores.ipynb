{
  "cells": [
    {
      "cell_type": "markdown",
      "metadata": {
        "id": "BVUNP4rgwU4a"
      },
      "source": [
        "<img src=\"https://udearroba.udea.edu.co/imagescourses/2022C343_alprog_V1/banner-colab.png\">"
      ]
    },
    {
      "cell_type": "markdown",
      "metadata": {
        "id": "d7dGOQsIspqJ"
      },
      "source": [
        "# <font color='3E779E'> **Variables** </font>\n",
        "\n",
        "Una **variable** puede ser entendida como un contenedor de datos. En otras palabras, es un espacio reservado en la memoria del computador para almacenar un dato que puede ser usado o modificado tantas veces como se desee. Dicho espacio o contenedor debe tener un nombre, este debe ser asignado con ciertas consideraciones:\n",
        "\n",
        "* Ser simple\n",
        "* Incluir solo letras, dígitos y el guion bajo o subguion.\n",
        "* Comenzar por una letra.\n",
        "* No puede incluir espacios en blanco.\n",
        "* No puede llevar acento (tilde)\n",
        "* Hay ciertas palabras que están “prohibidas”, dado que Python las utiliza para otros propósitos . <a href=\"https://es.wikibooks.org/wiki/Python/Generalidades/Palabras_reservadas,_operadores_y_s%C3%ADmbolos_del_lenguaje\">Palabras reservadas en Python</a>\n",
        "\n",
        "Veamos el siguiente ejemplo:"
      ]
    },
    {
      "cell_type": "code",
      "execution_count": null,
      "metadata": {
        "colab": {
          "base_uri": "https://localhost:8080/"
        },
        "id": "ft4bvqNCNr7y",
        "outputId": "148a60cf-f7e4-4eaf-c687-da7456ed9945"
      },
      "outputs": [
        {
          "name": "stdout",
          "output_type": "stream",
          "text": [
            "¿Cuál es su nombre?:    atm\n",
            "Ingrese un número entero entre 1 y 10:    4\n",
            "atm no has ganado, sigue intentado\n"
          ]
        }
      ],
      "source": [
        "import random # importa random\n",
        "\n",
        "nombre = input(\"¿Cuál es su nombre?:    \") # Obtener el nombre del usuario\n",
        "aleatorio = random.randint(1, 11) # Genera un número aletaorio entero entre 1 y 10\n",
        "\n",
        "escogido = int(input(\"Ingrese un número entero entre 1 y 10:    \")) # Pregunta un número al usuario\n",
        "\n",
        "#Verifica si hay un ganador\n",
        "if aleatorio == escogido : \n",
        "    print(nombre, \"¡Has ganado, Felicitaciones!\")\n",
        "else: \n",
        "    print(nombre, \"No has ganado, sigue intentado\")"
      ]
    },
    {
      "cell_type": "markdown",
      "metadata": {
        "id": "RkrwGNTmW1Ot"
      },
      "source": [
        "Nota que hay **tres** variables en el ejemplo anterior: 'nombre', 'aleatorio' y 'escogido'."
      ]
    },
    {
      "cell_type": "markdown",
      "metadata": {
        "id": "R1r8upQVxTi_"
      },
      "source": [
        "## <font color='157699'> **Tipos de datos** </font>\n",
        "\n",
        "Los datos almacenados en una variable pueden ser de diversos tipos. Asi, el tipo de datos es el atributo que le especifica al computador la clase de dato que debe manejar para saber qué valores puede tomar y qué operaciones realizar. Algunos de los tipos de datos básicos (usualmente llamados tipos primitivos o elementales) son:\n",
        "\n",
        "* Números enteros (y con signo negativo).\n",
        "* Números en coma flotante (decimales). Podrían recibir distintos nombres o clasificarse de distintas maneras según el lenguaje: *double*, *float*.\n",
        "* Caracteres (alfanuméricos).\n",
        "* Cadenas de caracteres (textos).\n",
        "* Estados lógicos (booleanos, es decir, falso o verdadero).\n",
        "\n",
        "Nota que existe una gran cantidad de tipos de datos y que incluso la disponibilidad de estos pueden cambiar de acuerdo con el lenguaje.\n",
        "\n",
        "Observemos un ejemplo de cada uno:\n"
      ]
    },
    {
      "cell_type": "code",
      "execution_count": null,
      "metadata": {
        "colab": {
          "base_uri": "https://localhost:8080/"
        },
        "id": "2CqHG6QfQbRA",
        "outputId": "909196cf-1a30-4e4f-f21d-1630947564aa"
      },
      "outputs": [
        {
          "name": "stdout",
          "output_type": "stream",
          "text": [
            "Una variable entera:  4\n",
            "Una variable real:  -1.3\n",
            "Una variable caracter:  a\n",
            "Una variable string:  pablo\n",
            "Una variable de estado lógico:  False\n"
          ]
        }
      ],
      "source": [
        "entero = 4 # variable entera\n",
        "print(\"Una variable entera: \", entero)\n",
        "decimal = -1.3 # variable real\n",
        "print(\"Una variable real: \", decimal)\n",
        "caracter = \"a\" # variable caracter\n",
        "print(\"Una variable caracter: \", caracter) \n",
        "cadena = \"pablo\" # variable cadena\n",
        "print(\"Una variable string: \", cadena)\n",
        "estadoLogico = False # variable booleano\n",
        "print(\"Una variable de estado lógico: \", estadoLogico) "
      ]
    },
    {
      "cell_type": "markdown",
      "metadata": {
        "id": "vTUkFBHySD8B"
      },
      "source": [
        "\n",
        "Si retomamos el primer ejemplo, podemos preguntarnos: ¿qué tipos de datos almacenan las variables 'nombre', 'aleatorio' y 'escogido'?"
      ]
    },
    {
      "cell_type": "code",
      "execution_count": null,
      "metadata": {
        "id": "r3DGBai4SPsp"
      },
      "outputs": [],
      "source": [
        "import random # importa random\n",
        "\n",
        "nombre = input(\"¿Cuál es su nombre?:    \") # Obtener el nombre del usuario\n",
        "aleatorio = random.randint(1, 11) # Genera un número aletaorio entero entre 1 y 10\n",
        "\n",
        "escogido = int(input(\"Ingrese un número entero entre 1 y 10:    \")) # Pregunta un número al usuario\n",
        "\n",
        "#Verifica si hay un ganador\n",
        "if aleatorio == escogido : \n",
        "    print(nombre, \"¡Has ganado, Felicitaciones!\")\n",
        "else: \n",
        "    print(nombre, \"no has ganado, sigue intentado\")"
      ]
    },
    {
      "cell_type": "markdown",
      "metadata": {
        "id": "-vlPzgekW1Ow"
      },
      "source": [
        "Es evidente que las  variables 'aleatorio' y 'escogido' almacenan  números enteros, mientras que  la variable 'nombre' almacena una cadena de texto."
      ]
    },
    {
      "cell_type": "markdown",
      "metadata": {
        "id": "HjCYJEG4xdtY"
      },
      "source": [
        "# <font color='3E779E'> **Operadores** </font>\n",
        "\n",
        "Como su nombre lo indica, realizan operaciones con variables y pueden clasificarse segun el tipo de operación que realizan y el tipo de variables que manipulan. En particular, algunos de los tipos de operadores que distingue Python son (suponga que a = 10 y b= 20):  "
      ]
    },
    {
      "cell_type": "markdown",
      "metadata": {
        "id": "YRrSDhRuZt6J"
      },
      "source": [
        "## <font color='3E779E'> **Operadores algebraicos** </font> \n",
        "| Operador| Operación \t| Descripción \t| Ejemplo \t|\n",
        "|:---|:---|:---|:---|\n",
        "| + | Suma \t| Suma los valores a ambos lados del operador \t| a + b = 30 \t|\n",
        "| -  | Resta \t| Resta el valor de la derecha al valor que esta a la izquierda \t| a – b = -10 \t|\n",
        "| *  | Multiplicación \t| Multiplica los valores a los dos lados del operador \t| a * b = 200 \t|\n",
        "| / | División \t| Divide el valor de la izquierda sobre el de la derecha\t| b / a = 2.0 \t|\n",
        "| / | División entera\t| Divide el valor de la izquierda sobre el de la derecha\t| b // a = 2 \t|\n",
        "| % | Modulo \t| Devuelve el residuo de la división de dos números \t| b % a = 0 \t|\n",
        "| ** | Exponente \t| Eleva a la potencia \t| a**b = $10^{20}$\t|\n",
        "\n",
        "Observa los siguientes ejemplos:"
      ]
    },
    {
      "cell_type": "code",
      "execution_count": null,
      "metadata": {
        "id": "97dUBKLkaEAy"
      },
      "outputs": [],
      "source": [
        "# Observa los siguientes ejemplos\n",
        "\n",
        "a = 21\n",
        "b = 10\n",
        "\n",
        "c = a + b\n",
        "print(f\"El resultado de a + b es {c}\")\n",
        "\n",
        "c = a - b\n",
        "print(f\"El resultado de a - b es {c}\")\n",
        "\n",
        "c = a * b\n",
        "print(f\"El resultado de a * b es {c}\")\n",
        "\n",
        "c = a / b\n",
        "print(f\"El resultado de a / b es {c}\")\n",
        "\n",
        "c = a // b\n",
        "print(f\"El resultado de a // b es {c}\")\n",
        "\n",
        "c = a % b\n",
        "print(f\"El resultado de a % b es {c}\")\n",
        "\n",
        "a = 2\n",
        "b = 3\n",
        "c = a**b \n",
        "print(f\"El resultado de a ** b es {c}\")\n"
      ]
    },
    {
      "cell_type": "markdown",
      "metadata": {
        "id": "wm9HxPqgalGX"
      },
      "source": [
        "## <font color='157699'> **Operadores de comparación** </font>\n",
        "\n",
        "Comparan los valores a ambos lados del operador y deciden la relación entre dichos valores. También son conocidos como operadores relacionales. \n",
        "\n",
        "Asume que a = 10 y b = 20\n",
        "\n",
        "\n",
        "| Operador \t| Descripción \t| Ejemplo \t|\n",
        "|----------\t|-----------------------------------------------------------------------------------------------------------------------\t|-----------------------------------------------------\t|\n",
        "| == \t| Verdadero si los dos operandos son iguales \t| (a == b) es False |\n",
        "| != \t| Verdadero si los dos operandos no son iguales \t| (a != b) es True \t|\n",
        "| <> \t| Verdadero si los dos operandos no son iguales \t| (a <> b) es True \t|\n",
        "| > \t| Verdadero si el operando de la derecha es mayor que el de la izquierda| (a > b) es False \t|\n",
        "| < \t| Verdadero si el operando de la izquierda es menor que el de la derecha \t| (a < b) es True \t|\n",
        "| >= \t| Verdadero si el operando de la derecha es mayor o igual que el de la izquierda | (a >= b) es False \t|\n",
        "| <= \t| Verdadero si el operando de la izquierda es menor o igual que el de la derecha \t| (a <= b) es True\t|\n",
        "\n",
        "\n"
      ]
    },
    {
      "cell_type": "markdown",
      "metadata": {
        "id": "9fL6noM-bIpv"
      },
      "source": [
        "## <font color='157699'> **Operadores lógicos** </font>\n",
        "\n",
        "| Operador \t| Descripción \t|\n",
        "|-----------------\t|----------------------------------------------------------------------\t|\n",
        "|  and \t| Verdadero si los dos operandos son verdaderos \t|\n",
        "|  or \t| Verdadero si uno de los operandos es verdadero \t|\n",
        "|  not \t| Reversa el estado lógico de un operando \t|\n",
        "\n",
        "Considera, por ejemplo, a = 10, b = 20 y c= 15. ¿Cúal crees que es el resultado de la siguiente operación?\n",
        "\n",
        "```python\n",
        "(a > b) or not(b < c)\n",
        "\n",
        "```\n",
        "\n"
      ]
    },
    {
      "cell_type": "markdown",
      "metadata": {
        "id": "IV7pQNHqHOj1"
      },
      "source": [
        "\n",
        "Comprobémoslo a continuación, programémoslo en Python:"
      ]
    },
    {
      "cell_type": "code",
      "execution_count": null,
      "metadata": {
        "colab": {
          "base_uri": "https://localhost:8080/"
        },
        "id": "aKnvmTrRbNtX",
        "outputId": "27bfbe14-6e1a-4582-8b8f-9ee6dd8434e4"
      },
      "outputs": [
        {
          "data": {
            "text/plain": [
              "False"
            ]
          },
          "execution_count": 6,
          "metadata": {},
          "output_type": "execute_result"
        }
      ],
      "source": [
        "a = 3\n",
        "b = 4\n",
        "c = 5\n",
        "# Inserte la operación aquí\n",
        "(a > b) or not(b < c)"
      ]
    },
    {
      "cell_type": "markdown",
      "metadata": {
        "id": "dtFJH8qtcfN6"
      },
      "source": [
        "## <font color='157699'> **Operadores de asignación** </font>\n",
        "\n",
        "Son usados para asignar valores a las variables.\n",
        "\n",
        "| Operador | Ejemplo | Equivalencia    |\n",
        "|----------|---------|------------|\n",
        "| =        | x = 5   | x = 5      |\n",
        "| +=       | x += 3  | x = x + 3  |\n",
        "| -=       | x -= 3  | x = x - 3  |\n",
        "| *=       | x *= 3  | x = x * 3  |\n",
        "| /=       | x /= 3  | x = x / 3  |\n",
        "| %=       | x %= 3  | x = x % 3  |\n",
        "| //=      | x //= 3 | x = x // 3 |\n",
        "| **=      | x **= 3 | x = x ** 3 |\n",
        "| &=       | x &= 3  | x = x & 3  |\n",
        "| \\|=      | x \\|= 3 | x = x \\| 3 |"
      ]
    },
    {
      "cell_type": "markdown",
      "metadata": {
        "id": "ct8GRskedzTg"
      },
      "source": [
        "## <font color='157699'> **Cuidado en el uso de los operadores** </font>\n",
        "Del tipo de dato almacenado en una variable dependerán las operaciones permitidas y el resultado obtenido. Por ejemplo, no tiene mucho sentido realizar un multiplicación entre dos cadenas de texto. "
      ]
    },
    {
      "cell_type": "code",
      "execution_count": null,
      "metadata": {
        "colab": {
          "base_uri": "https://localhost:8080/"
        },
        "id": "RT5XKFC9eE9Y",
        "outputId": "4ce58726-d17b-4a03-d008-34a8b59351fe"
      },
      "outputs": [
        {
          "name": "stdout",
          "output_type": "stream",
          "text": [
            "Producto entre enteros, : 10\n",
            "Producto entre enteroy string, : pablopablopablopablopablo\n"
          ]
        }
      ],
      "source": [
        "a = 5\n",
        "b = 2\n",
        "texto1= \"pablo\"\n",
        "texto2= \"manuel\"\n",
        "\n",
        "#Producto entre enteros\n",
        "resultado = a * b\n",
        "print(\"Producto entre enteros, :\", resultado)\n",
        "\n",
        "#Producto entre entero y string\n",
        "resultado = texto1 * a\n",
        "print(\"Producto entre enteroy string, :\", resultado)\n",
        "\n",
        "#El producto entre dos cadenas de texto sería un error \n",
        "#resultado = texto1 * texto2\n"
      ]
    },
    {
      "cell_type": "markdown",
      "metadata": {
        "id": "wtE-ffWWwqbF"
      },
      "source": [
        "· Universidad de Antioquia · Ude@ Educación Virtual ·"
      ]
    },
    {
      "cell_type": "code",
      "execution_count": null,
      "metadata": {
        "id": "_V-9siGuyDE7"
      },
      "outputs": [],
      "source": []
    }
  ],
  "metadata": {
    "colab": {
      "provenance": []
    },
    "kernelspec": {
      "display_name": "Python 3 (ipykernel)",
      "language": "python",
      "name": "python3"
    },
    "language_info": {
      "codemirror_mode": {
        "name": "ipython",
        "version": 3
      },
      "file_extension": ".py",
      "mimetype": "text/x-python",
      "name": "python",
      "nbconvert_exporter": "python",
      "pygments_lexer": "ipython3",
      "version": "3.9.13"
    }
  },
  "nbformat": 4,
  "nbformat_minor": 0
}
