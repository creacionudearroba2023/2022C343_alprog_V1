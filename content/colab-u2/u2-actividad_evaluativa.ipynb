{
  "cells": [
    {
      "cell_type": "markdown",
      "metadata": {
        "id": "x3NBbgU6x_MQ"
      },
      "source": [
        "<img src=\"https://udearroba.udea.edu.co/imagescourses/2022C343_alprog_V1/banner-colab.png\">"
      ]
    },
    {
      "cell_type": "markdown",
      "metadata": {
        "id": "y0jPzGsJ8Lw9"
      },
      "source": [
        "<font color='157699'> **<h1>Actividad evaluativa</h1>**\n",
        "\n",
        "<p>A continuación, te presentamos una serie de ejercicios divididos por áreas de conocimiento que deberás resolver con lo aprendido en la Unidad. Recuerda que solo debes realizar los ejercicios relacionados con tu área de formación.</p>"
      ]
    },
    {
      "cell_type": "markdown",
      "metadata": {
        "id": "rQiBu2uA8LxB"
      },
      "source": [
        "**<h2>Ciencias sociales y humanas</h2>**"
      ]
    },
    {
      "cell_type": "markdown",
      "metadata": {
        "id": "fCi72t5v69XF"
      },
      "source": [
        "\n",
        "<ol>\n",
        "<li>En pocas palabras, ¿cuáles son las ventajas que Python aporta a las ciencias sociales y humanas?</li>\n",
        "<li>\n",
        "\n",
        "<p>\n",
        "A continuación, encontrarás un fragmento de código Python, revísalo y corrige el código según las reglas PEP 8.\n",
        "</p>\n",
        "<p>\n",
        "<code>\n",
        "lista_numeros=[3, 6, 9, 12, 15]\n",
        "<br>\n",
        "suma=0\n",
        "<br>\n",
        "para i en gama(len(lista_numeros)):\n",
        "<br>\n",
        "suma+=lista_numeros[i]\n",
        "<br>\n",
        "si suma>20:\n",
        "<br>\n",
        "  imprimir(\"La suma es mayor que 20.\")\n",
        "  <br>\n",
        "mientras suma>10:\n",
        "<br>\n",
        "  suma-=1\n",
        "  <br>\n",
        "imprimir(\"La suma final es: \"+str(suma))\n",
        "<br>\n",
        "</code>\n",
        "</p>\n",
        "</li>\n",
        "<li>\n",
        "<p>Crea un programa que pida al usuario su nombre, edad y profesión. Luego, que muestre en pantalla una breve frase con esos datos. </p>\n",
        "</li>\n",
        "<li>Imagina que estás haciendo una investigación sobre la edad promedio en un grupo de estudio. Crea un programa que tome la edad de cinco individuos y calcula el promedio de estos (el programa debe imprimir el promedio).</li>\n",
        "<li>Supongamos que estás estudiando la distribución de edades en una población. Crea un programa que pregunte la edad de una persona y que la categorice según su edad y de acuerdo con estos rangos: Niño (0-12), Adolescente (13-18), Adulto (19-59) y Adulto mayor (60+). El programa deberá imprimir en pantalla la categoría a la que la entrada pertenece</li>\n",
        "<li> Imagina que estás investigando las lenguas más habladas en un país. Crea una lista de idiomas y, por medio de bucles, pide al usuario que indique cuántas personas conoce que hablen cada idioma. Por último, muestra el idioma más hablado.</li>\n",
        "<li>Supón que estás realizando una encuesta sobre hábitos de lectura. Pregunta al usuario cuántos libros ha leído en el último año y según su respuesta categoriza su hábito lector: Bajo (0-3 libros), Moderado (4-10 libros) y Alto (más de 10 libros).</li>\n",
        "\n",
        "</ol>\n"
      ]
    },
    {
      "cell_type": "markdown",
      "metadata": {
        "id": "-5-T_U5c8LxC"
      },
      "source": [
        "**<h2>Ciencias exactas y naturales</h2>**"
      ]
    },
    {
      "cell_type": "markdown",
      "metadata": {
        "id": "yMeK_9eCKbaB"
      },
      "source": [
        "\n",
        "\n",
        "<ol>\n",
        "<li>En pocas palabras, ¿cuáles son las ventajas que Python aporta a las ciencias exactas y naturales?</li>\n",
        "<li>\n",
        "\n",
        "<p>\n",
        "A continuación, encontrarás un fragmento de código Python, revísalo y corrije el código según las reglas PEP 8.\n",
        "</p>\n",
        "<p>\n",
        "<code>\n",
        "lista_numeros=[3, 6, 9, 12, 15]\n",
        "<br>\n",
        "suma=0\n",
        "<br>\n",
        "para i en gama(len(lista_numeros)):\n",
        "<br>\n",
        "suma+=lista_numeros[i]\n",
        "<br>\n",
        "si suma>20:\n",
        "<br>\n",
        "  imprimir(\"La suma es mayor que 20.\")\n",
        "  <br>\n",
        "mientras suma>10:\n",
        "<br>\n",
        "  suma-=1\n",
        "  <br>\n",
        "imprimir(\"La suma final es: \"+str(suma))\n",
        "<br>\n",
        "</code>\n",
        "</p>\n",
        "</li>\n",
        "<li>\n",
        "<p>Crea un programa que pida al usuario la masa y el volumen de un objeto. Luego, calcula y muestra en pantalla la densidad del objeto por medio de la fórmula <em>densidad = masa / volumen.</em></p>\n",
        "</li>\n",
        "<li>Supongamos que estás realizando un experimento y necesitas calcular el promedio de cinco mediciones de temperatura. Crea un programa que tome estas mediciones y que calcule el promedio.</li>\n",
        "<li>Crea un programa que imprima en pantalla si un pH es ácido, neutro o básico. Recuerda: pH < 7 es ácido, pH = 7 es neutro, pH > 7 es básico.</li>\n",
        "<li> Imagina que estás investigando las concentraciones de tres solutos diferentes en una solución. Crea una lista con los nombres de los solutos y, con bucles, pide al usuario que indique la concentración de cada soluto. Por último, muestra el soluto con mayor concentración.</li>\n",
        "<li>Supón que estás estudiando la velocidad de diferentes reacciones químicas. Pregunta al usuario la concentración inicial de un reactivo y la concentración final después de un cierto tiempo y calcula la velocidad de la reacción usando la fórmula <em>velocidad = (concentración_final - concentración_inicial) / tiempo.</em></li>\n",
        "\n",
        "</ol>\n",
        "\n",
        "\n",
        "\n"
      ]
    },
    {
      "cell_type": "markdown",
      "metadata": {
        "id": "1pmLOChR8LxC"
      },
      "source": [
        "**<h2> Ciencias de la educación</h2>**"
      ]
    },
    {
      "cell_type": "markdown",
      "metadata": {
        "id": "lxger4vnLcOt"
      },
      "source": [
        "<ol>\n",
        "<li>En pocas palabras, ¿cuáles son las ventajas que Python aporta al ambito educativo?</li>\n",
        "<li>\n",
        "\n",
        "<p>\n",
        "A continuación, encontrarás un fragmento de código Python, revísalo y corrige el código según las reglas PEP 8.\n",
        "</p>\n",
        "<p>\n",
        "<code>\n",
        "lista_numeros=[3, 6, 9, 12, 15]\n",
        "<br>\n",
        "suma=0\n",
        "<br>\n",
        "para i en gama(len(lista_numeros)):\n",
        "<br>\n",
        "suma+=lista_numeros[i]\n",
        "<br>\n",
        "si suma>20:\n",
        "<br>\n",
        "  imprimir(\"La suma es mayor que 20.\")\n",
        "  <br>\n",
        "mientras suma>10:\n",
        "<br>\n",
        "  suma-=1\n",
        "  <br>\n",
        "imprimir(\"La suma final es: \"+str(suma))\n",
        "<br>\n",
        "</code>\n",
        "</p>\n",
        "</li>\n",
        "<li>\n",
        "<p>Crea un programa que pida al usuario el nombre del estudiante y las notas de tres asignaturas. Luego, muestra en pantalla el promedio de las notas.</p>\n",
        "</li>\n",
        "<li>Supongamos que estás realizando un seguimiento de la asistencia de los estudiantes a lo largo de un mes. Crea un programa que tome la asistencia de cuatro semanas y que calcule el porcentaje total de asistencia.</li>\n",
        "<li>Basándote en el promedio de notas de un estudiante, determina si aprueba (promedio >= 3.5), si debe presentar una recuperación (promedio entre 3.0 y 3.4) o si reprueba (promedio < 3.0). El resultado se debe mostrar en pantalla.</li>\n",
        "<li> Imagina que estás recogiendo realimentación de varios profesores sobre un nuevo método pedagógico. Crea una lista con los nombres de tres profesores y, por medio de bucles, pide al usuario que introduzca la realimentación de cada uno. Por último, muestra lo recogido.</li>\n",
        "<li>Supón que estás analizando los resultados de una encuesta sobre el uso de tecnología en el aula. Pide al usuario que introduzca el número de profesores que usan regularmente tecnología en sus clases y el número total de profesores encuestados. Luego, calcula el porcentaje de profesores que usan tecnología.</li>\n",
        "\n",
        "</ol>\n",
        "\n"
      ]
    },
    {
      "cell_type": "markdown",
      "metadata": {
        "id": "uygoUCLT8LxH"
      },
      "source": [
        "**<h2> Ciencias de la salud</h2>**"
      ]
    },
    {
      "cell_type": "markdown",
      "metadata": {
        "id": "_PkoN1CnMdXT"
      },
      "source": [
        "\n",
        "<ol>\n",
        "<li>En pocas palabras, ¿cuáles son las ventajas que Python aporta a las ciencias de la salud?</li>\n",
        "<li>\n",
        "\n",
        "<p>\n",
        "A continuación, encontrarás un fragmento de código Python, revísalo y corrige el código según las reglas PEP 8.\n",
        "</p>\n",
        "<p>\n",
        "<code>\n",
        "lista_numeros=[3, 6, 9, 12, 15]\n",
        "<br>\n",
        "suma=0\n",
        "<br>\n",
        "para i en gama(len(lista_numeros)):\n",
        "<br>\n",
        "suma+=lista_numeros[i]\n",
        "<br>\n",
        "si suma>20:\n",
        "<br>\n",
        "  imprimir(\"La suma es mayor que 20.\")\n",
        "  <br>\n",
        "mientras suma>10:\n",
        "<br>\n",
        "  suma-=1\n",
        "  <br>\n",
        "imprimir(\"La suma final es: \"+str(suma))\n",
        "<br>\n",
        "</code>\n",
        "</p>\n",
        "</li>\n",
        "<li>\n",
        "<p>Crea un programa que pida al usuario su peso (en kg) y su altura (en m). Luego, calcula y muestra en pantalla su IMC usando la fórmula <em>IMC = peso / altura^2.</em></p>\n",
        "</li>\n",
        "<li>Supongamos que estás monitoreando la presión arterial de un paciente a lo largo de una semana. Crea un programa que tome la presión arterial de siete días y que calcule la presión arterial promedio de la semana.</li>\n",
        "<li>Basándote en el IMC de un paciente, determina si se encuentra en bajo peso (IMC < 18.5), peso normal (18.5 ≤ IMC < 24.9), sobrepeso (25 ≤ IMC < 29.9) o en obesidad (IMC ≥ 30). El resultado se deberá mostrar en pantalla.</li>\n",
        "<li>Imagina que estás recogiendo comentarios de varios pacientes sobre un nuevo tratamiento médico. Crea una lista con los nombres de tres pacientes y, usando bucles, pide al usuario que introduzca la realimentación de cada uno. Por último, muestra lo recogido.</li>\n",
        "<li>Supón que estás analizando los resultados de una encuesta sobre la eficacia de un medicamento. Pide al usuario que introduzca el número de pacientes que mejoraron con el medicamento y el número total de pacientes encuestados. Luego, calcula el porcentaje de pacientes que mejoraron con el tratamiento. El resultado se deberá mostrar en pantalla.</li>\n",
        "\n",
        "</ol>\n",
        "\n"
      ]
    },
    {
      "cell_type": "markdown",
      "metadata": {
        "id": "MyzEEo1X8LxI"
      },
      "source": [
        "**<h2>Ingenierías</h2>**"
      ]
    },
    {
      "cell_type": "markdown",
      "metadata": {
        "id": "LPI01wKkM_fA"
      },
      "source": [
        "\n",
        "\n",
        "<ol>\n",
        "<li>En pocas palabras, ¿cuáles son las ventajas que Python aporta a las ingenierías?</li>\n",
        "<li>\n",
        "\n",
        "<p>\n",
        "A continuación, encontrarás un fragmento de código Python, revísalo y corrige el código según las reglas PEP 8.\n",
        "</p>\n",
        "<p>\n",
        "<code>\n",
        "lista_numeros=[3, 6, 9, 12, 15]\n",
        "<br>\n",
        "suma=0\n",
        "<br>\n",
        "para i en gama(len(lista_numeros)):\n",
        "<br>\n",
        "suma+=lista_numeros[i]\n",
        "<br>\n",
        "si suma>20:\n",
        "<br>\n",
        "  imprimir(\"La suma es mayor que 20.\")\n",
        "  <br>\n",
        "mientras suma>10:\n",
        "<br>\n",
        "  suma-=1\n",
        "  <br>\n",
        "imprimir(\"La suma final es: \"+str(suma))\n",
        "<br>\n",
        "</code>\n",
        "</p>\n",
        "</li>\n",
        "<li>\n",
        "<p>Crea un programa que pida al usuario la masa de un objeto y su aceleración. Luego, calcula y muestra en pantalla la fuerza resultante.</p>\n",
        "</li>\n",
        "<li>Supón que estás analizando las tensiones en diferentes puntos de una viga. Crea un programa que tome las tensiones en tres puntos y que calcule la tensión promedio.</li>\n",
        "<li>Pide al usuario que introduzca la eficiencia de un motor (0-100), determina su categoría: Baja (eficiencia < 40%), Media (40% ≤ eficiencia < 75%) o Alta (eficiencia ≥ 75%). EL resultado se deberá mostrar en pantalla.</li>\n",
        "<li> Imagina que estás recogiendo datos sobre la eficiencia de diferentes turbinas en un parque eólico. Crea una lista con los nombres de tres turbinas y, por medio de bucles, pide al usuario que introduzca la eficiencia de cada una. Por último, muestra la turbina con la eficiencia más alta.</li>\n",
        "<li>Supón que estás diseñando un puente y necesitas calcular la carga máxima que puede soportar. Pide al usuario que introduzca el área de sección transversal del material y la tensión máxima que puede soportar dicho material. Luego, con la fórmula <em> Carga = Área * Tensión</em> calcula y muestra la carga máxima.</li>\n",
        "\n",
        "</ol>\n",
        "\n"
      ]
    },
    {
      "cell_type": "markdown",
      "metadata": {
        "id": "r-W8aUCPx5dV"
      },
      "source": [
        "· Universidad de Antioquia · Ude@ Educación Virtual ·"
      ]
    }
  ],
  "metadata": {
    "colab": {
      "provenance": []
    },
    "kernelspec": {
      "display_name": "Python 3",
      "name": "python3"
    },
    "language_info": {
      "name": "python"
    }
  },
  "nbformat": 4,
  "nbformat_minor": 0
}
