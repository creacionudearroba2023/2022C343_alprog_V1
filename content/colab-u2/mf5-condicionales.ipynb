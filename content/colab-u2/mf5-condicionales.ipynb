{
  "cells": [
    {
      "attachments": {},
      "cell_type": "markdown",
      "metadata": {
        "id": "-rwBYp-my3WT"
      },
      "source": [
        "<img src=\"https://udearroba.udea.edu.co/imagescourses/2022C343_alprog_V1/banner-colab.png\">"
      ]
    },
    {
      "attachments": {},
      "cell_type": "markdown",
      "metadata": {
        "id": "CsjBk3vWn8MP"
      },
      "source": [
        "# <font color='3E779E'> **Condicionales** </font> \n",
        "\n",
        "---\n",
        "\n",
        "\n",
        "\n",
        "Hasta este momento, todas las instrucciones se ejecutan de manera secuencial. Es decir, de arriba hacia abajo, una tras otra en el orden en que están escritas en el programa. Sin embargo, a veces es de mucha utilidad modificar este flujo secuencial del código. Los condicionales nos permiten por medio de una suerte de \"preguntas\" tomar caminos diferentes a lo largo de la escritura del código.\n",
        "\n",
        "\n",
        "Un ejemplo simple para entender la necesidad y utilidad de estos condicionales es el siguiente: \n",
        "\n",
        "\n",
        "*   Considera un programa que pregunta una contraseña para realizar ciertas \n",
        "acciones o, en el caso de que la contraseña sea incorrecta, pide no hacer nada. Hay una pregunta que se hace en función de la contraseña que alterará el flujo secuencial del programa.\n",
        "\n",
        "Los condicionales, que son preguntas dentro del código, se pueden categorizar de la siguiente manera: "
      ]
    },
    {
      "attachments": {},
      "cell_type": "markdown",
      "metadata": {
        "id": "WV8PBijUn8MY"
      },
      "source": [
        "## <font color='157699'> **Estructura condicional simple** </font>\n",
        "\n",
        "En esta estructura se ejecuta una determinada instrucción cuando se cumple una condición. Es decir, esta estructura evalúa la condición y:\n",
        "* Si la condición es verdadera, entonces ejecuta la instrucción o conjunto de instrucciones.\n",
        "* Si la condición es falsa, no ejecuta la instrucción o conjunto de instrucciones.\n",
        "\n",
        "\n",
        "\n",
        "\n",
        "<img src=\"https://udearroba.udea.edu.co/imagescourses/2022C343_alprog_V1/colab-u2/mf5-condicionales1.png\">\n",
        "\n",
        "La sintaxis para escribir este tipo de estructuras se ve de la siguiente forma:\n",
        "```Python\n",
        "If (Condición) Then\n",
        "    Instrucciones a realizar si la condición es verdadera\n",
        "End If\n",
        "```\n",
        "Veamos un ejemplo:\n"
      ]
    },
    {
      "cell_type": "code",
      "execution_count": null,
      "metadata": {
        "id": "re_2rMPnn8MZ",
        "outputId": "6751275c-18d0-4c3d-ea35-d6a942afd616"
      },
      "outputs": [
        {
          "name": "stdout",
          "output_type": "stream",
          "text": [
            "El programa ha terminado\n"
          ]
        }
      ],
      "source": [
        "Secret = input(\"introduzca la contraseña:\") # pregunta la contraseña\n",
        "\n",
        "if Secret == \"secreto\": # Verifica si se cumple la condición\n",
        "    print (\"Bienvenido!!!!!\")\n",
        "\n",
        "print(\"El programa ha terminado\")"
      ]
    },
    {
      "attachments": {},
      "cell_type": "markdown",
      "metadata": {
        "id": "mTiFRd29n8Mk"
      },
      "source": [
        "## <font color='157699'> **Estructura condicional doble** </font>\n",
        "\n",
        "Extiende la estructura simple descrita anteriormente. La estructura condicional doble permite elegir entre dos opciones\n",
        "o alternativas posibles, en función del cumplimiento o no de una determinada condición. Si la condición es verdadera, se ejecuta una acción y, si es falsa, se ejecuta otra acción diferente.\n",
        "\n",
        "<img src=\"https://udearroba.udea.edu.co/imagescourses/2022C343_alprog_V1/colab-u2/mf5-condicionales2.png\">\n",
        "\n",
        "La sintaxis para escribir este tipo de estructuras podría verse de la siguiente forma:\n",
        "```Python\n",
        "If (Condición) Then\n",
        "    Instrucciones a realizar si la condición es verdadera\n",
        "Else\n",
        "    Instrucciones a realizar si la condición es falsa\n",
        "End If\n",
        "```\n",
        "\n",
        "Veamos un ejemplo:\n"
      ]
    },
    {
      "cell_type": "code",
      "execution_count": null,
      "metadata": {
        "id": "Z_1GZmzSn8Mm"
      },
      "outputs": [],
      "source": [
        "Secret = input(\"introduzca la contraseña:\") # pregunta la contraseña\n",
        "\n",
        "if Secret == \"secreto\": # Verifica si se cumple la condición\n",
        "    print (\"Bienvenido!!!!!\")\n",
        "else: # en caso de que no se cumpla la condición\n",
        "    print (\"Usted no es Bienvenido!!!!!\")\n",
        "\n",
        "print(\"El programa ha terminado\")"
      ]
    },
    {
      "attachments": {},
      "cell_type": "markdown",
      "metadata": {
        "id": "F_-FXMFIn8Mt"
      },
      "source": [
        "## <font color='157699'> **Estructura condicional anidada** </font>\n",
        "\n",
        "Las estructuras de selección no necesariamente implican la selección de una de dos alternativas, es posible también utilizarlas  para diseñar estructuras de selección que contengan más alternativas. Por ejemplo, una estructura condicional puede contener otra estructura condicional, y esta estructura puede contener otra, y así sucesivamente cualquier número de veces\n",
        "\n",
        "<img src=\"https://udearroba.udea.edu.co/imagescourses/2022C343_alprog_V1/colab-u2/mf5-condicionales3.png\">\n",
        "\n",
        "La sintaxis para escribir este tipo de estructuras podrá verse de la siguiente forma:\n",
        "\n",
        "```Python\n",
        "If (Condición) Then\n",
        "    Instrucciones a realizar si la condición es verdadera\n",
        "    If (Condición) Then\n",
        "        Instrucciones a realizar si la condición es verdadera    \n",
        "    Else\n",
        "        Instrucciones a realizar si la condición es falsa\n",
        "    End If\n",
        "Else\n",
        "    Instrucciones a realizar si la condición es falsa\n",
        "End If\n",
        "```\n",
        "\n",
        "Veamos un ejemplo:\n",
        "\n"
      ]
    },
    {
      "cell_type": "code",
      "execution_count": null,
      "metadata": {
        "id": "oqB0vJCcn8Mt",
        "outputId": "b58e4c52-b577-497d-b8ba-35a28f94b223"
      },
      "outputs": [
        {
          "name": "stdout",
          "output_type": "stream",
          "text": [
            "El programa ha terminado\n"
          ]
        }
      ],
      "source": [
        "Secret = input(\"introduzca la contraseña:\") # pregunta la contraseña\n",
        "\n",
        "if Secret != \"\": # Verifica si se cumple la primera condición que en este caso es que la variable Secret tenga algo, que sea diferente de vacío\n",
        "    if Secret != \"secreto\":# Verifica si se cumple la segunda condición\n",
        "        print (\"Bienvenido!!!!!\")\n",
        "    else: # en caso de que no se cumpla la segunda condición\n",
        "        print (\"Usted no es Bienvenido!!!!!\")\n",
        "else:\n",
        "    print(\"Debe ingresar algo\")        \n",
        "\n",
        "print(\"El programa ha terminado\")"
      ]
    },
    {
      "attachments": {},
      "cell_type": "markdown",
      "metadata": {
        "id": "zciarGR6n8Mw"
      },
      "source": [
        "De manera alternativa, las condiciones pueden anidarse de modo que se verifique una de de las condiciones y no todas ellas, para lo que se usa la instrucción 'Elseif'. Al cumplirse una de dichas instrucciones las siguientes no se evaluarán. \n",
        "```\n",
        "If (Condición) Then\n",
        "    Instrucciones a realizar si la condición es verdadera\n",
        "    Elseif (Condición) Then\n",
        "        Instrucciones a realizar si la condición es verdadera    \n",
        "    Elseif (Condición) Then\n",
        "        Instrucciones a realizar si la condición es verdadera\n",
        "Else\n",
        "    Instrucciones a realizar si la condición es falsa\n",
        "    Elseif (Condición) Then\n",
        "        Instrucciones a realizar si la condición es verdadera\n",
        "    Elseif (Condición) Then\n",
        "        Instrucciones a realizar si la condición es verdadera\n",
        "End If\n",
        "```\n",
        "\n",
        "Considera el siguiente ejemplo y experimenta con los diferentes valores:"
      ]
    },
    {
      "cell_type": "code",
      "execution_count": null,
      "metadata": {
        "id": "YJejeZ7Hn8Mx"
      },
      "outputs": [],
      "source": [
        "Secret = input(\"introduzca la contraseña:\") # pregunta la contraseña\n",
        "\n",
        "if Secret != \"\": # Verifica si se cumple la primera condición que en este caso es que la variable Secret tenga algo, que sea diferente de vacío\n",
        "    if Secret != \"secreto\":# Verifica si se cumple la segunda condición\n",
        "        print (\"Bienvenido!!!!!\")\n",
        "    else: # en caso de que no se cumpla la segunda condición\n",
        "        print (\"Usted no es Bienvenido!!!!!\")\n",
        "else:\n",
        "    print(\"Debe ingresar algo\")        \n",
        "\n",
        "print(\"El programa ha terminado\")\n"
      ]
    },
    {
      "attachments": {},
      "cell_type": "markdown",
      "metadata": {
        "id": "-xd8EDBpn8M0"
      },
      "source": [
        "Para ello, debes hacer que solo se evalúe la segunda condición si la primera no es verdadera."
      ]
    },
    {
      "cell_type": "code",
      "execution_count": null,
      "metadata": {
        "id": "NcGKGMnyn8M1"
      },
      "outputs": [],
      "source": [
        "entrada = input(\"ingrese la edad del cliente:\") # pregunta la edad del cliente\n",
        "edad = int(entrada)\n",
        "if edad < 18: # Menor de 18\n",
        "       print(\"El cliente es menor de edad \")\n",
        "elif edad >= 18: # Mayor de 18\n",
        "       print(\"El cliente es mayor de edad\")\n",
        "else:  # no es un valor válido\n",
        "       print(\"La edad debe ser un número no negativo\")\n",
        "\n"
      ]
    }
  ],
  "metadata": {
    "accelerator": "GPU",
    "colab": {
      "provenance": []
    },
    "kernelspec": {
      "display_name": "Python 3 (ipykernel)",
      "language": "python",
      "name": "python3"
    },
    "language_info": {
      "codemirror_mode": {
        "name": "ipython",
        "version": 3
      },
      "file_extension": ".py",
      "mimetype": "text/x-python",
      "name": "python",
      "nbconvert_exporter": "python",
      "pygments_lexer": "ipython3",
      "version": "3.9.13"
    }
  },
  "nbformat": 4,
  "nbformat_minor": 0
}
