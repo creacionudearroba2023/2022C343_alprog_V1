{
  "cells": [
    {
      "cell_type": "markdown",
      "metadata": {
        "id": "XIGd9K7wxpoG"
      },
      "source": [
        "<img src=\"https://udearroba.udea.edu.co/imagescourses/2022C343_alprog_V1/banner-colab.png\">"
      ]
    },
    {
      "cell_type": "markdown",
      "metadata": {
        "id": "WF4yObsVrPw6"
      },
      "source": [
        "<font color='3E779E'> <h1>**Ciclos**</h1>\n",
        "\n",
        "En un programa es usual encontrar segmentos de código que deben ejecutarse de forma repetida. Una de las alternativas que tenemos son los bucles, también conocidos como ciclos. Estos se utilizan en específico para repetir el código <strong>un número determinado de veces</strong>. Entonces, a cada <em> repetición</em> individual la llamamos una <strong>iteración</strong>.\n",
        "\n",
        "Analicemos los siguientes ejemplos: \n",
        "\n",
        "<font color='45adcff'> <h2> Ejemplo 1 </h2>\n",
        "\n",
        "Tenemos una lista de frutas y sus precios:\n",
        "\n",
        "*   Maracuyá - 5000\n",
        "*   Guayaba - 2000\n",
        "*   Mora - 4000\n",
        "*   Mandarina - 5000\n",
        "*   Sandía - 10000\n",
        "\n",
        "Queremos saber cuánto valen las frutas juntas. Con el siguiente programa podemos saberlo: \n",
        "\n",
        "\n"
      ]
    },
    {
      "cell_type": "code",
      "execution_count": null,
      "metadata": {
        "id": "RSyNLipyOpAd",
        "outputId": "aadffef6-5b39-4481-94a2-fe9192d06b2d"
      },
      "outputs": [
        {
          "name": "stdout",
          "output_type": "stream",
          "text": [
            "El total es:  26000\n"
          ]
        }
      ],
      "source": [
        "PrecioFrutas = [5000,2000,4000,5000,10000]\n",
        "total = 0 \n",
        "\n",
        "for i in range(len(PrecioFrutas)): # Repite para todas las notas que tenga\n",
        "    total = total + PrecioFrutas[i] # Suma la nota a total\n",
        "\n",
        "print(\"El total es: \", total)# Imprime promedio"
      ]
    },
    {
      "cell_type": "markdown",
      "metadata": {
        "id": "JCtwWbF3rPxE"
      },
      "source": [
        "<font color='45adcff'> <h2>Ejemplo 2 </h2>\n",
        "\n",
        "El programa genera un número aleatorio entre 0 y 9 que no conocemos, por lo cual se deben señalar números hasta que logre adivinarlo."
      ]
    },
    {
      "cell_type": "code",
      "execution_count": null,
      "metadata": {
        "colab": {
          "base_uri": "https://localhost:8080/"
        },
        "id": "vm8oHPPjrPxF",
        "outputId": "17d3b9e2-3b44-456a-93e1-e2cd22d406e6"
      },
      "outputs": [
        {
          "name": "stdout",
          "output_type": "stream",
          "text": [
            "Ingrese un número entre 0 y 9 0\n",
            "No has ganado, sigue intentado\n",
            "Ingrese un número entre 0 y 9 2\n",
            "No has ganado, sigue intentado\n",
            "Ingrese un número entre 0 y 9 3\n",
            "Has ganado! Felicitaciones!\n"
          ]
        }
      ],
      "source": [
        "import random # importa random\n",
        "\n",
        "aleatorio = random.randint(0, 9) # Genera un número aletaorio entre 0 y 9\n",
        "noAdivina = True # no Adivina el número\n",
        "\n",
        "while noAdivina:\n",
        "    escogidoStr = input(\"Ingrese un número entre 0 y 9 \") # Ingresar número\n",
        "    escogidoInt = int(escogidoStr) # Convierte a entero el número ingresado como string\n",
        "\n",
        "    # Verifica si adivina el número\n",
        "    if aleatorio == escogidoInt : \n",
        "        print(\"Has ganado! Felicitaciones!\")\n",
        "        noAdivina = False # adivina el número y cambia a False \n",
        "    else: \n",
        "        print(\"No has ganado, sigue intentado\")"
      ]
    },
    {
      "cell_type": "markdown",
      "metadata": {
        "id": "EEUdzpzrrPxJ"
      },
      "source": [
        "Nota que en este caso no se conoce de manera previa el número de veces que debe repetirse la instrucción que solicita ingresar un número. \n",
        "\n",
        "\n"
      ]
    },
    {
      "cell_type": "markdown",
      "metadata": {
        "id": "Yia3ra0FrPxL"
      },
      "source": [
        "## <font color='3E779E'> **Ciclo while**\n",
        "\n",
        "Esta estructura se encarga de ejecutar una misma instrucción o conjunto de instrucciones **mientras** que una determinada condición se cumpla. \n",
        "Por ejemplo: mientras que el número ingresado no sea igual al generado por el computador, se solicita un nuevo número.\n",
        "\n",
        "El cuerpo del bucle se repite mientras se cumple una determinada condición. Al ejecutar la estructura, primero se evalúa la condición (una expresión booleana, es decir, de tipo falso o verdadero). Si la expresión se evalúa falsa, no se toma ninguna acción y el programa prosigue con la siguiente instrucción después del bucle o ciclo while. Si la expresión booleana es verdadera, entonces se ejecutan las instrucciones en el cuerpo de while, luego se evalúa de nuevo la expresión booleana. Este proceso se repite una y otra vez siempre y cuando la expresión booleana (condición) sea verdadera.\n",
        "\n",
        "<img src=\"https://udearroba.udea.edu.co/imagescourses/2022C343_alprog_V1/colab-u2/mf7-ciclo1-while.png\">\n",
        "\n",
        "\n",
        "\n",
        "La sintaxis para escribir este tipo de estructuras es la siguiente:\n",
        "```\n",
        "while (Condición) do\n",
        "    Instrucciones a realizar si la condición es verdadera\n",
        "end while\n",
        "```\n",
        "\n",
        "<font color='45adcff'> <h2>Ejemplo 3</h2>\n",
        "\n",
        "Crearemos un programa que le pida al usuario adivinar un color. Por defecto, el color a adivinar será rojo."
      ]
    },
    {
      "cell_type": "code",
      "execution_count": null,
      "metadata": {
        "id": "L1mCceVdrPxN",
        "outputId": "929ed137-8bb1-4ee0-98cf-24465fc43e84"
      },
      "outputs": [
        {
          "name": "stdout",
          "output_type": "stream",
          "text": [
            "Intenta de nuevo\n",
            "Intenta de nuevo\n",
            "Intenta de nuevo\n",
            "Adivinaste\n"
          ]
        }
      ],
      "source": [
        "ColorIngresado = True\n",
        "while ColorIngresado:\n",
        "\n",
        "        # Solicitud de ingreso de color\n",
        "        ColorIngresado = input(\"Escribe el nombre de algún color\")\n",
        "        # Validación del input contra la condición (en este caso que sea igual a rojo)\n",
        "        if(ColorIngresado == 'rojo'):\n",
        "               print(\"Adivinaste\")\n",
        "               ColorIngresado = not ColorIngresado   \n",
        "        else:\n",
        "                print(\"Intenta de nuevo\")      "
      ]
    },
    {
      "cell_type": "markdown",
      "metadata": {
        "id": "ujBs2F4_rPxS"
      },
      "source": [
        "### <font color='45adcff'> Ejemplo 2\n",
        "\n",
        "Diseñaremos un programa que recorra una cadena de texto y que busque la letra 'Q' al interior de ella. En caso de que la letra no exista, el bucle deberá cerrarse."
      ]
    },
    {
      "cell_type": "code",
      "execution_count": null,
      "metadata": {
        "colab": {
          "base_uri": "https://localhost:8080/"
        },
        "id": "fM0z5gj0rPxT",
        "outputId": "e0a0af68-23cc-4913-fa90-3669ead84c5f"
      },
      "outputs": [
        {
          "name": "stdout",
          "output_type": "stream",
          "text": [
            "Examinando la letra número 0 que corresponde a p\n",
            "Examinando la letra número 1 que corresponde a r\n",
            "Examinando la letra número 2 que corresponde a o\n",
            "Examinando la letra número 3 que corresponde a q\n",
            "la letra 3 es una Q, bucle terminado\n"
          ]
        }
      ],
      "source": [
        "\n",
        "palabra = input(\"Ingrese la palabra a examinar\")\n",
        "\n",
        "\n",
        "LongitudPalabra = len(palabra)\n",
        "i = 0\n",
        "EsUnaQ = True\n",
        "while EsUnaQ: # Verifica la condición\n",
        "    print(\"Examinando la letra número \" + str(i) + \" que corresponde a \" + palabra[i])\n",
        "    if palabra[i] == 'Q' or palabra[i] == 'q':\n",
        "        print(\"la letra \"+ str(i) + \" es una Q, bucle terminado\")\n",
        "        EsUnaQ = not EsUnaQ\n",
        "        break\n",
        "    if  i == (LongitudPalabra -1):\n",
        "        print(\"Se acabaron las letras y no se encontró una Q\")\n",
        "        break\n",
        "    i = i + 1\n",
        "  "
      ]
    },
    {
      "cell_type": "markdown",
      "metadata": {
        "id": "egriIU-krPxa"
      },
      "source": [
        "## <font color='3E779E'> **Ciclo for**\n",
        "\n",
        "En ocasiones, se conoce de manera previa el número de veces que se desean ejecutar las acciones de un bucle o ciclo.\n",
        "En casos en que el número de iteraciones sea fijo, se debe usar la estructura for (ITM, s.f., párr. 1). Esta estructura ejecuta las acciones del cuerpo del bucle un número específico de veces y de modo automático.\n",
        "\n",
        "<img src=\"https://udearroba.udea.edu.co/imagescourses/2022C343_alprog_V1/colab-u2/mf7-ciclo2-for.png\">\n",
        "\n",
        "La sintaxis para escribir este tipo de estructuras cambia según el lenguaje, pero en general podrá verse de la siguiente forma:\n",
        "```\n",
        "for i = a hasta b do\n",
        "    Instrucciones a realizar si la condición es verdadera\n",
        "end for\n",
        "```\n",
        "### <font color='45adcff'> Ejemplo 4\n",
        "\n",
        "Consideremos el siguiente programa que imprime los primeros cinco números pares."
      ]
    },
    {
      "cell_type": "code",
      "execution_count": null,
      "metadata": {
        "colab": {
          "base_uri": "https://localhost:8080/"
        },
        "id": "HNMFNyE6rPxb",
        "outputId": "a9b8316b-8372-4a3c-fcf6-a2a704c182c7"
      },
      "outputs": [
        {
          "name": "stdout",
          "output_type": "stream",
          "text": [
            "2\n",
            "4\n",
            "6\n",
            "8\n",
            "10\n"
          ]
        }
      ],
      "source": [
        "valor = 0 # Define el inicio en cero\n",
        "for contador in range(0,5): # Define el número de veces a iterar\n",
        "    valor = valor + 2 # suma dos al valor inicial\n",
        "    print(valor) # Imprime el valor "
      ]
    },
    {
      "cell_type": "markdown",
      "metadata": {
        "id": "jIQhTNZTrPxl"
      },
      "source": [
        "Ahora, asumamos que tenemos una cadena de caracteres (que en realidad es una colección de datos caracter). Nota cómo iteramos en ella con el ciclo for imprimiendo cada una de las letras."
      ]
    },
    {
      "cell_type": "code",
      "execution_count": null,
      "metadata": {
        "id": "-Mx15ChSrPxm",
        "outputId": "d09c6fc0-0b5f-4662-8be1-d89598a32965"
      },
      "outputs": [
        {
          "name": "stdout",
          "output_type": "stream",
          "text": [
            "Estamos en la letra : H\n",
            "Estamos en la letra : o\n",
            "Estamos en la letra : l\n",
            "Estamos en la letra : a\n",
            "Estamos en la letra : !\n"
          ]
        }
      ],
      "source": [
        "for letra in 'Hola!':  \n",
        "    print('Estamos en la letra :', letra)"
      ]
    },
    {
      "cell_type": "markdown",
      "metadata": {
        "id": "rK55MC8mPhNZ"
      },
      "source": [
        "<font color='45adcff'> <h2>Ejemplo</h2>\n",
        "\n",
        "Haremos un programa que al usar un ciclo for calcule el promedio de varias notas."
      ]
    },
    {
      "cell_type": "code",
      "execution_count": null,
      "metadata": {
        "id": "-a7XcJ0bPi4p",
        "outputId": "7de4c9df-1254-4b96-c0c2-9298b3304f40"
      },
      "outputs": [
        {
          "name": "stdout",
          "output_type": "stream",
          "text": [
            "Su promedio es:  4.116666666666667\n"
          ]
        }
      ],
      "source": [
        "notas = [3.5, 4.5, 3.8, 4.9, 3.7, 4.3]\n",
        "total = 0 # la suma inicial es 0\n",
        "\n",
        "for nota in notas: # Repite para todas las notas que tenga\n",
        "    total = total + nota # Suma la nota a total\n",
        "\n",
        "promedio = total/len(notas) # Divide el total de todas las notas entre el número de asignaturas\n",
        "print(\"Su promedio es: \", promedio)# Imprime promedio"
      ]
    },
    {
      "cell_type": "markdown",
      "metadata": {
        "id": "0loVK5osrPxo"
      },
      "source": [
        "### <font color='45adcff'> Ejemplo 2\n",
        "\n",
        "Realicemos un programa que cuente todas las letras de la frase 'Programar en Python es muy sencillo'.\n"
      ]
    },
    {
      "cell_type": "code",
      "execution_count": null,
      "metadata": {
        "colab": {
          "base_uri": "https://localhost:8080/",
          "height": 34
        },
        "id": "nbp_5Sgq_SY7",
        "outputId": "7d21af7b-24cd-460b-c45b-00e828af51b4"
      },
      "outputs": [
        {
          "name": "stdout",
          "output_type": "stream",
          "text": [
            "El número total de letras en la frase es:30\n"
          ]
        }
      ],
      "source": [
        "Frase = ['Programar', 'en', 'Python', 'es', 'muy', 'sencillo']\n",
        "TotalLetras = 0\n",
        "for Palabra in Frase:\n",
        "    TotalLetras = TotalLetras + len(Palabra)\n",
        "\n",
        "print('El número total de letras en la frase es:'+  str(TotalLetras))   "
      ]
    },
    {
      "cell_type": "markdown",
      "metadata": {
        "id": "lZDSzRoxrPxs"
      },
      "source": [
        "## <font color='3E779E'> **Ciclos anidados**\n",
        "\n",
        "Así como se pueden anidar estructuras de selección, es posible insertar un bucle dentro de otro.\n",
        "\"Las reglas para construir estructuras repetitivas anidadas son iguales en ambos casos: la estructura interna debe estar\n",
        "incluida totalmente dentro de la externa y no puede existir solapamiento\" (Universidad Nacional del Nordeste, s.f., p. 30).\n",
        "\n",
        "<img src=\"https://udearroba.udea.edu.co/imagescourses/2022C343_alprog_V1/colab-u2/mf7-ciclo3-anidado.png\">\n",
        "\n",
        "\n",
        "### <font color='45adcff'> Ejemplo 5\n",
        "El siguiente programa imprime las tablas de multiplicar del 1 al 10. Un primer ciclo recorre los números del 1 al 10, mientras que el segundo ciclo multiplica el valor actual del número en el primer ciclo por los números del 1 al 10. \n",
        "\n",
        "```\n",
        "for operando1 = 1 hasta 10 do\n",
        "    for operando2 = 1 hasta 10 do\n",
        "        producto = operando1*operando2\n",
        "        Imprime producto\n",
        "    end for\n",
        "end for\n",
        "```\n"
      ]
    },
    {
      "cell_type": "code",
      "execution_count": null,
      "metadata": {
        "id": "Qri5QaGHrPxt"
      },
      "outputs": [],
      "source": [
        "for op1 in range(1,11):\n",
        "   for op2 in range(1,11):\n",
        "      producto = op1*op2\n",
        "      print (producto, end=' ')\n",
        "   print()"
      ]
    },
    {
      "cell_type": "markdown",
      "metadata": {
        "id": "WmjbvDoCeB6u"
      },
      "source": [
        "**Referencias bibliográficas** \n",
        "\n",
        "\n",
        "*   ITM. (s.f.). *Estrcuturas cíclicas*. [Enlace](https://https://jorgesuaza76wixsite.com/facultaddeingenieria/ciclicas).\n",
        "*   Universidad Nacional del Nordeste. (s.f.). *Estructuras básicas*. [Enlace](https://https://exa.unne.edu.ar/ingenieria/computacion/Tema%206.pdf)\n",
        "\n",
        "\n",
        "\n",
        "\n",
        "\n"
      ]
    },
    {
      "cell_type": "markdown",
      "metadata": {
        "id": "HEHrBdR1xUkz"
      },
      "source": [
        "· Universidad deAntioquia · Ude@ Educación Virtual ·"
      ]
    }
  ],
  "metadata": {
    "accelerator": "GPU",
    "colab": {
      "provenance": []
    },
    "kernelspec": {
      "display_name": "Python 3",
      "name": "python3"
    },
    "language_info": {
      "codemirror_mode": {
        "name": "ipython",
        "version": 3
      },
      "file_extension": ".py",
      "mimetype": "text/x-python",
      "name": "python",
      "nbconvert_exporter": "python",
      "pygments_lexer": "ipython3",
      "version": "3.9.13"
    }
  },
  "nbformat": 4,
  "nbformat_minor": 0
}
