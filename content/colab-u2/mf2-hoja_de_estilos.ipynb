{
  "cells": [
    {
      "cell_type": "markdown",
      "metadata": {
        "id": "M91_0JOVkCJO"
      },
      "source": [
        "<img src=\"https://udearroba.udea.edu.co/imagescourses/2022C343_alprog_V1/banner-colab.png\">"
      ]
    },
    {
      "cell_type": "markdown",
      "metadata": {
        "id": "_1TFvChEs2hE"
      },
      "source": [
        "\n",
        "## <font color='3E779E'> **¿Qué es la hoja de estilo PEP 8?**</font>\n",
        "\n"
      ]
    },
    {
      "cell_type": "markdown",
      "metadata": {
        "id": "KkpbWPZdtVG4"
      },
      "source": [
        "Python Enhancement Proposal 8 (PEP 8) es una guía de estilo para escribir código Python, se utiliza de forma amplia en la comunidad de programación de Python. Esta guía proporciona recomendaciones para la escritura de código de manera consistente y legible, su fin es mejorar su calidad, mantenibilidad y legibilidad.\n",
        "La hoja de estilo PEP define conceptos como la indentación, la longitud de las líneas, las líneas en blanco y la guía de importación de otros paquetes.\n",
        "En general, algunos puntos clave son:\n",
        "* Utiliza sangría de cuatro espacios para indicar bloques de código. No se recomienda usar tabulaciones.\n",
        "* Limita la longitud de la línea a 79 caracteres. Si debe ser más larga, se puede dividir en varias líneas con la convención de continuación de línea (\\).\n",
        "* Usa nombres de variables y funciones que sean claros y descriptivos. Utiliza mayúsculas y minúsculas de forma coherente para mejorar la legibilidad.\n",
        "* Utiliza espacios alrededor de operadores y después de las comas para mejorar la legibilidad.\n",
        "* Escribe cadenas de documentación para todas las funciones, clases y módulos.\n",
        "* Importa módulos en líneas separadas y ordénalos de manera alfabética.\n",
        "* No uses espacios en blanco al final de la línea.\n",
        "* Usa los nombres de clase **CamelCase**, los nombres de función en minúsculas con guiones bajos y los nombres de constantes en mayúsculas.\n",
        "\n",
        "\n",
        "\n"
      ]
    },
    {
      "cell_type": "markdown",
      "metadata": {
        "id": "eq4WaK4oIFwk"
      },
      "source": [
        "\n",
        "## <font color='3E779E'> **Diseño de código**</font>"
      ]
    },
    {
      "cell_type": "markdown",
      "metadata": {
        "id": "tbcTdtJbCVtT"
      },
      "source": [
        "## <font color='45adcff'> **CamelCase** </font>\n",
        "En Python, **CamelCase** es un método de codificación para nombrar variables, funciones y clases. Se utiliza para crear identificadores de varias palabras, donde cada una (excepto la primera) comienza con una letra mayúscula. El propósito de las convenciones de CamelCase es mejorar la legibilidad y comprensión del código. Hay dos estilos:\n",
        "\n",
        "**1. UpperCamelCase o PascalCase**: en este estilo la primera letra de cada palabra se escribe en mayúscula, incluso la primera palabra, por ejemplo:"
      ]
    },
    {
      "cell_type": "code",
      "execution_count": null,
      "metadata": {
        "id": "cHfrmPksCo5j"
      },
      "outputs": [],
      "source": [
        "class MiClase:\n",
        "    def miMetodo(self):\n",
        "        pass"
      ]
    },
    {
      "cell_type": "markdown",
      "metadata": {
        "id": "nIJ3-OyIC-SD"
      },
      "source": [
        "**2. lowerCamelCase**: en este estilo la primera letra de cada palabra, excepto la primera palabra, se escribe en mayúscula. Por ejemplo:"
      ]
    },
    {
      "cell_type": "code",
      "execution_count": null,
      "metadata": {
        "id": "I942xByXDCqr"
      },
      "outputs": [],
      "source": [
        "miVariable = 5\n",
        "def miFuncion():\n",
        "    pass"
      ]
    },
    {
      "cell_type": "markdown",
      "metadata": {
        "id": "fYjKvLnH-ux6"
      },
      "source": [
        "## <font color='45adcff'> **Indentación** </font>\n",
        "En Python, a diferencia de otros lenguajes de programación que usan llaves o palabras clave para separar bloques de código, se acude a la **indentación** para definir la estructura y la jerarquía del código. La indentación tambien se puede definir como una sangría o grupo de espacios que se muestran al comienzo de una línea. Esta se utiliza para agrupar sentencias que forman parte de una estructura de control, una función, un bucle o una sentencia condicional. Todas las declaraciones con la misma indentación se consideran parte del mismo bloque de código.\n",
        "\n",
        "Python no usa {} o *begin - end* para designar bloques de código como otros lenguajes de programación, sino que utiliza bloques indentados para indicar que un determinado bloque de código pertenece a ese espacio. Python solo aplica la cantidad de indentación para definir la lógica.\n",
        "\n",
        "A continuación, te mostramos cómo se puede usar en la definición de una clase o de una función:\n"
      ]
    },
    {
      "cell_type": "code",
      "execution_count": null,
      "metadata": {
        "id": "jYTcdDxhIYsc"
      },
      "outputs": [],
      "source": [
        "def mi_funcion():\n",
        "    # Declaraciones dentro de la función\n",
        "    declaracion1  #statement en inglés\n",
        "    declaracion2\n"
      ]
    },
    {
      "cell_type": "markdown",
      "metadata": {
        "id": "5G6iyS_WILvM"
      },
      "source": [
        "**Ten presente:**\n",
        "\n",
        "* Los bloques de código se denotan por indentación de línea, la cual se aplica estrictamente.\n",
        "* El número de espacios en la indentación es variable, pero todas las declaraciones dentro del bloque deben indentarse en la misma cantidad."
      ]
    },
    {
      "cell_type": "code",
      "execution_count": null,
      "metadata": {
        "id": "HPscym_EDfhA"
      },
      "outputs": [],
      "source": [
        "def counter(x, times, step):\n",
        "   for i in range(times):\n",
        "        x += step\n",
        "        return x\n",
        "\n",
        "        counter(4,3,2)\n",
        "\n",
        "        if 'a' in 'Hola!':\n",
        "          print('Si')\n",
        "        else:\n",
        "          print('No')\n"
      ]
    },
    {
      "cell_type": "markdown",
      "metadata": {
        "id": "3Y0UVxKJEmoz"
      },
      "source": [
        "Ten en cuenta que en Python la indentación debe ser la misma en todo el código. En general, se considera una buena práctica usar espacios (lo ususal son cuatro espacios) como indentaciones en lugar de tabulaciones, porque pueden surgir problemas si se mezclan ambos tipos. La indentación adecuada es esencial para que el código funcione de manera correcta y sea legible. Si no se mantiene la indentación precisa, Python generará un error de sintaxis y el programa no se ejecutará de forma exitosa."
      ]
    },
    {
      "cell_type": "code",
      "execution_count": null,
      "metadata": {
        "id": "7omjpVkUiQdc"
      },
      "outputs": [],
      "source": []
    },
    {
      "cell_type": "markdown",
      "metadata": {
        "id": "HKE6Px-ME-jI"
      },
      "source": [
        "## <font color='45adcff'> **Identificadores** </font>\n",
        "En Python, es un nombre que se usa para identificar una variable, función, clase, módulo u otro objeto en el código. Estos nombres sirven para referirse y realizar operaciones en objetos; además, seguir estas reglas y convenciones permite mantener un código legible y consistente. Los principales elementos, reglas o conveciones que debes tener en cuenta para definir los identificadores son:\n",
        "\n",
        "**Reglas básicas**\n",
        "* Los identificadores pueden contener letras (mayúsculas o minúsculas), números y guiones bajos. Por ejemplo: comienzan con una letra de la 'A' a la 'Z' (minúscula o mayúscula) o un guion bajo, seguido de cero o más letras, guiones bajos y dígitos (del 0 al 9).\n",
        "* Deben comenzar con una letra o un guion bajo, pero no pueden empezar con un número. Python distingue entre mayúsculas y minúsculas, por lo que los identificadores 'miVariable' y 'mivariable' se tratan como distintos.\n",
        "*No permite caracteres especiales dentro de los identificadores.\n",
        "\n",
        "**Convención de nomenclatura**\n",
        "* Se recomienda que los identificadores reciban nombres descriptivos que sean significativos y reflejen su propósito o función.\n",
        "* Python usa el estilo de escritura snake_case, en donde las palabras se pueden separar por un guion bajo. Por ejemplo: mi_variable, clase_persona, método_caminar, etc.\n",
        "* Los identificadores que comienzan con un solo guion bajo (_foo) se usan para indicar que un objeto o variable es \"privado\" o para uso interno, pero esta convención en realidad no restringe el acceso a ese objeto.\n",
        "\n",
        "**Palabras reservadas**\n",
        "* Python tiene un conjunto de palabras clave que no se pueden usar como identificadores, porque están definidas en el lenguaje. Algunas palabras reservadas de uso común son: **if, else, for, while, def, class, import**, etc.\n",
        "\n",
        "A continuación, te mostramos algunos identificadores validos en Python:"
      ]
    },
    {
      "cell_type": "code",
      "execution_count": null,
      "metadata": {
        "id": "DHG2XU2FMZFx"
      },
      "outputs": [],
      "source": [
        "numeroId=\"123456789\"\n",
        "miEdad=23\n",
        "nivel_academico = \"universitario\"\n",
        "precio_total=25*10\n",
        "#Ejemplo de como nombrar una función\n",
        "def mi_funcion():\n",
        "    pass"
      ]
    },
    {
      "cell_type": "markdown",
      "metadata": {
        "id": "utvJWLyEMlr8"
      },
      "source": [
        "## <font color='45adcff'> **Comentarios en Python** </font>\n",
        "En Python, son para agregar información o comentar sobre el código, estos no se ejecutan como parte del programa. Los comentarios son importantes para que el código sea comprensible y ayudan a otros desarrolladores a comprender la intención al escribir el código. Las formas de usarlos son:\n",
        "\n",
        "**Comentarios de una sola linea**\n",
        "* Un signo de hash (#) al inicio de la línea de código y que no esté dentro de comillas. Todos los caracteres después del #, hasta el final de la línea física, son parte del comentario y el intérprete de Python los ignora.\n",
        "\n",
        "**Forma abreviada: Ctrl + /***"
      ]
    },
    {
      "cell_type": "code",
      "execution_count": null,
      "metadata": {
        "colab": {
          "base_uri": "https://localhost:8080/"
        },
        "id": "beJpz0toFLt4",
        "outputId": "2f5e390f-ee91-48e3-eb3c-470107533108"
      },
      "outputs": [
        {
          "data": {
            "text/plain": [
              "23"
            ]
          },
          "execution_count": 15,
          "metadata": {},
          "output_type": "execute_result"
        }
      ],
      "source": [
        "# Suma de dos numeros\n",
        "20+3"
      ]
    },
    {
      "cell_type": "markdown",
      "metadata": {
        "id": "N3LY9H17OXHP"
      },
      "source": [
        "**Comentarios de varias líneas:**\n",
        "\n",
        "Utiliza triple comillas (''' o \"\"\") para agregar comentarios que abarquen varias líneas de código.\n"
      ]
    },
    {
      "cell_type": "code",
      "execution_count": null,
      "metadata": {
        "id": "T4RABO6XOca3"
      },
      "outputs": [],
      "source": [
        "'''\n",
        "Agrego comentarios\n",
        "a mi primer programa\n",
        "con Python\n",
        "'''\n",
        "\n",
        "\"\"\"\n",
        "Agrego comentarios\n",
        "a mi primer programa\n",
        "con Python\n",
        "\"\"\""
      ]
    },
    {
      "cell_type": "markdown",
      "metadata": {
        "id": "7pSYyVuOOuB1"
      },
      "source": [
        "**Comentarios en el final de una línea de código:**\n",
        "\n",
        "Son aquellos que se pueden agregar al final de una línea de código por medio de #. Se usan para aclarar o agregar contexto a una línea de código específica."
      ]
    },
    {
      "cell_type": "code",
      "execution_count": null,
      "metadata": {
        "id": "k8OsXmtOO7T3"
      },
      "outputs": [],
      "source": [
        "precio_total = 10*25 #Cantidad por precio unitario del producto\n",
        "def mi_funcion():#Esta función esta definida para ...\n",
        "    pass\n"
      ]
    },
    {
      "cell_type": "markdown",
      "metadata": {
        "id": "Wy5TJz6tPxfg"
      },
      "source": [
        "La guía PEP 8 (s.f.) contempla muchas reglas sobre cómo tratar los comentarios. A continuación, citamos sus indicaciones al respecto:\n",
        "\n",
        "* Los comentarios pueden ser contradictorios, por lo que requieren actualización con el código. Es más adecuado si se pueden evitar.\n",
        "* Deben componerse de frases completas.\n",
        "* Deben comenzar en mayúscula, a no ser que comiencen con el nombre de un identificador. En tal caso, se debe respetar siempre su tamaño.\n",
        "* Se utiliza como buena práctica escribir los comentarios en el idioma dominante de los participantes o clientes del proyecto. Por lo general, se recomienda utilizar el inglés (no es obligatorio); esto dado que es una de las lenguas más habladas en el mundo y en caso de que el proyecto escale a otros países.\n",
        "* Los bloques se aplican al código justo despues de donde se encuentran y con la misma indentación.\n",
        "* Los comentarios de línea comienzan con al menos dos espacios, un # y un espacio después.\n",
        "* Las cadenas de documentacion (*docstrings*) deben añadirse en clases, funciones y métodos que sean públicos, de acuerdo con el PEP 257."
      ]
    },
    {
      "cell_type": "code",
      "execution_count": null,
      "metadata": {
        "id": "s20439uwQBaN"
      },
      "outputs": [],
      "source": [
        "# Comentario de una línea antes del código principal\n",
        "def mi_funcion():\n",
        "    \"\"\"\n",
        "    Docstring para describir qué hace la función\n",
        "    primer_parametro -- descripcion del primer parámetro\n",
        "    segundo_parametro -- descripcion del segundo parámetro\n",
        "    \"\"\"\n",
        "    pass"
      ]
    },
    {
      "cell_type": "markdown",
      "metadata": {
        "id": "vEce2PR3MFKh"
      },
      "source": [
        "## <font color='45adcff'> **El uso de las comillas** </font>\n",
        "Para utilizarlas en el código, ten en cuenta que:\n",
        "* Se aceptan comillas simples ('), dobles (\") y triples (''' o \"\"\") para denotar cadenas de texto.\n",
        "* El mismo tipo de comillas comienza y finaliza la cadena.\n",
        "* Las comillas triples se utilizan para abarcar la cadena de comentarios en múltiples líneas.\n"
      ]
    },
    {
      "cell_type": "code",
      "execution_count": null,
      "metadata": {
        "id": "gyFWhWbTXKpP"
      },
      "outputs": [],
      "source": [
        "palabra = 'palabra'"
      ]
    },
    {
      "cell_type": "code",
      "execution_count": null,
      "metadata": {
        "id": "93UcKTvfXOZm"
      },
      "outputs": [],
      "source": [
        "oracion = \"Esto es una oracion\""
      ]
    },
    {
      "cell_type": "code",
      "execution_count": null,
      "metadata": {
        "id": "7BWof9_kXVCb"
      },
      "outputs": [],
      "source": [
        "parrafo = \"\"\"Esto es un parrafo.\n",
        "Esta hecho con mutiples oraciones.\"\"\""
      ]
    },
    {
      "cell_type": "markdown",
      "metadata": {
        "id": "U4h8S1S6CeHT"
      },
      "source": [
        "## <font color='45adcff'> **Posición de líneas en blanco** </font>\n",
        "Cuando se definen conceptos y lógica en Python, es relevante el uso de líneas en blanco a añadir. Ten presente:\n",
        "\n",
        "\n",
        "* **2 líneas en blanco**: rodeando a funciones de nivel principal y definición de clases.\n",
        "* **1 línea en blanco**: definición de métodos dentro de una clase.\n",
        "* **1 línea extra**: entre bloques lógicos de código diferentes.\n",
        "* **1 línea en blanco al final del fichero**: todos los módulos en Python deben de terminar con una línea en blanco si tienen contenido.\n",
        "* **control-L (^L)**: se utiliza para separar páginas, aunque algunos editores de texto lo omiten.\n",
        "\n"
      ]
    },
    {
      "cell_type": "markdown",
      "metadata": {
        "id": "FiciFTWhE6Kw"
      },
      "source": [
        "## <font color='45adcff'> **Posición de los operadores** </font>\n",
        "Cuando se tienen muchos operadores en nuevas líneas, estas deben comenzar con el operador.\n",
        "\n"
      ]
    },
    {
      "cell_type": "code",
      "execution_count": null,
      "metadata": {
        "colab": {
          "base_uri": "https://localhost:8080/"
        },
        "id": "6s83ahIuIfc-",
        "outputId": "14ccb46e-0a78-4bc3-ff9e-0787ee38ac7e"
      },
      "outputs": [
        {
          "name": "stdout",
          "output_type": "stream",
          "text": [
            "65\n"
          ]
        }
      ],
      "source": [
        "edad_estudiantes = (20\n",
        "                    +25\n",
        "                    +20)\n",
        "print(edad_estudiantes)"
      ]
    },
    {
      "cell_type": "markdown",
      "metadata": {
        "id": "rzqGHEDpE76g"
      },
      "source": [
        "## <font color='45adcff'> **Importaciones de código** </font>\n",
        "En Python, la importación de código se usa para incluir y usar la funcionalidad de otros módulos o bibliotecas al programa. Las importaciones permiten acceder a funciones, clases y variables definidas en otros archivos de Python, lo que facilita el desarrollo de programas más complejos y potentes. Hay varias formas de hacerlas en Python:\n"
      ]
    },
    {
      "cell_type": "code",
      "execution_count": null,
      "metadata": {
        "id": "R_ieHqADKAXC"
      },
      "outputs": [],
      "source": [
        "# Forma apropiada de escribir el código\n",
        "import json\n",
        "import sys\n",
        "\n",
        "# Bien\n",
        "from json import dump, load\n",
        "\n",
        "# importacion absoluta\n",
        "import pkg.funciones\n",
        "from pkg import funciones\n",
        "from pkg.funciones import mi_funcion\n",
        "\n",
        "# importacion relativa\n",
        "from . import funciones\n",
        "from .funciones import mi_funcion\n",
        "\n",
        "# evitar!\n",
        "from pkg import *"
      ]
    },
    {
      "cell_type": "markdown",
      "metadata": {
        "id": "sfU9mGYqUXvm"
      },
      "source": [
        "\n",
        "**Importar un modulo**\n",
        "\n",
        "Un **módulo** en Python es un fichero que tiene incorporado declaraciones de  funciones, clases o variables, y que puede ser importado y usado en otros módulos o ficheros. Los módulos tienen la extensión **.py*, por tanto, son accesibles al intérprete de Python y ejecutables por el núcleo de Python.\n",
        "* Se usa para importar el contenido de un módulo por medio de la palabra clave **import**, seguida del nombre del módulo. Al ser integrado se puede acceder a un elemento del módulo a través del nombre del módulo, seguido de un punto y el nombre de la funcion, variable o cualquier elemento que este contenga.\n",
        "\n"
      ]
    },
    {
      "cell_type": "code",
      "execution_count": null,
      "metadata": {
        "id": "7v6eSExFRwn_"
      },
      "outputs": [],
      "source": [
        "import modulo\n",
        "modulo.funcion()\n",
        "modulo.variable"
      ]
    },
    {
      "cell_type": "markdown",
      "metadata": {
        "id": "Z0zd6fHvT712"
      },
      "source": [
        "**Importar elementos de módulos específicos**\n",
        "\n",
        "Para importar un elemento específico de un módulo se debe utilizar la palabra clave **from**, seguida del nombre del módulo, la palabra clave **import** y el nombre del elemento. De esta manera, puedes acceder a los elementos sin usar el nombre del módulo.\n"
      ]
    },
    {
      "cell_type": "code",
      "execution_count": null,
      "metadata": {
        "id": "2Pc6r7MCULVs"
      },
      "outputs": [],
      "source": [
        "from modulo import funcion\n",
        "funcion()"
      ]
    },
    {
      "cell_type": "markdown",
      "metadata": {
        "id": "tAUj8He6U_Ik"
      },
      "source": [
        "**Importar todo desde el módulo con alias**\n",
        "\n",
        "Se puede importar todo el contenido de un módulo con la palabra clave ***import***. Para esto se le asigna un alias por medio de la palabra clave ***as***. Esto permite acceder a los elementos del módulo usando nombres más cortos o más convenientes.\n"
      ]
    },
    {
      "cell_type": "code",
      "execution_count": null,
      "metadata": {
        "id": "Km8IqHTQVF7E"
      },
      "outputs": [],
      "source": [
        "import modulo as mod\n",
        "mod.funcion()\n",
        "mod.variable"
      ]
    },
    {
      "cell_type": "markdown",
      "metadata": {
        "id": "TONO1et5VkRd"
      },
      "source": [
        "**Importar elementos del módulo con alias**\n",
        "\n",
        "Se puede importar un elemento específico de un módulo con la palabra clave ***from***, seguida del nombre del módulo, la palabra ***import***, el nombre del elemento y el alias junto con ***as***. Esto permite acceder a elementos por medio de un alias en lugar del nombre original.\n"
      ]
    },
    {
      "cell_type": "code",
      "execution_count": null,
      "metadata": {
        "id": "ThbhA8ybV0FN"
      },
      "outputs": [],
      "source": [
        "from modulo import clase as c\n",
        "c()"
      ]
    },
    {
      "cell_type": "markdown",
      "metadata": {
        "id": "cR1hL3Y2Kk3H"
      },
      "source": [
        "## <font color='45adcff'> **Variables de módulo** </font>\n",
        "Las variables de módulo definen ciertos aspectos generales:\n",
        "\n",
        "* _\"__all__\"_: define qué objetos se importarán al hacer uso de *import*.\n",
        "* ____author____: define el autor del módulo.\n",
        "* ____version____: define la versión del módulo actual.\n",
        "\n",
        "Todas estas definiciones se deben hacer al comienzo del módulo, justo debajo del bloque de importaciones.\n"
      ]
    },
    {
      "cell_type": "markdown",
      "metadata": {
        "id": "oXE7EBqlNIXM"
      },
      "source": [
        "## <font color='45adcff'> **Cadenas de caracteres** </font>\n",
        "Python admite diferentes tipos de caracteres para crear cadenas con comillas simples o triples, comillas simples y dobles.\n",
        "* **Comillas simples o dobles**: para cadenas de una o varias líneas.\n",
        "* **Tres comillas dobles**: para líneas de documentos y bloques de líneas. Puedes escapar de las comillas simples o dobles usando un tipo u otro."
      ]
    },
    {
      "cell_type": "code",
      "execution_count": null,
      "metadata": {
        "id": "c3fLUDZ9Nd3F"
      },
      "outputs": [],
      "source": [
        "def mi_funcion():\n",
        "    \"\"\"Sección de documentación con triples comillas dobles\"\"\"\n",
        "    pass\n",
        "\n",
        "a = \"Ander's car\"  # escapando ' al usar \"\n",
        "cita = 'Estaba conduciendo por \"la merma\" con el carro en la autopista y me multaron'  # escapando \" al usar '"
      ]
    },
    {
      "cell_type": "markdown",
      "metadata": {
        "id": "5uuwgwegN0Zm"
      },
      "source": [
        "## <font color='45adcff'> **Espacios en blanco** </font>\n",
        "Los espacios en blanco en Python se usan para aclarar o resaltar partes del código, pero deben ser usados con cuidado. En la siguiente línea se definen:\n",
        "\n",
        "* **Incluir espacios**: entre elementos separados por comas, aspectos de evaluación de tareas, comandos o bloques separadores de tareas.\n",
        "* **Evita espacios**: en los *slicings*, entre nombres de funciones y llamadas, entre variables y accesos internos por medio de [], entre operaciones lógicas o paréntesis vacíos."
      ]
    },
    {
      "cell_type": "markdown",
      "metadata": {
        "id": "xdkE2LOiO5HY"
      },
      "source": [
        "## <font color='45adcff'> **Comas finales** </font>\n",
        "El uso de una coma al final de una variable debe hacerse en una nueva línea y es mejor especificarlo. El uso de una coma al final de una variable crea una ***tupla***, que es un conjunto ordenado e inmutable de elementos del mismo o diferente tipo (Más adelante en el curso especificaremos en detalle su funcionalidad)."
      ]
    },
    {
      "cell_type": "code",
      "execution_count": null,
      "metadata": {
        "id": "HpIBEJEjPQjj"
      },
      "outputs": [],
      "source": [
        "#Ejemplo\n",
        "variable = ('123',)\n",
        "\n",
        "param1=20\n",
        "param2=30\n",
        "\n",
        "mi_funcion(param1,\n",
        "           param2,)"
      ]
    },
    {
      "cell_type": "markdown",
      "metadata": {
        "id": "D7DVSGpt2RUd"
      },
      "source": [
        "## <font color='45adcff'> **¿Qué es *name mangling*?** </font>\n",
        "En Python, es una técnica utilizada para cambiar el nombre de los atributos de una clase al agregar un prefijo especial. Su objetivo es evitar colisiones de nombres en clases que heredan propiedades de clases principales o padre.\n",
        "\n",
        "Cuando se agrega un guion bajo doble (__) al nombre de un atributo de clase se aplica de manera automática el *name mangling*. Cambia el nombre original del atributo al adicionar _ClassName antes del nombre original. Esto hace que la propiedad esté \"oculta\" y solo esté disponible dentro de la propia clase y sus subclases, de manera que evita colisiones de nombres en la herencia.\n",
        "\n",
        "La **herencia** es un concepto de programación orientada a objetos que le permite a una clase heredar atributos y métodos de otra clase.\n"
      ]
    },
    {
      "cell_type": "code",
      "execution_count": null,
      "metadata": {
        "id": "MTtm3ftr3_rt"
      },
      "outputs": [],
      "source": [
        "class MiClase:\n",
        "    def __init__(self):\n",
        "        self.__attribute_private = 2023\n",
        "\n",
        "    def __metod_private(self):\n",
        "        print(\"Es un método privado\")\n",
        "\n"
      ]
    },
    {
      "cell_type": "markdown",
      "metadata": {
        "id": "78NSpuVUQa-t"
      },
      "source": [
        "## <font color='45adcff'> **Convenciones al nombrar elementos** </font>\n",
        "Cuando escribes código, todo tiene un nombre: variable, clase, función, paquete, módulo, etc. Por eso es importante hacer que el código sea lo más legible posible de acuerdo con ciertas reglas. Las clases no tienen los mismos nombres que las funciones y no se recomienda usar nombres como *a* o *x*, ya que transmiten menos información. A continuación, te damos algunas recomendaciones:\n",
        "* Evita usar palabras reservadas. Por ejemplo, si es necesario usar 'class', acude a 'class_' como alternativa (ver sesión de identificadores).\n",
        "* Evita utilizar las letra *l* (letra L)  o/y *I* (I latina), ya que se pueden confundir.\n",
        "* Usa el guion bajo (_) más el nombre de la variable (ej:  _variable) para especificar uso interno. Por ejemplo: 'from m import'; así no importaría lo que empieza con _.\n",
        "* Puedes usar '__variable' para invocar el *name mangling* y hacer privadas determinadas variables o métodos. (Ver sesión sobre *name mangling*).\n",
        "* Para utilizar elementos como '__init__', que es un método especial y predeterminado para inicializar objetos cuando se crea una instancia de una clase, y otros similares, es necesario recurrir al nombre asignado por Python para su uso y no aplicar alias o nombres alternos.\n",
        "\n",
        "\n",
        "Python define cómo nombrar cada tipo tipo de elemento de su lenguaje. Te mostramos algunas buenas prácticas:\n",
        "\n",
        "* **Funciones**: para nombrarlas utiliza letras en minúscula separadas por  guion bajo: funcion, mi_funcion_de_prueba.\n",
        "* **Variables**: igual que las funciones: variable, mi_variable.\n",
        "* **Clases**: usa CamelCase, mayúscula y sin barra baja: MiClase, ClaseDePrueba.\n",
        "* **Métodos**: al igual que en las funciones, usa *snake case*: metodo, mi_metodo.\n",
        "Constantes: nómbralas con mayúsculas y sepáralas con barra baja: UNA_CONSTANTE, OTRA_CONSTANTE.\n",
        "* **Módulos**: igual que las funciones: modulo.py, mi_modulo.py.\n",
        "* **Paquetes**: en minúsculas, pero sin separar por barra bajas: paquete, mipaquete.\n"
      ]
    },
    {
      "cell_type": "code",
      "execution_count": null,
      "metadata": {
        "id": "CxGrguVySFT9"
      },
      "outputs": [],
      "source": [
        "#Ejemplo de como nombrar\n",
        "class MiClase():\n",
        "    def mi_primer_metodo(self, variable_a, variable_b):\n",
        "        return (variable_a + variable_b)\n",
        "\n",
        "\n",
        "mi_objeto = MiClase()\n",
        "print(mi_objeto.mi_primer_metodo(5, 5))"
      ]
    },
    {
      "cell_type": "markdown",
      "metadata": {
        "id": "kLMNTH5hF8qB"
      },
      "source": [
        "\n",
        "## <font color='3E779E'> **Formatear código con PEP 8: Linters y Autoformatters**</font>\n",
        "Los **linters** son programas incoporados en Python que realizan un análisis estático del código, permiten corregir errores al momento de la escritura.\n",
        "A veces puede ser difícil recordar todas las líneas de PEP8, por lo que existen herramientas que pueden autocorregir o marcar áreas problemáticas en el código.\n",
        "* Hay dos tipos: los linters como Flake8 o pycodestyle.\n",
        "* Autoformatters: se limitan a indicarnos dónde el código no cumple con las normas. En ciertos casos realiza las correcciones automáticamente.\n"
      ]
    },
    {
      "cell_type": "code",
      "execution_count": null,
      "metadata": {
        "id": "5ZJjeaivG0je"
      },
      "outputs": [],
      "source": [
        "#Ejemplo Autoformatters\n",
        "def MiFuncionSuma(A, B, C, imprime = True):\n",
        "    resultado=A+B+C\n",
        "    if imprime != False:\n",
        "        print(resultado)\n",
        "    return resultado\n",
        "a          = 4\n",
        "variable_b = 5\n",
        "var_c      = 1"
      ]
    },
    {
      "cell_type": "markdown",
      "metadata": {
        "id": "VHOGiO1NHcI-"
      },
      "source": [
        "El comando anterior te permitirá recibir una notificación de cualquier regla que el código esté violando, para que puedas corregirla. Es importante tener en cuenta que algunas rutas se autocorregen y otras no. Autopep8 puede corregir de forma automática cualquier cosa que implique el uso de espacios o líneas en blanco, sin embargo, no cambia los nombres de las variables. Por lo que si rompes las convenciones de nomenclatura de variables, tendrás que corregir de manera manual.\n",
        "El código anterior viola la siguiente regla:\n",
        "* E251: uso incorrecto de espacios en imprime = True, debería ser imprime=True.\n",
        "* E225: los operadores como el + deben usar espacios, A + B + C.\n",
        "* 712: usar if imprime en vez de if imprime != False.\n",
        "* E305: después de la declaración de una función debemos dejar dos espacios en blanco.\n",
        "* E221: no debemos usar tantos espacios al usar el operador = creando variables.\n",
        "También tenemos otros problemas relacionados con cómo nombrar a funciones y variables. Las funciones y variables deben ir en *snake case*. Lo veremos en detalle más adelante.\n",
        "Al corregirlo quedaría de la siguiente forma:"
      ]
    },
    {
      "cell_type": "code",
      "execution_count": null,
      "metadata": {
        "id": "Xyk1LHJmHqEN"
      },
      "outputs": [],
      "source": [
        "# script.py\n",
        "def mi_funcion_suma(a, b, c, imprime=True):\n",
        "    resultado = a + b + a\n",
        "    if imprime:\n",
        "        print(resultado)\n",
        "    return resultado\n",
        "\n",
        "\n",
        "a = 4\n",
        "variable_b = 5\n",
        "var_c = 10\n",
        "\n",
        "mi_funcion_suma(a, variable_b, var_c)"
      ]
    },
    {
      "cell_type": "markdown",
      "metadata": {
        "id": "koGdeb1tDraS"
      },
      "source": [
        "**Es importante tener en cuenta que las convenciones de estilo en Python son sugerencias, no reglas estrictas y rápidas.\n",
        "\n",
        "Te recomendamos seguir estas reglas para mantener el código coherente y legible, de forma que le facilite a otros programadores colaborar y comprender el código.**\n",
        "\n",
        "\n",
        "**Referencias bibliográficas**\n",
        "\n",
        "Pythonista. (s.f.). *Guía de estilos en Python PEP 8*. [https://elpythonista.com/pep-8](https://)"
      ]
    },
    {
      "cell_type": "markdown",
      "metadata": {
        "id": "ap9oJPWNk5xt"
      },
      "source": [
        "· Universidad deAntioquia · Ude@ Educación Virtual ·"
      ]
    }
  ],
  "metadata": {
    "colab": {
      "provenance": []
    },
    "kernelspec": {
      "display_name": "Python 3",
      "name": "python3"
    },
    "language_info": {
      "name": "python"
    }
  },
  "nbformat": 4,
  "nbformat_minor": 0
}
